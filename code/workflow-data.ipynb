{
 "cells": [
  {
   "cell_type": "markdown",
   "metadata": {},
   "source": [
    "# Get weights from Fusion"
   ]
  },
  {
   "cell_type": "code",
   "execution_count": 1,
   "metadata": {},
   "outputs": [],
   "source": [
    "cd /project2/mstephens/causalTWAS/fusion_weights"
   ]
  },
  {
   "cell_type": "code",
   "execution_count": 1,
   "metadata": {},
   "outputs": [
    {
     "name": "stdout",
     "output_type": "stream",
     "text": [
      "--2019-10-29 16:14:53--  https://data.broadinstitute.org/alkesgroup/FUSION/WGT/YFS.BLOOD.RNAARR.tar.bz2\n",
      "Resolving data.broadinstitute.org (data.broadinstitute.org)... 69.173.92.29\n",
      "Connecting to data.broadinstitute.org (data.broadinstitute.org)|69.173.92.29|:443... connected.\n",
      "HTTP request sent, awaiting response... 200 OK\n",
      "Length: 69800449 (67M) [application/x-bzip2]\n",
      "Saving to: ‘YFS.BLOOD.RNAARR.tar.bz2’\n",
      "\n",
      "100%[======================================>] 69,800,449  3.46MB/s   in 14s    \n",
      "\n",
      "2019-10-29 16:15:08 (4.75 MB/s) - ‘YFS.BLOOD.RNAARR.tar.bz2’ saved [69800449/69800449]\n",
      "\n"
     ]
    }
   ],
   "source": [
    "wget https://data.broadinstitute.org/alkesgroup/FUSION/WGT/YFS.BLOOD.RNAARR.tar.bz2"
   ]
  },
  {
   "cell_type": "code",
   "execution_count": 3,
   "metadata": {},
   "outputs": [],
   "source": [
    "tar xjf YFS.BLOOD.RNAARR.tar.bz2"
   ]
  },
  {
   "cell_type": "code",
   "execution_count": 2,
   "metadata": {},
   "outputs": [
    {
     "name": "stdout",
     "output_type": "stream",
     "text": [
      "YFS.BLOOD.RNAARR       YFS.BLOOD.RNAARR.pos\t YFS.BLOOD.RNAARR.profile.err\n",
      "YFS.BLOOD.RNAARR.list  YFS.BLOOD.RNAARR.profile  YFS.BLOOD.RNAARR.tar.bz2\n"
     ]
    }
   ],
   "source": [
    "ls"
   ]
  },
  {
   "cell_type": "markdown",
   "metadata": {},
   "source": [
    "* download all GTEx weights (v7) from Fusion"
   ]
  },
  {
   "cell_type": "code",
   "execution_count": 3,
   "metadata": {},
   "outputs": [],
   "source": [
    "cd /project2/mstephens/causalTWAS/fusion_weights"
   ]
  },
  {
   "cell_type": "code",
   "execution_count": 4,
   "metadata": {},
   "outputs": [
    {
     "name": "stdout",
     "output_type": "stream",
     "text": [
      "--2020-05-10 21:25:22--  http://gusevlab.org/projects/fusion/weights/GTEX7.txt\n",
      "Resolving gusevlab.org (gusevlab.org)... 52.216.104.170\n",
      "Connecting to gusevlab.org (gusevlab.org)|52.216.104.170|:80... connected.\n",
      "HTTP request sent, awaiting response... 200 OK\n",
      "Length: 3827 (3.7K) [text/plain]\n",
      "Saving to: ‘GTEX7.txt’\n",
      "\n",
      "100%[======================================>] 3,827       --.-K/s   in 0s      \n",
      "\n",
      "2020-05-10 21:25:22 (215 MB/s) - ‘GTEX7.txt’ saved [3827/3827]\n",
      "\n"
     ]
    }
   ],
   "source": [
    "wget http://gusevlab.org/projects/fusion/weights/GTEX7.txt"
   ]
  },
  {
   "cell_type": "code",
   "execution_count": 5,
   "metadata": {},
   "outputs": [
    {
     "name": "stdout",
     "output_type": "stream",
     "text": [
      "--2020-05-10 21:26:01--  http://gusevlab.org/projects/fusion/weights/GTEx.Adipose_Subcutaneous.P01.tar.bz2\n",
      "Resolving gusevlab.org (gusevlab.org)... 52.216.207.130\n",
      "Connecting to gusevlab.org (gusevlab.org)|52.216.207.130|:80... connected.\n",
      "HTTP request sent, awaiting response... 200 OK\n",
      "Length: 93954222 (90M) [application/x-tar]\n",
      "Saving to: ‘gusevlab.org/projects/fusion/weights/GTEx.Adipose_Subcutaneous.P01.tar.bz2’\n",
      "\n",
      "100%[======================================>] 93,954,222  40.0MB/s   in 2.2s   \n",
      "\n",
      "2020-05-10 21:26:03 (40.0 MB/s) - ‘gusevlab.org/projects/fusion/weights/GTEx.Adipose_Subcutaneous.P01.tar.bz2’ saved [93954222/93954222]\n",
      "\n",
      "--2020-05-10 21:26:03--  http://gusevlab.org/projects/fusion/weights/GTEx.Adipose_Visceral_Omentum.P01.tar.bz2\n",
      "Reusing existing connection to gusevlab.org:80.\n",
      "HTTP request sent, awaiting response... 200 OK\n",
      "Length: 69961026 (67M) [application/x-tar]\n",
      "Saving to: ‘gusevlab.org/projects/fusion/weights/GTEx.Adipose_Visceral_Omentum.P01.tar.bz2’\n",
      "\n",
      "100%[======================================>] 69,961,026  40.4MB/s   in 1.7s   \n",
      "\n",
      "2020-05-10 21:26:05 (40.4 MB/s) - ‘gusevlab.org/projects/fusion/weights/GTEx.Adipose_Visceral_Omentum.P01.tar.bz2’ saved [69961026/69961026]\n",
      "\n",
      "--2020-05-10 21:26:05--  http://gusevlab.org/projects/fusion/weights/GTEx.Adrenal_Gland.P01.tar.bz2\n",
      "Reusing existing connection to gusevlab.org:80.\n",
      "HTTP request sent, awaiting response... 200 OK\n",
      "Length: 50144870 (48M) [application/x-tar]\n",
      "Saving to: ‘gusevlab.org/projects/fusion/weights/GTEx.Adrenal_Gland.P01.tar.bz2’\n",
      "\n",
      "100%[======================================>] 50,144,870  42.2MB/s   in 1.1s   \n",
      "\n",
      "2020-05-10 21:26:06 (42.2 MB/s) - ‘gusevlab.org/projects/fusion/weights/GTEx.Adrenal_Gland.P01.tar.bz2’ saved [50144870/50144870]\n",
      "\n",
      "--2020-05-10 21:26:06--  http://gusevlab.org/projects/fusion/weights/GTEx.Artery_Aorta.P01.tar.bz2\n",
      "Reusing existing connection to gusevlab.org:80.\n",
      "HTTP request sent, awaiting response... 200 OK\n",
      "Length: 72915064 (70M) [application/x-tar]\n",
      "Saving to: ‘gusevlab.org/projects/fusion/weights/GTEx.Artery_Aorta.P01.tar.bz2’\n",
      "\n",
      "100%[======================================>] 72,915,064  42.6MB/s   in 1.6s   \n",
      "\n",
      "2020-05-10 21:26:08 (42.6 MB/s) - ‘gusevlab.org/projects/fusion/weights/GTEx.Artery_Aorta.P01.tar.bz2’ saved [72915064/72915064]\n",
      "\n",
      "--2020-05-10 21:26:08--  http://gusevlab.org/projects/fusion/weights/GTEx.Artery_Coronary.P01.tar.bz2\n",
      "Reusing existing connection to gusevlab.org:80.\n",
      "HTTP request sent, awaiting response... 200 OK\n",
      "Length: 35249610 (34M) [application/x-tar]\n",
      "Saving to: ‘gusevlab.org/projects/fusion/weights/GTEx.Artery_Coronary.P01.tar.bz2’\n",
      "\n",
      "100%[======================================>] 35,249,610  43.3MB/s   in 0.8s   \n",
      "\n",
      "2020-05-10 21:26:09 (43.3 MB/s) - ‘gusevlab.org/projects/fusion/weights/GTEx.Artery_Coronary.P01.tar.bz2’ saved [35249610/35249610]\n",
      "\n",
      "--2020-05-10 21:26:09--  http://gusevlab.org/projects/fusion/weights/GTEx.Artery_Tibial.P01.tar.bz2\n",
      "Reusing existing connection to gusevlab.org:80.\n",
      "HTTP request sent, awaiting response... 200 OK\n",
      "Length: 94681904 (90M) [application/x-tar]\n",
      "Saving to: ‘gusevlab.org/projects/fusion/weights/GTEx.Artery_Tibial.P01.tar.bz2’\n",
      "\n",
      "100%[======================================>] 94,681,904  44.5MB/s   in 2.0s   \n",
      "\n",
      "2020-05-10 21:26:11 (44.5 MB/s) - ‘gusevlab.org/projects/fusion/weights/GTEx.Artery_Tibial.P01.tar.bz2’ saved [94681904/94681904]\n",
      "\n",
      "--2020-05-10 21:26:11--  http://gusevlab.org/projects/fusion/weights/GTEx.Brain_Amygdala.P01.tar.bz2\n",
      "Reusing existing connection to gusevlab.org:80.\n",
      "HTTP request sent, awaiting response... 200 OK\n",
      "Length: 19127566 (18M) [application/x-tar]\n",
      "Saving to: ‘gusevlab.org/projects/fusion/weights/GTEx.Brain_Amygdala.P01.tar.bz2’\n",
      "\n",
      "100%[======================================>] 19,127,566  35.8MB/s   in 0.5s   \n",
      "\n",
      "2020-05-10 21:26:12 (35.8 MB/s) - ‘gusevlab.org/projects/fusion/weights/GTEx.Brain_Amygdala.P01.tar.bz2’ saved [19127566/19127566]\n",
      "\n",
      "--2020-05-10 21:26:12--  http://gusevlab.org/projects/fusion/weights/GTEx.Brain_Anterior_cingulate_cortex_BA24.P01.tar.bz2\n",
      "Reusing existing connection to gusevlab.org:80.\n",
      "HTTP request sent, awaiting response... 200 OK\n",
      "Length: 28653075 (27M) [application/x-tar]\n",
      "Saving to: ‘gusevlab.org/projects/fusion/weights/GTEx.Brain_Anterior_cingulate_cortex_BA24.P01.tar.bz2’\n",
      "\n",
      "100%[======================================>] 28,653,075  42.7MB/s   in 0.6s   \n",
      "\n",
      "2020-05-10 21:26:13 (42.7 MB/s) - ‘gusevlab.org/projects/fusion/weights/GTEx.Brain_Anterior_cingulate_cortex_BA24.P01.tar.bz2’ saved [28653075/28653075]\n",
      "\n",
      "--2020-05-10 21:26:13--  http://gusevlab.org/projects/fusion/weights/GTEx.Brain_Caudate_basal_ganglia.P01.tar.bz2\n",
      "Reusing existing connection to gusevlab.org:80.\n",
      "HTTP request sent, awaiting response... 200 OK\n",
      "Length: 40041012 (38M) [application/x-tar]\n",
      "Saving to: ‘gusevlab.org/projects/fusion/weights/GTEx.Brain_Caudate_basal_ganglia.P01.tar.bz2’\n",
      "\n",
      "100%[======================================>] 40,041,012  47.5MB/s   in 0.8s   \n",
      "\n",
      "2020-05-10 21:26:14 (47.5 MB/s) - ‘gusevlab.org/projects/fusion/weights/GTEx.Brain_Caudate_basal_ganglia.P01.tar.bz2’ saved [40041012/40041012]\n",
      "\n",
      "--2020-05-10 21:26:14--  http://gusevlab.org/projects/fusion/weights/GTEx.Brain_Cerebellar_Hemisphere.P01.tar.bz2\n",
      "Reusing existing connection to gusevlab.org:80.\n",
      "HTTP request sent, awaiting response... 200 OK\n",
      "Length: 47494673 (45M) [application/x-tar]\n",
      "Saving to: ‘gusevlab.org/projects/fusion/weights/GTEx.Brain_Cerebellar_Hemisphere.P01.tar.bz2’\n",
      "\n",
      "100%[======================================>] 47,494,673  41.1MB/s   in 1.1s   \n",
      "\n",
      "2020-05-10 21:26:15 (41.1 MB/s) - ‘gusevlab.org/projects/fusion/weights/GTEx.Brain_Cerebellar_Hemisphere.P01.tar.bz2’ saved [47494673/47494673]\n",
      "\n",
      "--2020-05-10 21:26:15--  http://gusevlab.org/projects/fusion/weights/GTEx.Brain_Cerebellum.P01.tar.bz2\n",
      "Reusing existing connection to gusevlab.org:80.\n",
      "HTTP request sent, awaiting response... 200 OK\n",
      "Length: 64323425 (61M) [application/x-tar]\n",
      "Saving to: ‘gusevlab.org/projects/fusion/weights/GTEx.Brain_Cerebellum.P01.tar.bz2’\n",
      "\n",
      "100%[======================================>] 64,323,425  40.2MB/s   in 1.5s   \n",
      "\n",
      "2020-05-10 21:26:17 (40.2 MB/s) - ‘gusevlab.org/projects/fusion/weights/GTEx.Brain_Cerebellum.P01.tar.bz2’ saved [64323425/64323425]\n",
      "\n",
      "--2020-05-10 21:26:17--  http://gusevlab.org/projects/fusion/weights/GTEx.Brain_Cortex.P01.tar.bz2\n",
      "Reusing existing connection to gusevlab.org:80.\n",
      "HTTP request sent, awaiting response... 200 OK\n",
      "Length: 43800982 (42M) [application/x-tar]\n",
      "Saving to: ‘gusevlab.org/projects/fusion/weights/GTEx.Brain_Cortex.P01.tar.bz2’\n",
      "\n",
      "100%[======================================>] 43,800,982  44.1MB/s   in 0.9s   \n",
      "\n",
      "2020-05-10 21:26:18 (44.1 MB/s) - ‘gusevlab.org/projects/fusion/weights/GTEx.Brain_Cortex.P01.tar.bz2’ saved [43800982/43800982]\n",
      "\n",
      "--2020-05-10 21:26:18--  http://gusevlab.org/projects/fusion/weights/GTEx.Brain_Frontal_Cortex_BA9.P01.tar.bz2\n",
      "Reusing existing connection to gusevlab.org:80.\n",
      "HTTP request sent, awaiting response... 200 OK\n",
      "Length: 33814004 (32M) [application/x-tar]\n",
      "Saving to: ‘gusevlab.org/projects/fusion/weights/GTEx.Brain_Frontal_Cortex_BA9.P01.tar.bz2’\n",
      "\n",
      "100%[======================================>] 33,814,004  46.5MB/s   in 0.7s   \n",
      "\n",
      "2020-05-10 21:26:19 (46.5 MB/s) - ‘gusevlab.org/projects/fusion/weights/GTEx.Brain_Frontal_Cortex_BA9.P01.tar.bz2’ saved [33814004/33814004]\n",
      "\n",
      "--2020-05-10 21:26:19--  http://gusevlab.org/projects/fusion/weights/GTEx.Brain_Hippocampus.P01.tar.bz2\n",
      "Reusing existing connection to gusevlab.org:80.\n",
      "HTTP request sent, awaiting response... 200 OK\n",
      "Length: 24502013 (23M) [application/x-tar]\n",
      "Saving to: ‘gusevlab.org/projects/fusion/weights/GTEx.Brain_Hippocampus.P01.tar.bz2’\n",
      "\n",
      "100%[======================================>] 24,502,013  42.3MB/s   in 0.6s   \n",
      "\n",
      "2020-05-10 21:26:19 (42.3 MB/s) - ‘gusevlab.org/projects/fusion/weights/GTEx.Brain_Hippocampus.P01.tar.bz2’ saved [24502013/24502013]\n",
      "\n",
      "--2020-05-10 21:26:19--  http://gusevlab.org/projects/fusion/weights/GTEx.Brain_Hypothalamus.P01.tar.bz2\n",
      "Reusing existing connection to gusevlab.org:80.\n",
      "HTTP request sent, awaiting response... 200 OK\n",
      "Length: 24529984 (23M) [application/x-tar]\n",
      "Saving to: ‘gusevlab.org/projects/fusion/weights/GTEx.Brain_Hypothalamus.P01.tar.bz2’\n",
      "\n",
      "100%[======================================>] 24,529,984  44.7MB/s   in 0.5s   \n",
      "\n",
      "2020-05-10 21:26:20 (44.7 MB/s) - ‘gusevlab.org/projects/fusion/weights/GTEx.Brain_Hypothalamus.P01.tar.bz2’ saved [24529984/24529984]\n",
      "\n",
      "--2020-05-10 21:26:20--  http://gusevlab.org/projects/fusion/weights/GTEx.Brain_Nucleus_accumbens_basal_ganglia.P01.tar.bz2\n",
      "Reusing existing connection to gusevlab.org:80.\n",
      "HTTP request sent, awaiting response... 200 OK\n",
      "Length: 35362205 (34M) [application/x-tar]\n",
      "Saving to: ‘gusevlab.org/projects/fusion/weights/GTEx.Brain_Nucleus_accumbens_basal_ganglia.P01.tar.bz2’\n",
      "\n",
      "100%[======================================>] 35,362,205  47.6MB/s   in 0.7s   \n",
      "\n",
      "2020-05-10 21:26:21 (47.6 MB/s) - ‘gusevlab.org/projects/fusion/weights/GTEx.Brain_Nucleus_accumbens_basal_ganglia.P01.tar.bz2’ saved [35362205/35362205]\n",
      "\n",
      "--2020-05-10 21:26:21--  http://gusevlab.org/projects/fusion/weights/GTEx.Brain_Putamen_basal_ganglia.P01.tar.bz2\n",
      "Reusing existing connection to gusevlab.org:80.\n",
      "HTTP request sent, awaiting response... 200 OK\n",
      "Length: 30324090 (29M) [application/x-tar]\n",
      "Saving to: ‘gusevlab.org/projects/fusion/weights/GTEx.Brain_Putamen_basal_ganglia.P01.tar.bz2’\n",
      "\n",
      "100%[======================================>] 30,324,090  47.7MB/s   in 0.6s   \n",
      "\n",
      "2020-05-10 21:26:22 (47.7 MB/s) - ‘gusevlab.org/projects/fusion/weights/GTEx.Brain_Putamen_basal_ganglia.P01.tar.bz2’ saved [30324090/30324090]\n",
      "\n",
      "--2020-05-10 21:26:22--  http://gusevlab.org/projects/fusion/weights/GTEx.Brain_Spinal_cord_cervical_c-1.P01.tar.bz2\n",
      "Reusing existing connection to gusevlab.org:80.\n",
      "HTTP request sent, awaiting response... 200 OK\n",
      "Length: 21051868 (20M) [application/x-tar]\n",
      "Saving to: ‘gusevlab.org/projects/fusion/weights/GTEx.Brain_Spinal_cord_cervical_c-1.P01.tar.bz2’\n",
      "\n",
      "100%[======================================>] 21,051,868  40.4MB/s   in 0.5s   \n",
      "\n",
      "2020-05-10 21:26:22 (40.4 MB/s) - ‘gusevlab.org/projects/fusion/weights/GTEx.Brain_Spinal_cord_cervical_c-1.P01.tar.bz2’ saved [21051868/21051868]\n",
      "\n",
      "--2020-05-10 21:26:22--  http://gusevlab.org/projects/fusion/weights/GTEx.Brain_Substantia_nigra.P01.tar.bz2\n",
      "Reusing existing connection to gusevlab.org:80.\n",
      "HTTP request sent, awaiting response... 200 OK\n",
      "Length: 16963870 (16M) [application/x-tar]\n",
      "Saving to: ‘gusevlab.org/projects/fusion/weights/GTEx.Brain_Substantia_nigra.P01.tar.bz2’\n",
      "\n",
      "100%[======================================>] 16,963,870  42.1MB/s   in 0.4s   \n",
      "\n",
      "2020-05-10 21:26:23 (42.1 MB/s) - ‘gusevlab.org/projects/fusion/weights/GTEx.Brain_Substantia_nigra.P01.tar.bz2’ saved [16963870/16963870]\n",
      "\n",
      "--2020-05-10 21:26:23--  http://gusevlab.org/projects/fusion/weights/GTEx.Breast_Mammary_Tissue.P01.tar.bz2\n",
      "Reusing existing connection to gusevlab.org:80.\n",
      "HTTP request sent, awaiting response... 200 OK\n",
      "Length: 55973068 (53M) [application/x-tar]\n",
      "Saving to: ‘gusevlab.org/projects/fusion/weights/GTEx.Breast_Mammary_Tissue.P01.tar.bz2’\n",
      "\n",
      "100%[======================================>] 55,973,068  47.3MB/s   in 1.1s   \n",
      "\n",
      "2020-05-10 21:26:24 (47.3 MB/s) - ‘gusevlab.org/projects/fusion/weights/GTEx.Breast_Mammary_Tissue.P01.tar.bz2’ saved [55973068/55973068]\n",
      "\n",
      "--2020-05-10 21:26:24--  http://gusevlab.org/projects/fusion/weights/GTEx.Cells_EBV-transformed_lymphocytes.P01.tar.bz2\n",
      "Reusing existing connection to gusevlab.org:80.\n",
      "HTTP request sent, awaiting response... 200 OK\n",
      "Length: 29684014 (28M) [application/x-tar]\n",
      "Saving to: ‘gusevlab.org/projects/fusion/weights/GTEx.Cells_EBV-transformed_lymphocytes.P01.tar.bz2’\n",
      "\n",
      "100%[======================================>] 29,684,014  47.3MB/s   in 0.6s   \n",
      "\n",
      "2020-05-10 21:26:25 (47.3 MB/s) - ‘gusevlab.org/projects/fusion/weights/GTEx.Cells_EBV-transformed_lymphocytes.P01.tar.bz2’ saved [29684014/29684014]\n",
      "\n",
      "--2020-05-10 21:26:25--  http://gusevlab.org/projects/fusion/weights/GTEx.Cells_Transformed_fibroblasts.P01.tar.bz2\n",
      "Reusing existing connection to gusevlab.org:80.\n",
      "HTTP request sent, awaiting response... 200 OK\n",
      "Length: 84069474 (80M) [application/x-tar]\n",
      "Saving to: ‘gusevlab.org/projects/fusion/weights/GTEx.Cells_Transformed_fibroblasts.P01.tar.bz2’\n",
      "\n",
      "100%[======================================>] 84,069,474  46.8MB/s   in 1.7s   \n",
      "\n",
      "2020-05-10 21:26:27 (46.8 MB/s) - ‘gusevlab.org/projects/fusion/weights/GTEx.Cells_Transformed_fibroblasts.P01.tar.bz2’ saved [84069474/84069474]\n",
      "\n",
      "--2020-05-10 21:26:27--  http://gusevlab.org/projects/fusion/weights/GTEx.Colon_Sigmoid.P01.tar.bz2\n",
      "Reusing existing connection to gusevlab.org:80.\n",
      "HTTP request sent, awaiting response... 200 OK\n",
      "Length: 54163224 (52M) [application/x-tar]\n",
      "Saving to: ‘gusevlab.org/projects/fusion/weights/GTEx.Colon_Sigmoid.P01.tar.bz2’\n",
      "\n",
      "100%[======================================>] 54,163,224  44.7MB/s   in 1.2s   \n",
      "\n",
      "2020-05-10 21:26:28 (44.7 MB/s) - ‘gusevlab.org/projects/fusion/weights/GTEx.Colon_Sigmoid.P01.tar.bz2’ saved [54163224/54163224]\n",
      "\n",
      "--2020-05-10 21:26:28--  http://gusevlab.org/projects/fusion/weights/GTEx.Colon_Transverse.P01.tar.bz2\n",
      "Reusing existing connection to gusevlab.org:80.\n",
      "HTTP request sent, awaiting response... 200 OK\n",
      "Length: 59349251 (57M) [application/x-tar]\n",
      "Saving to: ‘gusevlab.org/projects/fusion/weights/GTEx.Colon_Transverse.P01.tar.bz2’\n",
      "\n",
      "100%[======================================>] 59,349,251  41.3MB/s   in 1.4s   \n",
      "\n",
      "2020-05-10 21:26:29 (41.3 MB/s) - ‘gusevlab.org/projects/fusion/weights/GTEx.Colon_Transverse.P01.tar.bz2’ saved [59349251/59349251]\n",
      "\n",
      "--2020-05-10 21:26:29--  http://gusevlab.org/projects/fusion/weights/GTEx.Esophagus_Gastroesophageal_Junction.P01.tar.bz2\n",
      "Reusing existing connection to gusevlab.org:80.\n",
      "HTTP request sent, awaiting response... 200 OK\n",
      "Length: 54271547 (52M) [application/x-tar]\n",
      "Saving to: ‘gusevlab.org/projects/fusion/weights/GTEx.Esophagus_Gastroesophageal_Junction.P01.tar.bz2’\n",
      "\n",
      "100%[======================================>] 54,271,547  43.2MB/s   in 1.2s   \n",
      "\n",
      "2020-05-10 21:26:31 (43.2 MB/s) - ‘gusevlab.org/projects/fusion/weights/GTEx.Esophagus_Gastroesophageal_Junction.P01.tar.bz2’ saved [54271547/54271547]\n",
      "\n",
      "--2020-05-10 21:26:31--  http://gusevlab.org/projects/fusion/weights/GTEx.Esophagus_Mucosa.P01.tar.bz2\n",
      "Reusing existing connection to gusevlab.org:80.\n",
      "HTTP request sent, awaiting response... 200 OK\n",
      "Length: 92589009 (88M) [application/x-tar]\n",
      "Saving to: ‘gusevlab.org/projects/fusion/weights/GTEx.Esophagus_Mucosa.P01.tar.bz2’\n",
      "\n",
      "100%[======================================>] 92,589,009  52.2MB/s   in 1.7s   \n",
      "\n",
      "2020-05-10 21:26:32 (52.2 MB/s) - ‘gusevlab.org/projects/fusion/weights/GTEx.Esophagus_Mucosa.P01.tar.bz2’ saved [92589009/92589009]\n",
      "\n",
      "--2020-05-10 21:26:32--  http://gusevlab.org/projects/fusion/weights/GTEx.Esophagus_Muscularis.P01.tar.bz2\n",
      "Reusing existing connection to gusevlab.org:80.\n",
      "HTTP request sent, awaiting response... 200 OK\n",
      "Length: 88528717 (84M) [application/x-tar]\n",
      "Saving to: ‘gusevlab.org/projects/fusion/weights/GTEx.Esophagus_Muscularis.P01.tar.bz2’\n",
      "\n",
      "100%[======================================>] 88,528,717  42.7MB/s   in 2.0s   \n",
      "\n",
      "2020-05-10 21:26:35 (42.7 MB/s) - ‘gusevlab.org/projects/fusion/weights/GTEx.Esophagus_Muscularis.P01.tar.bz2’ saved [88528717/88528717]\n",
      "\n",
      "--2020-05-10 21:26:35--  http://gusevlab.org/projects/fusion/weights/GTEx.Heart_Atrial_Appendage.P01.tar.bz2\n",
      "Reusing existing connection to gusevlab.org:80.\n",
      "HTTP request sent, awaiting response... 200 OK\n",
      "Length: 64065589 (61M) [application/x-tar]\n",
      "Saving to: ‘gusevlab.org/projects/fusion/weights/GTEx.Heart_Atrial_Appendage.P01.tar.bz2’\n",
      "\n",
      "100%[======================================>] 64,065,589  49.0MB/s   in 1.2s   \n",
      "\n",
      "2020-05-10 21:26:36 (49.0 MB/s) - ‘gusevlab.org/projects/fusion/weights/GTEx.Heart_Atrial_Appendage.P01.tar.bz2’ saved [64065589/64065589]\n",
      "\n",
      "--2020-05-10 21:26:36--  http://gusevlab.org/projects/fusion/weights/GTEx.Heart_Left_Ventricle.P01.tar.bz2\n",
      "Reusing existing connection to gusevlab.org:80.\n",
      "HTTP request sent, awaiting response... 200 OK\n",
      "Length: 57488535 (55M) [application/x-tar]\n",
      "Saving to: ‘gusevlab.org/projects/fusion/weights/GTEx.Heart_Left_Ventricle.P01.tar.bz2’\n",
      "\n",
      "100%[======================================>] 57,488,535  49.7MB/s   in 1.1s   \n",
      "\n",
      "2020-05-10 21:26:37 (49.7 MB/s) - ‘gusevlab.org/projects/fusion/weights/GTEx.Heart_Left_Ventricle.P01.tar.bz2’ saved [57488535/57488535]\n",
      "\n",
      "--2020-05-10 21:26:37--  http://gusevlab.org/projects/fusion/weights/GTEx.Liver.P01.tar.bz2\n",
      "Reusing existing connection to gusevlab.org:80.\n",
      "HTTP request sent, awaiting response... 200 OK\n",
      "Length: 31799759 (30M) [application/x-tar]\n",
      "Saving to: ‘gusevlab.org/projects/fusion/weights/GTEx.Liver.P01.tar.bz2’\n",
      "\n",
      "100%[======================================>] 31,799,759  50.8MB/s   in 0.6s   \n",
      "\n",
      "2020-05-10 21:26:38 (50.8 MB/s) - ‘gusevlab.org/projects/fusion/weights/GTEx.Liver.P01.tar.bz2’ saved [31799759/31799759]\n",
      "\n",
      "--2020-05-10 21:26:38--  http://gusevlab.org/projects/fusion/weights/GTEx.Lung.P01.tar.bz2\n",
      "Reusing existing connection to gusevlab.org:80.\n",
      "HTTP request sent, awaiting response... 200 OK\n",
      "Length: 89113606 (85M) [application/x-tar]\n",
      "Saving to: ‘gusevlab.org/projects/fusion/weights/GTEx.Lung.P01.tar.bz2’\n",
      "\n",
      "100%[======================================>] 89,113,606  50.2MB/s   in 1.7s   \n",
      "\n",
      "2020-05-10 21:26:40 (50.2 MB/s) - ‘gusevlab.org/projects/fusion/weights/GTEx.Lung.P01.tar.bz2’ saved [89113606/89113606]\n",
      "\n",
      "--2020-05-10 21:26:40--  http://gusevlab.org/projects/fusion/weights/GTEx.Minor_Salivary_Gland.P01.tar.bz2\n",
      "Reusing existing connection to gusevlab.org:80.\n",
      "HTTP request sent, awaiting response... 200 OK\n",
      "Length: 19029754 (18M) [application/x-tar]\n",
      "Saving to: ‘gusevlab.org/projects/fusion/weights/GTEx.Minor_Salivary_Gland.P01.tar.bz2’\n",
      "\n",
      "100%[======================================>] 19,029,754  54.3MB/s   in 0.3s   \n",
      "\n",
      "2020-05-10 21:26:40 (54.3 MB/s) - ‘gusevlab.org/projects/fusion/weights/GTEx.Minor_Salivary_Gland.P01.tar.bz2’ saved [19029754/19029754]\n",
      "\n",
      "--2020-05-10 21:26:40--  http://gusevlab.org/projects/fusion/weights/GTEx.Muscle_Skeletal.P01.tar.bz2\n",
      "Reusing existing connection to gusevlab.org:80.\n",
      "HTTP request sent, awaiting response... 200 OK\n",
      "Length: 85735821 (82M) [application/x-tar]\n",
      "Saving to: ‘gusevlab.org/projects/fusion/weights/GTEx.Muscle_Skeletal.P01.tar.bz2’\n",
      "\n",
      "100%[======================================>] 85,735,821  49.3MB/s   in 1.7s   \n",
      "\n",
      "2020-05-10 21:26:42 (49.3 MB/s) - ‘gusevlab.org/projects/fusion/weights/GTEx.Muscle_Skeletal.P01.tar.bz2’ saved [85735821/85735821]\n",
      "\n",
      "--2020-05-10 21:26:42--  http://gusevlab.org/projects/fusion/weights/GTEx.Nerve_Tibial.P01.tar.bz2\n",
      "Reusing existing connection to gusevlab.org:80.\n",
      "HTTP request sent, awaiting response... 200 OK\n",
      "Length: 111082418 (106M) [application/x-tar]\n",
      "Saving to: ‘gusevlab.org/projects/fusion/weights/GTEx.Nerve_Tibial.P01.tar.bz2’\n",
      "\n",
      "100%[======================================>] 111,082,418 50.2MB/s   in 2.1s   \n",
      "\n",
      "2020-05-10 21:26:44 (50.2 MB/s) - ‘gusevlab.org/projects/fusion/weights/GTEx.Nerve_Tibial.P01.tar.bz2’ saved [111082418/111082418]\n",
      "\n",
      "--2020-05-10 21:26:44--  http://gusevlab.org/projects/fusion/weights/GTEx.Ovary.P01.tar.bz2\n",
      "Reusing existing connection to gusevlab.org:80.\n",
      "HTTP request sent, awaiting response... 200 OK\n",
      "Length: 30398017 (29M) [application/x-tar]\n",
      "Saving to: ‘gusevlab.org/projects/fusion/weights/GTEx.Ovary.P01.tar.bz2’\n",
      "\n",
      "100%[======================================>] 30,398,017  45.8MB/s   in 0.6s   \n",
      "\n",
      "2020-05-10 21:26:45 (45.8 MB/s) - ‘gusevlab.org/projects/fusion/weights/GTEx.Ovary.P01.tar.bz2’ saved [30398017/30398017]\n",
      "\n",
      "--2020-05-10 21:26:45--  http://gusevlab.org/projects/fusion/weights/GTEx.Pancreas.P01.tar.bz2\n",
      "Reusing existing connection to gusevlab.org:80.\n",
      "HTTP request sent, awaiting response... 200 OK\n",
      "Length: 57513407 (55M) [application/x-tar]\n",
      "Saving to: ‘gusevlab.org/projects/fusion/weights/GTEx.Pancreas.P01.tar.bz2’\n",
      "\n",
      "100%[======================================>] 57,513,407  42.2MB/s   in 1.3s   \n",
      "\n",
      "2020-05-10 21:26:47 (42.2 MB/s) - ‘gusevlab.org/projects/fusion/weights/GTEx.Pancreas.P01.tar.bz2’ saved [57513407/57513407]\n",
      "\n",
      "--2020-05-10 21:26:47--  http://gusevlab.org/projects/fusion/weights/GTEx.Pituitary.P01.tar.bz2\n",
      "Reusing existing connection to gusevlab.org:80.\n",
      "HTTP request sent, awaiting response... 200 OK\n",
      "Length: 47321163 (45M) [application/x-tar]\n",
      "Saving to: ‘gusevlab.org/projects/fusion/weights/GTEx.Pituitary.P01.tar.bz2’\n",
      "\n",
      "100%[======================================>] 47,321,163  49.4MB/s   in 0.9s   \n",
      "\n",
      "2020-05-10 21:26:48 (49.4 MB/s) - ‘gusevlab.org/projects/fusion/weights/GTEx.Pituitary.P01.tar.bz2’ saved [47321163/47321163]\n",
      "\n",
      "--2020-05-10 21:26:48--  http://gusevlab.org/projects/fusion/weights/GTEx.Prostate.P01.tar.bz2\n",
      "Reusing existing connection to gusevlab.org:80.\n",
      "HTTP request sent, awaiting response... 200 OK\n",
      "Length: 30161766 (29M) [application/x-tar]\n",
      "Saving to: ‘gusevlab.org/projects/fusion/weights/GTEx.Prostate.P01.tar.bz2’\n",
      "\n",
      "100%[======================================>] 30,161,766  50.7MB/s   in 0.6s   \n",
      "\n",
      "2020-05-10 21:26:48 (50.7 MB/s) - ‘gusevlab.org/projects/fusion/weights/GTEx.Prostate.P01.tar.bz2’ saved [30161766/30161766]\n",
      "\n",
      "--2020-05-10 21:26:48--  http://gusevlab.org/projects/fusion/weights/GTEx.Skin_Not_Sun_Exposed_Suprapubic.P01.tar.bz2\n",
      "Reusing existing connection to gusevlab.org:80.\n",
      "HTTP request sent, awaiting response... 200 OK\n",
      "Length: 85491557 (82M) [application/x-tar]\n",
      "Saving to: ‘gusevlab.org/projects/fusion/weights/GTEx.Skin_Not_Sun_Exposed_Suprapubic.P01.tar.bz2’\n",
      "\n",
      "100%[======================================>] 85,491,557  53.8MB/s   in 1.5s   \n",
      "\n",
      "2020-05-10 21:26:50 (53.8 MB/s) - ‘gusevlab.org/projects/fusion/weights/GTEx.Skin_Not_Sun_Exposed_Suprapubic.P01.tar.bz2’ saved [85491557/85491557]\n",
      "\n",
      "--2020-05-10 21:26:50--  http://gusevlab.org/projects/fusion/weights/GTEx.Skin_Sun_Exposed_Lower_leg.P01.tar.bz2\n",
      "Reusing existing connection to gusevlab.org:80.\n",
      "HTTP request sent, awaiting response... 200 OK\n",
      "Length: 102568791 (98M) [application/x-tar]\n",
      "Saving to: ‘gusevlab.org/projects/fusion/weights/GTEx.Skin_Sun_Exposed_Lower_leg.P01.tar.bz2’\n",
      "\n",
      "100%[======================================>] 102,568,791 49.3MB/s   in 2.0s   \n",
      "\n",
      "2020-05-10 21:26:52 (49.3 MB/s) - ‘gusevlab.org/projects/fusion/weights/GTEx.Skin_Sun_Exposed_Lower_leg.P01.tar.bz2’ saved [102568791/102568791]\n",
      "\n",
      "--2020-05-10 21:26:52--  http://gusevlab.org/projects/fusion/weights/GTEx.Small_Intestine_Terminal_Ileum.P01.tar.bz2\n",
      "Reusing existing connection to gusevlab.org:80.\n",
      "HTTP request sent, awaiting response... 200 OK\n",
      "Length: 30986158 (30M) [application/x-tar]\n",
      "Saving to: ‘gusevlab.org/projects/fusion/weights/GTEx.Small_Intestine_Terminal_Ileum.P01.tar.bz2’\n",
      "\n",
      "100%[======================================>] 30,986,158  51.9MB/s   in 0.6s   \n",
      "\n",
      "2020-05-10 21:26:53 (51.9 MB/s) - ‘gusevlab.org/projects/fusion/weights/GTEx.Small_Intestine_Terminal_Ileum.P01.tar.bz2’ saved [30986158/30986158]\n",
      "\n",
      "--2020-05-10 21:26:53--  http://gusevlab.org/projects/fusion/weights/GTEx.Spleen.P01.tar.bz2\n",
      "Reusing existing connection to gusevlab.org:80.\n",
      "HTTP request sent, awaiting response... 200 OK\n",
      "Length: 49451590 (47M) [application/x-tar]\n",
      "Saving to: ‘gusevlab.org/projects/fusion/weights/GTEx.Spleen.P01.tar.bz2’\n",
      "\n",
      "100%[======================================>] 49,451,590  52.4MB/s   in 0.9s   \n",
      "\n",
      "2020-05-10 21:26:54 (52.4 MB/s) - ‘gusevlab.org/projects/fusion/weights/GTEx.Spleen.P01.tar.bz2’ saved [49451590/49451590]\n",
      "\n",
      "--2020-05-10 21:26:54--  http://gusevlab.org/projects/fusion/weights/GTEx.Stomach.P01.tar.bz2\n",
      "Reusing existing connection to gusevlab.org:80.\n",
      "HTTP request sent, awaiting response... 200 OK\n",
      "Length: 49521001 (47M) [application/x-tar]\n",
      "Saving to: ‘gusevlab.org/projects/fusion/weights/GTEx.Stomach.P01.tar.bz2’\n",
      "\n",
      "100%[======================================>] 49,521,001  51.1MB/s   in 0.9s   \n",
      "\n",
      "2020-05-10 21:26:55 (51.1 MB/s) - ‘gusevlab.org/projects/fusion/weights/GTEx.Stomach.P01.tar.bz2’ saved [49521001/49521001]\n",
      "\n",
      "--2020-05-10 21:26:55--  http://gusevlab.org/projects/fusion/weights/GTEx.Testis.P01.tar.bz2\n",
      "Reusing existing connection to gusevlab.org:80.\n",
      "HTTP request sent, awaiting response... 200 OK\n",
      "Length: 105815378 (101M) [application/x-tar]\n",
      "Saving to: ‘gusevlab.org/projects/fusion/weights/GTEx.Testis.P01.tar.bz2’\n",
      "\n",
      "100%[======================================>] 105,815,378 42.8MB/s   in 2.4s   \n",
      "\n",
      "2020-05-10 21:26:58 (42.8 MB/s) - ‘gusevlab.org/projects/fusion/weights/GTEx.Testis.P01.tar.bz2’ saved [105815378/105815378]\n",
      "\n",
      "--2020-05-10 21:26:58--  http://gusevlab.org/projects/fusion/weights/GTEx.Thyroid.P01.tar.bz2\n",
      "Reusing existing connection to gusevlab.org:80.\n",
      "HTTP request sent, awaiting response... 200 OK\n",
      "Length: 113213630 (108M) [application/x-tar]\n",
      "Saving to: ‘gusevlab.org/projects/fusion/weights/GTEx.Thyroid.P01.tar.bz2’\n",
      "\n",
      "100%[======================================>] 113,213,630 51.7MB/s   in 2.1s   \n",
      "\n",
      "2020-05-10 21:27:00 (51.7 MB/s) - ‘gusevlab.org/projects/fusion/weights/GTEx.Thyroid.P01.tar.bz2’ saved [113213630/113213630]\n",
      "\n",
      "--2020-05-10 21:27:00--  http://gusevlab.org/projects/fusion/weights/GTEx.Uterus.P01.tar.bz2\n",
      "Reusing existing connection to gusevlab.org:80.\n",
      "HTTP request sent, awaiting response... 200 OK\n",
      "Length: 22623700 (22M) [application/x-tar]\n",
      "Saving to: ‘gusevlab.org/projects/fusion/weights/GTEx.Uterus.P01.tar.bz2’\n",
      "\n",
      "100%[======================================>] 22,623,700  43.8MB/s   in 0.5s   \n",
      "\n",
      "2020-05-10 21:27:01 (43.8 MB/s) - ‘gusevlab.org/projects/fusion/weights/GTEx.Uterus.P01.tar.bz2’ saved [22623700/22623700]\n",
      "\n",
      "--2020-05-10 21:27:01--  http://gusevlab.org/projects/fusion/weights/GTEx.Vagina.P01.tar.bz2\n",
      "Reusing existing connection to gusevlab.org:80.\n",
      "HTTP request sent, awaiting response... 200 OK\n",
      "Length: 21361305 (20M) [application/x-tar]\n",
      "Saving to: ‘gusevlab.org/projects/fusion/weights/GTEx.Vagina.P01.tar.bz2’\n",
      "\n",
      "100%[======================================>] 21,361,305  45.1MB/s   in 0.5s   \n",
      "\n",
      "2020-05-10 21:27:01 (45.1 MB/s) - ‘gusevlab.org/projects/fusion/weights/GTEx.Vagina.P01.tar.bz2’ saved [21361305/21361305]\n",
      "\n",
      "--2020-05-10 21:27:01--  http://gusevlab.org/projects/fusion/weights/GTEx.Whole_Blood.P01.tar.bz2\n",
      "Reusing existing connection to gusevlab.org:80.\n",
      "HTTP request sent, awaiting response... 200 OK\n",
      "Length: 69160314 (66M) [application/x-tar]\n",
      "Saving to: ‘gusevlab.org/projects/fusion/weights/GTEx.Whole_Blood.P01.tar.bz2’\n",
      "\n",
      "100%[======================================>] 69,160,314  45.0MB/s   in 1.5s   \n",
      "\n",
      "2020-05-10 21:27:03 (45.0 MB/s) - ‘gusevlab.org/projects/fusion/weights/GTEx.Whole_Blood.P01.tar.bz2’ saved [69160314/69160314]\n",
      "\n",
      "FINISHED --2020-05-10 21:27:03--\n",
      "Total wall clock time: 1m 2s\n",
      "Downloaded: 48 files, 2.5G in 55s (46.0 MB/s)\n",
      "Converted 0 files in 0 seconds.\n"
     ]
    }
   ],
   "source": [
    "wget -E -H -k -K -p -e robots=off -i ./GTEX7.txt"
   ]
  },
  {
   "cell_type": "markdown",
   "metadata": {},
   "source": [
    "# Fusion weights from Xiaotong"
   ]
  },
  {
   "cell_type": "code",
   "execution_count": 4,
   "metadata": {},
   "outputs": [],
   "source": [
    "cp /project2/xinhe/xsun/former_proj/methylation_train/WEIGHTS/*.* /project2/mstephens/causalTWAS/fusion_weights"
   ]
  },
  {
   "cell_type": "code",
   "execution_count": null,
   "metadata": {},
   "outputs": [],
   "source": [
    "cp /project2/xinhe/xsun/former_proj/train_weights_H3K27ac/WEIGHTS /project2/mstephens/causalTWAS/fusion_weights "
   ]
  },
  {
   "cell_type": "markdown",
   "metadata": {},
   "source": [
    "# Process WTCCC data"
   ]
  },
  {
   "cell_type": "markdown",
   "metadata": {},
   "source": [
    "WTCCC data obtained from Peter (`bd.RData`). We will prepare genotype file in BIMBAM format and relatedness matrix file."
   ]
  },
  {
   "cell_type": "code",
   "execution_count": 3,
   "metadata": {},
   "outputs": [],
   "source": [
    "# sinteractive --time=1-12:00:00 --partition=mstephens --mem=20G\n",
    "module load R/3.5.1"
   ]
  },
  {
   "cell_type": "code",
   "execution_count": 15,
   "metadata": {},
   "outputs": [],
   "source": [
    "cd /project2/mstephens/causalTWAS/causal-TWAS/code"
   ]
  },
  {
   "cell_type": "code",
   "execution_count": 33,
   "metadata": {},
   "outputs": [
    {
     "name": "stdout",
     "output_type": "stream",
     "text": [
      "\n"
     ]
    }
   ],
   "source": [
    "Rscript run_WTCCC_data_process.R"
   ]
  },
  {
   "cell_type": "code",
   "execution_count": 17,
   "metadata": {},
   "outputs": [
    {
     "name": "stdout",
     "output_type": "stream",
     "text": [
      "bd.geno.txt.gz\tbd.pheno.txt  bd.QC.RData  bd.RData\n"
     ]
    }
   ],
   "source": [
    "ls /project2/mstephens/causalTWAS/WTCCC"
   ]
  },
  {
   "cell_type": "markdown",
   "metadata": {},
   "source": [
    "# Gene annotation data"
   ]
  },
  {
   "cell_type": "code",
   "execution_count": 11,
   "metadata": {},
   "outputs": [],
   "source": [
    "mkdir /project2/mstephens/causalTWAS/annotation"
   ]
  },
  {
   "cell_type": "code",
   "execution_count": 21,
   "metadata": {},
   "outputs": [
    {
     "name": "stdout",
     "output_type": "stream",
     "text": [
      "--2019-11-08 09:56:18--  http://hgdownload.soe.ucsc.edu/goldenPath/hg17/database/refGene.txt.gz\n",
      "Resolving hgdownload.soe.ucsc.edu (hgdownload.soe.ucsc.edu)... 128.114.119.163\n",
      "Connecting to hgdownload.soe.ucsc.edu (hgdownload.soe.ucsc.edu)|128.114.119.163|:80... connected.\n",
      "HTTP request sent, awaiting response... 200 OK\n",
      "Length: 7550681 (7.2M) [application/x-gzip]\n",
      "Saving to: ‘refGene.txt.gz’\n",
      "\n",
      "100%[======================================>] 7,550,681   6.66MB/s   in 1.1s   \n",
      "\n",
      "2019-11-08 09:56:19 (6.66 MB/s) - ‘refGene.txt.gz’ saved [7550681/7550681]\n",
      "\n"
     ]
    }
   ],
   "source": [
    "cd /project2/mstephens/causalTWAS/annotation; wget http://hgdownload.soe.ucsc.edu/goldenPath/hg17/database/refGene.txt.gz"
   ]
  },
  {
   "cell_type": "code",
   "execution_count": 22,
   "metadata": {},
   "outputs": [],
   "source": [
    "gunzip refGene.txt.gz"
   ]
  },
  {
   "cell_type": "code",
   "execution_count": null,
   "metadata": {},
   "outputs": [],
   "source": [
    "Rscript /project2/mstephens/causalTWAS/causal-TWAS/code/gene_annotation.R refGene.txt 500000"
   ]
  },
  {
   "cell_type": "code",
   "execution_count": 24,
   "metadata": {},
   "outputs": [
    {
     "name": "stdout",
     "output_type": "stream",
     "text": [
      "refGene_processed_5e+05.txt  refGene.txt\n"
     ]
    }
   ],
   "source": [
    "ls"
   ]
  },
  {
   "cell_type": "markdown",
   "metadata": {},
   "source": [
    "# UKbiobank data"
   ]
  },
  {
   "cell_type": "markdown",
   "metadata": {},
   "source": [
    "## About CRI\n",
    "Intructions to use CRI: https://github.com/stephenslab/gardner\n",
    "\n",
    "* interactive job  \n",
    "`qsub -I -l walltime=05:00:00 -l nodes=1:ppn=12 -l mem=32gb`\n",
    "* submit a job  \n",
    "`qsub ~/script/run_serverjob_template.sh`"
   ]
  },
  {
   "cell_type": "markdown",
   "metadata": {},
   "source": [
    "## Data storage location\n",
    "on CRI.\n",
    "phenotype data: `/gpfs/data/xhe-lab/uk-biobank/`.  \n",
    "genotype data:  `/gpfs/data/pierce-lab/uk-biobank-genotypes`."
   ]
  },
  {
   "cell_type": "markdown",
   "metadata": {},
   "source": [
    "## Prepare genotype file for chromosome 22, 20000 samples."
   ]
  },
  {
   "cell_type": "markdown",
   "metadata": {},
   "source": [
    "plink filtering instructions: https://www.cog-genomics.org/plink/2.0/filter"
   ]
  },
  {
   "cell_type": "code",
   "execution_count": null,
   "metadata": {},
   "outputs": [],
   "source": [
    "# on CRI, the interactive node is very unstable and eventually killed due to memory isues\n",
    "# prepare kept samples, take 20,000\n",
    "cd /home/szhao1/uk-biobank/uk-biobank-genotypes; \n",
    "head -n 20002 ukb17346_imp_chr17_v3_s487378.sample | awk '{print $1\"\\t\"$2}' > /home/szhao1/causal-TWAS/data/ukbiobank_samples20000.txt\n",
    "# then manually remove the first two rows.\n",
    "cd /home/szhao1/causal-TWAS/data; qsub qsub_prep_ukbiobank_n20000_chr22_genotype.sh"
   ]
  },
  {
   "cell_type": "code",
   "execution_count": null,
   "metadata": {},
   "outputs": [],
   "source": [
    "# use sftp to download file to RCC (very fast)\n",
    "cd /home/simingz/causalTWAS/ukbiobank\n",
    "sftp szhao1@cri-syncmon.cri.uchicago.edu\n",
    "cd /gpfs/data/pierce-lab/uk-biobank-genotypes\n",
    "get ukb_imp_chr22_v3.bgen.*\n",
    "get head -n 20002 ukb17346_imp_chr17_v3_s487378.sample"
   ]
  },
  {
   "cell_type": "code",
   "execution_count": null,
   "metadata": {},
   "outputs": [],
   "source": [
    "head -n 20002 ukb17346_imp_chr17_v3_s487378.sample |  awk '{print $1\"\\t\"$2}'> ukb17346_imp_chr17_v3_s20000.sample\n",
    "# manually remove first two rows"
   ]
  },
  {
   "cell_type": "markdown",
   "metadata": {},
   "source": [
    "**Process .bgen file using plink.**  \n",
    "The original chr22 bgen file contains 1251k variants. After applied the maf (minor allele frequency) 5% cut off, 100k remains. then after applied missing rate 5% cut off (default is 10%), 80k remained."
   ]
  },
  {
   "cell_type": "markdown",
   "metadata": {},
   "source": [
    "Originall tried `--make-bed`, this resulted in missing genotype, so switched to `--make-pgen`."
   ]
  },
  {
   "cell_type": "markdown",
   "metadata": {},
   "source": [
    "> Some notes from Chirstopher Chang (author of plink)\n",
    "1. You generally want to use PLINK 2.0 instead of 1.9 when working with .bgen files.  PLINK 1.9 is unable to track any of the genotype probability information in the .bgen; it rounds numbers to the nearest integer and replaces those too far from an integer with missing calls.\n",
    "2. If you want to generate a .bgen file with only the variants you want, replace \"--out rs6857.bgen\" with \"--export bgen-1.1 --out rs6857\".  --out just specifies an output filename prefix; including \".bgen\" in the --out parameter does not tell PLINK 2.0 to export a .bgen file.\n",
    "3. This will still be a lossy process; PLINK 2.0 keeps track of dosages, but not genotype probabilities.  When sample x has P(AA) = 0.8, P(AC) = 0.2, and P(CC) = 0 and sample y has P(AA) = 0.85, P(AC) = 0.1, and P(CC) = 0.05, PLINK 2.0 sees both samples as dosage(A) = 1.8, dosage(C) = 0.2, and it will make both entries look like sample x when asked to export a .bgen.  Sometimes this is okay, but if you aren't sure, you should stick to qctool/bgenix for .bgen data management because of this information loss."
   ]
  },
  {
   "cell_type": "code",
   "execution_count": null,
   "metadata": {},
   "outputs": [],
   "source": [
    "# this step takes < 1 hour\n",
    "sbatch submit_parallel_run_ukb_chr22_s20000.sh.sh"
   ]
  },
  {
   "cell_type": "markdown",
   "metadata": {},
   "source": [
    "## Prepare genotype file for chromosome 1 & others, 20000 samples."
   ]
  },
  {
   "cell_type": "code",
   "execution_count": null,
   "metadata": {},
   "outputs": [],
   "source": [
    "# use sftp to upload to cri, take 1-2 hours on CRI\n",
    "# chr1 need more than 64G memory, applying for 180G memory can be queued for some time.\n",
    "cd /home/simingz/causalTWAS/ukbiobank/CRI_scripts\n",
    "sftp szhao1@cri-syncmon.cri.uchicago.edu\n",
    "cd /home/szhao1/causal-TWAS/data\n",
    "put *"
   ]
  },
  {
   "cell_type": "code",
   "execution_count": null,
   "metadata": {},
   "outputs": [],
   "source": [
    "qsub qsub_prep_ukbiobank_n20000_chr17_genotype.sh"
   ]
  },
  {
   "cell_type": "code",
   "execution_count": 1,
   "metadata": {},
   "outputs": [],
   "source": [
    "# download plink files from CRI\n",
    "sftp szhao1@cri-syncmon.cri.uchicago.edu\n",
    "cd /home/szhao1/causal-TWAS/data\n",
    "get ukb*"
   ]
  },
  {
   "cell_type": "markdown",
   "metadata": {},
   "source": [
    "# GTEx data"
   ]
  },
  {
   "cell_type": "markdown",
   "metadata": {},
   "source": [
    "version 8: `/project2/compbio/GTEx_dbGaP/GTEx_Analysis_2017-06-05_v8/eqtl`"
   ]
  },
  {
   "cell_type": "markdown",
   "metadata": {},
   "source": [
    "version 7: need to download from here https://www.gtexportal.org/home/datasets."
   ]
  },
  {
   "cell_type": "markdown",
   "metadata": {},
   "source": [
    "## LOCUSZOOM"
   ]
  },
  {
   "cell_type": "markdown",
   "metadata": {},
   "source": [
    "contains LD and gene annotation data sources for visualization"
   ]
  },
  {
   "cell_type": "code",
   "execution_count": null,
   "metadata": {},
   "outputs": [],
   "source": [
    "cd /home/simingz/causalTWAS/locuszoom\n",
    "wget https://statgen.sph.umich.edu/locuszoom/download/locuszoom_1.4.tgz"
   ]
  }
 ],
 "metadata": {
  "kernelspec": {
   "display_name": "Bash",
   "language": "bash",
   "name": "bash"
  },
  "language_info": {
   "codemirror_mode": "shell",
   "file_extension": ".sh",
   "mimetype": "text/x-sh",
   "name": "bash"
  }
 },
 "nbformat": 4,
 "nbformat_minor": 2
}
