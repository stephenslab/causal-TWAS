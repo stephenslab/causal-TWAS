{
 "cells": [
  {
   "cell_type": "markdown",
   "metadata": {},
   "source": [
    "# Get weights from Fusion"
   ]
  },
  {
   "cell_type": "code",
   "execution_count": 1,
   "metadata": {},
   "outputs": [],
   "source": [
    "cd /project2/mstephens/causalTWAS/fusion_weights"
   ]
  },
  {
   "cell_type": "code",
   "execution_count": 1,
   "metadata": {},
   "outputs": [
    {
     "name": "stdout",
     "output_type": "stream",
     "text": [
      "--2019-10-29 16:14:53--  https://data.broadinstitute.org/alkesgroup/FUSION/WGT/YFS.BLOOD.RNAARR.tar.bz2\n",
      "Resolving data.broadinstitute.org (data.broadinstitute.org)... 69.173.92.29\n",
      "Connecting to data.broadinstitute.org (data.broadinstitute.org)|69.173.92.29|:443... connected.\n",
      "HTTP request sent, awaiting response... 200 OK\n",
      "Length: 69800449 (67M) [application/x-bzip2]\n",
      "Saving to: ‘YFS.BLOOD.RNAARR.tar.bz2’\n",
      "\n",
      "100%[======================================>] 69,800,449  3.46MB/s   in 14s    \n",
      "\n",
      "2019-10-29 16:15:08 (4.75 MB/s) - ‘YFS.BLOOD.RNAARR.tar.bz2’ saved [69800449/69800449]\n",
      "\n"
     ]
    }
   ],
   "source": [
    "wget https://data.broadinstitute.org/alkesgroup/FUSION/WGT/YFS.BLOOD.RNAARR.tar.bz2"
   ]
  },
  {
   "cell_type": "code",
   "execution_count": 3,
   "metadata": {},
   "outputs": [],
   "source": [
    "tar xjf YFS.BLOOD.RNAARR.tar.bz2"
   ]
  },
  {
   "cell_type": "code",
   "execution_count": 2,
   "metadata": {},
   "outputs": [
    {
     "name": "stdout",
     "output_type": "stream",
     "text": [
      "YFS.BLOOD.RNAARR       YFS.BLOOD.RNAARR.pos\t YFS.BLOOD.RNAARR.profile.err\n",
      "YFS.BLOOD.RNAARR.list  YFS.BLOOD.RNAARR.profile  YFS.BLOOD.RNAARR.tar.bz2\n"
     ]
    }
   ],
   "source": [
    "ls"
   ]
  },
  {
   "cell_type": "markdown",
   "metadata": {},
   "source": [
    "# Process WTCCC data"
   ]
  },
  {
   "cell_type": "markdown",
   "metadata": {},
   "source": [
    "WTCCC data obtained from Peter (`bd.RData`). We will prepare genotype file in BIMBAM format and relatedness matrix file."
   ]
  },
  {
   "cell_type": "code",
   "execution_count": 3,
   "metadata": {},
   "outputs": [],
   "source": [
    "# sinteractive --time=1-12:00:00 --partition=mstephens --mem=20G\n",
    "module load R/3.5.1"
   ]
  },
  {
   "cell_type": "code",
   "execution_count": 15,
   "metadata": {},
   "outputs": [],
   "source": [
    "cd /project2/mstephens/causalTWAS/causal-TWAS/code"
   ]
  },
  {
   "cell_type": "code",
   "execution_count": 33,
   "metadata": {},
   "outputs": [
    {
     "name": "stdout",
     "output_type": "stream",
     "text": [
      "\n"
     ]
    }
   ],
   "source": [
    "Rscript run_WTCCC_data_process.R"
   ]
  },
  {
   "cell_type": "code",
   "execution_count": 17,
   "metadata": {},
   "outputs": [
    {
     "name": "stdout",
     "output_type": "stream",
     "text": [
      "bd.geno.txt.gz\tbd.pheno.txt  bd.QC.RData  bd.RData\n"
     ]
    }
   ],
   "source": [
    "ls /project2/mstephens/causalTWAS/WTCCC"
   ]
  },
  {
   "cell_type": "markdown",
   "metadata": {},
   "source": [
    "# Gene annotation data"
   ]
  },
  {
   "cell_type": "code",
   "execution_count": 11,
   "metadata": {},
   "outputs": [],
   "source": [
    "mkdir /project2/mstephens/causalTWAS/annotation"
   ]
  },
  {
   "cell_type": "code",
   "execution_count": 21,
   "metadata": {},
   "outputs": [
    {
     "name": "stdout",
     "output_type": "stream",
     "text": [
      "--2019-11-08 09:56:18--  http://hgdownload.soe.ucsc.edu/goldenPath/hg17/database/refGene.txt.gz\n",
      "Resolving hgdownload.soe.ucsc.edu (hgdownload.soe.ucsc.edu)... 128.114.119.163\n",
      "Connecting to hgdownload.soe.ucsc.edu (hgdownload.soe.ucsc.edu)|128.114.119.163|:80... connected.\n",
      "HTTP request sent, awaiting response... 200 OK\n",
      "Length: 7550681 (7.2M) [application/x-gzip]\n",
      "Saving to: ‘refGene.txt.gz’\n",
      "\n",
      "100%[======================================>] 7,550,681   6.66MB/s   in 1.1s   \n",
      "\n",
      "2019-11-08 09:56:19 (6.66 MB/s) - ‘refGene.txt.gz’ saved [7550681/7550681]\n",
      "\n"
     ]
    }
   ],
   "source": [
    "cd /project2/mstephens/causalTWAS/annotation; wget http://hgdownload.soe.ucsc.edu/goldenPath/hg17/database/refGene.txt.gz"
   ]
  },
  {
   "cell_type": "code",
   "execution_count": 22,
   "metadata": {},
   "outputs": [],
   "source": [
    "gunzip refGene.txt.gz"
   ]
  },
  {
   "cell_type": "code",
   "execution_count": null,
   "metadata": {},
   "outputs": [],
   "source": [
    "Rscript /project2/mstephens/causalTWAS/causal-TWAS/code/gene_annotation.R refGene.txt 500000"
   ]
  },
  {
   "cell_type": "code",
   "execution_count": 24,
   "metadata": {},
   "outputs": [
    {
     "name": "stdout",
     "output_type": "stream",
     "text": [
      "refGene_processed_5e+05.txt  refGene.txt\n"
     ]
    }
   ],
   "source": [
    "ls"
   ]
  },
  {
   "cell_type": "markdown",
   "metadata": {},
   "source": [
    "# UKbiobank data"
   ]
  },
  {
   "cell_type": "markdown",
   "metadata": {},
   "source": [
    "## About CRI\n",
    "Intructions to use CRI: https://github.com/stephenslab/gardner\n",
    "\n",
    "* interactive job  \n",
    "`qsub -I -l walltime=05:00:00 -l nodes=1:ppn=12 -l mem=32gb`\n",
    "* submit a job  \n",
    "`qsub ~/script/run_serverjob_template.sh`"
   ]
  },
  {
   "cell_type": "markdown",
   "metadata": {},
   "source": [
    "## Data storage location\n",
    "on CRI.\n",
    "phenotype data: `/gpfs/data/xhe-lab/uk-biobank/`.  \n",
    "genotype data:  `/gpfs/data/pierce-lab/uk-biobank-genotypes`."
   ]
  },
  {
   "cell_type": "markdown",
   "metadata": {},
   "source": [
    "## Prepare genotype file for chromosome 22, 20000 samples."
   ]
  },
  {
   "cell_type": "markdown",
   "metadata": {},
   "source": [
    "plink filtering instructions: https://www.cog-genomics.org/plink/2.0/filter"
   ]
  },
  {
   "cell_type": "code",
   "execution_count": null,
   "metadata": {},
   "outputs": [],
   "source": [
    "# on CRI, the interactive node is very unstable and eventually killed due to memory isues\n",
    "# prepare kept samples, take 20,000\n",
    "cd /home/szhao1/uk-biobank/uk-biobank-genotypes; \n",
    "head -n 20002 ukb17346_imp_chr17_v3_s487378.sample | awk '{print $1\"\\t\"$2}' > /home/szhao1/causal-TWAS/data/ukbiobank_samples20000.txt\n",
    "# then manually remove the first two rows.\n",
    "cd /home/szhao1/causal-TWAS/data; qsub qsub_prep_ukbiobank_n20000_chr22_genotype.sh"
   ]
  },
  {
   "cell_type": "code",
   "execution_count": null,
   "metadata": {},
   "outputs": [],
   "source": [
    "# use sftp to download file to RCC (very fast)\n",
    "cd /home/simingz/causalTWAS/ukbiobank\n",
    "sftp szhao1@cri-syncmon.cri.uchicago.edu\n",
    "cd /gpfs/data/pierce-lab/uk-biobank-genotypes\n",
    "get ukb_imp_chr22_v3.bgen.*\n",
    "get head -n 20002 ukb17346_imp_chr17_v3_s487378.sample"
   ]
  },
  {
   "cell_type": "code",
   "execution_count": null,
   "metadata": {},
   "outputs": [],
   "source": [
    "head -n 20002 ukb17346_imp_chr17_v3_s487378.sample |  awk '{print $1\"\\t\"$2}'> ukb17346_imp_chr17_v3_s20000.sample\n",
    "# manually remove first two rows"
   ]
  },
  {
   "cell_type": "markdown",
   "metadata": {},
   "source": [
    "**Process .bgen file using plink.**  \n",
    "The original chr22 bgen file contains 1251k variants. After applied the maf (minor allele frequency) 5% cut off, 100k remains. then after applied missing rate 5% cut off (default is 10%), 80k remained."
   ]
  },
  {
   "cell_type": "markdown",
   "metadata": {},
   "source": [
    "Originall tried `--make-bed`, this resulted in missing genotype, so switched to `--make-pgen`."
   ]
  },
  {
   "cell_type": "markdown",
   "metadata": {},
   "source": [
    "> Some notes from Chirstopher Chang (author of plink)\n",
    "1. You generally want to use PLINK 2.0 instead of 1.9 when working with .bgen files.  PLINK 1.9 is unable to track any of the genotype probability information in the .bgen; it rounds numbers to the nearest integer and replaces those too far from an integer with missing calls.\n",
    "2. If you want to generate a .bgen file with only the variants you want, replace \"--out rs6857.bgen\" with \"--export bgen-1.1 --out rs6857\".  --out just specifies an output filename prefix; including \".bgen\" in the --out parameter does not tell PLINK 2.0 to export a .bgen file.\n",
    "3. This will still be a lossy process; PLINK 2.0 keeps track of dosages, but not genotype probabilities.  When sample x has P(AA) = 0.8, P(AC) = 0.2, and P(CC) = 0 and sample y has P(AA) = 0.85, P(AC) = 0.1, and P(CC) = 0.05, PLINK 2.0 sees both samples as dosage(A) = 1.8, dosage(C) = 0.2, and it will make both entries look like sample x when asked to export a .bgen.  Sometimes this is okay, but if you aren't sure, you should stick to qctool/bgenix for .bgen data management because of this information loss."
   ]
  },
  {
   "cell_type": "code",
   "execution_count": null,
   "metadata": {},
   "outputs": [],
   "source": [
    "# this step takes < 1 hour\n",
    "sbatch submit_parallel_run_ukb_chr22_s20000.sh.sh"
   ]
  }
 ],
 "metadata": {
  "kernelspec": {
   "display_name": "Bash",
   "language": "bash",
   "name": "bash"
  },
  "language_info": {
   "codemirror_mode": "shell",
   "file_extension": ".sh",
   "mimetype": "text/x-sh",
   "name": "bash"
  }
 },
 "nbformat": 4,
 "nbformat_minor": 2
}
