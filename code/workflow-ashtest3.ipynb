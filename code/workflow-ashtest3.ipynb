{
 "cells": [
  {
   "cell_type": "markdown",
   "metadata": {},
   "source": [
    "# Chr22, GTEx Adipose (subcutaneous) fusion weights"
   ]
  },
  {
   "cell_type": "code",
   "execution_count": 9,
   "metadata": {},
   "outputs": [],
   "source": [
    "g2dir = \"cd ~/causalTWAS/simulations/simulation_ashtest_20200616\""
   ]
  },
  {
   "cell_type": "markdown",
   "metadata": {},
   "source": [
    "* simulate different PVEs and run mr.ash2s."
   ]
  },
  {
   "cell_type": "code",
   "execution_count": 10,
   "metadata": {},
   "outputs": [],
   "source": [
    "# need 64G\n",
    "simu = \"Rscript /home/simingz/causalTWAS/causal-TWAS/code/run_simulate_data.R  /home/simingz/causalTWAS/ukbiobank/ukb_chr22_s20000 /home/simingz/causalTWAS/fusion_weights/Adipose_Subcutaneous param-{tag}.R simu_{tag}\""
   ]
  },
  {
   "cell_type": "markdown",
   "metadata": {},
   "source": [
    "* test mr.ash2s"
   ]
  },
  {
   "cell_type": "code",
   "execution_count": 11,
   "metadata": {},
   "outputs": [],
   "source": [
    "# need 64G for starting from gene, need more for starting from snps. 50 iterations takes ~ 3 hours\n",
    "# source activate twas\n",
    "mrash2 = \"Rscript /home/simingz/causalTWAS/causal-TWAS/code/run_test_mr.ash2s.R  /home/simingz/causalTWAS/ukbiobank/ukb_chr22_s20000  ~/causalTWAS/simulations/simulation_ashtest_20200616/simu_{tag}-cis-expr.Rd ~/causalTWAS/simulations/simulation_ashtest_20200616/simu_{tag}-pheno.Rd {tag}\""
   ]
  },
  {
   "cell_type": "code",
   "execution_count": 12,
   "metadata": {},
   "outputs": [],
   "source": [
    "## GWAS for all (require 48G for snp GWAS, using 5 cores.)\n",
    "# source activate twas\n",
    "exprgwas = \"Rscript /home/simingz/causalTWAS/causal-TWAS/code/run_gwas_expr.R simu_{tag}-cis-expr.Rd simu_{tag}-pheno.Rd {tag}\"\n",
    "snpgwas = \"Rscript /home/simingz/causalTWAS/causal-TWAS/code/run_gwas_snp.R /home/simingz/causalTWAS/ukbiobank/ukb_chr22_s20000.Rd simu_{tag}-pheno.Rd {tag}\""
   ]
  },
  {
   "cell_type": "markdown",
   "metadata": {},
   "source": [
    "* Generate command"
   ]
  },
  {
   "cell_type": "code",
   "execution_count": 13,
   "metadata": {},
   "outputs": [
    {
     "name": "stdout",
     "output_type": "stream",
     "text": [
      "/project2/mstephens/causalTWAS/simulations/simulation_ashtest_20200616\n"
     ]
    }
   ],
   "source": [
    "cd ~/causalTWAS/simulations/simulation_ashtest_20200616"
   ]
  },
  {
   "cell_type": "code",
   "execution_count": 14,
   "metadata": {},
   "outputs": [],
   "source": [
    "tags = ['20200616-1', '20200616-2', '20200616-3', '20200616-4']\n",
    "with open('master_run.sh', 'w') as outf:\n",
    "    for tag in tags:\n",
    "        outf.write(';'.join(['source activate twas', \n",
    "                   g2dir,\n",
    "                   simu.format(tag=tag),\n",
    "                   mrash2.format(tag=tag),\n",
    "                   exprgwas.format(tag=tag),\n",
    "                   snpgwas.format(tag=tag)]) + '\\n')\n",
    "    "
   ]
  },
  {
   "cell_type": "code",
   "execution_count": 15,
   "metadata": {},
   "outputs": [
    {
     "data": {
      "text/plain": [
       "source activate twas;cd ~/causalTWAS/simulations/simulation_ashtest_20200616;Rscript /home/simingz/causalTWAS/causal-TWAS/code/run_simulate_data.R  /home/simingz/causalTWAS/ukbiobank/ukb_chr22_s20000 /home/simingz/causalTWAS/fusion_weights/Adipose_Subcutaneous param-20200616-1.R simu_20200616-1;Rscript /home/simingz/causalTWAS/causal-TWAS/code/run_test_mr.ash2s.R  /home/simingz/causalTWAS/ukbiobank/ukb_chr22_s20000  ~/causalTWAS/simulations/simulation_ashtest_20200616/simu_20200616-1-cis-expr.Rd ~/causalTWAS/simulations/simulation_ashtest_20200616/simu_20200616-1-pheno.Rd 20200616-1;Rscript /home/simingz/causalTWAS/causal-TWAS/code/run_gwas_expr.R simu_20200616-1-cis-expr.Rd simu_20200616-1-pheno.Rd 20200616-1;Rscript /home/simingz/causalTWAS/causal-TWAS/code/run_gwas_snp.R /home/simingz/causalTWAS/ukbiobank/ukb_chr22_s20000.Rd simu_20200616-1-pheno.Rd 20200616-1\n",
       "source activate twas;cd ~/causalTWAS/simulations/simulation_ashtest_20200616;Rscript /home/simingz/causalTWAS/causal-TWAS/code/run_simulate_data.R  /home/simingz/causalTWAS/ukbiobank/ukb_chr22_s20000 /home/simingz/causalTWAS/fusion_weights/Adipose_Subcutaneous param-20200616-2.R simu_20200616-2;Rscript /home/simingz/causalTWAS/causal-TWAS/code/run_test_mr.ash2s.R  /home/simingz/causalTWAS/ukbiobank/ukb_chr22_s20000  ~/causalTWAS/simulations/simulation_ashtest_20200616/simu_20200616-2-cis-expr.Rd ~/causalTWAS/simulations/simulation_ashtest_20200616/simu_20200616-2-pheno.Rd 20200616-2;Rscript /home/simingz/causalTWAS/causal-TWAS/code/run_gwas_expr.R simu_20200616-2-cis-expr.Rd simu_20200616-2-pheno.Rd 20200616-2;Rscript /home/simingz/causalTWAS/causal-TWAS/code/run_gwas_snp.R /home/simingz/causalTWAS/ukbiobank/ukb_chr22_s20000.Rd simu_20200616-2-pheno.Rd 20200616-2\n",
       "source activate twas;cd ~/causalTWAS/simulations/simulation_ashtest_20200616;Rscript /home/simingz/causalTWAS/causal-TWAS/code/run_simulate_data.R  /home/simingz/causalTWAS/ukbiobank/ukb_chr22_s20000 /home/simingz/causalTWAS/fusion_weights/Adipose_Subcutaneous param-20200616-3.R simu_20200616-3;Rscript /home/simingz/causalTWAS/causal-TWAS/code/run_test_mr.ash2s.R  /home/simingz/causalTWAS/ukbiobank/ukb_chr22_s20000  ~/causalTWAS/simulations/simulation_ashtest_20200616/simu_20200616-3-cis-expr.Rd ~/causalTWAS/simulations/simulation_ashtest_20200616/simu_20200616-3-pheno.Rd 20200616-3;Rscript /home/simingz/causalTWAS/causal-TWAS/code/run_gwas_expr.R simu_20200616-3-cis-expr.Rd simu_20200616-3-pheno.Rd 20200616-3;Rscript /home/simingz/causalTWAS/causal-TWAS/code/run_gwas_snp.R /home/simingz/causalTWAS/ukbiobank/ukb_chr22_s20000.Rd simu_20200616-3-pheno.Rd 20200616-3\n",
       "source activate twas;cd ~/causalTWAS/simulations/simulation_ashtest_20200616;Rscript /home/simingz/causalTWAS/causal-TWAS/code/run_simulate_data.R  /home/simingz/causalTWAS/ukbiobank/ukb_chr22_s20000 /home/simingz/causalTWAS/fusion_weights/Adipose_Subcutaneous param-20200616-4.R simu_20200616-4;Rscript /home/simingz/causalTWAS/causal-TWAS/code/run_test_mr.ash2s.R  /home/simingz/causalTWAS/ukbiobank/ukb_chr22_s20000  ~/causalTWAS/simulations/simulation_ashtest_20200616/simu_20200616-4-cis-expr.Rd ~/causalTWAS/simulations/simulation_ashtest_20200616/simu_20200616-4-pheno.Rd 20200616-4;Rscript /home/simingz/causalTWAS/causal-TWAS/code/run_gwas_expr.R simu_20200616-4-cis-expr.Rd simu_20200616-4-pheno.Rd 20200616-4;Rscript /home/simingz/causalTWAS/causal-TWAS/code/run_gwas_snp.R /home/simingz/causalTWAS/ukbiobank/ukb_chr22_s20000.Rd simu_20200616-4-pheno.Rd 20200616-4\n"
      ]
     },
     "metadata": {},
     "output_type": "display_data"
    }
   ],
   "source": [
    "more master_run.sh"
   ]
  },
  {
   "cell_type": "code",
   "execution_count": 25,
   "metadata": {},
   "outputs": [],
   "source": [
    "tags = ['20200616-5', '20200616-6']\n",
    "with open('master_run2.sh', 'w') as outf:\n",
    "    for tag in tags:\n",
    "        outf.write(';'.join(['source activate twas', \n",
    "                   g2dir,\n",
    "                   simu.format(tag=tag),\n",
    "                   mrash2.format(tag=tag),\n",
    "                   exprgwas.format(tag=tag),\n",
    "                   snpgwas.format(tag=tag)]) + '\\n')"
   ]
  },
  {
   "cell_type": "code",
   "execution_count": 24,
   "metadata": {},
   "outputs": [
    {
     "data": {
      "text/plain": [
       "source activate twas;cd ~/causalTWAS/simulations/simulation_ashtest_20200616;Rscript /home/simingz/causalTWAS/causal-TWAS/code/run_simulate_data.R  /home/simingz/causalTWAS/ukbiobank/ukb_chr22_s20000 /home/simingz/causalTWAS/fusion_weights/Adipose_Subcutaneous param-20200616-5.R simu_20200616-5;Rscript /home/simingz/causalTWAS/causal-TWAS/code/run_test_mr.ash2s.R  /home/simingz/causalTWAS/ukbiobank/ukb_chr22_s20000  ~/causalTWAS/simulations/simulation_ashtest_20200616/simu_20200616-5-cis-expr.Rd ~/causalTWAS/simulations/simulation_ashtest_20200616/simu_20200616-5-pheno.Rd 20200616-5;Rscript /home/simingz/causalTWAS/causal-TWAS/code/run_gwas_expr.R simu_20200616-5-cis-expr.Rd simu_20200616-5-pheno.Rd 20200616-5;Rscript /home/simingz/causalTWAS/causal-TWAS/code/run_gwas_snp.R /home/simingz/causalTWAS/ukbiobank/ukb_chr22_s20000.Rd simu_20200616-5-pheno.Rd 20200616-5\n",
       "source activate twas;cd ~/causalTWAS/simulations/simulation_ashtest_20200616;Rscript /home/simingz/causalTWAS/causal-TWAS/code/run_simulate_data.R  /home/simingz/causalTWAS/ukbiobank/ukb_chr22_s20000 /home/simingz/causalTWAS/fusion_weights/Adipose_Subcutaneous param-20200616-6.R simu_20200616-6;Rscript /home/simingz/causalTWAS/causal-TWAS/code/run_test_mr.ash2s.R  /home/simingz/causalTWAS/ukbiobank/ukb_chr22_s20000  ~/causalTWAS/simulations/simulation_ashtest_20200616/simu_20200616-6-cis-expr.Rd ~/causalTWAS/simulations/simulation_ashtest_20200616/simu_20200616-6-pheno.Rd 20200616-6;Rscript /home/simingz/causalTWAS/causal-TWAS/code/run_gwas_expr.R simu_20200616-6-cis-expr.Rd simu_20200616-6-pheno.Rd 20200616-6;Rscript /home/simingz/causalTWAS/causal-TWAS/code/run_gwas_snp.R /home/simingz/causalTWAS/ukbiobank/ukb_chr22_s20000.Rd simu_20200616-6-pheno.Rd 20200616-6\n"
      ]
     },
     "metadata": {},
     "output_type": "display_data"
    }
   ],
   "source": [
    "more master_run2.sh"
   ]
  },
  {
   "cell_type": "markdown",
   "metadata": {},
   "source": [
    "## test SUSIE for fine mapping"
   ]
  },
  {
   "cell_type": "code",
   "execution_count": 12,
   "metadata": {},
   "outputs": [],
   "source": [
    "## takes 0.5 hours for 132 genes.\n",
    "g2susiedir = \"cd ~/causalTWAS/simulations/simulation_susietest_20200616\"\n",
    "mrashres = \"~/causalTWAS/simulations/simulation_ashtest_20200616/{tag}-mr.ash2s.expr-res.Rd\"\n",
    "susieprep = \"Rscript /home/simingz/causalTWAS/causal-TWAS/code/run_prep_susie.R {mrashres} {tag}\"\n",
    "susie = \"Rscript /home/simingz/causalTWAS/causal-TWAS/code/run_test_susie.R /home/simingz/causalTWAS/ukbiobank/ukb_chr22_s20000  ~/causalTWAS/simulations/simulation_ashtest_20200616/simu_{tag}-cis-expr.Rd ~/causalTWAS/simulations/simulation_ashtest_20200616/simu_{tag}-pheno.Rd prior-{tag}.R gene-{tag}.txt {tag}\""
   ]
  },
  {
   "cell_type": "code",
   "execution_count": 13,
   "metadata": {},
   "outputs": [
    {
     "name": "stdout",
     "output_type": "stream",
     "text": [
      "/project2/mstephens/causalTWAS/simulations/simulation_susietest_20200616\n"
     ]
    }
   ],
   "source": [
    "cd ~/causalTWAS/simulations/simulation_susietest_20200616"
   ]
  },
  {
   "cell_type": "code",
   "execution_count": 14,
   "metadata": {},
   "outputs": [],
   "source": [
    "tags = ['20200616-1', '20200616-2', '20200616-3', '20200616-4']\n",
    "with open('susie_run.sh', 'w') as outf:\n",
    "    for tag in tags:\n",
    "        outf.write(';'.join(['source activate twas', \n",
    "                             g2susiedir,\n",
    "                             susieprep.format(mrashres = mrashres.format(tag = tag)),\n",
    "                             susie.format(tag=tag)\n",
    "                             ] + '\\n')"
   ]
  }
 ],
 "metadata": {
  "kernelspec": {
   "display_name": "Python [default]",
   "language": "python",
   "name": "python3"
  },
  "language_info": {
   "codemirror_mode": {
    "name": "ipython",
    "version": 3
   },
   "file_extension": ".py",
   "mimetype": "text/x-python",
   "name": "python",
   "nbconvert_exporter": "python",
   "pygments_lexer": "ipython3",
   "version": "3.5.2"
  }
 },
 "nbformat": 4,
 "nbformat_minor": 2
}
