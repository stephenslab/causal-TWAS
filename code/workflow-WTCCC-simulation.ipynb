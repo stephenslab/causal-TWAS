{
 "cells": [
  {
   "cell_type": "markdown",
   "metadata": {},
   "source": [
    "# Get weights from Fusion"
   ]
  },
  {
   "cell_type": "code",
   "execution_count": 1,
   "metadata": {},
   "outputs": [],
   "source": [
    "cd /project2/mstephens/causalTWAS/fusion_weights"
   ]
  },
  {
   "cell_type": "code",
   "execution_count": 1,
   "metadata": {},
   "outputs": [
    {
     "name": "stdout",
     "output_type": "stream",
     "text": [
      "--2019-10-29 16:14:53--  https://data.broadinstitute.org/alkesgroup/FUSION/WGT/YFS.BLOOD.RNAARR.tar.bz2\n",
      "Resolving data.broadinstitute.org (data.broadinstitute.org)... 69.173.92.29\n",
      "Connecting to data.broadinstitute.org (data.broadinstitute.org)|69.173.92.29|:443... connected.\n",
      "HTTP request sent, awaiting response... 200 OK\n",
      "Length: 69800449 (67M) [application/x-bzip2]\n",
      "Saving to: ‘YFS.BLOOD.RNAARR.tar.bz2’\n",
      "\n",
      "100%[======================================>] 69,800,449  3.46MB/s   in 14s    \n",
      "\n",
      "2019-10-29 16:15:08 (4.75 MB/s) - ‘YFS.BLOOD.RNAARR.tar.bz2’ saved [69800449/69800449]\n",
      "\n"
     ]
    }
   ],
   "source": [
    "wget https://data.broadinstitute.org/alkesgroup/FUSION/WGT/YFS.BLOOD.RNAARR.tar.bz2"
   ]
  },
  {
   "cell_type": "code",
   "execution_count": 3,
   "metadata": {},
   "outputs": [],
   "source": [
    "tar xjf YFS.BLOOD.RNAARR.tar.bz2"
   ]
  },
  {
   "cell_type": "code",
   "execution_count": 2,
   "metadata": {},
   "outputs": [
    {
     "name": "stdout",
     "output_type": "stream",
     "text": [
      "YFS.BLOOD.RNAARR       YFS.BLOOD.RNAARR.pos\t YFS.BLOOD.RNAARR.profile.err\n",
      "YFS.BLOOD.RNAARR.list  YFS.BLOOD.RNAARR.profile  YFS.BLOOD.RNAARR.tar.bz2\n"
     ]
    }
   ],
   "source": [
    "ls"
   ]
  },
  {
   "cell_type": "markdown",
   "metadata": {},
   "source": [
    "# Process WTCCC data"
   ]
  },
  {
   "cell_type": "markdown",
   "metadata": {},
   "source": [
    "WTCCC data obtained from Peter (`bd.RData`). We will prepare genotype file in BIMBAM format and relatedness matrix file."
   ]
  },
  {
   "cell_type": "code",
   "execution_count": 3,
   "metadata": {},
   "outputs": [],
   "source": [
    "# sinteractive --time=1-12:00:00 --partition=mstephens --mem=20G\n",
    "module load R/3.5.1"
   ]
  },
  {
   "cell_type": "code",
   "execution_count": 15,
   "metadata": {},
   "outputs": [],
   "source": [
    "cd /project2/mstephens/causalTWAS/causal-TWAS/code"
   ]
  },
  {
   "cell_type": "code",
   "execution_count": 33,
   "metadata": {},
   "outputs": [
    {
     "name": "stdout",
     "output_type": "stream",
     "text": [
      "\n"
     ]
    }
   ],
   "source": [
    "Rscript run_WTCCC_data_process.R"
   ]
  },
  {
   "cell_type": "code",
   "execution_count": 17,
   "metadata": {},
   "outputs": [
    {
     "name": "stdout",
     "output_type": "stream",
     "text": [
      "bd.geno.txt.gz\tbd.pheno.txt  bd.QC.RData  bd.RData\n"
     ]
    }
   ],
   "source": [
    "ls /project2/mstephens/causalTWAS/WTCCC"
   ]
  },
  {
   "cell_type": "markdown",
   "metadata": {},
   "source": [
    "# Gene annotation data"
   ]
  },
  {
   "cell_type": "code",
   "execution_count": 11,
   "metadata": {},
   "outputs": [],
   "source": [
    "mkdir /project2/mstephens/causalTWAS/annotation"
   ]
  },
  {
   "cell_type": "code",
   "execution_count": 21,
   "metadata": {},
   "outputs": [
    {
     "name": "stdout",
     "output_type": "stream",
     "text": [
      "--2019-11-08 09:56:18--  http://hgdownload.soe.ucsc.edu/goldenPath/hg17/database/refGene.txt.gz\n",
      "Resolving hgdownload.soe.ucsc.edu (hgdownload.soe.ucsc.edu)... 128.114.119.163\n",
      "Connecting to hgdownload.soe.ucsc.edu (hgdownload.soe.ucsc.edu)|128.114.119.163|:80... connected.\n",
      "HTTP request sent, awaiting response... 200 OK\n",
      "Length: 7550681 (7.2M) [application/x-gzip]\n",
      "Saving to: ‘refGene.txt.gz’\n",
      "\n",
      "100%[======================================>] 7,550,681   6.66MB/s   in 1.1s   \n",
      "\n",
      "2019-11-08 09:56:19 (6.66 MB/s) - ‘refGene.txt.gz’ saved [7550681/7550681]\n",
      "\n"
     ]
    }
   ],
   "source": [
    "cd /project2/mstephens/causalTWAS/annotation; wget http://hgdownload.soe.ucsc.edu/goldenPath/hg17/database/refGene.txt.gz"
   ]
  },
  {
   "cell_type": "code",
   "execution_count": 22,
   "metadata": {},
   "outputs": [],
   "source": [
    "gunzip refGene.txt.gz"
   ]
  },
  {
   "cell_type": "code",
   "execution_count": null,
   "metadata": {},
   "outputs": [],
   "source": [
    "Rscript /project2/mstephens/causalTWAS/causal-TWAS/code/gene_annotation.R refGene.txt 500000"
   ]
  },
  {
   "cell_type": "code",
   "execution_count": 24,
   "metadata": {},
   "outputs": [
    {
     "name": "stdout",
     "output_type": "stream",
     "text": [
      "refGene_processed_5e+05.txt  refGene.txt\n"
     ]
    }
   ],
   "source": [
    "ls"
   ]
  },
  {
   "cell_type": "markdown",
   "metadata": {},
   "source": [
    "# Simulation: simulation_WTCCC_20191111"
   ]
  },
  {
   "cell_type": "code",
   "execution_count": null,
   "metadata": {},
   "outputs": [],
   "source": [
    "cd /project2/mstephens/causalTWAS/; mkdir simulations"
   ]
  },
  {
   "cell_type": "code",
   "execution_count": 42,
   "metadata": {},
   "outputs": [],
   "source": [
    "cd simulations; mkdir simulation_WTCCC_20191111"
   ]
  },
  {
   "cell_type": "markdown",
   "metadata": {},
   "source": [
    "### Simulate cis-expression"
   ]
  },
  {
   "cell_type": "markdown",
   "metadata": {},
   "source": [
    "Need 40G memory."
   ]
  },
  {
   "cell_type": "code",
   "execution_count": null,
   "metadata": {},
   "outputs": [],
   "source": [
    "source activate twas\n",
    "Rscript ~/causalTWAS/causal-TWAS/code/simulate-WTCCC-expr.R"
   ]
  },
  {
   "cell_type": "markdown",
   "metadata": {},
   "source": [
    "### Simulate phenotype"
   ]
  },
  {
   "cell_type": "markdown",
   "metadata": {},
   "source": [
    "Simulate a few scenarios, one simulation takes a few minutes"
   ]
  },
  {
   "cell_type": "code",
   "execution_count": null,
   "metadata": {},
   "outputs": [],
   "source": [
    "Rscript ~/causalTWAS/causal-TWAS/code/simulate-WTCCC-phenotype.R  441283 17633 0.1 0.1 S1.1\n",
    "\n",
    "Rscript ~/causalTWAS/causal-TWAS/code/simulate-WTCCC-phenotype.R  441283 17633 0.4 0.1 S1.2\n",
    "\n",
    "Rscript ~/causalTWAS/causal-TWAS/code/simulate-WTCCC-phenotype.R  441283 2000 0.1 0.1 S2.1\n",
    "\n",
    "Rscript ~/causalTWAS/causal-TWAS/code/simulate-WTCCC-phenotype.R  441283 2000 0.4 0.1 S2.2\n",
    "\n",
    "Rscript ~/causalTWAS/causal-TWAS/code/simulate-WTCCC-phenotype.R  5000 17633 0.1 0.1 S3.1\n",
    "\n",
    "Rscript ~/causalTWAS/causal-TWAS/code/simulate-WTCCC-phenotype.R  5000 17633 0.4 0.1 S3.2\n",
    "\n",
    "Rscript ~/causalTWAS/causal-TWAS/code/simulate-WTCCC-phenotype.R  5000 2000 0.1 0.1 S4.1\n",
    "\n",
    "Rscript ~/causalTWAS/causal-TWAS/code/simulate-WTCCC-phenotype.R  5000 2000 0.4 0.1 S4.2"
   ]
  },
  {
   "cell_type": "markdown",
   "metadata": {},
   "source": [
    "### Run causalTWAS_v0.1"
   ]
  },
  {
   "cell_type": "code",
   "execution_count": 2,
   "metadata": {},
   "outputs": [],
   "source": [
    "cd /project2/mstephens/causalTWAS/simulations/simulation_WTCCC_20191111"
   ]
  },
  {
   "cell_type": "code",
   "execution_count": 34,
   "metadata": {},
   "outputs": [],
   "source": [
    "module load gemma"
   ]
  },
  {
   "cell_type": "code",
   "execution_count": null,
   "metadata": {},
   "outputs": [],
   "source": [
    "Rscript /project2/mstephens/causalTWAS/causal-TWAS/code/ctwas_polygenic_V1.R S1.1-441283-17633-0.1-0.1.simulated.pheno.txt ../../WTCCC/bd.geno.txt.gz simulated_gene_cis_expr.exprgeno.txt S1.1\n",
    "\n",
    "Rscript /project2/mstephens/causalTWAS/causal-TWAS/code/ctwas_polygenic_V1.R S1.2-441283-17633-0.4-0.1.simulated.pheno.txt ../../WTCCC/bd.geno.txt.gz simulated_gene_cis_expr.exprgeno.txt S1.2\n",
    "\n",
    "Rscript /project2/mstephens/causalTWAS/causal-TWAS/code/ctwas_polygenic_V1.R S2.1-441283-2000-0.1-0.1.simulated.pheno.txt ../../WTCCC/bd.geno.txt.gz simulated_gene_cis_expr.exprgeno.txt S2.1\n",
    "\n",
    "Rscript /project2/mstephens/causalTWAS/causal-TWAS/code/ctwas_polygenic_V1.R S2.2-441283-2000-0.4-0.1.simulated.pheno.txt ../../WTCCC/bd.geno.txt.gz simulated_gene_cis_expr.exprgeno.txt S2.2\n",
    "\n",
    "Rscript /project2/mstephens/causalTWAS/causal-TWAS/code/ctwas_polygenic_V1.R S3.1-5000-17633-0.1-0.1.simulated.pheno.txt ../../WTCCC/bd.geno.txt.gz simulated_gene_cis_expr.exprgeno.txt S3.1\n",
    "\n",
    "Rscript /project2/mstephens/causalTWAS/causal-TWAS/code/ctwas_polygenic_V1.R S3.2-5000-17633-0.4-0.1.simulated.pheno.txt ../../WTCCC/bd.geno.txt.gz simulated_gene_cis_expr.exprgeno.txt S3.2\n",
    "\n",
    "Rscript /project2/mstephens/causalTWAS/causal-TWAS/code/ctwas_polygenic_V1.R S4.1-5000-2000-0.1-0.1.simulated.pheno.txt ../../WTCCC/bd.geno.txt.gz simulated_gene_cis_expr.exprgeno.txt S4.1\n",
    "\n",
    "Rscript /project2/mstephens/causalTWAS/causal-TWAS/code/ctwas_polygenic_V1.R S4.2-5000-2000-0.4-0.1.simulated.pheno.txt ../../WTCCC/bd.geno.txt.gz simulated_gene_cis_expr.exprgeno.txt S4.2"
   ]
  },
  {
   "cell_type": "markdown",
   "metadata": {},
   "source": [
    "Relatedness matrix calculation for 4000 samples x 400000 SNPs takes 3 hours using 80G mem. **TODO**: need to change to [GCTA](https://cnsgenomics.com/software/gcta/#GREML) . When relatedness matrices are ready, HE regression for 4K individuals takes 1min and requires <8G."
   ]
  },
  {
   "cell_type": "markdown",
   "metadata": {},
   "source": [
    "# Simulation: simulation_WTCCC_20191127"
   ]
  },
  {
   "cell_type": "markdown",
   "metadata": {},
   "source": [
    "Compared to simulation_WTCCC_20191111, simulation_WTCCC_20191127 uses a separate genotype data to simulate expression and train the expression model. After training, predict expression for the GWAS dataset."
   ]
  },
  {
   "cell_type": "code",
   "execution_count": 5,
   "metadata": {},
   "outputs": [],
   "source": [
    "cd /project2/mstephens/causalTWAS/simulations/"
   ]
  },
  {
   "cell_type": "code",
   "execution_count": 6,
   "metadata": {},
   "outputs": [],
   "source": [
    "mkdir simulation_WTCCC_20191127"
   ]
  },
  {
   "cell_type": "markdown",
   "metadata": {},
   "source": [
    "### simulate expression"
   ]
  },
  {
   "cell_type": "code",
   "execution_count": null,
   "metadata": {},
   "outputs": [],
   "source": [
    "# need 20G memory\n",
    "source activate twas\n",
    "Rscript ~/causalTWAS/causal-TWAS/code/simulate-WTCCC-expr.R"
   ]
  },
  {
   "cell_type": "markdown",
   "metadata": {},
   "source": [
    "### simulate phenoptype"
   ]
  },
  {
   "cell_type": "markdown",
   "metadata": {},
   "source": [
    "need 60G memory"
   ]
  },
  {
   "cell_type": "code",
   "execution_count": null,
   "metadata": {},
   "outputs": [],
   "source": [
    "Rscript ~/causalTWAS/causal-TWAS/code/simulate-WTCCC-phenotype.R  441283 15983 0.1 0.1 S1.1\n",
    "\n",
    "Rscript ~/causalTWAS/causal-TWAS/code/simulate-WTCCC-phenotype.R  441283 15983 0.4 0.1 S1.2\n",
    "\n",
    "Rscript ~/causalTWAS/causal-TWAS/code/simulate-WTCCC-phenotype.R  441283 2000 0.1 0.1 S2.1\n",
    "\n",
    "Rscript ~/causalTWAS/causal-TWAS/code/simulate-WTCCC-phenotype.R  441283 2000 0.4 0.1 S2.2\n",
    "\n",
    "Rscript ~/causalTWAS/causal-TWAS/code/simulate-WTCCC-phenotype.R  5000 15983 0.1 0.1 S3.1\n",
    "\n",
    "Rscript ~/causalTWAS/causal-TWAS/code/simulate-WTCCC-phenotype.R  5000 15983 0.4 0.1 S3.2\n",
    "\n",
    "Rscript ~/causalTWAS/causal-TWAS/code/simulate-WTCCC-phenotype.R  5000 2000 0.1 0.1 S4.1\n",
    "\n",
    "Rscript ~/causalTWAS/causal-TWAS/code/simulate-WTCCC-phenotype.R  5000 2000 0.4 0.1 S4.2"
   ]
  },
  {
   "cell_type": "markdown",
   "metadata": {},
   "source": [
    "### Run causalTWAS_v0.1"
   ]
  },
  {
   "cell_type": "markdown",
   "metadata": {},
   "source": [
    "The training expression model part used 10 cores, total 50G memory for 10 hours.\n",
    "\n",
    "imputing part currently can only use single core, takes 60G and run for 1-2 hours. will require insanely large memory to parallel."
   ]
  },
  {
   "cell_type": "code",
   "execution_count": null,
   "metadata": {},
   "outputs": [],
   "source": [
    "cd /project2/mstephens/causalTWAS/simulations/simulation_WTCCC_20191127"
   ]
  },
  {
   "cell_type": "code",
   "execution_count": null,
   "metadata": {},
   "outputs": [],
   "source": [
    "source activate twas\n",
    "module load gemma\n",
    "Rscript /project2/mstephens/causalTWAS/causal-TWAS/code/ctwas_polygenic_V1.R S1.1-441283-15983-0.1-0.1.simulated.pheno.txt ../../WTCCC/bd simulated_gene_cis_expr2.Rd S1.1\n",
    "Rscript /project2/mstephens/causalTWAS/causal-TWAS/code/ctwas_polygenic_V1.R S1.2-441283-15983-0.4-0.1.simulated.pheno.txt ../../WTCCC/bd simulated_gene_cis_expr2.Rd S1.2\n",
    "Rscript /project2/mstephens/causalTWAS/causal-TWAS/code/ctwas_polygenic_V1.R S2.1-441283-2000-0.1-0.1.simulated.pheno.txt ../../WTCCC/bd simulated_gene_cis_expr2.Rd S2.1\n",
    "Rscript /project2/mstephens/causalTWAS/causal-TWAS/code/ctwas_polygenic_V1.R S2.2-441283-2000-0.4-0.1.simulated.pheno.txt ../../WTCCC/bd simulated_gene_cis_expr2.Rd S2.2\n",
    "Rscript /project2/mstephens/causalTWAS/causal-TWAS/code/ctwas_polygenic_V1.R S3.1-5000-15983-0.1-0.1.simulated.pheno.txt ../../WTCCC/bd simulated_gene_cis_expr2.Rd S3.1\n",
    "Rscript /project2/mstephens/causalTWAS/causal-TWAS/code/ctwas_polygenic_V1.R S3.2-5000-15983-0.4-0.1.simulated.pheno.txt ../../WTCCC/bd simulated_gene_cis_expr2.Rd S3.2\n",
    "Rscript /project2/mstephens/causalTWAS/causal-TWAS/code/ctwas_polygenic_V1.R S4.1-5000-2000-0.1-0.1.simulated.pheno.txt ../../WTCCC/bd simulated_gene_cis_expr2.Rd S4.1\n",
    "Rscript /project2/mstephens/causalTWAS/causal-TWAS/code/ctwas_polygenic_V1.R S4.2-5000-2000-0.4-0.1.simulated.pheno.txt ../../WTCCC/bd simulated_gene_cis_expr2.Rd S4.2"
   ]
  }
 ],
 "metadata": {
  "kernelspec": {
   "display_name": "Bash",
   "language": "bash",
   "name": "bash"
  },
  "language_info": {
   "codemirror_mode": "shell",
   "file_extension": ".sh",
   "mimetype": "text/x-sh",
   "name": "bash"
  }
 },
 "nbformat": 4,
 "nbformat_minor": 2
}
