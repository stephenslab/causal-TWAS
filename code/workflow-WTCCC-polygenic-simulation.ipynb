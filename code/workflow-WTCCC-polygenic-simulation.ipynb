{
 "cells": [
  {
   "cell_type": "markdown",
   "metadata": {},
   "source": [
    "# Simulation: simulation_WTCCC_20191111"
   ]
  },
  {
   "cell_type": "code",
   "execution_count": null,
   "metadata": {},
   "outputs": [],
   "source": [
    "cd /project2/mstephens/causalTWAS/; mkdir simulations"
   ]
  },
  {
   "cell_type": "code",
   "execution_count": 42,
   "metadata": {},
   "outputs": [],
   "source": [
    "cd simulations; mkdir simulation_WTCCC_20191111"
   ]
  },
  {
   "cell_type": "markdown",
   "metadata": {},
   "source": [
    "### Simulate cis-expression"
   ]
  },
  {
   "cell_type": "markdown",
   "metadata": {},
   "source": [
    "Need 40G memory. In file `project2/mstephens/causalTWAS/simulations/simulation_WTCCC_20191111/simulated_gene_cis_expr.Rd`, somehow `expr` is $G\\alpha$ instead of $\\tilde{X}$."
   ]
  },
  {
   "cell_type": "code",
   "execution_count": null,
   "metadata": {},
   "outputs": [],
   "source": [
    "source activate twas\n",
    "Rscript ~/causalTWAS/causal-TWAS/code/simulate-WTCCC-expr.R"
   ]
  },
  {
   "cell_type": "markdown",
   "metadata": {},
   "source": [
    "### Simulate phenotype"
   ]
  },
  {
   "cell_type": "markdown",
   "metadata": {},
   "source": [
    "Simulate a few scenarios, one simulation takes a few minutes. simulate $Y$ used $G\\alpha$ instead of $\\tilde{X}$."
   ]
  },
  {
   "cell_type": "code",
   "execution_count": null,
   "metadata": {},
   "outputs": [],
   "source": [
    "Rscript ~/causalTWAS/causal-TWAS/code/simulate-WTCCC-phenotype.R  441283 17633 0.1 0.1 S1.1\n",
    "\n",
    "Rscript ~/causalTWAS/causal-TWAS/code/simulate-WTCCC-phenotype.R  441283 17633 0.4 0.1 S1.2\n",
    "\n",
    "Rscript ~/causalTWAS/causal-TWAS/code/simulate-WTCCC-phenotype.R  441283 2000 0.1 0.1 S2.1\n",
    "\n",
    "Rscript ~/causalTWAS/causal-TWAS/code/simulate-WTCCC-phenotype.R  441283 2000 0.4 0.1 S2.2\n",
    "\n",
    "Rscript ~/causalTWAS/causal-TWAS/code/simulate-WTCCC-phenotype.R  5000 17633 0.1 0.1 S3.1\n",
    "\n",
    "Rscript ~/causalTWAS/causal-TWAS/code/simulate-WTCCC-phenotype.R  5000 17633 0.4 0.1 S3.2\n",
    "\n",
    "Rscript ~/causalTWAS/causal-TWAS/code/simulate-WTCCC-phenotype.R  5000 2000 0.1 0.1 S4.1\n",
    "\n",
    "Rscript ~/causalTWAS/causal-TWAS/code/simulate-WTCCC-phenotype.R  5000 2000 0.4 0.1 S4.2"
   ]
  },
  {
   "cell_type": "markdown",
   "metadata": {},
   "source": [
    "### Run causalTWAS_v0.1"
   ]
  },
  {
   "cell_type": "code",
   "execution_count": 2,
   "metadata": {},
   "outputs": [],
   "source": [
    "cd /project2/mstephens/causalTWAS/simulations/simulation_WTCCC_20191111"
   ]
  },
  {
   "cell_type": "code",
   "execution_count": 34,
   "metadata": {},
   "outputs": [],
   "source": [
    "module load gemma"
   ]
  },
  {
   "cell_type": "code",
   "execution_count": null,
   "metadata": {},
   "outputs": [],
   "source": [
    "Rscript /project2/mstephens/causalTWAS/causal-TWAS/code/ctwas_polygenic_V1.R S1.1-441283-17633-0.1-0.1.simulated.pheno.txt ../../WTCCC/bd.geno.txt.gz simulated_gene_cis_expr.exprgeno.txt S1.1\n",
    "\n",
    "Rscript /project2/mstephens/causalTWAS/causal-TWAS/code/ctwas_polygenic_V1.R S1.2-441283-17633-0.4-0.1.simulated.pheno.txt ../../WTCCC/bd.geno.txt.gz simulated_gene_cis_expr.exprgeno.txt S1.2\n",
    "\n",
    "Rscript /project2/mstephens/causalTWAS/causal-TWAS/code/ctwas_polygenic_V1.R S2.1-441283-2000-0.1-0.1.simulated.pheno.txt ../../WTCCC/bd.geno.txt.gz simulated_gene_cis_expr.exprgeno.txt S2.1\n",
    "\n",
    "Rscript /project2/mstephens/causalTWAS/causal-TWAS/code/ctwas_polygenic_V1.R S2.2-441283-2000-0.4-0.1.simulated.pheno.txt ../../WTCCC/bd.geno.txt.gz simulated_gene_cis_expr.exprgeno.txt S2.2\n",
    "\n",
    "Rscript /project2/mstephens/causalTWAS/causal-TWAS/code/ctwas_polygenic_V1.R S3.1-5000-17633-0.1-0.1.simulated.pheno.txt ../../WTCCC/bd.geno.txt.gz simulated_gene_cis_expr.exprgeno.txt S3.1\n",
    "\n",
    "Rscript /project2/mstephens/causalTWAS/causal-TWAS/code/ctwas_polygenic_V1.R S3.2-5000-17633-0.4-0.1.simulated.pheno.txt ../../WTCCC/bd.geno.txt.gz simulated_gene_cis_expr.exprgeno.txt S3.2\n",
    "\n",
    "Rscript /project2/mstephens/causalTWAS/causal-TWAS/code/ctwas_polygenic_V1.R S4.1-5000-2000-0.1-0.1.simulated.pheno.txt ../../WTCCC/bd.geno.txt.gz simulated_gene_cis_expr.exprgeno.txt S4.1\n",
    "\n",
    "Rscript /project2/mstephens/causalTWAS/causal-TWAS/code/ctwas_polygenic_V1.R S4.2-5000-2000-0.4-0.1.simulated.pheno.txt ../../WTCCC/bd.geno.txt.gz simulated_gene_cis_expr.exprgeno.txt S4.2"
   ]
  },
  {
   "cell_type": "markdown",
   "metadata": {},
   "source": [
    "Relatedness matrix calculation for 4000 samples x 400000 SNPs takes 3 hours using 80G mem. **TODO**: need to change to [GCTA](https://cnsgenomics.com/software/gcta/#GREML) . When relatedness matrices are ready, HE regression for 4K individuals takes 1min and requires <8G."
   ]
  },
  {
   "cell_type": "markdown",
   "metadata": {},
   "source": [
    "# Simulation: simulation_WTCCC_20191127"
   ]
  },
  {
   "cell_type": "markdown",
   "metadata": {},
   "source": [
    "Compared to simulation_WTCCC_20191111, simulation_WTCCC_20191127 uses a separate genotype data to simulate expression and train the expression model. After training, predict expression for the GWAS dataset. When simulate phenotype, used $G\\alpha$ (not $\\tilde{X}$) where $\\alpha$ is the same weights used to simulate expression in a separate dataset."
   ]
  },
  {
   "cell_type": "code",
   "execution_count": 5,
   "metadata": {},
   "outputs": [],
   "source": [
    "cd /project2/mstephens/causalTWAS/simulations/"
   ]
  },
  {
   "cell_type": "code",
   "execution_count": 6,
   "metadata": {},
   "outputs": [],
   "source": [
    "mkdir simulation_WTCCC_20191127"
   ]
  },
  {
   "cell_type": "markdown",
   "metadata": {},
   "source": [
    "### simulate expression"
   ]
  },
  {
   "cell_type": "code",
   "execution_count": null,
   "metadata": {},
   "outputs": [],
   "source": [
    "# need 20G memory\n",
    "source activate twas\n",
    "Rscript ~/causalTWAS/causal-TWAS/code/simulate-WTCCC-expr.R"
   ]
  },
  {
   "cell_type": "markdown",
   "metadata": {},
   "source": [
    "### simulate phenoptype"
   ]
  },
  {
   "cell_type": "markdown",
   "metadata": {},
   "source": [
    "need 60G memory, simulate Y used G$\\alpha$ instead of $\\tilde{X}$."
   ]
  },
  {
   "cell_type": "code",
   "execution_count": null,
   "metadata": {},
   "outputs": [],
   "source": [
    "Rscript ~/causalTWAS/causal-TWAS/code/simulate-WTCCC-phenotype.R  441283 15983 0.1 0.1 S1.1\n",
    "\n",
    "Rscript ~/causalTWAS/causal-TWAS/code/simulate-WTCCC-phenotype.R  441283 15983 0.4 0.1 S1.2\n",
    "\n",
    "Rscript ~/causalTWAS/causal-TWAS/code/simulate-WTCCC-phenotype.R  441283 2000 0.1 0.1 S2.1\n",
    "\n",
    "Rscript ~/causalTWAS/causal-TWAS/code/simulate-WTCCC-phenotype.R  441283 2000 0.4 0.1 S2.2\n",
    "\n",
    "Rscript ~/causalTWAS/causal-TWAS/code/simulate-WTCCC-phenotype.R  5000 15983 0.1 0.1 S3.1\n",
    "\n",
    "Rscript ~/causalTWAS/causal-TWAS/code/simulate-WTCCC-phenotype.R  5000 15983 0.4 0.1 S3.2\n",
    "\n",
    "Rscript ~/causalTWAS/causal-TWAS/code/simulate-WTCCC-phenotype.R  5000 2000 0.1 0.1 S4.1\n",
    "\n",
    "Rscript ~/causalTWAS/causal-TWAS/code/simulate-WTCCC-phenotype.R  5000 2000 0.4 0.1 S4.2"
   ]
  },
  {
   "cell_type": "markdown",
   "metadata": {},
   "source": [
    "### Run causalTWAS_v0.1"
   ]
  },
  {
   "cell_type": "markdown",
   "metadata": {},
   "source": [
    "The training expression model part used 10 cores, total 50G memory for 10 hours.\n",
    "\n",
    "imputing part currently can only use single core, takes 60G and run for 1-2 hours. will require insanely large memory to parallel."
   ]
  },
  {
   "cell_type": "code",
   "execution_count": null,
   "metadata": {},
   "outputs": [],
   "source": [
    "cd /project2/mstephens/causalTWAS/simulations/simulation_WTCCC_20191127"
   ]
  },
  {
   "cell_type": "code",
   "execution_count": null,
   "metadata": {},
   "outputs": [],
   "source": [
    "source activate twas\n",
    "module load gemma\n",
    "Rscript /project2/mstephens/causalTWAS/causal-TWAS/code/ctwas_polygenic_V1.R S1.1-441283-15983-0.1-0.1.simulated.pheno.txt ../../WTCCC/bd simulated_gene_cis_expr2.Rd S1.1\n",
    "Rscript /project2/mstephens/causalTWAS/causal-TWAS/code/ctwas_polygenic_V1.R S1.2-441283-15983-0.4-0.1.simulated.pheno.txt ../../WTCCC/bd simulated_gene_cis_expr2.Rd S1.2\n",
    "Rscript /project2/mstephens/causalTWAS/causal-TWAS/code/ctwas_polygenic_V1.R S2.1-441283-2000-0.1-0.1.simulated.pheno.txt ../../WTCCC/bd simulated_gene_cis_expr2.Rd S2.1\n",
    "Rscript /project2/mstephens/causalTWAS/causal-TWAS/code/ctwas_polygenic_V1.R S2.2-441283-2000-0.4-0.1.simulated.pheno.txt ../../WTCCC/bd simulated_gene_cis_expr2.Rd S2.2\n",
    "Rscript /project2/mstephens/causalTWAS/causal-TWAS/code/ctwas_polygenic_V1.R S3.1-5000-15983-0.1-0.1.simulated.pheno.txt ../../WTCCC/bd simulated_gene_cis_expr2.Rd S3.1\n",
    "Rscript /project2/mstephens/causalTWAS/causal-TWAS/code/ctwas_polygenic_V1.R S3.2-5000-15983-0.4-0.1.simulated.pheno.txt ../../WTCCC/bd simulated_gene_cis_expr2.Rd S3.2\n",
    "Rscript /project2/mstephens/causalTWAS/causal-TWAS/code/ctwas_polygenic_V1.R S4.1-5000-2000-0.1-0.1.simulated.pheno.txt ../../WTCCC/bd simulated_gene_cis_expr2.Rd S4.1\n",
    "Rscript /project2/mstephens/causalTWAS/causal-TWAS/code/ctwas_polygenic_V1.R S4.2-5000-2000-0.4-0.1.simulated.pheno.txt ../../WTCCC/bd simulated_gene_cis_expr2.Rd S4.2"
   ]
  }
 ],
 "metadata": {
  "kernelspec": {
   "display_name": "Bash",
   "language": "bash",
   "name": "bash"
  },
  "language_info": {
   "codemirror_mode": "shell",
   "file_extension": ".sh",
   "mimetype": "text/x-sh",
   "name": "bash"
  }
 },
 "nbformat": 4,
 "nbformat_minor": 2
}
