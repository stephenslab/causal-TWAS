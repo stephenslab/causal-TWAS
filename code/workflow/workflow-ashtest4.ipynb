{
 "cells": [
  {
   "cell_type": "markdown",
   "metadata": {},
   "source": [
    "# Chr17-22, GTEx Adipose (subcutaneous) fusion weights"
   ]
  },
  {
   "cell_type": "markdown",
   "metadata": {},
   "source": [
    "## Part1: simulation and mr.ash"
   ]
  },
  {
   "cell_type": "markdown",
   "metadata": {},
   "source": [
    "* set up"
   ]
  },
  {
   "cell_type": "code",
   "execution_count": 1,
   "metadata": {},
   "outputs": [],
   "source": [
    "wkdir = \"/project2/mstephens/causalTWAS/simulations/simulation_ashtest_20200721/\""
   ]
  },
  {
   "cell_type": "code",
   "execution_count": 2,
   "metadata": {},
   "outputs": [],
   "source": [
    "codedir = \"/project2/mstephens/causalTWAS/causal-TWAS/code/\""
   ]
  },
  {
   "cell_type": "code",
   "execution_count": 3,
   "metadata": {},
   "outputs": [],
   "source": [
    "geno = \"/project2/mstephens/causalTWAS/ukbiobank/ukb_chr17to22_s20000\""
   ]
  },
  {
   "cell_type": "code",
   "execution_count": 4,
   "metadata": {},
   "outputs": [],
   "source": [
    "weight = \"/project2/mstephens/causalTWAS/fusion_weights/Adipose_Subcutaneous\""
   ]
  },
  {
   "cell_type": "code",
   "execution_count": 5,
   "metadata": {},
   "outputs": [],
   "source": [
    "maintag = '20200721-3'"
   ]
  },
  {
   "cell_type": "code",
   "execution_count": 24,
   "metadata": {},
   "outputs": [],
   "source": [
    "subtags =  [str(i) for i in list(range(10,101))]"
   ]
  },
  {
   "cell_type": "markdown",
   "metadata": {},
   "source": [
    "* prepare param "
   ]
  },
  {
   "cell_type": "code",
   "execution_count": 25,
   "metadata": {},
   "outputs": [
    {
     "name": "stdout",
     "output_type": "stream",
     "text": [
      "/project2/mstephens/causalTWAS/simulations/simulation_ashtest_20200721\n"
     ]
    }
   ],
   "source": [
    "cd {wkdir}"
   ]
  },
  {
   "cell_type": "code",
   "execution_count": 26,
   "metadata": {},
   "outputs": [],
   "source": [
    "template = \"{wkdir}/param-{maintag}.R\".format(wkdir = wkdir, maintag = maintag)"
   ]
  },
  {
   "cell_type": "code",
   "execution_count": 27,
   "metadata": {},
   "outputs": [],
   "source": [
    "a = open(template, 'r').readlines()"
   ]
  },
  {
   "cell_type": "code",
   "execution_count": 28,
   "metadata": {},
   "outputs": [],
   "source": [
    "for subtag in subtags:\n",
    "    with open(\"param-{maintag}-{subtag}.R\".format(maintag = maintag, subtag = subtag), 'w') as newpar:\n",
    "        a[5] = 'SED <- {sed}\\n'.format(sed = str(950 + int(subtag)))\n",
    "        newpar.writelines(a)"
   ]
  },
  {
   "cell_type": "markdown",
   "metadata": {},
   "source": [
    "* commands"
   ]
  },
  {
   "cell_type": "code",
   "execution_count": 29,
   "metadata": {},
   "outputs": [],
   "source": [
    "g2dir = \"cd {wkdir}\""
   ]
  },
  {
   "cell_type": "code",
   "execution_count": 30,
   "metadata": {},
   "outputs": [],
   "source": [
    "simu = \"Rscript {codedir}/run_simulate_data.R {geno} {weight} param-{tag}.R simu_{tag}\""
   ]
  },
  {
   "cell_type": "code",
   "execution_count": 31,
   "metadata": {},
   "outputs": [],
   "source": [
    "simu_expr = \"{wkdir}/simu_{tag}-cis-expr.Rd\""
   ]
  },
  {
   "cell_type": "code",
   "execution_count": 32,
   "metadata": {},
   "outputs": [],
   "source": [
    "simu_pheno = \"{wkdir}/simu_{tag}-pheno.Rd\""
   ]
  },
  {
   "cell_type": "code",
   "execution_count": 33,
   "metadata": {},
   "outputs": [],
   "source": [
    "mrash2 = \"Rscript {codedir}/run_test_mr.ash2s.R {geno} {simu_expr} {simu_pheno} {tag}\""
   ]
  },
  {
   "cell_type": "code",
   "execution_count": 34,
   "metadata": {},
   "outputs": [],
   "source": [
    "exprgwas = \"Rscript {codedir}/run_gwas_expr.R {simu_expr} {simu_pheno} {tag}\""
   ]
  },
  {
   "cell_type": "code",
   "execution_count": 35,
   "metadata": {},
   "outputs": [],
   "source": [
    "snpgwas = \"Rscript {codedir}/run_gwas_snp.R {geno} {simu_pheno} {tag}\""
   ]
  },
  {
   "cell_type": "code",
   "execution_count": 36,
   "metadata": {},
   "outputs": [],
   "source": [
    "ld = \"Rscript {codedir}/run_ld.R {geno} {simu_expr} {simu_pheno} {tag}\""
   ]
  },
  {
   "cell_type": "markdown",
   "metadata": {},
   "source": [
    "* write master file"
   ]
  },
  {
   "cell_type": "code",
   "execution_count": 37,
   "metadata": {},
   "outputs": [],
   "source": [
    "tags = [maintag + '-' + subtag for subtag in subtags]"
   ]
  },
  {
   "cell_type": "code",
   "execution_count": 38,
   "metadata": {},
   "outputs": [],
   "source": [
    "masterfile = 'master_run3-x.sh'"
   ]
  },
  {
   "cell_type": "code",
   "execution_count": 39,
   "metadata": {},
   "outputs": [
    {
     "name": "stdout",
     "output_type": "stream",
     "text": [
      "/project2/mstephens/causalTWAS/simulations/simulation_ashtest_20200721\n"
     ]
    }
   ],
   "source": [
    "cd {wkdir}"
   ]
  },
  {
   "cell_type": "code",
   "execution_count": 40,
   "metadata": {},
   "outputs": [],
   "source": [
    "with open(masterfile, 'w') as outf:\n",
    "    for tag in tags:\n",
    "        outf.write(';'.join([\n",
    "              'source activate twas', \n",
    "              g2dir,\n",
    "              simu,\n",
    "              #mrash2,\n",
    "              #exprgwas,\n",
    "              #snpgwas,\n",
    "              #ld\n",
    "        ]).format(\n",
    "              simu_expr = simu_expr,\n",
    "              simu_pheno = simu_pheno,\n",
    "              wkdir = wkdir,\n",
    "              codedir = codedir,\n",
    "              geno = geno,\n",
    "              weight = weight,\n",
    "              tag = tag\n",
    "        ).format(\n",
    "              wkdir = wkdir,\n",
    "              tag = tag\n",
    "        ) + '\\n')"
   ]
  },
  {
   "cell_type": "code",
   "execution_count": 41,
   "metadata": {},
   "outputs": [
    {
     "name": "stdout",
     "output_type": "stream",
     "text": [
      "planning to run 91 jobs ...\n",
      "Type: sbatch submit_parallel_master_run3-x.sh.sh\n"
     ]
    }
   ],
   "source": [
    "!python /home/simingz/cancer_somatic/cancer_somatic/annotation/pMake_batchjobs_RCC.py {masterfile} --mem 16 --ntasks 6 --partition broadwl"
   ]
  },
  {
   "cell_type": "markdown",
   "metadata": {},
   "source": [
    "## Part 2: susie"
   ]
  },
  {
   "cell_type": "markdown",
   "metadata": {},
   "source": [
    "* set up "
   ]
  },
  {
   "cell_type": "code",
   "execution_count": 87,
   "metadata": {},
   "outputs": [],
   "source": [
    "susiedir = \"/project2/mstephens/causalTWAS/simulations/simulation_susietest_20200721\""
   ]
  },
  {
   "cell_type": "code",
   "execution_count": 88,
   "metadata": {},
   "outputs": [],
   "source": [
    "mrashdir = wkdir\n",
    "mrashres = \"{mrashdir}/{tag}-mr.ash2s.{tag2}\"\n",
    "prior = \"{mrashdir}/{tag}-mr.ash2s.{tag2}.param.txt\""
   ]
  },
  {
   "cell_type": "markdown",
   "metadata": {},
   "source": [
    "* commands"
   ]
  },
  {
   "cell_type": "code",
   "execution_count": 89,
   "metadata": {},
   "outputs": [],
   "source": [
    "g2susiedir = \"cd {susiedir}\"\n",
    "susie = \"Rscript {codedir}/run_test_susie.R {geno} {simu_expr} {simu_pheno} {prior} {mrashres} {tag}.{tag2} 3\""
   ]
  },
  {
   "cell_type": "markdown",
   "metadata": {},
   "source": [
    "* write commands"
   ]
  },
  {
   "cell_type": "code",
   "execution_count": 90,
   "metadata": {},
   "outputs": [
    {
     "name": "stdout",
     "output_type": "stream",
     "text": [
      "/project2/mstephens/causalTWAS/simulations/simulation_susietest_20200721\n"
     ]
    }
   ],
   "source": [
    "cd {susiedir}"
   ]
  },
  {
   "cell_type": "code",
   "execution_count": 91,
   "metadata": {},
   "outputs": [],
   "source": [
    "susietags = [maintag + '-' + str(subtag) for subtag in range(1,51)]\n",
    "tag2s = ['zerose-es', 'lassoes-se', 'zeroes-es', 'lassoes-es']"
   ]
  },
  {
   "cell_type": "code",
   "execution_count": 92,
   "metadata": {},
   "outputs": [],
   "source": [
    "susiemasterfile = 'susie_run1-x.sh'"
   ]
  },
  {
   "cell_type": "code",
   "execution_count": 93,
   "metadata": {},
   "outputs": [],
   "source": [
    "with open(susiemasterfile, 'w') as outf:\n",
    "    for tag in susietags:\n",
    "        for tag2 in tag2s:\n",
    "            outf.write(';'.join([\n",
    "                'source activate twas', \n",
    "                g2susiedir,\n",
    "                susie\n",
    "            ]).format(\n",
    "                susiedir = susiedir,\n",
    "                codedir = codedir,\n",
    "                geno = geno,\n",
    "                simu_expr = simu_expr,\n",
    "                simu_pheno = simu_pheno,\n",
    "                prior = prior,\n",
    "                mrashres = mrashres,\n",
    "                tag = tag, \n",
    "                tag2 = tag2,\n",
    "            ).format(\n",
    "                wkdir = wkdir,\n",
    "                mrashdir = mrashdir,\n",
    "                tag = tag, \n",
    "                tag2 = tag2,\n",
    "            ) + '\\n')"
   ]
  },
  {
   "cell_type": "code",
   "execution_count": 94,
   "metadata": {},
   "outputs": [
    {
     "name": "stdout",
     "output_type": "stream",
     "text": [
      "planning to run 200 jobs ...\n",
      "Type: sbatch submit_parallel_susie_run1-x.sh.sh\n"
     ]
    }
   ],
   "source": [
    "!python /home/simingz/cancer_somatic/cancer_somatic/annotation/pMake_batchjobs_RCC.py {susiemasterfile} --mem 28 --ntasks 1 --partition broadwl"
   ]
  },
  {
   "cell_type": "markdown",
   "metadata": {},
   "source": [
    "## Part3: susie, fix prior"
   ]
  },
  {
   "cell_type": "code",
   "execution_count": 103,
   "metadata": {},
   "outputs": [],
   "source": [
    "susiedir = \"/project2/mstephens/causalTWAS/simulations/simulation_susietest_20200721/20200721-1-fixprior_rpip0.5\""
   ]
  },
  {
   "cell_type": "code",
   "execution_count": 104,
   "metadata": {},
   "outputs": [],
   "source": [
    "mrashdir = wkdir\n",
    "mrashres = \"{mrashdir}/{tag}-mr.ash2s.lassoes-es\"\n",
    "prior = \"{susiedir}/20200721-1-fixedprior_{partag}.txt\"\n",
    "susiemaintag = \"20200721-1\""
   ]
  },
  {
   "cell_type": "markdown",
   "metadata": {},
   "source": [
    "* commands"
   ]
  },
  {
   "cell_type": "code",
   "execution_count": 105,
   "metadata": {},
   "outputs": [],
   "source": [
    "g2susiedir = \"cd {susiedir}\"\n",
    "susie = \"Rscript {codedir}/run_test_susie_temp.R {geno} {simu_expr} {simu_pheno} {prior} {mrashres} {tag}.fixedprior{partag} 1\""
   ]
  },
  {
   "cell_type": "markdown",
   "metadata": {},
   "source": [
    "* write commands"
   ]
  },
  {
   "cell_type": "code",
   "execution_count": 106,
   "metadata": {},
   "outputs": [
    {
     "name": "stdout",
     "output_type": "stream",
     "text": [
      "/project2/mstephens/causalTWAS/simulations/simulation_susietest_20200721/20200721-1-fixprior_rpip0.5\n"
     ]
    }
   ],
   "source": [
    "cd {susiedir}"
   ]
  },
  {
   "cell_type": "code",
   "execution_count": 107,
   "metadata": {},
   "outputs": [],
   "source": [
    "susietags = [susiemaintag + '-' + str(subtag) for subtag in range(1,51)]\n",
    "partags = ['1', '2', '3']"
   ]
  },
  {
   "cell_type": "code",
   "execution_count": 108,
   "metadata": {},
   "outputs": [],
   "source": [
    "susiemasterfile = 'susie_run1-x-fixedp.sh'"
   ]
  },
  {
   "cell_type": "code",
   "execution_count": 109,
   "metadata": {},
   "outputs": [],
   "source": [
    "with open(susiemasterfile, 'w') as outf:\n",
    "    for tag in susietags:\n",
    "        for partag in partags:\n",
    "            outf.write(';'.join([\n",
    "                'source activate twas', \n",
    "                g2susiedir,\n",
    "                susie\n",
    "            ]).format(\n",
    "                susiedir = susiedir,\n",
    "                codedir = codedir,\n",
    "                geno = geno,\n",
    "                simu_expr = simu_expr,\n",
    "                simu_pheno = simu_pheno,\n",
    "                prior = prior,\n",
    "                mrashdir = mrashdir,\n",
    "                mrashres = mrashres,\n",
    "                tag = tag,\n",
    "                partag = partag\n",
    "            ).format(\n",
    "                mrashdir = mrashdir,\n",
    "                wkdir = wkdir,\n",
    "                susiedir = susiedir,\n",
    "                tag = tag,\n",
    "                partag = partag\n",
    "            ) + '\\n')"
   ]
  },
  {
   "cell_type": "code",
   "execution_count": 112,
   "metadata": {},
   "outputs": [
    {
     "name": "stdout",
     "output_type": "stream",
     "text": [
      "planning to run 150 jobs ...\n",
      "Type: sbatch submit_parallel_susie_run1-x-fixedp.sh.sh\n"
     ]
    }
   ],
   "source": [
    "!python /home/simingz/cancer_somatic/cancer_somatic/annotation/pMake_batchjobs_RCC.py {susiemasterfile} --mem 28 --ntasks 1 --partition broadwl"
   ]
  },
  {
   "cell_type": "code",
   "execution_count": null,
   "metadata": {},
   "outputs": [],
   "source": []
  },
  {
   "cell_type": "code",
   "execution_count": null,
   "metadata": {},
   "outputs": [],
   "source": []
  }
 ],
 "metadata": {
  "kernelspec": {
   "display_name": "Python [default]",
   "language": "python",
   "name": "python3"
  },
  "language_info": {
   "codemirror_mode": {
    "name": "ipython",
    "version": 3
   },
   "file_extension": ".py",
   "mimetype": "text/x-python",
   "name": "python",
   "nbconvert_exporter": "python",
   "pygments_lexer": "ipython3",
   "version": "3.5.2"
  }
 },
 "nbformat": 4,
 "nbformat_minor": 2
}
