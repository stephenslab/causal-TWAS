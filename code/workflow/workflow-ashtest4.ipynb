{
 "cells": [
  {
   "cell_type": "markdown",
   "metadata": {},
   "source": [
    "# Chr17-22, GTEx Adipose (subcutaneous) fusion weights"
   ]
  },
  {
   "cell_type": "markdown",
   "metadata": {},
   "source": [
    "## Part1: simulation and mr.ash"
   ]
  },
  {
   "cell_type": "markdown",
   "metadata": {},
   "source": [
    "* set up"
   ]
  },
  {
   "cell_type": "code",
   "execution_count": 1,
   "metadata": {},
   "outputs": [],
   "source": [
    "wkdir = \"/project2/mstephens/causalTWAS/simulations/simulation_ashtest_20200721/\""
   ]
  },
  {
   "cell_type": "code",
   "execution_count": 10,
   "metadata": {},
   "outputs": [],
   "source": [
    "codedir = \"/project2/mstephens/causalTWAS/causal-TWAS/code/\""
   ]
  },
  {
   "cell_type": "code",
   "execution_count": 11,
   "metadata": {},
   "outputs": [],
   "source": [
    "geno = \"/project2/mstephens/causalTWAS/ukbiobank/ukb_chr17to22_s20000\""
   ]
  },
  {
   "cell_type": "code",
   "execution_count": 12,
   "metadata": {},
   "outputs": [],
   "source": [
    "weight = \"/project2/mstephens/causalTWAS/fusion_weights/Adipose_Subcutaneous\""
   ]
  },
  {
   "cell_type": "code",
   "execution_count": 77,
   "metadata": {},
   "outputs": [],
   "source": [
    "maintag = '20200721-4'"
   ]
  },
  {
   "cell_type": "code",
   "execution_count": 78,
   "metadata": {},
   "outputs": [],
   "source": [
    "subtags =  [str(i) for i in range(1,6)]"
   ]
  },
  {
   "cell_type": "markdown",
   "metadata": {},
   "source": [
    "* prepare param "
   ]
  },
  {
   "cell_type": "code",
   "execution_count": 79,
   "metadata": {},
   "outputs": [
    {
     "name": "stdout",
     "output_type": "stream",
     "text": [
      "/project2/mstephens/causalTWAS/simulations/simulation_ashtest_20200721\n"
     ]
    }
   ],
   "source": [
    "cd {wkdir}"
   ]
  },
  {
   "cell_type": "code",
   "execution_count": 80,
   "metadata": {},
   "outputs": [],
   "source": [
    "template = \"{wkdir}/param-{maintag}.R\".format(wkdir = wkdir, maintag = maintag)"
   ]
  },
  {
   "cell_type": "code",
   "execution_count": 81,
   "metadata": {},
   "outputs": [],
   "source": [
    "a = open(template, 'r').readlines()"
   ]
  },
  {
   "cell_type": "code",
   "execution_count": 82,
   "metadata": {},
   "outputs": [],
   "source": [
    "for subtag in subtags:\n",
    "    with open(\"param-{maintag}-{subtag}.R\".format(maintag = maintag, subtag = subtag), 'w') as newpar:\n",
    "        a[5] = 'SED <- {sed}\\n'.format(sed = str(950 + int(subtag)))\n",
    "        newpar.writelines(a)"
   ]
  },
  {
   "cell_type": "markdown",
   "metadata": {},
   "source": [
    "* commands"
   ]
  },
  {
   "cell_type": "code",
   "execution_count": 83,
   "metadata": {},
   "outputs": [],
   "source": [
    "g2dir = \"cd {wkdir}\""
   ]
  },
  {
   "cell_type": "code",
   "execution_count": 14,
   "metadata": {},
   "outputs": [],
   "source": [
    "simu = \"Rscript {codedir}/run_simulate_data.R {geno} {weight} param-{tag}.R simu_{tag}\""
   ]
  },
  {
   "cell_type": "code",
   "execution_count": 15,
   "metadata": {},
   "outputs": [],
   "source": [
    "simu_expr = \"{wkdir}/simu_{tag}-cis-expr.Rd\""
   ]
  },
  {
   "cell_type": "code",
   "execution_count": 16,
   "metadata": {},
   "outputs": [],
   "source": [
    "simu_pheno = \"{wkdir}/simu_{tag}-pheno.Rd\""
   ]
  },
  {
   "cell_type": "code",
   "execution_count": 87,
   "metadata": {},
   "outputs": [],
   "source": [
    "mrash = \"Rscript {codedir}/run_test_mr.ash_gene.R {simu_expr} {simu_pheno} {tag}\""
   ]
  },
  {
   "cell_type": "code",
   "execution_count": 88,
   "metadata": {},
   "outputs": [],
   "source": [
    "mrash2 = \"Rscript {codedir}/run_test_mr.ash2s.R {geno} {simu_expr} {simu_pheno} {tag}\""
   ]
  },
  {
   "cell_type": "code",
   "execution_count": 89,
   "metadata": {},
   "outputs": [],
   "source": [
    "exprgwas = \"Rscript {codedir}/run_gwas_expr.R {simu_expr} {simu_pheno} {tag}\""
   ]
  },
  {
   "cell_type": "code",
   "execution_count": 90,
   "metadata": {},
   "outputs": [],
   "source": [
    "snpgwas = \"Rscript {codedir}/run_gwas_snp.R {geno} {simu_pheno} {tag}\""
   ]
  },
  {
   "cell_type": "code",
   "execution_count": 91,
   "metadata": {},
   "outputs": [],
   "source": [
    "ld = \"Rscript {codedir}/run_ld.R {geno} {simu_expr} {simu_pheno} {tag}\""
   ]
  },
  {
   "cell_type": "markdown",
   "metadata": {},
   "source": [
    "* write master file"
   ]
  },
  {
   "cell_type": "code",
   "execution_count": 92,
   "metadata": {},
   "outputs": [],
   "source": [
    "tags = [maintag + '-' + subtag for subtag in subtags]"
   ]
  },
  {
   "cell_type": "code",
   "execution_count": 93,
   "metadata": {},
   "outputs": [],
   "source": [
    "masterfile = 'master_rungwas4.sh'"
   ]
  },
  {
   "cell_type": "code",
   "execution_count": 94,
   "metadata": {},
   "outputs": [
    {
     "name": "stdout",
     "output_type": "stream",
     "text": [
      "/project2/mstephens/causalTWAS/simulations/simulation_ashtest_20200721\n"
     ]
    }
   ],
   "source": [
    "cd {wkdir}"
   ]
  },
  {
   "cell_type": "code",
   "execution_count": 95,
   "metadata": {},
   "outputs": [],
   "source": [
    "with open(masterfile, 'w') as outf:\n",
    "    for tag in tags:\n",
    "        outf.write(';'.join([\n",
    "              'source activate twas', \n",
    "              g2dir,\n",
    "              #simu,\n",
    "              mrash,\n",
    "              #mrash2,\n",
    "              exprgwas,\n",
    "              snpgwas,\n",
    "              #ld\n",
    "        ]).format(\n",
    "              simu_expr = simu_expr,\n",
    "              simu_pheno = simu_pheno,\n",
    "              wkdir = wkdir,\n",
    "              codedir = codedir,\n",
    "              geno = geno,\n",
    "              weight = weight,\n",
    "              tag = tag\n",
    "        ).format(\n",
    "              wkdir = wkdir,\n",
    "              tag = tag\n",
    "        ) + '\\n')"
   ]
  },
  {
   "cell_type": "code",
   "execution_count": 96,
   "metadata": {},
   "outputs": [
    {
     "name": "stdout",
     "output_type": "stream",
     "text": [
      "planning to run 5 jobs ...\n",
      "Type: sbatch submit_parallel_master_rungwas4.sh.sh\n"
     ]
    }
   ],
   "source": [
    "!python /home/simingz/cancer_somatic/cancer_somatic/annotation/pMake_batchjobs_RCC.py {masterfile} --mem 32 --ntasks 6 --partition broadwl"
   ]
  },
  {
   "cell_type": "markdown",
   "metadata": {},
   "source": [
    "## Part 2: susie"
   ]
  },
  {
   "cell_type": "markdown",
   "metadata": {},
   "source": [
    "* set up "
   ]
  },
  {
   "cell_type": "code",
   "execution_count": null,
   "metadata": {},
   "outputs": [],
   "source": [
    "susiedir = \"/project2/mstephens/causalTWAS/simulations/simulation_susietest_20200721\""
   ]
  },
  {
   "cell_type": "code",
   "execution_count": null,
   "metadata": {},
   "outputs": [],
   "source": [
    "mrashdir = wkdir\n",
    "mrashres = \"{mrashdir}/{tag}-mr.ash2s.{tag2}\"\n",
    "prior = \"{mrashdir}/{tag}-mr.ash2s.{tag2}.param.txt\""
   ]
  },
  {
   "cell_type": "markdown",
   "metadata": {},
   "source": [
    "* commands"
   ]
  },
  {
   "cell_type": "code",
   "execution_count": null,
   "metadata": {},
   "outputs": [],
   "source": [
    "g2susiedir = \"cd {susiedir}\"\n",
    "susie = \"Rscript {codedir}/run_test_susie.R {geno} {simu_expr} {simu_pheno} {prior} {mrashres} {tag}.{tag2} 3\""
   ]
  },
  {
   "cell_type": "markdown",
   "metadata": {},
   "source": [
    "* write commands"
   ]
  },
  {
   "cell_type": "code",
   "execution_count": null,
   "metadata": {},
   "outputs": [],
   "source": [
    "cd {susiedir}"
   ]
  },
  {
   "cell_type": "code",
   "execution_count": null,
   "metadata": {},
   "outputs": [],
   "source": [
    "susietags = [maintag + '-' + str(subtag) for subtag in range(1,51)]\n",
    "tag2s = ['zerose-es', 'lassoes-se', 'zeroes-es', 'lassoes-es']"
   ]
  },
  {
   "cell_type": "code",
   "execution_count": null,
   "metadata": {},
   "outputs": [],
   "source": [
    "susiemasterfile = 'susie_run1-x.sh'"
   ]
  },
  {
   "cell_type": "code",
   "execution_count": null,
   "metadata": {},
   "outputs": [],
   "source": [
    "with open(susiemasterfile, 'w') as outf:\n",
    "    for tag in susietags:\n",
    "        for tag2 in tag2s:\n",
    "            outf.write(';'.join([\n",
    "                'source activate twas', \n",
    "                g2susiedir,\n",
    "                susie\n",
    "            ]).format(\n",
    "                susiedir = susiedir,\n",
    "                codedir = codedir,\n",
    "                geno = geno,\n",
    "                simu_expr = simu_expr,\n",
    "                simu_pheno = simu_pheno,\n",
    "                prior = prior,\n",
    "                mrashres = mrashres,\n",
    "                tag = tag, \n",
    "                tag2 = tag2,\n",
    "            ).format(\n",
    "                wkdir = wkdir,\n",
    "                mrashdir = mrashdir,\n",
    "                tag = tag, \n",
    "                tag2 = tag2,\n",
    "            ) + '\\n')"
   ]
  },
  {
   "cell_type": "code",
   "execution_count": null,
   "metadata": {},
   "outputs": [],
   "source": [
    "!python /home/simingz/cancer_somatic/cancer_somatic/annotation/pMake_batchjobs_RCC.py {susiemasterfile} --mem 28 --ntasks 1 --partition broadwl"
   ]
  },
  {
   "cell_type": "markdown",
   "metadata": {},
   "source": [
    "## Part3: susie, fix prior"
   ]
  },
  {
   "cell_type": "code",
   "execution_count": 2,
   "metadata": {},
   "outputs": [],
   "source": [
    "susiedir = \"/project2/mstephens/causalTWAS/simulations/simulation_susietest_20200721/20200721-3-fixprior_rpip0.9\""
   ]
  },
  {
   "cell_type": "code",
   "execution_count": 3,
   "metadata": {},
   "outputs": [],
   "source": [
    "mrashdir = wkdir\n",
    "mrashres = \"{mrashdir}/{tag}-mr.ash2s.lassoes-es\"\n",
    "# mrashres = \"/home/simingz/causalTWAS/simulations/shared_files/20200721-1-1-mr.ash2s.lassoes-es\"\n",
    "prior = \"{susiedir}/20200721-3-fixedprior_{partag}.txt\"\n",
    "susiemaintag = \"20200721-3\""
   ]
  },
  {
   "cell_type": "markdown",
   "metadata": {},
   "source": [
    "* commands"
   ]
  },
  {
   "cell_type": "code",
   "execution_count": 4,
   "metadata": {},
   "outputs": [],
   "source": [
    "g2susiedir = \"cd {susiedir}\"\n",
    "susie = \"Rscript {codedir}/run_test_susie.R {geno} {simu_expr} {simu_pheno} {prior} {mrashres} {tag}.fixedprior{partag} run_config.R\""
   ]
  },
  {
   "cell_type": "markdown",
   "metadata": {},
   "source": [
    "* write commands"
   ]
  },
  {
   "cell_type": "code",
   "execution_count": 5,
   "metadata": {},
   "outputs": [
    {
     "name": "stdout",
     "output_type": "stream",
     "text": [
      "/project2/mstephens/causalTWAS/simulations/simulation_susietest_20200721/20200721-3-fixprior_rpip0.9\n"
     ]
    }
   ],
   "source": [
    "cd {susiedir}"
   ]
  },
  {
   "cell_type": "code",
   "execution_count": 19,
   "metadata": {},
   "outputs": [],
   "source": [
    "susietags = [susiemaintag + '-' + str(subtag) for subtag in range(1,51)]\n",
    "partags = ['1', '2' , '3']"
   ]
  },
  {
   "cell_type": "code",
   "execution_count": 8,
   "metadata": {},
   "outputs": [],
   "source": [
    "susiemasterfile = 'susie_run3-x-fixedp.sh'"
   ]
  },
  {
   "cell_type": "code",
   "execution_count": 17,
   "metadata": {},
   "outputs": [],
   "source": [
    "with open(susiemasterfile, 'w') as outf:\n",
    "    for tag in susietags:\n",
    "        for partag in partags:\n",
    "            outf.write(';'.join([\n",
    "                'source activate twas', \n",
    "                g2susiedir,\n",
    "                susie\n",
    "            ]).format(\n",
    "                susiedir = susiedir,\n",
    "                codedir = codedir,\n",
    "                geno = geno,\n",
    "                simu_expr = simu_expr,\n",
    "                simu_pheno = simu_pheno,\n",
    "                prior = prior,\n",
    "                mrashdir = mrashdir,\n",
    "                mrashres = mrashres,\n",
    "                tag = tag,\n",
    "                partag = partag\n",
    "            ).format(\n",
    "                mrashdir = mrashdir,\n",
    "                wkdir = wkdir,\n",
    "                susiedir = susiedir,\n",
    "                tag = tag,\n",
    "                partag = partag\n",
    "            ) + '\\n')"
   ]
  },
  {
   "cell_type": "code",
   "execution_count": 18,
   "metadata": {},
   "outputs": [
    {
     "name": "stdout",
     "output_type": "stream",
     "text": [
      "planning to run 150 jobs ...\n",
      "Type: sbatch submit_parallel_susie_run3-x-fixedp.sh.sh\n"
     ]
    }
   ],
   "source": [
    "!python /home/simingz/cancer_somatic/cancer_somatic/annotation/pMake_batchjobs_RCC.py {susiemasterfile} --mem 28 --ntasks 1 --partition broadwl"
   ]
  },
  {
   "cell_type": "code",
   "execution_count": 20,
   "metadata": {},
   "outputs": [
    {
     "data": {
      "text/plain": [
       "source activate twas;cd /project2/mstephens/causalTWAS/simulations/simulation_susietest_20200721/20200721-3-fixprior_rpip0.9;Rscript /project2/mstephens/causalTWAS/causal-TWAS/code//run_test_susie.R /project2/mstephens/causalTWAS/ukbiobank/ukb_chr17to22_s20000 /project2/mstephens/causalTWAS/simulations/simulation_ashtest_20200721//simu_20200721-3-1-cis-expr.Rd /project2/mstephens/causalTWAS/simulations/simulation_ashtest_20200721//simu_20200721-3-1-pheno.Rd /project2/mstephens/causalTWAS/simulations/simulation_susietest_20200721/20200721-3-fixprior_rpip0.9/20200721-3-fixedprior_1.txt /project2/mstephens/causalTWAS/simulations/simulation_ashtest_20200721//20200721-3-1-mr.ash2s.lassoes-es 20200721-3-1.fixedprior1 run_config.R\n",
       "source activate twas;cd /project2/mstephens/causalTWAS/simulations/simulation_susietest_20200721/20200721-3-fixprior_rpip0.9;Rscript /project2/mstephens/causalTWAS/causal-TWAS/code//run_test_susie.R /project2/mstephens/causalTWAS/ukbiobank/ukb_chr17to22_s20000 /project2/mstephens/causalTWAS/simulations/simulation_ashtest_20200721//simu_20200721-3-1-cis-expr.Rd /project2/mstephens/causalTWAS/simulations/simulation_ashtest_20200721//simu_20200721-3-1-pheno.Rd /project2/mstephens/causalTWAS/simulations/simulation_susietest_20200721/20200721-3-fixprior_rpip0.9/20200721-3-fixedprior_2.txt /project2/mstephens/causalTWAS/simulations/simulation_ashtest_20200721//20200721-3-1-mr.ash2s.lassoes-es 20200721-3-1.fixedprior2 run_config.R\n",
       "source activate twas;cd /project2/mstephens/causalTWAS/simulations/simulation_susietest_20200721/20200721-3-fixprior_rpip0.9;Rscript /project2/mstephens/causalTWAS/causal-TWAS/code//run_test_susie.R /project2/mstephens/causalTWAS/ukbiobank/ukb_chr17to22_s20000 /project2/mstephens/causalTWAS/simulations/simulation_ashtest_20200721//simu_20200721-3-1-cis-expr.Rd /project2/mstephens/causalTWAS/simulations/simulation_ashtest_20200721//simu_20200721-3-1-pheno.Rd /project2/mstephens/causalTWAS/simulations/simulation_susietest_20200721/20200721-3-fixprior_rpip0.9/20200721-3-fixedprior_3.txt /project2/mstephens/causalTWAS/simulations/simulation_ashtest_20200721//20200721-3-1-mr.ash2s.lassoes-es 20200721-3-1.fixedprior3 run_config.R\n",
       "source activate twas;cd /project2/mstephens/causalTWAS/simulations/simulation_susietest_20200721/20200721-3-fixprior_rpip0.9;Rscript /project2/mstephens/causalTWAS/causal-TWAS/code//run_test_susie.R /project2/mstephens/causalTWAS/ukbiobank/ukb_chr17to22_s20000 /project2/mstephens/causalTWAS/simulations/simulation_ashtest_20200721//simu_20200721-3-2-cis-expr.Rd /project2/mstephens/causalTWAS/simulations/simulation_ashtest_20200721//simu_20200721-3-2-pheno.Rd /project2/mstephens/causalTWAS/simulations/simulation_susietest_20200721/20200721-3-fixprior_rpip0.9/20200721-3-fixedprior_1.txt /project2/mstephens/causalTWAS/simulations/simulation_ashtest_20200721//20200721-3-2-mr.ash2s.lassoes-es 20200721-3-2.fixedprior1 run_config.R\n",
       "source activate twas;cd /project2/mstephens/causalTWAS/simulations/simulation_susietest_20200721/20200721-3-fixprior_rpip0.9;Rscript /project2/mstephens/causalTWAS/causal-TWAS/code//run_test_susie.R /project2/mstephens/causalTWAS/ukbiobank/ukb_chr17to22_s20000 /project2/mstephens/causalTWAS/simulations/simulation_ashtest_20200721//simu_20200721-3-2-cis-expr.Rd /project2/mstephens/causalTWAS/simulations/simulation_ashtest_20200721//simu_20200721-3-2-pheno.Rd /project2/mstephens/causalTWAS/simulations/simulation_susietest_20200721/20200721-3-fixprior_rpip0.9/20200721-3-fixedprior_2.txt /project2/mstephens/causalTWAS/simulations/simulation_ashtest_20200721//20200721-3-2-mr.ash2s.lassoes-es 20200721-3-2.fixedprior2 run_config.R\n",
       "source activate twas;cd /project2/mstephens/causalTWAS/simulations/simulation_susietest_20200721/20200721-3-fixprior_rpip0.9;Rscript /project2/mstephens/causalTWAS/causal-TWAS/code//run_test_susie.R /project2/mstephens/causalTWAS/ukbiobank/ukb_chr17to22_s20000 /project2/mstephens/causalTWAS/simulations/simulation_ashtest_20200721//simu_20200721-3-2-cis-expr.Rd /project2/mstephens/causalTWAS/simulations/simulation_ashtest_20200721//simu_20200721-3-2-pheno.Rd /project2/mstephens/causalTWAS/simulations/simulation_susietest_20200721/20200721-3-fixprior_rpip0.9/20200721-3-fixedprior_3.txt /project2/mstephens/causalTWAS/simulations/simulation_ashtest_20200721//20200721-3-2-mr.ash2s.lassoes-es 20200721-3-2.fixedprior3 run_config.R\n",
       "source activate twas;cd /project2/mstephens/causalTWAS/simulations/simulation_susietest_20200721/20200721-3-fixprior_rpip0.9;Rscript /project2/mstephens/causalTWAS/causal-TWAS/code//run_test_susie.R /project2/mstephens/causalTWAS/ukbiobank/ukb_chr17to22_s20000 /project2/mstephens/causalTWAS/simulations/simulation_ashtest_20200721//simu_20200721-3-3-cis-expr.Rd /project2/mstephens/causalTWAS/simulations/simulation_ashtest_20200721//simu_20200721-3-3-pheno.Rd /project2/mstephens/causalTWAS/simulations/simulation_susietest_20200721/20200721-3-fixprior_rpip0.9/20200721-3-fixedprior_1.txt /project2/mstephens/causalTWAS/simulations/simulation_ashtest_20200721//20200721-3-3-mr.ash2s.lassoes-es 20200721-3-3.fixedprior1 run_config.R\n",
       "source activate twas;cd /project2/mstephens/causalTWAS/simulations/simulation_susietest_20200721/20200721-3-fixprior_rpip0.9;Rscript /project2/mstephens/causalTWAS/causal-TWAS/code//run_test_susie.R /project2/mstephens/causalTWAS/ukbiobank/ukb_chr17to22_s20000 /project2/mstephens/causalTWAS/simulations/simulation_ashtest_20200721//simu_20200721-3-3-cis-expr.Rd /project2/mstephens/causalTWAS/simulations/simulation_ashtest_20200721//simu_20200721-3-3-pheno.Rd /project2/mstephens/causalTWAS/simulations/simulation_susietest_20200721/20200721-3-fixprior_rpip0.9/20200721-3-fixedprior_2.txt /project2/mstephens/causalTWAS/simulations/simulation_ashtest_20200721//20200721-3-3-mr.ash2s.lassoes-es 20200721-3-3.fixedprior2 run_config.R\n",
       "source activate twas;cd /project2/mstephens/causalTWAS/simulations/simulation_susietest_20200721/20200721-3-fixprior_rpip0.9;Rscript /project2/mstephens/causalTWAS/causal-TWAS/code//run_test_susie.R /project2/mstephens/causalTWAS/ukbiobank/ukb_chr17to22_s20000 /project2/mstephens/causalTWAS/simulations/simulation_ashtest_20200721//simu_20200721-3-3-cis-expr.Rd /project2/mstephens/causalTWAS/simulations/simulation_ashtest_20200721//simu_20200721-3-3-pheno.Rd /project2/mstephens/causalTWAS/simulations/simulation_susietest_20200721/20200721-3-fixprior_rpip0.9/20200721-3-fixedprior_3.txt /project2/mstephens/causalTWAS/simulations/simulation_ashtest_20200721//20200721-3-3-mr.ash2s.lassoes-es 20200721-3-3.fixedprior3 run_config.R\n",
       "source activate twas;cd /project2/mstephens/causalTWAS/simulations/simulation_susietest_20200721/20200721-3-fixprior_rpip0.9;Rscript /project2/mstephens/causalTWAS/causal-TWAS/code//run_test_susie.R /project2/mstephens/causalTWAS/ukbiobank/ukb_chr17to22_s20000 /project2/mstephens/causalTWAS/simulations/simulation_ashtest_20200721//simu_20200721-3-4-cis-expr.Rd /project2/mstephens/causalTWAS/simulations/simulation_ashtest_20200721//simu_20200721-3-4-pheno.Rd /project2/mstephens/causalTWAS/simulations/simulation_susietest_20200721/20200721-3-fixprior_rpip0.9/20200721-3-fixedprior_1.txt /project2/mstephens/causalTWAS/simulations/simulation_ashtest_20200721//20200721-3-4-mr.ash2s.lassoes-es 20200721-3-4.fixedprior1 run_config.R\n",
       "source activate twas;cd /project2/mstephens/causalTWAS/simulations/simulation_susietest_20200721/20200721-3-fixprior_rpip0.9;Rscript /project2/mstephens/causalTWAS/causal-TWAS/code//run_test_susie.R /project2/mstephens/causalTWAS/ukbiobank/ukb_chr17to22_s20000 /project2/mstephens/causalTWAS/simulations/simulation_ashtest_20200721//simu_20200721-3-4-cis-expr.Rd /project2/mstephens/causalTWAS/simulations/simulation_ashtest_20200721//simu_20200721-3-4-pheno.Rd /project2/mstephens/causalTWAS/simulations/simulation_susietest_20200721/20200721-3-fixprior_rpip0.9/20200721-3-fixedprior_2.txt /project2/mstephens/causalTWAS/simulations/simulation_ashtest_20200721//20200721-3-4-mr.ash2s.lassoes-es 20200721-3-4.fixedprior2 run_config.R\n",
       "source activate twas;cd /project2/mstephens/causalTWAS/simulations/simulation_susietest_20200721/20200721-3-fixprior_rpip0.9;Rscript /project2/mstephens/causalTWAS/causal-TWAS/code//run_test_susie.R /project2/mstephens/causalTWAS/ukbiobank/ukb_chr17to22_s20000 /project2/mstephens/causalTWAS/simulations/simulation_ashtest_20200721//simu_20200721-3-4-cis-expr.Rd /project2/mstephens/causalTWAS/simulations/simulation_ashtest_20200721//simu_20200721-3-4-pheno.Rd /project2/mstephens/causalTWAS/simulations/simulation_susietest_20200721/20200721-3-fixprior_rpip0.9/20200721-3-fixedprior_3.txt /project2/mstephens/causalTWAS/simulations/simulation_ashtest_20200721//20200721-3-4-mr.ash2s.lassoes-es 20200721-3-4.fixedprior3 run_config.R\n",
       "source activate twas;cd /project2/mstephens/causalTWAS/simulations/simulation_susietest_20200721/20200721-3-fixprior_rpip0.9;Rscript /project2/mstephens/causalTWAS/causal-TWAS/code//run_test_susie.R /project2/mstephens/causalTWAS/ukbiobank/ukb_chr17to22_s20000 /project2/mstephens/causalTWAS/simulations/simulation_ashtest_20200721//simu_20200721-3-5-cis-expr.Rd /project2/mstephens/causalTWAS/simulations/simulation_ashtest_20200721//simu_20200721-3-5-pheno.Rd /project2/mstephens/causalTWAS/simulations/simulation_susietest_20200721/20200721-3-fixprior_rpip0.9/20200721-3-fixedprior_1.txt /project2/mstephens/causalTWAS/simulations/simulation_ashtest_20200721//20200721-3-5-mr.ash2s.lassoes-es 20200721-3-5.fixedprior1 run_config.R\n",
       "source activate twas;cd /project2/mstephens/causalTWAS/simulations/simulation_susietest_20200721/20200721-3-fixprior_rpip0.9;Rscript /project2/mstephens/causalTWAS/causal-TWAS/code//run_test_susie.R /project2/mstephens/causalTWAS/ukbiobank/ukb_chr17to22_s20000 /project2/mstephens/causalTWAS/simulations/simulation_ashtest_20200721//simu_20200721-3-5-cis-expr.Rd /project2/mstephens/causalTWAS/simulations/simulation_ashtest_20200721//simu_20200721-3-5-pheno.Rd /project2/mstephens/causalTWAS/simulations/simulation_susietest_20200721/20200721-3-fixprior_rpip0.9/20200721-3-fixedprior_2.txt /project2/mstephens/causalTWAS/simulations/simulation_ashtest_20200721//20200721-3-5-mr.ash2s.lassoes-es 20200721-3-5.fixedprior2 run_config.R\n",
       "source activate twas;cd /project2/mstephens/causalTWAS/simulations/simulation_susietest_20200721/20200721-3-fixprior_rpip0.9;Rscript /project2/mstephens/causalTWAS/causal-TWAS/code//run_test_susie.R /project2/mstephens/causalTWAS/ukbiobank/ukb_chr17to22_s20000 /project2/mstephens/causalTWAS/simulations/simulation_ashtest_20200721//simu_20200721-3-5-cis-expr.Rd /project2/mstephens/causalTWAS/simulations/simulation_ashtest_20200721//simu_20200721-3-5-pheno.Rd /project2/mstephens/causalTWAS/simulations/simulation_susietest_20200721/20200721-3-fixprior_rpip0.9/20200721-3-fixedprior_3.txt /project2/mstephens/causalTWAS/simulations/simulation_ashtest_20200721//20200721-3-5-mr.ash2s.lassoes-es 20200721-3-5.fixedprior3 run_config.R\n",
       "source activate twas;cd /project2/mstephens/causalTWAS/simulations/simulation_susietest_20200721/20200721-3-fixprior_rpip0.9;Rscript /project2/mstephens/causalTWAS/causal-TWAS/code//run_test_susie.R /project2/mstephens/causalTWAS/ukbiobank/ukb_chr17to22_s20000 /project2/mstephens/causalTWAS/simulations/simulation_ashtest_20200721//simu_20200721-3-6-cis-expr.Rd /project2/mstephens/causalTWAS/simulations/simulation_ashtest_20200721//simu_20200721-3-6-pheno.Rd /project2/mstephens/causalTWAS/simulations/simulation_susietest_20200721/20200721-3-fixprior_rpip0.9/20200721-3-fixedprior_1.txt /project2/mstephens/causalTWAS/simulations/simulation_ashtest_20200721//20200721-3-6-mr.ash2s.lassoes-es 20200721-3-6.fixedprior1 run_config.R\n",
       "source activate twas;cd /project2/mstephens/causalTWAS/simulations/simulation_susietest_20200721/20200721-3-fixprior_rpip0.9;Rscript /project2/mstephens/causalTWAS/causal-TWAS/code//run_test_susie.R /project2/mstephens/causalTWAS/ukbiobank/ukb_chr17to22_s20000 /project2/mstephens/causalTWAS/simulations/simulation_ashtest_20200721//simu_20200721-3-6-cis-expr.Rd /project2/mstephens/causalTWAS/simulations/simulation_ashtest_20200721//simu_20200721-3-6-pheno.Rd /project2/mstephens/causalTWAS/simulations/simulation_susietest_20200721/20200721-3-fixprior_rpip0.9/20200721-3-fixedprior_2.txt /project2/mstephens/causalTWAS/simulations/simulation_ashtest_20200721//20200721-3-6-mr.ash2s.lassoes-es 20200721-3-6.fixedprior2 run_config.R\n",
       "source activate twas;cd /project2/mstephens/causalTWAS/simulations/simulation_susietest_20200721/20200721-3-fixprior_rpip0.9;Rscript /project2/mstephens/causalTWAS/causal-TWAS/code//run_test_susie.R /project2/mstephens/causalTWAS/ukbiobank/ukb_chr17to22_s20000 /project2/mstephens/causalTWAS/simulations/simulation_ashtest_20200721//simu_20200721-3-6-cis-expr.Rd /project2/mstephens/causalTWAS/simulations/simulation_ashtest_20200721//simu_20200721-3-6-pheno.Rd /project2/mstephens/causalTWAS/simulations/simulation_susietest_20200721/20200721-3-fixprior_rpip0.9/20200721-3-fixedprior_3.txt /project2/mstephens/causalTWAS/simulations/simulation_ashtest_20200721//20200721-3-6-mr.ash2s.lassoes-es 20200721-3-6.fixedprior3 run_config.R\n",
       "source activate twas;cd /project2/mstephens/causalTWAS/simulations/simulation_susietest_20200721/20200721-3-fixprior_rpip0.9;Rscript /project2/mstephens/causalTWAS/causal-TWAS/code//run_test_susie.R /project2/mstephens/causalTWAS/ukbiobank/ukb_chr17to22_s20000 /project2/mstephens/causalTWAS/simulations/simulation_ashtest_20200721//simu_20200721-3-7-cis-expr.Rd /project2/mstephens/causalTWAS/simulations/simulation_ashtest_20200721//simu_20200721-3-7-pheno.Rd /project2/mstephens/causalTWAS/simulations/simulation_susietest_20200721/20200721-3-fixprior_rpip0.9/20200721-3-fixedprior_1.txt /project2/mstephens/causalTWAS/simulations/simulation_ashtest_20200721//20200721-3-7-mr.ash2s.lassoes-es 20200721-3-7.fixedprior1 run_config.R\n",
       "source activate twas;cd /project2/mstephens/causalTWAS/simulations/simulation_susietest_20200721/20200721-3-fixprior_rpip0.9;Rscript /project2/mstephens/causalTWAS/causal-TWAS/code//run_test_susie.R /project2/mstephens/causalTWAS/ukbiobank/ukb_chr17to22_s20000 /project2/mstephens/causalTWAS/simulations/simulation_ashtest_20200721//simu_20200721-3-7-cis-expr.Rd /project2/mstephens/causalTWAS/simulations/simulation_ashtest_20200721//simu_20200721-3-7-pheno.Rd /project2/mstephens/causalTWAS/simulations/simulation_susietest_20200721/20200721-3-fixprior_rpip0.9/20200721-3-fixedprior_2.txt /project2/mstephens/causalTWAS/simulations/simulation_ashtest_20200721//20200721-3-7-mr.ash2s.lassoes-es 20200721-3-7.fixedprior2 run_config.R\n",
       "source activate twas;cd /project2/mstephens/causalTWAS/simulations/simulation_susietest_20200721/20200721-3-fixprior_rpip0.9;Rscript /project2/mstephens/causalTWAS/causal-TWAS/code//run_test_susie.R /project2/mstephens/causalTWAS/ukbiobank/ukb_chr17to22_s20000 /project2/mstephens/causalTWAS/simulations/simulation_ashtest_20200721//simu_20200721-3-7-cis-expr.Rd /project2/mstephens/causalTWAS/simulations/simulation_ashtest_20200721//simu_20200721-3-7-pheno.Rd /project2/mstephens/causalTWAS/simulations/simulation_susietest_20200721/20200721-3-fixprior_rpip0.9/20200721-3-fixedprior_3.txt /project2/mstephens/causalTWAS/simulations/simulation_ashtest_20200721//20200721-3-7-mr.ash2s.lassoes-es 20200721-3-7.fixedprior3 run_config.R\n",
       "source activate twas;cd /project2/mstephens/causalTWAS/simulations/simulation_susietest_20200721/20200721-3-fixprior_rpip0.9;Rscript /project2/mstephens/causalTWAS/causal-TWAS/code//run_test_susie.R /project2/mstephens/causalTWAS/ukbiobank/ukb_chr17to22_s20000 /project2/mstephens/causalTWAS/simulations/simulation_ashtest_20200721//simu_20200721-3-8-cis-expr.Rd /project2/mstephens/causalTWAS/simulations/simulation_ashtest_20200721//simu_20200721-3-8-pheno.Rd /project2/mstephens/causalTWAS/simulations/simulation_susietest_20200721/20200721-3-fixprior_rpip0.9/20200721-3-fixedprior_1.txt /project2/mstephens/causalTWAS/simulations/simulation_ashtest_20200721//20200721-3-8-mr.ash2s.lassoes-es 20200721-3-8.fixedprior1 run_config.R\n",
       "source activate twas;cd /project2/mstephens/causalTWAS/simulations/simulation_susietest_20200721/20200721-3-fixprior_rpip0.9;Rscript /project2/mstephens/causalTWAS/causal-TWAS/code//run_test_susie.R /project2/mstephens/causalTWAS/ukbiobank/ukb_chr17to22_s20000 /project2/mstephens/causalTWAS/simulations/simulation_ashtest_20200721//simu_20200721-3-8-cis-expr.Rd /project2/mstephens/causalTWAS/simulations/simulation_ashtest_20200721//simu_20200721-3-8-pheno.Rd /project2/mstephens/causalTWAS/simulations/simulation_susietest_20200721/20200721-3-fixprior_rpip0.9/20200721-3-fixedprior_2.txt /project2/mstephens/causalTWAS/simulations/simulation_ashtest_20200721//20200721-3-8-mr.ash2s.lassoes-es 20200721-3-8.fixedprior2 run_config.R\n",
       "source activate twas;cd /project2/mstephens/causalTWAS/simulations/simulation_susietest_20200721/20200721-3-fixprior_rpip0.9;Rscript /project2/mstephens/causalTWAS/causal-TWAS/code//run_test_susie.R /project2/mstephens/causalTWAS/ukbiobank/ukb_chr17to22_s20000 /project2/mstephens/causalTWAS/simulations/simulation_ashtest_20200721//simu_20200721-3-8-cis-expr.Rd /project2/mstephens/causalTWAS/simulations/simulation_ashtest_20200721//simu_20200721-3-8-pheno.Rd /project2/mstephens/causalTWAS/simulations/simulation_susietest_20200721/20200721-3-fixprior_rpip0.9/20200721-3-fixedprior_3.txt /project2/mstephens/causalTWAS/simulations/simulation_ashtest_20200721//20200721-3-8-mr.ash2s.lassoes-es 20200721-3-8.fixedprior3 run_config.R\n",
       "source activate twas;cd /project2/mstephens/causalTWAS/simulations/simulation_susietest_20200721/20200721-3-fixprior_rpip0.9;Rscript /project2/mstephens/causalTWAS/causal-TWAS/code//run_test_susie.R /project2/mstephens/causalTWAS/ukbiobank/ukb_chr17to22_s20000 /project2/mstephens/causalTWAS/simulations/simulation_ashtest_20200721//simu_20200721-3-9-cis-expr.Rd /project2/mstephens/causalTWAS/simulations/simulation_ashtest_20200721//simu_20200721-3-9-pheno.Rd /project2/mstephens/causalTWAS/simulations/simulation_susietest_20200721/20200721-3-fixprior_rpip0.9/20200721-3-fixedprior_1.txt /project2/mstephens/causalTWAS/simulations/simulation_ashtest_20200721//20200721-3-9-mr.ash2s.lassoes-es 20200721-3-9.fixedprior1 run_config.R\n",
       "source activate twas;cd /project2/mstephens/causalTWAS/simulations/simulation_susietest_20200721/20200721-3-fixprior_rpip0.9;Rscript /project2/mstephens/causalTWAS/causal-TWAS/code//run_test_susie.R /project2/mstephens/causalTWAS/ukbiobank/ukb_chr17to22_s20000 /project2/mstephens/causalTWAS/simulations/simulation_ashtest_20200721//simu_20200721-3-9-cis-expr.Rd /project2/mstephens/causalTWAS/simulations/simulation_ashtest_20200721//simu_20200721-3-9-pheno.Rd /project2/mstephens/causalTWAS/simulations/simulation_susietest_20200721/20200721-3-fixprior_rpip0.9/20200721-3-fixedprior_2.txt /project2/mstephens/causalTWAS/simulations/simulation_ashtest_20200721//20200721-3-9-mr.ash2s.lassoes-es 20200721-3-9.fixedprior2 run_config.R\n",
       "source activate twas;cd /project2/mstephens/causalTWAS/simulations/simulation_susietest_20200721/20200721-3-fixprior_rpip0.9;Rscript /project2/mstephens/causalTWAS/causal-TWAS/code//run_test_susie.R /project2/mstephens/causalTWAS/ukbiobank/ukb_chr17to22_s20000 /project2/mstephens/causalTWAS/simulations/simulation_ashtest_20200721//simu_20200721-3-9-cis-expr.Rd /project2/mstephens/causalTWAS/simulations/simulation_ashtest_20200721//simu_20200721-3-9-pheno.Rd /project2/mstephens/causalTWAS/simulations/simulation_susietest_20200721/20200721-3-fixprior_rpip0.9/20200721-3-fixedprior_3.txt /project2/mstephens/causalTWAS/simulations/simulation_ashtest_20200721//20200721-3-9-mr.ash2s.lassoes-es 20200721-3-9.fixedprior3 run_config.R\n",
       "source activate twas;cd /project2/mstephens/causalTWAS/simulations/simulation_susietest_20200721/20200721-3-fixprior_rpip0.9;Rscript /project2/mstephens/causalTWAS/causal-TWAS/code//run_test_susie.R /project2/mstephens/causalTWAS/ukbiobank/ukb_chr17to22_s20000 /project2/mstephens/causalTWAS/simulations/simulation_ashtest_20200721//simu_20200721-3-10-cis-expr.Rd /project2/mstephens/causalTWAS/simulations/simulation_ashtest_20200721//simu_20200721-3-10-pheno.Rd /project2/mstephens/causalTWAS/simulations/simulation_susietest_20200721/20200721-3-fixprior_rpip0.9/20200721-3-fixedprior_1.txt /project2/mstephens/causalTWAS/simulations/simulation_ashtest_20200721//20200721-3-10-mr.ash2s.lassoes-es 20200721-3-10.fixedprior1 run_config.R\n",
       "source activate twas;cd /project2/mstephens/causalTWAS/simulations/simulation_susietest_20200721/20200721-3-fixprior_rpip0.9;Rscript /project2/mstephens/causalTWAS/causal-TWAS/code//run_test_susie.R /project2/mstephens/causalTWAS/ukbiobank/ukb_chr17to22_s20000 /project2/mstephens/causalTWAS/simulations/simulation_ashtest_20200721//simu_20200721-3-10-cis-expr.Rd /project2/mstephens/causalTWAS/simulations/simulation_ashtest_20200721//simu_20200721-3-10-pheno.Rd /project2/mstephens/causalTWAS/simulations/simulation_susietest_20200721/20200721-3-fixprior_rpip0.9/20200721-3-fixedprior_2.txt /project2/mstephens/causalTWAS/simulations/simulation_ashtest_20200721//20200721-3-10-mr.ash2s.lassoes-es 20200721-3-10.fixedprior2 run_config.R\n",
       "source activate twas;cd /project2/mstephens/causalTWAS/simulations/simulation_susietest_20200721/20200721-3-fixprior_rpip0.9;Rscript /project2/mstephens/causalTWAS/causal-TWAS/code//run_test_susie.R /project2/mstephens/causalTWAS/ukbiobank/ukb_chr17to22_s20000 /project2/mstephens/causalTWAS/simulations/simulation_ashtest_20200721//simu_20200721-3-10-cis-expr.Rd /project2/mstephens/causalTWAS/simulations/simulation_ashtest_20200721//simu_20200721-3-10-pheno.Rd /project2/mstephens/causalTWAS/simulations/simulation_susietest_20200721/20200721-3-fixprior_rpip0.9/20200721-3-fixedprior_3.txt /project2/mstephens/causalTWAS/simulations/simulation_ashtest_20200721//20200721-3-10-mr.ash2s.lassoes-es 20200721-3-10.fixedprior3 run_config.R\n",
       "source activate twas;cd /project2/mstephens/causalTWAS/simulations/simulation_susietest_20200721/20200721-3-fixprior_rpip0.9;Rscript /project2/mstephens/causalTWAS/causal-TWAS/code//run_test_susie.R /project2/mstephens/causalTWAS/ukbiobank/ukb_chr17to22_s20000 /project2/mstephens/causalTWAS/simulations/simulation_ashtest_20200721//simu_20200721-3-11-cis-expr.Rd /project2/mstephens/causalTWAS/simulations/simulation_ashtest_20200721//simu_20200721-3-11-pheno.Rd /project2/mstephens/causalTWAS/simulations/simulation_susietest_20200721/20200721-3-fixprior_rpip0.9/20200721-3-fixedprior_1.txt /project2/mstephens/causalTWAS/simulations/simulation_ashtest_20200721//20200721-3-11-mr.ash2s.lassoes-es 20200721-3-11.fixedprior1 run_config.R\n",
       "source activate twas;cd /project2/mstephens/causalTWAS/simulations/simulation_susietest_20200721/20200721-3-fixprior_rpip0.9;Rscript /project2/mstephens/causalTWAS/causal-TWAS/code//run_test_susie.R /project2/mstephens/causalTWAS/ukbiobank/ukb_chr17to22_s20000 /project2/mstephens/causalTWAS/simulations/simulation_ashtest_20200721//simu_20200721-3-11-cis-expr.Rd /project2/mstephens/causalTWAS/simulations/simulation_ashtest_20200721//simu_20200721-3-11-pheno.Rd /project2/mstephens/causalTWAS/simulations/simulation_susietest_20200721/20200721-3-fixprior_rpip0.9/20200721-3-fixedprior_2.txt /project2/mstephens/causalTWAS/simulations/simulation_ashtest_20200721//20200721-3-11-mr.ash2s.lassoes-es 20200721-3-11.fixedprior2 run_config.R\n",
       "source activate twas;cd /project2/mstephens/causalTWAS/simulations/simulation_susietest_20200721/20200721-3-fixprior_rpip0.9;Rscript /project2/mstephens/causalTWAS/causal-TWAS/code//run_test_susie.R /project2/mstephens/causalTWAS/ukbiobank/ukb_chr17to22_s20000 /project2/mstephens/causalTWAS/simulations/simulation_ashtest_20200721//simu_20200721-3-11-cis-expr.Rd /project2/mstephens/causalTWAS/simulations/simulation_ashtest_20200721//simu_20200721-3-11-pheno.Rd /project2/mstephens/causalTWAS/simulations/simulation_susietest_20200721/20200721-3-fixprior_rpip0.9/20200721-3-fixedprior_3.txt /project2/mstephens/causalTWAS/simulations/simulation_ashtest_20200721//20200721-3-11-mr.ash2s.lassoes-es 20200721-3-11.fixedprior3 run_config.R\n",
       "source activate twas;cd /project2/mstephens/causalTWAS/simulations/simulation_susietest_20200721/20200721-3-fixprior_rpip0.9;Rscript /project2/mstephens/causalTWAS/causal-TWAS/code//run_test_susie.R /project2/mstephens/causalTWAS/ukbiobank/ukb_chr17to22_s20000 /project2/mstephens/causalTWAS/simulations/simulation_ashtest_20200721//simu_20200721-3-12-cis-expr.Rd /project2/mstephens/causalTWAS/simulations/simulation_ashtest_20200721//simu_20200721-3-12-pheno.Rd /project2/mstephens/causalTWAS/simulations/simulation_susietest_20200721/20200721-3-fixprior_rpip0.9/20200721-3-fixedprior_1.txt /project2/mstephens/causalTWAS/simulations/simulation_ashtest_20200721//20200721-3-12-mr.ash2s.lassoes-es 20200721-3-12.fixedprior1 run_config.R\n",
       "source activate twas;cd /project2/mstephens/causalTWAS/simulations/simulation_susietest_20200721/20200721-3-fixprior_rpip0.9;Rscript /project2/mstephens/causalTWAS/causal-TWAS/code//run_test_susie.R /project2/mstephens/causalTWAS/ukbiobank/ukb_chr17to22_s20000 /project2/mstephens/causalTWAS/simulations/simulation_ashtest_20200721//simu_20200721-3-12-cis-expr.Rd /project2/mstephens/causalTWAS/simulations/simulation_ashtest_20200721//simu_20200721-3-12-pheno.Rd /project2/mstephens/causalTWAS/simulations/simulation_susietest_20200721/20200721-3-fixprior_rpip0.9/20200721-3-fixedprior_2.txt /project2/mstephens/causalTWAS/simulations/simulation_ashtest_20200721//20200721-3-12-mr.ash2s.lassoes-es 20200721-3-12.fixedprior2 run_config.R\n",
       "source activate twas;cd /project2/mstephens/causalTWAS/simulations/simulation_susietest_20200721/20200721-3-fixprior_rpip0.9;Rscript /project2/mstephens/causalTWAS/causal-TWAS/code//run_test_susie.R /project2/mstephens/causalTWAS/ukbiobank/ukb_chr17to22_s20000 /project2/mstephens/causalTWAS/simulations/simulation_ashtest_20200721//simu_20200721-3-12-cis-expr.Rd /project2/mstephens/causalTWAS/simulations/simulation_ashtest_20200721//simu_20200721-3-12-pheno.Rd /project2/mstephens/causalTWAS/simulations/simulation_susietest_20200721/20200721-3-fixprior_rpip0.9/20200721-3-fixedprior_3.txt /project2/mstephens/causalTWAS/simulations/simulation_ashtest_20200721//20200721-3-12-mr.ash2s.lassoes-es 20200721-3-12.fixedprior3 run_config.R\n",
       "source activate twas;cd /project2/mstephens/causalTWAS/simulations/simulation_susietest_20200721/20200721-3-fixprior_rpip0.9;Rscript /project2/mstephens/causalTWAS/causal-TWAS/code//run_test_susie.R /project2/mstephens/causalTWAS/ukbiobank/ukb_chr17to22_s20000 /project2/mstephens/causalTWAS/simulations/simulation_ashtest_20200721//simu_20200721-3-13-cis-expr.Rd /project2/mstephens/causalTWAS/simulations/simulation_ashtest_20200721//simu_20200721-3-13-pheno.Rd /project2/mstephens/causalTWAS/simulations/simulation_susietest_20200721/20200721-3-fixprior_rpip0.9/20200721-3-fixedprior_1.txt /project2/mstephens/causalTWAS/simulations/simulation_ashtest_20200721//20200721-3-13-mr.ash2s.lassoes-es 20200721-3-13.fixedprior1 run_config.R\n",
       "source activate twas;cd /project2/mstephens/causalTWAS/simulations/simulation_susietest_20200721/20200721-3-fixprior_rpip0.9;Rscript /project2/mstephens/causalTWAS/causal-TWAS/code//run_test_susie.R /project2/mstephens/causalTWAS/ukbiobank/ukb_chr17to22_s20000 /project2/mstephens/causalTWAS/simulations/simulation_ashtest_20200721//simu_20200721-3-13-cis-expr.Rd /project2/mstephens/causalTWAS/simulations/simulation_ashtest_20200721//simu_20200721-3-13-pheno.Rd /project2/mstephens/causalTWAS/simulations/simulation_susietest_20200721/20200721-3-fixprior_rpip0.9/20200721-3-fixedprior_2.txt /project2/mstephens/causalTWAS/simulations/simulation_ashtest_20200721//20200721-3-13-mr.ash2s.lassoes-es 20200721-3-13.fixedprior2 run_config.R\n",
       "source activate twas;cd /project2/mstephens/causalTWAS/simulations/simulation_susietest_20200721/20200721-3-fixprior_rpip0.9;Rscript /project2/mstephens/causalTWAS/causal-TWAS/code//run_test_susie.R /project2/mstephens/causalTWAS/ukbiobank/ukb_chr17to22_s20000 /project2/mstephens/causalTWAS/simulations/simulation_ashtest_20200721//simu_20200721-3-13-cis-expr.Rd /project2/mstephens/causalTWAS/simulations/simulation_ashtest_20200721//simu_20200721-3-13-pheno.Rd /project2/mstephens/causalTWAS/simulations/simulation_susietest_20200721/20200721-3-fixprior_rpip0.9/20200721-3-fixedprior_3.txt /project2/mstephens/causalTWAS/simulations/simulation_ashtest_20200721//20200721-3-13-mr.ash2s.lassoes-es 20200721-3-13.fixedprior3 run_config.R\n",
       "source activate twas;cd /project2/mstephens/causalTWAS/simulations/simulation_susietest_20200721/20200721-3-fixprior_rpip0.9;Rscript /project2/mstephens/causalTWAS/causal-TWAS/code//run_test_susie.R /project2/mstephens/causalTWAS/ukbiobank/ukb_chr17to22_s20000 /project2/mstephens/causalTWAS/simulations/simulation_ashtest_20200721//simu_20200721-3-14-cis-expr.Rd /project2/mstephens/causalTWAS/simulations/simulation_ashtest_20200721//simu_20200721-3-14-pheno.Rd /project2/mstephens/causalTWAS/simulations/simulation_susietest_20200721/20200721-3-fixprior_rpip0.9/20200721-3-fixedprior_1.txt /project2/mstephens/causalTWAS/simulations/simulation_ashtest_20200721//20200721-3-14-mr.ash2s.lassoes-es 20200721-3-14.fixedprior1 run_config.R\n",
       "source activate twas;cd /project2/mstephens/causalTWAS/simulations/simulation_susietest_20200721/20200721-3-fixprior_rpip0.9;Rscript /project2/mstephens/causalTWAS/causal-TWAS/code//run_test_susie.R /project2/mstephens/causalTWAS/ukbiobank/ukb_chr17to22_s20000 /project2/mstephens/causalTWAS/simulations/simulation_ashtest_20200721//simu_20200721-3-14-cis-expr.Rd /project2/mstephens/causalTWAS/simulations/simulation_ashtest_20200721//simu_20200721-3-14-pheno.Rd /project2/mstephens/causalTWAS/simulations/simulation_susietest_20200721/20200721-3-fixprior_rpip0.9/20200721-3-fixedprior_2.txt /project2/mstephens/causalTWAS/simulations/simulation_ashtest_20200721//20200721-3-14-mr.ash2s.lassoes-es 20200721-3-14.fixedprior2 run_config.R\n",
       "source activate twas;cd /project2/mstephens/causalTWAS/simulations/simulation_susietest_20200721/20200721-3-fixprior_rpip0.9;Rscript /project2/mstephens/causalTWAS/causal-TWAS/code//run_test_susie.R /project2/mstephens/causalTWAS/ukbiobank/ukb_chr17to22_s20000 /project2/mstephens/causalTWAS/simulations/simulation_ashtest_20200721//simu_20200721-3-14-cis-expr.Rd /project2/mstephens/causalTWAS/simulations/simulation_ashtest_20200721//simu_20200721-3-14-pheno.Rd /project2/mstephens/causalTWAS/simulations/simulation_susietest_20200721/20200721-3-fixprior_rpip0.9/20200721-3-fixedprior_3.txt /project2/mstephens/causalTWAS/simulations/simulation_ashtest_20200721//20200721-3-14-mr.ash2s.lassoes-es 20200721-3-14.fixedprior3 run_config.R\n",
       "source activate twas;cd /project2/mstephens/causalTWAS/simulations/simulation_susietest_20200721/20200721-3-fixprior_rpip0.9;Rscript /project2/mstephens/causalTWAS/causal-TWAS/code//run_test_susie.R /project2/mstephens/causalTWAS/ukbiobank/ukb_chr17to22_s20000 /project2/mstephens/causalTWAS/simulations/simulation_ashtest_20200721//simu_20200721-3-15-cis-expr.Rd /project2/mstephens/causalTWAS/simulations/simulation_ashtest_20200721//simu_20200721-3-15-pheno.Rd /project2/mstephens/causalTWAS/simulations/simulation_susietest_20200721/20200721-3-fixprior_rpip0.9/20200721-3-fixedprior_1.txt /project2/mstephens/causalTWAS/simulations/simulation_ashtest_20200721//20200721-3-15-mr.ash2s.lassoes-es 20200721-3-15.fixedprior1 run_config.R\n",
       "source activate twas;cd /project2/mstephens/causalTWAS/simulations/simulation_susietest_20200721/20200721-3-fixprior_rpip0.9;Rscript /project2/mstephens/causalTWAS/causal-TWAS/code//run_test_susie.R /project2/mstephens/causalTWAS/ukbiobank/ukb_chr17to22_s20000 /project2/mstephens/causalTWAS/simulations/simulation_ashtest_20200721//simu_20200721-3-15-cis-expr.Rd /project2/mstephens/causalTWAS/simulations/simulation_ashtest_20200721//simu_20200721-3-15-pheno.Rd /project2/mstephens/causalTWAS/simulations/simulation_susietest_20200721/20200721-3-fixprior_rpip0.9/20200721-3-fixedprior_2.txt /project2/mstephens/causalTWAS/simulations/simulation_ashtest_20200721//20200721-3-15-mr.ash2s.lassoes-es 20200721-3-15.fixedprior2 run_config.R\n",
       "source activate twas;cd /project2/mstephens/causalTWAS/simulations/simulation_susietest_20200721/20200721-3-fixprior_rpip0.9;Rscript /project2/mstephens/causalTWAS/causal-TWAS/code//run_test_susie.R /project2/mstephens/causalTWAS/ukbiobank/ukb_chr17to22_s20000 /project2/mstephens/causalTWAS/simulations/simulation_ashtest_20200721//simu_20200721-3-15-cis-expr.Rd /project2/mstephens/causalTWAS/simulations/simulation_ashtest_20200721//simu_20200721-3-15-pheno.Rd /project2/mstephens/causalTWAS/simulations/simulation_susietest_20200721/20200721-3-fixprior_rpip0.9/20200721-3-fixedprior_3.txt /project2/mstephens/causalTWAS/simulations/simulation_ashtest_20200721//20200721-3-15-mr.ash2s.lassoes-es 20200721-3-15.fixedprior3 run_config.R\n",
       "source activate twas;cd /project2/mstephens/causalTWAS/simulations/simulation_susietest_20200721/20200721-3-fixprior_rpip0.9;Rscript /project2/mstephens/causalTWAS/causal-TWAS/code//run_test_susie.R /project2/mstephens/causalTWAS/ukbiobank/ukb_chr17to22_s20000 /project2/mstephens/causalTWAS/simulations/simulation_ashtest_20200721//simu_20200721-3-16-cis-expr.Rd /project2/mstephens/causalTWAS/simulations/simulation_ashtest_20200721//simu_20200721-3-16-pheno.Rd /project2/mstephens/causalTWAS/simulations/simulation_susietest_20200721/20200721-3-fixprior_rpip0.9/20200721-3-fixedprior_1.txt /project2/mstephens/causalTWAS/simulations/simulation_ashtest_20200721//20200721-3-16-mr.ash2s.lassoes-es 20200721-3-16.fixedprior1 run_config.R\n",
       "source activate twas;cd /project2/mstephens/causalTWAS/simulations/simulation_susietest_20200721/20200721-3-fixprior_rpip0.9;Rscript /project2/mstephens/causalTWAS/causal-TWAS/code//run_test_susie.R /project2/mstephens/causalTWAS/ukbiobank/ukb_chr17to22_s20000 /project2/mstephens/causalTWAS/simulations/simulation_ashtest_20200721//simu_20200721-3-16-cis-expr.Rd /project2/mstephens/causalTWAS/simulations/simulation_ashtest_20200721//simu_20200721-3-16-pheno.Rd /project2/mstephens/causalTWAS/simulations/simulation_susietest_20200721/20200721-3-fixprior_rpip0.9/20200721-3-fixedprior_2.txt /project2/mstephens/causalTWAS/simulations/simulation_ashtest_20200721//20200721-3-16-mr.ash2s.lassoes-es 20200721-3-16.fixedprior2 run_config.R\n",
       "source activate twas;cd /project2/mstephens/causalTWAS/simulations/simulation_susietest_20200721/20200721-3-fixprior_rpip0.9;Rscript /project2/mstephens/causalTWAS/causal-TWAS/code//run_test_susie.R /project2/mstephens/causalTWAS/ukbiobank/ukb_chr17to22_s20000 /project2/mstephens/causalTWAS/simulations/simulation_ashtest_20200721//simu_20200721-3-16-cis-expr.Rd /project2/mstephens/causalTWAS/simulations/simulation_ashtest_20200721//simu_20200721-3-16-pheno.Rd /project2/mstephens/causalTWAS/simulations/simulation_susietest_20200721/20200721-3-fixprior_rpip0.9/20200721-3-fixedprior_3.txt /project2/mstephens/causalTWAS/simulations/simulation_ashtest_20200721//20200721-3-16-mr.ash2s.lassoes-es 20200721-3-16.fixedprior3 run_config.R\n",
       "source activate twas;cd /project2/mstephens/causalTWAS/simulations/simulation_susietest_20200721/20200721-3-fixprior_rpip0.9;Rscript /project2/mstephens/causalTWAS/causal-TWAS/code//run_test_susie.R /project2/mstephens/causalTWAS/ukbiobank/ukb_chr17to22_s20000 /project2/mstephens/causalTWAS/simulations/simulation_ashtest_20200721//simu_20200721-3-17-cis-expr.Rd /project2/mstephens/causalTWAS/simulations/simulation_ashtest_20200721//simu_20200721-3-17-pheno.Rd /project2/mstephens/causalTWAS/simulations/simulation_susietest_20200721/20200721-3-fixprior_rpip0.9/20200721-3-fixedprior_1.txt /project2/mstephens/causalTWAS/simulations/simulation_ashtest_20200721//20200721-3-17-mr.ash2s.lassoes-es 20200721-3-17.fixedprior1 run_config.R\n",
       "source activate twas;cd /project2/mstephens/causalTWAS/simulations/simulation_susietest_20200721/20200721-3-fixprior_rpip0.9;Rscript /project2/mstephens/causalTWAS/causal-TWAS/code//run_test_susie.R /project2/mstephens/causalTWAS/ukbiobank/ukb_chr17to22_s20000 /project2/mstephens/causalTWAS/simulations/simulation_ashtest_20200721//simu_20200721-3-17-cis-expr.Rd /project2/mstephens/causalTWAS/simulations/simulation_ashtest_20200721//simu_20200721-3-17-pheno.Rd /project2/mstephens/causalTWAS/simulations/simulation_susietest_20200721/20200721-3-fixprior_rpip0.9/20200721-3-fixedprior_2.txt /project2/mstephens/causalTWAS/simulations/simulation_ashtest_20200721//20200721-3-17-mr.ash2s.lassoes-es 20200721-3-17.fixedprior2 run_config.R\n",
       "source activate twas;cd /project2/mstephens/causalTWAS/simulations/simulation_susietest_20200721/20200721-3-fixprior_rpip0.9;Rscript /project2/mstephens/causalTWAS/causal-TWAS/code//run_test_susie.R /project2/mstephens/causalTWAS/ukbiobank/ukb_chr17to22_s20000 /project2/mstephens/causalTWAS/simulations/simulation_ashtest_20200721//simu_20200721-3-17-cis-expr.Rd /project2/mstephens/causalTWAS/simulations/simulation_ashtest_20200721//simu_20200721-3-17-pheno.Rd /project2/mstephens/causalTWAS/simulations/simulation_susietest_20200721/20200721-3-fixprior_rpip0.9/20200721-3-fixedprior_3.txt /project2/mstephens/causalTWAS/simulations/simulation_ashtest_20200721//20200721-3-17-mr.ash2s.lassoes-es 20200721-3-17.fixedprior3 run_config.R\n",
       "source activate twas;cd /project2/mstephens/causalTWAS/simulations/simulation_susietest_20200721/20200721-3-fixprior_rpip0.9;Rscript /project2/mstephens/causalTWAS/causal-TWAS/code//run_test_susie.R /project2/mstephens/causalTWAS/ukbiobank/ukb_chr17to22_s20000 /project2/mstephens/causalTWAS/simulations/simulation_ashtest_20200721//simu_20200721-3-18-cis-expr.Rd /project2/mstephens/causalTWAS/simulations/simulation_ashtest_20200721//simu_20200721-3-18-pheno.Rd /project2/mstephens/causalTWAS/simulations/simulation_susietest_20200721/20200721-3-fixprior_rpip0.9/20200721-3-fixedprior_1.txt /project2/mstephens/causalTWAS/simulations/simulation_ashtest_20200721//20200721-3-18-mr.ash2s.lassoes-es 20200721-3-18.fixedprior1 run_config.R\n",
       "source activate twas;cd /project2/mstephens/causalTWAS/simulations/simulation_susietest_20200721/20200721-3-fixprior_rpip0.9;Rscript /project2/mstephens/causalTWAS/causal-TWAS/code//run_test_susie.R /project2/mstephens/causalTWAS/ukbiobank/ukb_chr17to22_s20000 /project2/mstephens/causalTWAS/simulations/simulation_ashtest_20200721//simu_20200721-3-18-cis-expr.Rd /project2/mstephens/causalTWAS/simulations/simulation_ashtest_20200721//simu_20200721-3-18-pheno.Rd /project2/mstephens/causalTWAS/simulations/simulation_susietest_20200721/20200721-3-fixprior_rpip0.9/20200721-3-fixedprior_2.txt /project2/mstephens/causalTWAS/simulations/simulation_ashtest_20200721//20200721-3-18-mr.ash2s.lassoes-es 20200721-3-18.fixedprior2 run_config.R\n",
       "source activate twas;cd /project2/mstephens/causalTWAS/simulations/simulation_susietest_20200721/20200721-3-fixprior_rpip0.9;Rscript /project2/mstephens/causalTWAS/causal-TWAS/code//run_test_susie.R /project2/mstephens/causalTWAS/ukbiobank/ukb_chr17to22_s20000 /project2/mstephens/causalTWAS/simulations/simulation_ashtest_20200721//simu_20200721-3-18-cis-expr.Rd /project2/mstephens/causalTWAS/simulations/simulation_ashtest_20200721//simu_20200721-3-18-pheno.Rd /project2/mstephens/causalTWAS/simulations/simulation_susietest_20200721/20200721-3-fixprior_rpip0.9/20200721-3-fixedprior_3.txt /project2/mstephens/causalTWAS/simulations/simulation_ashtest_20200721//20200721-3-18-mr.ash2s.lassoes-es 20200721-3-18.fixedprior3 run_config.R\n",
       "source activate twas;cd /project2/mstephens/causalTWAS/simulations/simulation_susietest_20200721/20200721-3-fixprior_rpip0.9;Rscript /project2/mstephens/causalTWAS/causal-TWAS/code//run_test_susie.R /project2/mstephens/causalTWAS/ukbiobank/ukb_chr17to22_s20000 /project2/mstephens/causalTWAS/simulations/simulation_ashtest_20200721//simu_20200721-3-19-cis-expr.Rd /project2/mstephens/causalTWAS/simulations/simulation_ashtest_20200721//simu_20200721-3-19-pheno.Rd /project2/mstephens/causalTWAS/simulations/simulation_susietest_20200721/20200721-3-fixprior_rpip0.9/20200721-3-fixedprior_1.txt /project2/mstephens/causalTWAS/simulations/simulation_ashtest_20200721//20200721-3-19-mr.ash2s.lassoes-es 20200721-3-19.fixedprior1 run_config.R\n",
       "source activate twas;cd /project2/mstephens/causalTWAS/simulations/simulation_susietest_20200721/20200721-3-fixprior_rpip0.9;Rscript /project2/mstephens/causalTWAS/causal-TWAS/code//run_test_susie.R /project2/mstephens/causalTWAS/ukbiobank/ukb_chr17to22_s20000 /project2/mstephens/causalTWAS/simulations/simulation_ashtest_20200721//simu_20200721-3-19-cis-expr.Rd /project2/mstephens/causalTWAS/simulations/simulation_ashtest_20200721//simu_20200721-3-19-pheno.Rd /project2/mstephens/causalTWAS/simulations/simulation_susietest_20200721/20200721-3-fixprior_rpip0.9/20200721-3-fixedprior_2.txt /project2/mstephens/causalTWAS/simulations/simulation_ashtest_20200721//20200721-3-19-mr.ash2s.lassoes-es 20200721-3-19.fixedprior2 run_config.R\n",
       "source activate twas;cd /project2/mstephens/causalTWAS/simulations/simulation_susietest_20200721/20200721-3-fixprior_rpip0.9;Rscript /project2/mstephens/causalTWAS/causal-TWAS/code//run_test_susie.R /project2/mstephens/causalTWAS/ukbiobank/ukb_chr17to22_s20000 /project2/mstephens/causalTWAS/simulations/simulation_ashtest_20200721//simu_20200721-3-19-cis-expr.Rd /project2/mstephens/causalTWAS/simulations/simulation_ashtest_20200721//simu_20200721-3-19-pheno.Rd /project2/mstephens/causalTWAS/simulations/simulation_susietest_20200721/20200721-3-fixprior_rpip0.9/20200721-3-fixedprior_3.txt /project2/mstephens/causalTWAS/simulations/simulation_ashtest_20200721//20200721-3-19-mr.ash2s.lassoes-es 20200721-3-19.fixedprior3 run_config.R\n",
       "source activate twas;cd /project2/mstephens/causalTWAS/simulations/simulation_susietest_20200721/20200721-3-fixprior_rpip0.9;Rscript /project2/mstephens/causalTWAS/causal-TWAS/code//run_test_susie.R /project2/mstephens/causalTWAS/ukbiobank/ukb_chr17to22_s20000 /project2/mstephens/causalTWAS/simulations/simulation_ashtest_20200721//simu_20200721-3-20-cis-expr.Rd /project2/mstephens/causalTWAS/simulations/simulation_ashtest_20200721//simu_20200721-3-20-pheno.Rd /project2/mstephens/causalTWAS/simulations/simulation_susietest_20200721/20200721-3-fixprior_rpip0.9/20200721-3-fixedprior_1.txt /project2/mstephens/causalTWAS/simulations/simulation_ashtest_20200721//20200721-3-20-mr.ash2s.lassoes-es 20200721-3-20.fixedprior1 run_config.R\n",
       "source activate twas;cd /project2/mstephens/causalTWAS/simulations/simulation_susietest_20200721/20200721-3-fixprior_rpip0.9;Rscript /project2/mstephens/causalTWAS/causal-TWAS/code//run_test_susie.R /project2/mstephens/causalTWAS/ukbiobank/ukb_chr17to22_s20000 /project2/mstephens/causalTWAS/simulations/simulation_ashtest_20200721//simu_20200721-3-20-cis-expr.Rd /project2/mstephens/causalTWAS/simulations/simulation_ashtest_20200721//simu_20200721-3-20-pheno.Rd /project2/mstephens/causalTWAS/simulations/simulation_susietest_20200721/20200721-3-fixprior_rpip0.9/20200721-3-fixedprior_2.txt /project2/mstephens/causalTWAS/simulations/simulation_ashtest_20200721//20200721-3-20-mr.ash2s.lassoes-es 20200721-3-20.fixedprior2 run_config.R\n",
       "source activate twas;cd /project2/mstephens/causalTWAS/simulations/simulation_susietest_20200721/20200721-3-fixprior_rpip0.9;Rscript /project2/mstephens/causalTWAS/causal-TWAS/code//run_test_susie.R /project2/mstephens/causalTWAS/ukbiobank/ukb_chr17to22_s20000 /project2/mstephens/causalTWAS/simulations/simulation_ashtest_20200721//simu_20200721-3-20-cis-expr.Rd /project2/mstephens/causalTWAS/simulations/simulation_ashtest_20200721//simu_20200721-3-20-pheno.Rd /project2/mstephens/causalTWAS/simulations/simulation_susietest_20200721/20200721-3-fixprior_rpip0.9/20200721-3-fixedprior_3.txt /project2/mstephens/causalTWAS/simulations/simulation_ashtest_20200721//20200721-3-20-mr.ash2s.lassoes-es 20200721-3-20.fixedprior3 run_config.R\n",
       "source activate twas;cd /project2/mstephens/causalTWAS/simulations/simulation_susietest_20200721/20200721-3-fixprior_rpip0.9;Rscript /project2/mstephens/causalTWAS/causal-TWAS/code//run_test_susie.R /project2/mstephens/causalTWAS/ukbiobank/ukb_chr17to22_s20000 /project2/mstephens/causalTWAS/simulations/simulation_ashtest_20200721//simu_20200721-3-21-cis-expr.Rd /project2/mstephens/causalTWAS/simulations/simulation_ashtest_20200721//simu_20200721-3-21-pheno.Rd /project2/mstephens/causalTWAS/simulations/simulation_susietest_20200721/20200721-3-fixprior_rpip0.9/20200721-3-fixedprior_1.txt /project2/mstephens/causalTWAS/simulations/simulation_ashtest_20200721//20200721-3-21-mr.ash2s.lassoes-es 20200721-3-21.fixedprior1 run_config.R\n",
       "source activate twas;cd /project2/mstephens/causalTWAS/simulations/simulation_susietest_20200721/20200721-3-fixprior_rpip0.9;Rscript /project2/mstephens/causalTWAS/causal-TWAS/code//run_test_susie.R /project2/mstephens/causalTWAS/ukbiobank/ukb_chr17to22_s20000 /project2/mstephens/causalTWAS/simulations/simulation_ashtest_20200721//simu_20200721-3-21-cis-expr.Rd /project2/mstephens/causalTWAS/simulations/simulation_ashtest_20200721//simu_20200721-3-21-pheno.Rd /project2/mstephens/causalTWAS/simulations/simulation_susietest_20200721/20200721-3-fixprior_rpip0.9/20200721-3-fixedprior_2.txt /project2/mstephens/causalTWAS/simulations/simulation_ashtest_20200721//20200721-3-21-mr.ash2s.lassoes-es 20200721-3-21.fixedprior2 run_config.R\n",
       "source activate twas;cd /project2/mstephens/causalTWAS/simulations/simulation_susietest_20200721/20200721-3-fixprior_rpip0.9;Rscript /project2/mstephens/causalTWAS/causal-TWAS/code//run_test_susie.R /project2/mstephens/causalTWAS/ukbiobank/ukb_chr17to22_s20000 /project2/mstephens/causalTWAS/simulations/simulation_ashtest_20200721//simu_20200721-3-21-cis-expr.Rd /project2/mstephens/causalTWAS/simulations/simulation_ashtest_20200721//simu_20200721-3-21-pheno.Rd /project2/mstephens/causalTWAS/simulations/simulation_susietest_20200721/20200721-3-fixprior_rpip0.9/20200721-3-fixedprior_3.txt /project2/mstephens/causalTWAS/simulations/simulation_ashtest_20200721//20200721-3-21-mr.ash2s.lassoes-es 20200721-3-21.fixedprior3 run_config.R\n",
       "source activate twas;cd /project2/mstephens/causalTWAS/simulations/simulation_susietest_20200721/20200721-3-fixprior_rpip0.9;Rscript /project2/mstephens/causalTWAS/causal-TWAS/code//run_test_susie.R /project2/mstephens/causalTWAS/ukbiobank/ukb_chr17to22_s20000 /project2/mstephens/causalTWAS/simulations/simulation_ashtest_20200721//simu_20200721-3-22-cis-expr.Rd /project2/mstephens/causalTWAS/simulations/simulation_ashtest_20200721//simu_20200721-3-22-pheno.Rd /project2/mstephens/causalTWAS/simulations/simulation_susietest_20200721/20200721-3-fixprior_rpip0.9/20200721-3-fixedprior_1.txt /project2/mstephens/causalTWAS/simulations/simulation_ashtest_20200721//20200721-3-22-mr.ash2s.lassoes-es 20200721-3-22.fixedprior1 run_config.R\n",
       "source activate twas;cd /project2/mstephens/causalTWAS/simulations/simulation_susietest_20200721/20200721-3-fixprior_rpip0.9;Rscript /project2/mstephens/causalTWAS/causal-TWAS/code//run_test_susie.R /project2/mstephens/causalTWAS/ukbiobank/ukb_chr17to22_s20000 /project2/mstephens/causalTWAS/simulations/simulation_ashtest_20200721//simu_20200721-3-22-cis-expr.Rd /project2/mstephens/causalTWAS/simulations/simulation_ashtest_20200721//simu_20200721-3-22-pheno.Rd /project2/mstephens/causalTWAS/simulations/simulation_susietest_20200721/20200721-3-fixprior_rpip0.9/20200721-3-fixedprior_2.txt /project2/mstephens/causalTWAS/simulations/simulation_ashtest_20200721//20200721-3-22-mr.ash2s.lassoes-es 20200721-3-22.fixedprior2 run_config.R\n",
       "source activate twas;cd /project2/mstephens/causalTWAS/simulations/simulation_susietest_20200721/20200721-3-fixprior_rpip0.9;Rscript /project2/mstephens/causalTWAS/causal-TWAS/code//run_test_susie.R /project2/mstephens/causalTWAS/ukbiobank/ukb_chr17to22_s20000 /project2/mstephens/causalTWAS/simulations/simulation_ashtest_20200721//simu_20200721-3-22-cis-expr.Rd /project2/mstephens/causalTWAS/simulations/simulation_ashtest_20200721//simu_20200721-3-22-pheno.Rd /project2/mstephens/causalTWAS/simulations/simulation_susietest_20200721/20200721-3-fixprior_rpip0.9/20200721-3-fixedprior_3.txt /project2/mstephens/causalTWAS/simulations/simulation_ashtest_20200721//20200721-3-22-mr.ash2s.lassoes-es 20200721-3-22.fixedprior3 run_config.R\n",
       "source activate twas;cd /project2/mstephens/causalTWAS/simulations/simulation_susietest_20200721/20200721-3-fixprior_rpip0.9;Rscript /project2/mstephens/causalTWAS/causal-TWAS/code//run_test_susie.R /project2/mstephens/causalTWAS/ukbiobank/ukb_chr17to22_s20000 /project2/mstephens/causalTWAS/simulations/simulation_ashtest_20200721//simu_20200721-3-23-cis-expr.Rd /project2/mstephens/causalTWAS/simulations/simulation_ashtest_20200721//simu_20200721-3-23-pheno.Rd /project2/mstephens/causalTWAS/simulations/simulation_susietest_20200721/20200721-3-fixprior_rpip0.9/20200721-3-fixedprior_1.txt /project2/mstephens/causalTWAS/simulations/simulation_ashtest_20200721//20200721-3-23-mr.ash2s.lassoes-es 20200721-3-23.fixedprior1 run_config.R\n",
       "source activate twas;cd /project2/mstephens/causalTWAS/simulations/simulation_susietest_20200721/20200721-3-fixprior_rpip0.9;Rscript /project2/mstephens/causalTWAS/causal-TWAS/code//run_test_susie.R /project2/mstephens/causalTWAS/ukbiobank/ukb_chr17to22_s20000 /project2/mstephens/causalTWAS/simulations/simulation_ashtest_20200721//simu_20200721-3-23-cis-expr.Rd /project2/mstephens/causalTWAS/simulations/simulation_ashtest_20200721//simu_20200721-3-23-pheno.Rd /project2/mstephens/causalTWAS/simulations/simulation_susietest_20200721/20200721-3-fixprior_rpip0.9/20200721-3-fixedprior_2.txt /project2/mstephens/causalTWAS/simulations/simulation_ashtest_20200721//20200721-3-23-mr.ash2s.lassoes-es 20200721-3-23.fixedprior2 run_config.R\n",
       "source activate twas;cd /project2/mstephens/causalTWAS/simulations/simulation_susietest_20200721/20200721-3-fixprior_rpip0.9;Rscript /project2/mstephens/causalTWAS/causal-TWAS/code//run_test_susie.R /project2/mstephens/causalTWAS/ukbiobank/ukb_chr17to22_s20000 /project2/mstephens/causalTWAS/simulations/simulation_ashtest_20200721//simu_20200721-3-23-cis-expr.Rd /project2/mstephens/causalTWAS/simulations/simulation_ashtest_20200721//simu_20200721-3-23-pheno.Rd /project2/mstephens/causalTWAS/simulations/simulation_susietest_20200721/20200721-3-fixprior_rpip0.9/20200721-3-fixedprior_3.txt /project2/mstephens/causalTWAS/simulations/simulation_ashtest_20200721//20200721-3-23-mr.ash2s.lassoes-es 20200721-3-23.fixedprior3 run_config.R\n",
       "source activate twas;cd /project2/mstephens/causalTWAS/simulations/simulation_susietest_20200721/20200721-3-fixprior_rpip0.9;Rscript /project2/mstephens/causalTWAS/causal-TWAS/code//run_test_susie.R /project2/mstephens/causalTWAS/ukbiobank/ukb_chr17to22_s20000 /project2/mstephens/causalTWAS/simulations/simulation_ashtest_20200721//simu_20200721-3-24-cis-expr.Rd /project2/mstephens/causalTWAS/simulations/simulation_ashtest_20200721//simu_20200721-3-24-pheno.Rd /project2/mstephens/causalTWAS/simulations/simulation_susietest_20200721/20200721-3-fixprior_rpip0.9/20200721-3-fixedprior_1.txt /project2/mstephens/causalTWAS/simulations/simulation_ashtest_20200721//20200721-3-24-mr.ash2s.lassoes-es 20200721-3-24.fixedprior1 run_config.R\n",
       "source activate twas;cd /project2/mstephens/causalTWAS/simulations/simulation_susietest_20200721/20200721-3-fixprior_rpip0.9;Rscript /project2/mstephens/causalTWAS/causal-TWAS/code//run_test_susie.R /project2/mstephens/causalTWAS/ukbiobank/ukb_chr17to22_s20000 /project2/mstephens/causalTWAS/simulations/simulation_ashtest_20200721//simu_20200721-3-24-cis-expr.Rd /project2/mstephens/causalTWAS/simulations/simulation_ashtest_20200721//simu_20200721-3-24-pheno.Rd /project2/mstephens/causalTWAS/simulations/simulation_susietest_20200721/20200721-3-fixprior_rpip0.9/20200721-3-fixedprior_2.txt /project2/mstephens/causalTWAS/simulations/simulation_ashtest_20200721//20200721-3-24-mr.ash2s.lassoes-es 20200721-3-24.fixedprior2 run_config.R\n",
       "source activate twas;cd /project2/mstephens/causalTWAS/simulations/simulation_susietest_20200721/20200721-3-fixprior_rpip0.9;Rscript /project2/mstephens/causalTWAS/causal-TWAS/code//run_test_susie.R /project2/mstephens/causalTWAS/ukbiobank/ukb_chr17to22_s20000 /project2/mstephens/causalTWAS/simulations/simulation_ashtest_20200721//simu_20200721-3-24-cis-expr.Rd /project2/mstephens/causalTWAS/simulations/simulation_ashtest_20200721//simu_20200721-3-24-pheno.Rd /project2/mstephens/causalTWAS/simulations/simulation_susietest_20200721/20200721-3-fixprior_rpip0.9/20200721-3-fixedprior_3.txt /project2/mstephens/causalTWAS/simulations/simulation_ashtest_20200721//20200721-3-24-mr.ash2s.lassoes-es 20200721-3-24.fixedprior3 run_config.R\n",
       "source activate twas;cd /project2/mstephens/causalTWAS/simulations/simulation_susietest_20200721/20200721-3-fixprior_rpip0.9;Rscript /project2/mstephens/causalTWAS/causal-TWAS/code//run_test_susie.R /project2/mstephens/causalTWAS/ukbiobank/ukb_chr17to22_s20000 /project2/mstephens/causalTWAS/simulations/simulation_ashtest_20200721//simu_20200721-3-25-cis-expr.Rd /project2/mstephens/causalTWAS/simulations/simulation_ashtest_20200721//simu_20200721-3-25-pheno.Rd /project2/mstephens/causalTWAS/simulations/simulation_susietest_20200721/20200721-3-fixprior_rpip0.9/20200721-3-fixedprior_1.txt /project2/mstephens/causalTWAS/simulations/simulation_ashtest_20200721//20200721-3-25-mr.ash2s.lassoes-es 20200721-3-25.fixedprior1 run_config.R\n",
       "source activate twas;cd /project2/mstephens/causalTWAS/simulations/simulation_susietest_20200721/20200721-3-fixprior_rpip0.9;Rscript /project2/mstephens/causalTWAS/causal-TWAS/code//run_test_susie.R /project2/mstephens/causalTWAS/ukbiobank/ukb_chr17to22_s20000 /project2/mstephens/causalTWAS/simulations/simulation_ashtest_20200721//simu_20200721-3-25-cis-expr.Rd /project2/mstephens/causalTWAS/simulations/simulation_ashtest_20200721//simu_20200721-3-25-pheno.Rd /project2/mstephens/causalTWAS/simulations/simulation_susietest_20200721/20200721-3-fixprior_rpip0.9/20200721-3-fixedprior_2.txt /project2/mstephens/causalTWAS/simulations/simulation_ashtest_20200721//20200721-3-25-mr.ash2s.lassoes-es 20200721-3-25.fixedprior2 run_config.R\n",
       "source activate twas;cd /project2/mstephens/causalTWAS/simulations/simulation_susietest_20200721/20200721-3-fixprior_rpip0.9;Rscript /project2/mstephens/causalTWAS/causal-TWAS/code//run_test_susie.R /project2/mstephens/causalTWAS/ukbiobank/ukb_chr17to22_s20000 /project2/mstephens/causalTWAS/simulations/simulation_ashtest_20200721//simu_20200721-3-25-cis-expr.Rd /project2/mstephens/causalTWAS/simulations/simulation_ashtest_20200721//simu_20200721-3-25-pheno.Rd /project2/mstephens/causalTWAS/simulations/simulation_susietest_20200721/20200721-3-fixprior_rpip0.9/20200721-3-fixedprior_3.txt /project2/mstephens/causalTWAS/simulations/simulation_ashtest_20200721//20200721-3-25-mr.ash2s.lassoes-es 20200721-3-25.fixedprior3 run_config.R\n",
       "source activate twas;cd /project2/mstephens/causalTWAS/simulations/simulation_susietest_20200721/20200721-3-fixprior_rpip0.9;Rscript /project2/mstephens/causalTWAS/causal-TWAS/code//run_test_susie.R /project2/mstephens/causalTWAS/ukbiobank/ukb_chr17to22_s20000 /project2/mstephens/causalTWAS/simulations/simulation_ashtest_20200721//simu_20200721-3-26-cis-expr.Rd /project2/mstephens/causalTWAS/simulations/simulation_ashtest_20200721//simu_20200721-3-26-pheno.Rd /project2/mstephens/causalTWAS/simulations/simulation_susietest_20200721/20200721-3-fixprior_rpip0.9/20200721-3-fixedprior_1.txt /project2/mstephens/causalTWAS/simulations/simulation_ashtest_20200721//20200721-3-26-mr.ash2s.lassoes-es 20200721-3-26.fixedprior1 run_config.R\n",
       "source activate twas;cd /project2/mstephens/causalTWAS/simulations/simulation_susietest_20200721/20200721-3-fixprior_rpip0.9;Rscript /project2/mstephens/causalTWAS/causal-TWAS/code//run_test_susie.R /project2/mstephens/causalTWAS/ukbiobank/ukb_chr17to22_s20000 /project2/mstephens/causalTWAS/simulations/simulation_ashtest_20200721//simu_20200721-3-26-cis-expr.Rd /project2/mstephens/causalTWAS/simulations/simulation_ashtest_20200721//simu_20200721-3-26-pheno.Rd /project2/mstephens/causalTWAS/simulations/simulation_susietest_20200721/20200721-3-fixprior_rpip0.9/20200721-3-fixedprior_2.txt /project2/mstephens/causalTWAS/simulations/simulation_ashtest_20200721//20200721-3-26-mr.ash2s.lassoes-es 20200721-3-26.fixedprior2 run_config.R\n",
       "source activate twas;cd /project2/mstephens/causalTWAS/simulations/simulation_susietest_20200721/20200721-3-fixprior_rpip0.9;Rscript /project2/mstephens/causalTWAS/causal-TWAS/code//run_test_susie.R /project2/mstephens/causalTWAS/ukbiobank/ukb_chr17to22_s20000 /project2/mstephens/causalTWAS/simulations/simulation_ashtest_20200721//simu_20200721-3-26-cis-expr.Rd /project2/mstephens/causalTWAS/simulations/simulation_ashtest_20200721//simu_20200721-3-26-pheno.Rd /project2/mstephens/causalTWAS/simulations/simulation_susietest_20200721/20200721-3-fixprior_rpip0.9/20200721-3-fixedprior_3.txt /project2/mstephens/causalTWAS/simulations/simulation_ashtest_20200721//20200721-3-26-mr.ash2s.lassoes-es 20200721-3-26.fixedprior3 run_config.R\n",
       "source activate twas;cd /project2/mstephens/causalTWAS/simulations/simulation_susietest_20200721/20200721-3-fixprior_rpip0.9;Rscript /project2/mstephens/causalTWAS/causal-TWAS/code//run_test_susie.R /project2/mstephens/causalTWAS/ukbiobank/ukb_chr17to22_s20000 /project2/mstephens/causalTWAS/simulations/simulation_ashtest_20200721//simu_20200721-3-27-cis-expr.Rd /project2/mstephens/causalTWAS/simulations/simulation_ashtest_20200721//simu_20200721-3-27-pheno.Rd /project2/mstephens/causalTWAS/simulations/simulation_susietest_20200721/20200721-3-fixprior_rpip0.9/20200721-3-fixedprior_1.txt /project2/mstephens/causalTWAS/simulations/simulation_ashtest_20200721//20200721-3-27-mr.ash2s.lassoes-es 20200721-3-27.fixedprior1 run_config.R\n",
       "source activate twas;cd /project2/mstephens/causalTWAS/simulations/simulation_susietest_20200721/20200721-3-fixprior_rpip0.9;Rscript /project2/mstephens/causalTWAS/causal-TWAS/code//run_test_susie.R /project2/mstephens/causalTWAS/ukbiobank/ukb_chr17to22_s20000 /project2/mstephens/causalTWAS/simulations/simulation_ashtest_20200721//simu_20200721-3-27-cis-expr.Rd /project2/mstephens/causalTWAS/simulations/simulation_ashtest_20200721//simu_20200721-3-27-pheno.Rd /project2/mstephens/causalTWAS/simulations/simulation_susietest_20200721/20200721-3-fixprior_rpip0.9/20200721-3-fixedprior_2.txt /project2/mstephens/causalTWAS/simulations/simulation_ashtest_20200721//20200721-3-27-mr.ash2s.lassoes-es 20200721-3-27.fixedprior2 run_config.R\n",
       "source activate twas;cd /project2/mstephens/causalTWAS/simulations/simulation_susietest_20200721/20200721-3-fixprior_rpip0.9;Rscript /project2/mstephens/causalTWAS/causal-TWAS/code//run_test_susie.R /project2/mstephens/causalTWAS/ukbiobank/ukb_chr17to22_s20000 /project2/mstephens/causalTWAS/simulations/simulation_ashtest_20200721//simu_20200721-3-27-cis-expr.Rd /project2/mstephens/causalTWAS/simulations/simulation_ashtest_20200721//simu_20200721-3-27-pheno.Rd /project2/mstephens/causalTWAS/simulations/simulation_susietest_20200721/20200721-3-fixprior_rpip0.9/20200721-3-fixedprior_3.txt /project2/mstephens/causalTWAS/simulations/simulation_ashtest_20200721//20200721-3-27-mr.ash2s.lassoes-es 20200721-3-27.fixedprior3 run_config.R\n",
       "source activate twas;cd /project2/mstephens/causalTWAS/simulations/simulation_susietest_20200721/20200721-3-fixprior_rpip0.9;Rscript /project2/mstephens/causalTWAS/causal-TWAS/code//run_test_susie.R /project2/mstephens/causalTWAS/ukbiobank/ukb_chr17to22_s20000 /project2/mstephens/causalTWAS/simulations/simulation_ashtest_20200721//simu_20200721-3-28-cis-expr.Rd /project2/mstephens/causalTWAS/simulations/simulation_ashtest_20200721//simu_20200721-3-28-pheno.Rd /project2/mstephens/causalTWAS/simulations/simulation_susietest_20200721/20200721-3-fixprior_rpip0.9/20200721-3-fixedprior_1.txt /project2/mstephens/causalTWAS/simulations/simulation_ashtest_20200721//20200721-3-28-mr.ash2s.lassoes-es 20200721-3-28.fixedprior1 run_config.R\n",
       "source activate twas;cd /project2/mstephens/causalTWAS/simulations/simulation_susietest_20200721/20200721-3-fixprior_rpip0.9;Rscript /project2/mstephens/causalTWAS/causal-TWAS/code//run_test_susie.R /project2/mstephens/causalTWAS/ukbiobank/ukb_chr17to22_s20000 /project2/mstephens/causalTWAS/simulations/simulation_ashtest_20200721//simu_20200721-3-28-cis-expr.Rd /project2/mstephens/causalTWAS/simulations/simulation_ashtest_20200721//simu_20200721-3-28-pheno.Rd /project2/mstephens/causalTWAS/simulations/simulation_susietest_20200721/20200721-3-fixprior_rpip0.9/20200721-3-fixedprior_2.txt /project2/mstephens/causalTWAS/simulations/simulation_ashtest_20200721//20200721-3-28-mr.ash2s.lassoes-es 20200721-3-28.fixedprior2 run_config.R\n",
       "source activate twas;cd /project2/mstephens/causalTWAS/simulations/simulation_susietest_20200721/20200721-3-fixprior_rpip0.9;Rscript /project2/mstephens/causalTWAS/causal-TWAS/code//run_test_susie.R /project2/mstephens/causalTWAS/ukbiobank/ukb_chr17to22_s20000 /project2/mstephens/causalTWAS/simulations/simulation_ashtest_20200721//simu_20200721-3-28-cis-expr.Rd /project2/mstephens/causalTWAS/simulations/simulation_ashtest_20200721//simu_20200721-3-28-pheno.Rd /project2/mstephens/causalTWAS/simulations/simulation_susietest_20200721/20200721-3-fixprior_rpip0.9/20200721-3-fixedprior_3.txt /project2/mstephens/causalTWAS/simulations/simulation_ashtest_20200721//20200721-3-28-mr.ash2s.lassoes-es 20200721-3-28.fixedprior3 run_config.R\n",
       "source activate twas;cd /project2/mstephens/causalTWAS/simulations/simulation_susietest_20200721/20200721-3-fixprior_rpip0.9;Rscript /project2/mstephens/causalTWAS/causal-TWAS/code//run_test_susie.R /project2/mstephens/causalTWAS/ukbiobank/ukb_chr17to22_s20000 /project2/mstephens/causalTWAS/simulations/simulation_ashtest_20200721//simu_20200721-3-29-cis-expr.Rd /project2/mstephens/causalTWAS/simulations/simulation_ashtest_20200721//simu_20200721-3-29-pheno.Rd /project2/mstephens/causalTWAS/simulations/simulation_susietest_20200721/20200721-3-fixprior_rpip0.9/20200721-3-fixedprior_1.txt /project2/mstephens/causalTWAS/simulations/simulation_ashtest_20200721//20200721-3-29-mr.ash2s.lassoes-es 20200721-3-29.fixedprior1 run_config.R\n",
       "source activate twas;cd /project2/mstephens/causalTWAS/simulations/simulation_susietest_20200721/20200721-3-fixprior_rpip0.9;Rscript /project2/mstephens/causalTWAS/causal-TWAS/code//run_test_susie.R /project2/mstephens/causalTWAS/ukbiobank/ukb_chr17to22_s20000 /project2/mstephens/causalTWAS/simulations/simulation_ashtest_20200721//simu_20200721-3-29-cis-expr.Rd /project2/mstephens/causalTWAS/simulations/simulation_ashtest_20200721//simu_20200721-3-29-pheno.Rd /project2/mstephens/causalTWAS/simulations/simulation_susietest_20200721/20200721-3-fixprior_rpip0.9/20200721-3-fixedprior_2.txt /project2/mstephens/causalTWAS/simulations/simulation_ashtest_20200721//20200721-3-29-mr.ash2s.lassoes-es 20200721-3-29.fixedprior2 run_config.R\n",
       "source activate twas;cd /project2/mstephens/causalTWAS/simulations/simulation_susietest_20200721/20200721-3-fixprior_rpip0.9;Rscript /project2/mstephens/causalTWAS/causal-TWAS/code//run_test_susie.R /project2/mstephens/causalTWAS/ukbiobank/ukb_chr17to22_s20000 /project2/mstephens/causalTWAS/simulations/simulation_ashtest_20200721//simu_20200721-3-29-cis-expr.Rd /project2/mstephens/causalTWAS/simulations/simulation_ashtest_20200721//simu_20200721-3-29-pheno.Rd /project2/mstephens/causalTWAS/simulations/simulation_susietest_20200721/20200721-3-fixprior_rpip0.9/20200721-3-fixedprior_3.txt /project2/mstephens/causalTWAS/simulations/simulation_ashtest_20200721//20200721-3-29-mr.ash2s.lassoes-es 20200721-3-29.fixedprior3 run_config.R\n",
       "source activate twas;cd /project2/mstephens/causalTWAS/simulations/simulation_susietest_20200721/20200721-3-fixprior_rpip0.9;Rscript /project2/mstephens/causalTWAS/causal-TWAS/code//run_test_susie.R /project2/mstephens/causalTWAS/ukbiobank/ukb_chr17to22_s20000 /project2/mstephens/causalTWAS/simulations/simulation_ashtest_20200721//simu_20200721-3-30-cis-expr.Rd /project2/mstephens/causalTWAS/simulations/simulation_ashtest_20200721//simu_20200721-3-30-pheno.Rd /project2/mstephens/causalTWAS/simulations/simulation_susietest_20200721/20200721-3-fixprior_rpip0.9/20200721-3-fixedprior_1.txt /project2/mstephens/causalTWAS/simulations/simulation_ashtest_20200721//20200721-3-30-mr.ash2s.lassoes-es 20200721-3-30.fixedprior1 run_config.R\n",
       "source activate twas;cd /project2/mstephens/causalTWAS/simulations/simulation_susietest_20200721/20200721-3-fixprior_rpip0.9;Rscript /project2/mstephens/causalTWAS/causal-TWAS/code//run_test_susie.R /project2/mstephens/causalTWAS/ukbiobank/ukb_chr17to22_s20000 /project2/mstephens/causalTWAS/simulations/simulation_ashtest_20200721//simu_20200721-3-30-cis-expr.Rd /project2/mstephens/causalTWAS/simulations/simulation_ashtest_20200721//simu_20200721-3-30-pheno.Rd /project2/mstephens/causalTWAS/simulations/simulation_susietest_20200721/20200721-3-fixprior_rpip0.9/20200721-3-fixedprior_2.txt /project2/mstephens/causalTWAS/simulations/simulation_ashtest_20200721//20200721-3-30-mr.ash2s.lassoes-es 20200721-3-30.fixedprior2 run_config.R\n",
       "source activate twas;cd /project2/mstephens/causalTWAS/simulations/simulation_susietest_20200721/20200721-3-fixprior_rpip0.9;Rscript /project2/mstephens/causalTWAS/causal-TWAS/code//run_test_susie.R /project2/mstephens/causalTWAS/ukbiobank/ukb_chr17to22_s20000 /project2/mstephens/causalTWAS/simulations/simulation_ashtest_20200721//simu_20200721-3-30-cis-expr.Rd /project2/mstephens/causalTWAS/simulations/simulation_ashtest_20200721//simu_20200721-3-30-pheno.Rd /project2/mstephens/causalTWAS/simulations/simulation_susietest_20200721/20200721-3-fixprior_rpip0.9/20200721-3-fixedprior_3.txt /project2/mstephens/causalTWAS/simulations/simulation_ashtest_20200721//20200721-3-30-mr.ash2s.lassoes-es 20200721-3-30.fixedprior3 run_config.R\n",
       "source activate twas;cd /project2/mstephens/causalTWAS/simulations/simulation_susietest_20200721/20200721-3-fixprior_rpip0.9;Rscript /project2/mstephens/causalTWAS/causal-TWAS/code//run_test_susie.R /project2/mstephens/causalTWAS/ukbiobank/ukb_chr17to22_s20000 /project2/mstephens/causalTWAS/simulations/simulation_ashtest_20200721//simu_20200721-3-31-cis-expr.Rd /project2/mstephens/causalTWAS/simulations/simulation_ashtest_20200721//simu_20200721-3-31-pheno.Rd /project2/mstephens/causalTWAS/simulations/simulation_susietest_20200721/20200721-3-fixprior_rpip0.9/20200721-3-fixedprior_1.txt /project2/mstephens/causalTWAS/simulations/simulation_ashtest_20200721//20200721-3-31-mr.ash2s.lassoes-es 20200721-3-31.fixedprior1 run_config.R\n",
       "source activate twas;cd /project2/mstephens/causalTWAS/simulations/simulation_susietest_20200721/20200721-3-fixprior_rpip0.9;Rscript /project2/mstephens/causalTWAS/causal-TWAS/code//run_test_susie.R /project2/mstephens/causalTWAS/ukbiobank/ukb_chr17to22_s20000 /project2/mstephens/causalTWAS/simulations/simulation_ashtest_20200721//simu_20200721-3-31-cis-expr.Rd /project2/mstephens/causalTWAS/simulations/simulation_ashtest_20200721//simu_20200721-3-31-pheno.Rd /project2/mstephens/causalTWAS/simulations/simulation_susietest_20200721/20200721-3-fixprior_rpip0.9/20200721-3-fixedprior_2.txt /project2/mstephens/causalTWAS/simulations/simulation_ashtest_20200721//20200721-3-31-mr.ash2s.lassoes-es 20200721-3-31.fixedprior2 run_config.R\n",
       "source activate twas;cd /project2/mstephens/causalTWAS/simulations/simulation_susietest_20200721/20200721-3-fixprior_rpip0.9;Rscript /project2/mstephens/causalTWAS/causal-TWAS/code//run_test_susie.R /project2/mstephens/causalTWAS/ukbiobank/ukb_chr17to22_s20000 /project2/mstephens/causalTWAS/simulations/simulation_ashtest_20200721//simu_20200721-3-31-cis-expr.Rd /project2/mstephens/causalTWAS/simulations/simulation_ashtest_20200721//simu_20200721-3-31-pheno.Rd /project2/mstephens/causalTWAS/simulations/simulation_susietest_20200721/20200721-3-fixprior_rpip0.9/20200721-3-fixedprior_3.txt /project2/mstephens/causalTWAS/simulations/simulation_ashtest_20200721//20200721-3-31-mr.ash2s.lassoes-es 20200721-3-31.fixedprior3 run_config.R\n",
       "source activate twas;cd /project2/mstephens/causalTWAS/simulations/simulation_susietest_20200721/20200721-3-fixprior_rpip0.9;Rscript /project2/mstephens/causalTWAS/causal-TWAS/code//run_test_susie.R /project2/mstephens/causalTWAS/ukbiobank/ukb_chr17to22_s20000 /project2/mstephens/causalTWAS/simulations/simulation_ashtest_20200721//simu_20200721-3-32-cis-expr.Rd /project2/mstephens/causalTWAS/simulations/simulation_ashtest_20200721//simu_20200721-3-32-pheno.Rd /project2/mstephens/causalTWAS/simulations/simulation_susietest_20200721/20200721-3-fixprior_rpip0.9/20200721-3-fixedprior_1.txt /project2/mstephens/causalTWAS/simulations/simulation_ashtest_20200721//20200721-3-32-mr.ash2s.lassoes-es 20200721-3-32.fixedprior1 run_config.R\n",
       "source activate twas;cd /project2/mstephens/causalTWAS/simulations/simulation_susietest_20200721/20200721-3-fixprior_rpip0.9;Rscript /project2/mstephens/causalTWAS/causal-TWAS/code//run_test_susie.R /project2/mstephens/causalTWAS/ukbiobank/ukb_chr17to22_s20000 /project2/mstephens/causalTWAS/simulations/simulation_ashtest_20200721//simu_20200721-3-32-cis-expr.Rd /project2/mstephens/causalTWAS/simulations/simulation_ashtest_20200721//simu_20200721-3-32-pheno.Rd /project2/mstephens/causalTWAS/simulations/simulation_susietest_20200721/20200721-3-fixprior_rpip0.9/20200721-3-fixedprior_2.txt /project2/mstephens/causalTWAS/simulations/simulation_ashtest_20200721//20200721-3-32-mr.ash2s.lassoes-es 20200721-3-32.fixedprior2 run_config.R\n",
       "source activate twas;cd /project2/mstephens/causalTWAS/simulations/simulation_susietest_20200721/20200721-3-fixprior_rpip0.9;Rscript /project2/mstephens/causalTWAS/causal-TWAS/code//run_test_susie.R /project2/mstephens/causalTWAS/ukbiobank/ukb_chr17to22_s20000 /project2/mstephens/causalTWAS/simulations/simulation_ashtest_20200721//simu_20200721-3-32-cis-expr.Rd /project2/mstephens/causalTWAS/simulations/simulation_ashtest_20200721//simu_20200721-3-32-pheno.Rd /project2/mstephens/causalTWAS/simulations/simulation_susietest_20200721/20200721-3-fixprior_rpip0.9/20200721-3-fixedprior_3.txt /project2/mstephens/causalTWAS/simulations/simulation_ashtest_20200721//20200721-3-32-mr.ash2s.lassoes-es 20200721-3-32.fixedprior3 run_config.R\n",
       "source activate twas;cd /project2/mstephens/causalTWAS/simulations/simulation_susietest_20200721/20200721-3-fixprior_rpip0.9;Rscript /project2/mstephens/causalTWAS/causal-TWAS/code//run_test_susie.R /project2/mstephens/causalTWAS/ukbiobank/ukb_chr17to22_s20000 /project2/mstephens/causalTWAS/simulations/simulation_ashtest_20200721//simu_20200721-3-33-cis-expr.Rd /project2/mstephens/causalTWAS/simulations/simulation_ashtest_20200721//simu_20200721-3-33-pheno.Rd /project2/mstephens/causalTWAS/simulations/simulation_susietest_20200721/20200721-3-fixprior_rpip0.9/20200721-3-fixedprior_1.txt /project2/mstephens/causalTWAS/simulations/simulation_ashtest_20200721//20200721-3-33-mr.ash2s.lassoes-es 20200721-3-33.fixedprior1 run_config.R\n",
       "source activate twas;cd /project2/mstephens/causalTWAS/simulations/simulation_susietest_20200721/20200721-3-fixprior_rpip0.9;Rscript /project2/mstephens/causalTWAS/causal-TWAS/code//run_test_susie.R /project2/mstephens/causalTWAS/ukbiobank/ukb_chr17to22_s20000 /project2/mstephens/causalTWAS/simulations/simulation_ashtest_20200721//simu_20200721-3-33-cis-expr.Rd /project2/mstephens/causalTWAS/simulations/simulation_ashtest_20200721//simu_20200721-3-33-pheno.Rd /project2/mstephens/causalTWAS/simulations/simulation_susietest_20200721/20200721-3-fixprior_rpip0.9/20200721-3-fixedprior_2.txt /project2/mstephens/causalTWAS/simulations/simulation_ashtest_20200721//20200721-3-33-mr.ash2s.lassoes-es 20200721-3-33.fixedprior2 run_config.R\n",
       "source activate twas;cd /project2/mstephens/causalTWAS/simulations/simulation_susietest_20200721/20200721-3-fixprior_rpip0.9;Rscript /project2/mstephens/causalTWAS/causal-TWAS/code//run_test_susie.R /project2/mstephens/causalTWAS/ukbiobank/ukb_chr17to22_s20000 /project2/mstephens/causalTWAS/simulations/simulation_ashtest_20200721//simu_20200721-3-33-cis-expr.Rd /project2/mstephens/causalTWAS/simulations/simulation_ashtest_20200721//simu_20200721-3-33-pheno.Rd /project2/mstephens/causalTWAS/simulations/simulation_susietest_20200721/20200721-3-fixprior_rpip0.9/20200721-3-fixedprior_3.txt /project2/mstephens/causalTWAS/simulations/simulation_ashtest_20200721//20200721-3-33-mr.ash2s.lassoes-es 20200721-3-33.fixedprior3 run_config.R\n",
       "source activate twas;cd /project2/mstephens/causalTWAS/simulations/simulation_susietest_20200721/20200721-3-fixprior_rpip0.9;Rscript /project2/mstephens/causalTWAS/causal-TWAS/code//run_test_susie.R /project2/mstephens/causalTWAS/ukbiobank/ukb_chr17to22_s20000 /project2/mstephens/causalTWAS/simulations/simulation_ashtest_20200721//simu_20200721-3-34-cis-expr.Rd /project2/mstephens/causalTWAS/simulations/simulation_ashtest_20200721//simu_20200721-3-34-pheno.Rd /project2/mstephens/causalTWAS/simulations/simulation_susietest_20200721/20200721-3-fixprior_rpip0.9/20200721-3-fixedprior_1.txt /project2/mstephens/causalTWAS/simulations/simulation_ashtest_20200721//20200721-3-34-mr.ash2s.lassoes-es 20200721-3-34.fixedprior1 run_config.R\n",
       "source activate twas;cd /project2/mstephens/causalTWAS/simulations/simulation_susietest_20200721/20200721-3-fixprior_rpip0.9;Rscript /project2/mstephens/causalTWAS/causal-TWAS/code//run_test_susie.R /project2/mstephens/causalTWAS/ukbiobank/ukb_chr17to22_s20000 /project2/mstephens/causalTWAS/simulations/simulation_ashtest_20200721//simu_20200721-3-34-cis-expr.Rd /project2/mstephens/causalTWAS/simulations/simulation_ashtest_20200721//simu_20200721-3-34-pheno.Rd /project2/mstephens/causalTWAS/simulations/simulation_susietest_20200721/20200721-3-fixprior_rpip0.9/20200721-3-fixedprior_2.txt /project2/mstephens/causalTWAS/simulations/simulation_ashtest_20200721//20200721-3-34-mr.ash2s.lassoes-es 20200721-3-34.fixedprior2 run_config.R\n",
       "source activate twas;cd /project2/mstephens/causalTWAS/simulations/simulation_susietest_20200721/20200721-3-fixprior_rpip0.9;Rscript /project2/mstephens/causalTWAS/causal-TWAS/code//run_test_susie.R /project2/mstephens/causalTWAS/ukbiobank/ukb_chr17to22_s20000 /project2/mstephens/causalTWAS/simulations/simulation_ashtest_20200721//simu_20200721-3-34-cis-expr.Rd /project2/mstephens/causalTWAS/simulations/simulation_ashtest_20200721//simu_20200721-3-34-pheno.Rd /project2/mstephens/causalTWAS/simulations/simulation_susietest_20200721/20200721-3-fixprior_rpip0.9/20200721-3-fixedprior_3.txt /project2/mstephens/causalTWAS/simulations/simulation_ashtest_20200721//20200721-3-34-mr.ash2s.lassoes-es 20200721-3-34.fixedprior3 run_config.R\n",
       "source activate twas;cd /project2/mstephens/causalTWAS/simulations/simulation_susietest_20200721/20200721-3-fixprior_rpip0.9;Rscript /project2/mstephens/causalTWAS/causal-TWAS/code//run_test_susie.R /project2/mstephens/causalTWAS/ukbiobank/ukb_chr17to22_s20000 /project2/mstephens/causalTWAS/simulations/simulation_ashtest_20200721//simu_20200721-3-35-cis-expr.Rd /project2/mstephens/causalTWAS/simulations/simulation_ashtest_20200721//simu_20200721-3-35-pheno.Rd /project2/mstephens/causalTWAS/simulations/simulation_susietest_20200721/20200721-3-fixprior_rpip0.9/20200721-3-fixedprior_1.txt /project2/mstephens/causalTWAS/simulations/simulation_ashtest_20200721//20200721-3-35-mr.ash2s.lassoes-es 20200721-3-35.fixedprior1 run_config.R\n",
       "source activate twas;cd /project2/mstephens/causalTWAS/simulations/simulation_susietest_20200721/20200721-3-fixprior_rpip0.9;Rscript /project2/mstephens/causalTWAS/causal-TWAS/code//run_test_susie.R /project2/mstephens/causalTWAS/ukbiobank/ukb_chr17to22_s20000 /project2/mstephens/causalTWAS/simulations/simulation_ashtest_20200721//simu_20200721-3-35-cis-expr.Rd /project2/mstephens/causalTWAS/simulations/simulation_ashtest_20200721//simu_20200721-3-35-pheno.Rd /project2/mstephens/causalTWAS/simulations/simulation_susietest_20200721/20200721-3-fixprior_rpip0.9/20200721-3-fixedprior_2.txt /project2/mstephens/causalTWAS/simulations/simulation_ashtest_20200721//20200721-3-35-mr.ash2s.lassoes-es 20200721-3-35.fixedprior2 run_config.R\n",
       "source activate twas;cd /project2/mstephens/causalTWAS/simulations/simulation_susietest_20200721/20200721-3-fixprior_rpip0.9;Rscript /project2/mstephens/causalTWAS/causal-TWAS/code//run_test_susie.R /project2/mstephens/causalTWAS/ukbiobank/ukb_chr17to22_s20000 /project2/mstephens/causalTWAS/simulations/simulation_ashtest_20200721//simu_20200721-3-35-cis-expr.Rd /project2/mstephens/causalTWAS/simulations/simulation_ashtest_20200721//simu_20200721-3-35-pheno.Rd /project2/mstephens/causalTWAS/simulations/simulation_susietest_20200721/20200721-3-fixprior_rpip0.9/20200721-3-fixedprior_3.txt /project2/mstephens/causalTWAS/simulations/simulation_ashtest_20200721//20200721-3-35-mr.ash2s.lassoes-es 20200721-3-35.fixedprior3 run_config.R\n",
       "source activate twas;cd /project2/mstephens/causalTWAS/simulations/simulation_susietest_20200721/20200721-3-fixprior_rpip0.9;Rscript /project2/mstephens/causalTWAS/causal-TWAS/code//run_test_susie.R /project2/mstephens/causalTWAS/ukbiobank/ukb_chr17to22_s20000 /project2/mstephens/causalTWAS/simulations/simulation_ashtest_20200721//simu_20200721-3-36-cis-expr.Rd /project2/mstephens/causalTWAS/simulations/simulation_ashtest_20200721//simu_20200721-3-36-pheno.Rd /project2/mstephens/causalTWAS/simulations/simulation_susietest_20200721/20200721-3-fixprior_rpip0.9/20200721-3-fixedprior_1.txt /project2/mstephens/causalTWAS/simulations/simulation_ashtest_20200721//20200721-3-36-mr.ash2s.lassoes-es 20200721-3-36.fixedprior1 run_config.R\n",
       "source activate twas;cd /project2/mstephens/causalTWAS/simulations/simulation_susietest_20200721/20200721-3-fixprior_rpip0.9;Rscript /project2/mstephens/causalTWAS/causal-TWAS/code//run_test_susie.R /project2/mstephens/causalTWAS/ukbiobank/ukb_chr17to22_s20000 /project2/mstephens/causalTWAS/simulations/simulation_ashtest_20200721//simu_20200721-3-36-cis-expr.Rd /project2/mstephens/causalTWAS/simulations/simulation_ashtest_20200721//simu_20200721-3-36-pheno.Rd /project2/mstephens/causalTWAS/simulations/simulation_susietest_20200721/20200721-3-fixprior_rpip0.9/20200721-3-fixedprior_2.txt /project2/mstephens/causalTWAS/simulations/simulation_ashtest_20200721//20200721-3-36-mr.ash2s.lassoes-es 20200721-3-36.fixedprior2 run_config.R\n",
       "source activate twas;cd /project2/mstephens/causalTWAS/simulations/simulation_susietest_20200721/20200721-3-fixprior_rpip0.9;Rscript /project2/mstephens/causalTWAS/causal-TWAS/code//run_test_susie.R /project2/mstephens/causalTWAS/ukbiobank/ukb_chr17to22_s20000 /project2/mstephens/causalTWAS/simulations/simulation_ashtest_20200721//simu_20200721-3-36-cis-expr.Rd /project2/mstephens/causalTWAS/simulations/simulation_ashtest_20200721//simu_20200721-3-36-pheno.Rd /project2/mstephens/causalTWAS/simulations/simulation_susietest_20200721/20200721-3-fixprior_rpip0.9/20200721-3-fixedprior_3.txt /project2/mstephens/causalTWAS/simulations/simulation_ashtest_20200721//20200721-3-36-mr.ash2s.lassoes-es 20200721-3-36.fixedprior3 run_config.R\n",
       "source activate twas;cd /project2/mstephens/causalTWAS/simulations/simulation_susietest_20200721/20200721-3-fixprior_rpip0.9;Rscript /project2/mstephens/causalTWAS/causal-TWAS/code//run_test_susie.R /project2/mstephens/causalTWAS/ukbiobank/ukb_chr17to22_s20000 /project2/mstephens/causalTWAS/simulations/simulation_ashtest_20200721//simu_20200721-3-37-cis-expr.Rd /project2/mstephens/causalTWAS/simulations/simulation_ashtest_20200721//simu_20200721-3-37-pheno.Rd /project2/mstephens/causalTWAS/simulations/simulation_susietest_20200721/20200721-3-fixprior_rpip0.9/20200721-3-fixedprior_1.txt /project2/mstephens/causalTWAS/simulations/simulation_ashtest_20200721//20200721-3-37-mr.ash2s.lassoes-es 20200721-3-37.fixedprior1 run_config.R\n",
       "source activate twas;cd /project2/mstephens/causalTWAS/simulations/simulation_susietest_20200721/20200721-3-fixprior_rpip0.9;Rscript /project2/mstephens/causalTWAS/causal-TWAS/code//run_test_susie.R /project2/mstephens/causalTWAS/ukbiobank/ukb_chr17to22_s20000 /project2/mstephens/causalTWAS/simulations/simulation_ashtest_20200721//simu_20200721-3-37-cis-expr.Rd /project2/mstephens/causalTWAS/simulations/simulation_ashtest_20200721//simu_20200721-3-37-pheno.Rd /project2/mstephens/causalTWAS/simulations/simulation_susietest_20200721/20200721-3-fixprior_rpip0.9/20200721-3-fixedprior_2.txt /project2/mstephens/causalTWAS/simulations/simulation_ashtest_20200721//20200721-3-37-mr.ash2s.lassoes-es 20200721-3-37.fixedprior2 run_config.R\n",
       "source activate twas;cd /project2/mstephens/causalTWAS/simulations/simulation_susietest_20200721/20200721-3-fixprior_rpip0.9;Rscript /project2/mstephens/causalTWAS/causal-TWAS/code//run_test_susie.R /project2/mstephens/causalTWAS/ukbiobank/ukb_chr17to22_s20000 /project2/mstephens/causalTWAS/simulations/simulation_ashtest_20200721//simu_20200721-3-37-cis-expr.Rd /project2/mstephens/causalTWAS/simulations/simulation_ashtest_20200721//simu_20200721-3-37-pheno.Rd /project2/mstephens/causalTWAS/simulations/simulation_susietest_20200721/20200721-3-fixprior_rpip0.9/20200721-3-fixedprior_3.txt /project2/mstephens/causalTWAS/simulations/simulation_ashtest_20200721//20200721-3-37-mr.ash2s.lassoes-es 20200721-3-37.fixedprior3 run_config.R\n",
       "source activate twas;cd /project2/mstephens/causalTWAS/simulations/simulation_susietest_20200721/20200721-3-fixprior_rpip0.9;Rscript /project2/mstephens/causalTWAS/causal-TWAS/code//run_test_susie.R /project2/mstephens/causalTWAS/ukbiobank/ukb_chr17to22_s20000 /project2/mstephens/causalTWAS/simulations/simulation_ashtest_20200721//simu_20200721-3-38-cis-expr.Rd /project2/mstephens/causalTWAS/simulations/simulation_ashtest_20200721//simu_20200721-3-38-pheno.Rd /project2/mstephens/causalTWAS/simulations/simulation_susietest_20200721/20200721-3-fixprior_rpip0.9/20200721-3-fixedprior_1.txt /project2/mstephens/causalTWAS/simulations/simulation_ashtest_20200721//20200721-3-38-mr.ash2s.lassoes-es 20200721-3-38.fixedprior1 run_config.R\n",
       "source activate twas;cd /project2/mstephens/causalTWAS/simulations/simulation_susietest_20200721/20200721-3-fixprior_rpip0.9;Rscript /project2/mstephens/causalTWAS/causal-TWAS/code//run_test_susie.R /project2/mstephens/causalTWAS/ukbiobank/ukb_chr17to22_s20000 /project2/mstephens/causalTWAS/simulations/simulation_ashtest_20200721//simu_20200721-3-38-cis-expr.Rd /project2/mstephens/causalTWAS/simulations/simulation_ashtest_20200721//simu_20200721-3-38-pheno.Rd /project2/mstephens/causalTWAS/simulations/simulation_susietest_20200721/20200721-3-fixprior_rpip0.9/20200721-3-fixedprior_2.txt /project2/mstephens/causalTWAS/simulations/simulation_ashtest_20200721//20200721-3-38-mr.ash2s.lassoes-es 20200721-3-38.fixedprior2 run_config.R\n",
       "source activate twas;cd /project2/mstephens/causalTWAS/simulations/simulation_susietest_20200721/20200721-3-fixprior_rpip0.9;Rscript /project2/mstephens/causalTWAS/causal-TWAS/code//run_test_susie.R /project2/mstephens/causalTWAS/ukbiobank/ukb_chr17to22_s20000 /project2/mstephens/causalTWAS/simulations/simulation_ashtest_20200721//simu_20200721-3-38-cis-expr.Rd /project2/mstephens/causalTWAS/simulations/simulation_ashtest_20200721//simu_20200721-3-38-pheno.Rd /project2/mstephens/causalTWAS/simulations/simulation_susietest_20200721/20200721-3-fixprior_rpip0.9/20200721-3-fixedprior_3.txt /project2/mstephens/causalTWAS/simulations/simulation_ashtest_20200721//20200721-3-38-mr.ash2s.lassoes-es 20200721-3-38.fixedprior3 run_config.R\n",
       "source activate twas;cd /project2/mstephens/causalTWAS/simulations/simulation_susietest_20200721/20200721-3-fixprior_rpip0.9;Rscript /project2/mstephens/causalTWAS/causal-TWAS/code//run_test_susie.R /project2/mstephens/causalTWAS/ukbiobank/ukb_chr17to22_s20000 /project2/mstephens/causalTWAS/simulations/simulation_ashtest_20200721//simu_20200721-3-39-cis-expr.Rd /project2/mstephens/causalTWAS/simulations/simulation_ashtest_20200721//simu_20200721-3-39-pheno.Rd /project2/mstephens/causalTWAS/simulations/simulation_susietest_20200721/20200721-3-fixprior_rpip0.9/20200721-3-fixedprior_1.txt /project2/mstephens/causalTWAS/simulations/simulation_ashtest_20200721//20200721-3-39-mr.ash2s.lassoes-es 20200721-3-39.fixedprior1 run_config.R\n",
       "source activate twas;cd /project2/mstephens/causalTWAS/simulations/simulation_susietest_20200721/20200721-3-fixprior_rpip0.9;Rscript /project2/mstephens/causalTWAS/causal-TWAS/code//run_test_susie.R /project2/mstephens/causalTWAS/ukbiobank/ukb_chr17to22_s20000 /project2/mstephens/causalTWAS/simulations/simulation_ashtest_20200721//simu_20200721-3-39-cis-expr.Rd /project2/mstephens/causalTWAS/simulations/simulation_ashtest_20200721//simu_20200721-3-39-pheno.Rd /project2/mstephens/causalTWAS/simulations/simulation_susietest_20200721/20200721-3-fixprior_rpip0.9/20200721-3-fixedprior_2.txt /project2/mstephens/causalTWAS/simulations/simulation_ashtest_20200721//20200721-3-39-mr.ash2s.lassoes-es 20200721-3-39.fixedprior2 run_config.R\n",
       "source activate twas;cd /project2/mstephens/causalTWAS/simulations/simulation_susietest_20200721/20200721-3-fixprior_rpip0.9;Rscript /project2/mstephens/causalTWAS/causal-TWAS/code//run_test_susie.R /project2/mstephens/causalTWAS/ukbiobank/ukb_chr17to22_s20000 /project2/mstephens/causalTWAS/simulations/simulation_ashtest_20200721//simu_20200721-3-39-cis-expr.Rd /project2/mstephens/causalTWAS/simulations/simulation_ashtest_20200721//simu_20200721-3-39-pheno.Rd /project2/mstephens/causalTWAS/simulations/simulation_susietest_20200721/20200721-3-fixprior_rpip0.9/20200721-3-fixedprior_3.txt /project2/mstephens/causalTWAS/simulations/simulation_ashtest_20200721//20200721-3-39-mr.ash2s.lassoes-es 20200721-3-39.fixedprior3 run_config.R\n",
       "source activate twas;cd /project2/mstephens/causalTWAS/simulations/simulation_susietest_20200721/20200721-3-fixprior_rpip0.9;Rscript /project2/mstephens/causalTWAS/causal-TWAS/code//run_test_susie.R /project2/mstephens/causalTWAS/ukbiobank/ukb_chr17to22_s20000 /project2/mstephens/causalTWAS/simulations/simulation_ashtest_20200721//simu_20200721-3-40-cis-expr.Rd /project2/mstephens/causalTWAS/simulations/simulation_ashtest_20200721//simu_20200721-3-40-pheno.Rd /project2/mstephens/causalTWAS/simulations/simulation_susietest_20200721/20200721-3-fixprior_rpip0.9/20200721-3-fixedprior_1.txt /project2/mstephens/causalTWAS/simulations/simulation_ashtest_20200721//20200721-3-40-mr.ash2s.lassoes-es 20200721-3-40.fixedprior1 run_config.R\n",
       "source activate twas;cd /project2/mstephens/causalTWAS/simulations/simulation_susietest_20200721/20200721-3-fixprior_rpip0.9;Rscript /project2/mstephens/causalTWAS/causal-TWAS/code//run_test_susie.R /project2/mstephens/causalTWAS/ukbiobank/ukb_chr17to22_s20000 /project2/mstephens/causalTWAS/simulations/simulation_ashtest_20200721//simu_20200721-3-40-cis-expr.Rd /project2/mstephens/causalTWAS/simulations/simulation_ashtest_20200721//simu_20200721-3-40-pheno.Rd /project2/mstephens/causalTWAS/simulations/simulation_susietest_20200721/20200721-3-fixprior_rpip0.9/20200721-3-fixedprior_2.txt /project2/mstephens/causalTWAS/simulations/simulation_ashtest_20200721//20200721-3-40-mr.ash2s.lassoes-es 20200721-3-40.fixedprior2 run_config.R\n",
       "source activate twas;cd /project2/mstephens/causalTWAS/simulations/simulation_susietest_20200721/20200721-3-fixprior_rpip0.9;Rscript /project2/mstephens/causalTWAS/causal-TWAS/code//run_test_susie.R /project2/mstephens/causalTWAS/ukbiobank/ukb_chr17to22_s20000 /project2/mstephens/causalTWAS/simulations/simulation_ashtest_20200721//simu_20200721-3-40-cis-expr.Rd /project2/mstephens/causalTWAS/simulations/simulation_ashtest_20200721//simu_20200721-3-40-pheno.Rd /project2/mstephens/causalTWAS/simulations/simulation_susietest_20200721/20200721-3-fixprior_rpip0.9/20200721-3-fixedprior_3.txt /project2/mstephens/causalTWAS/simulations/simulation_ashtest_20200721//20200721-3-40-mr.ash2s.lassoes-es 20200721-3-40.fixedprior3 run_config.R\n",
       "source activate twas;cd /project2/mstephens/causalTWAS/simulations/simulation_susietest_20200721/20200721-3-fixprior_rpip0.9;Rscript /project2/mstephens/causalTWAS/causal-TWAS/code//run_test_susie.R /project2/mstephens/causalTWAS/ukbiobank/ukb_chr17to22_s20000 /project2/mstephens/causalTWAS/simulations/simulation_ashtest_20200721//simu_20200721-3-41-cis-expr.Rd /project2/mstephens/causalTWAS/simulations/simulation_ashtest_20200721//simu_20200721-3-41-pheno.Rd /project2/mstephens/causalTWAS/simulations/simulation_susietest_20200721/20200721-3-fixprior_rpip0.9/20200721-3-fixedprior_1.txt /project2/mstephens/causalTWAS/simulations/simulation_ashtest_20200721//20200721-3-41-mr.ash2s.lassoes-es 20200721-3-41.fixedprior1 run_config.R\n",
       "source activate twas;cd /project2/mstephens/causalTWAS/simulations/simulation_susietest_20200721/20200721-3-fixprior_rpip0.9;Rscript /project2/mstephens/causalTWAS/causal-TWAS/code//run_test_susie.R /project2/mstephens/causalTWAS/ukbiobank/ukb_chr17to22_s20000 /project2/mstephens/causalTWAS/simulations/simulation_ashtest_20200721//simu_20200721-3-41-cis-expr.Rd /project2/mstephens/causalTWAS/simulations/simulation_ashtest_20200721//simu_20200721-3-41-pheno.Rd /project2/mstephens/causalTWAS/simulations/simulation_susietest_20200721/20200721-3-fixprior_rpip0.9/20200721-3-fixedprior_2.txt /project2/mstephens/causalTWAS/simulations/simulation_ashtest_20200721//20200721-3-41-mr.ash2s.lassoes-es 20200721-3-41.fixedprior2 run_config.R\n",
       "source activate twas;cd /project2/mstephens/causalTWAS/simulations/simulation_susietest_20200721/20200721-3-fixprior_rpip0.9;Rscript /project2/mstephens/causalTWAS/causal-TWAS/code//run_test_susie.R /project2/mstephens/causalTWAS/ukbiobank/ukb_chr17to22_s20000 /project2/mstephens/causalTWAS/simulations/simulation_ashtest_20200721//simu_20200721-3-41-cis-expr.Rd /project2/mstephens/causalTWAS/simulations/simulation_ashtest_20200721//simu_20200721-3-41-pheno.Rd /project2/mstephens/causalTWAS/simulations/simulation_susietest_20200721/20200721-3-fixprior_rpip0.9/20200721-3-fixedprior_3.txt /project2/mstephens/causalTWAS/simulations/simulation_ashtest_20200721//20200721-3-41-mr.ash2s.lassoes-es 20200721-3-41.fixedprior3 run_config.R\n",
       "source activate twas;cd /project2/mstephens/causalTWAS/simulations/simulation_susietest_20200721/20200721-3-fixprior_rpip0.9;Rscript /project2/mstephens/causalTWAS/causal-TWAS/code//run_test_susie.R /project2/mstephens/causalTWAS/ukbiobank/ukb_chr17to22_s20000 /project2/mstephens/causalTWAS/simulations/simulation_ashtest_20200721//simu_20200721-3-42-cis-expr.Rd /project2/mstephens/causalTWAS/simulations/simulation_ashtest_20200721//simu_20200721-3-42-pheno.Rd /project2/mstephens/causalTWAS/simulations/simulation_susietest_20200721/20200721-3-fixprior_rpip0.9/20200721-3-fixedprior_1.txt /project2/mstephens/causalTWAS/simulations/simulation_ashtest_20200721//20200721-3-42-mr.ash2s.lassoes-es 20200721-3-42.fixedprior1 run_config.R\n",
       "source activate twas;cd /project2/mstephens/causalTWAS/simulations/simulation_susietest_20200721/20200721-3-fixprior_rpip0.9;Rscript /project2/mstephens/causalTWAS/causal-TWAS/code//run_test_susie.R /project2/mstephens/causalTWAS/ukbiobank/ukb_chr17to22_s20000 /project2/mstephens/causalTWAS/simulations/simulation_ashtest_20200721//simu_20200721-3-42-cis-expr.Rd /project2/mstephens/causalTWAS/simulations/simulation_ashtest_20200721//simu_20200721-3-42-pheno.Rd /project2/mstephens/causalTWAS/simulations/simulation_susietest_20200721/20200721-3-fixprior_rpip0.9/20200721-3-fixedprior_2.txt /project2/mstephens/causalTWAS/simulations/simulation_ashtest_20200721//20200721-3-42-mr.ash2s.lassoes-es 20200721-3-42.fixedprior2 run_config.R\n",
       "source activate twas;cd /project2/mstephens/causalTWAS/simulations/simulation_susietest_20200721/20200721-3-fixprior_rpip0.9;Rscript /project2/mstephens/causalTWAS/causal-TWAS/code//run_test_susie.R /project2/mstephens/causalTWAS/ukbiobank/ukb_chr17to22_s20000 /project2/mstephens/causalTWAS/simulations/simulation_ashtest_20200721//simu_20200721-3-42-cis-expr.Rd /project2/mstephens/causalTWAS/simulations/simulation_ashtest_20200721//simu_20200721-3-42-pheno.Rd /project2/mstephens/causalTWAS/simulations/simulation_susietest_20200721/20200721-3-fixprior_rpip0.9/20200721-3-fixedprior_3.txt /project2/mstephens/causalTWAS/simulations/simulation_ashtest_20200721//20200721-3-42-mr.ash2s.lassoes-es 20200721-3-42.fixedprior3 run_config.R\n",
       "source activate twas;cd /project2/mstephens/causalTWAS/simulations/simulation_susietest_20200721/20200721-3-fixprior_rpip0.9;Rscript /project2/mstephens/causalTWAS/causal-TWAS/code//run_test_susie.R /project2/mstephens/causalTWAS/ukbiobank/ukb_chr17to22_s20000 /project2/mstephens/causalTWAS/simulations/simulation_ashtest_20200721//simu_20200721-3-43-cis-expr.Rd /project2/mstephens/causalTWAS/simulations/simulation_ashtest_20200721//simu_20200721-3-43-pheno.Rd /project2/mstephens/causalTWAS/simulations/simulation_susietest_20200721/20200721-3-fixprior_rpip0.9/20200721-3-fixedprior_1.txt /project2/mstephens/causalTWAS/simulations/simulation_ashtest_20200721//20200721-3-43-mr.ash2s.lassoes-es 20200721-3-43.fixedprior1 run_config.R\n",
       "source activate twas;cd /project2/mstephens/causalTWAS/simulations/simulation_susietest_20200721/20200721-3-fixprior_rpip0.9;Rscript /project2/mstephens/causalTWAS/causal-TWAS/code//run_test_susie.R /project2/mstephens/causalTWAS/ukbiobank/ukb_chr17to22_s20000 /project2/mstephens/causalTWAS/simulations/simulation_ashtest_20200721//simu_20200721-3-43-cis-expr.Rd /project2/mstephens/causalTWAS/simulations/simulation_ashtest_20200721//simu_20200721-3-43-pheno.Rd /project2/mstephens/causalTWAS/simulations/simulation_susietest_20200721/20200721-3-fixprior_rpip0.9/20200721-3-fixedprior_2.txt /project2/mstephens/causalTWAS/simulations/simulation_ashtest_20200721//20200721-3-43-mr.ash2s.lassoes-es 20200721-3-43.fixedprior2 run_config.R\n",
       "source activate twas;cd /project2/mstephens/causalTWAS/simulations/simulation_susietest_20200721/20200721-3-fixprior_rpip0.9;Rscript /project2/mstephens/causalTWAS/causal-TWAS/code//run_test_susie.R /project2/mstephens/causalTWAS/ukbiobank/ukb_chr17to22_s20000 /project2/mstephens/causalTWAS/simulations/simulation_ashtest_20200721//simu_20200721-3-43-cis-expr.Rd /project2/mstephens/causalTWAS/simulations/simulation_ashtest_20200721//simu_20200721-3-43-pheno.Rd /project2/mstephens/causalTWAS/simulations/simulation_susietest_20200721/20200721-3-fixprior_rpip0.9/20200721-3-fixedprior_3.txt /project2/mstephens/causalTWAS/simulations/simulation_ashtest_20200721//20200721-3-43-mr.ash2s.lassoes-es 20200721-3-43.fixedprior3 run_config.R\n",
       "source activate twas;cd /project2/mstephens/causalTWAS/simulations/simulation_susietest_20200721/20200721-3-fixprior_rpip0.9;Rscript /project2/mstephens/causalTWAS/causal-TWAS/code//run_test_susie.R /project2/mstephens/causalTWAS/ukbiobank/ukb_chr17to22_s20000 /project2/mstephens/causalTWAS/simulations/simulation_ashtest_20200721//simu_20200721-3-44-cis-expr.Rd /project2/mstephens/causalTWAS/simulations/simulation_ashtest_20200721//simu_20200721-3-44-pheno.Rd /project2/mstephens/causalTWAS/simulations/simulation_susietest_20200721/20200721-3-fixprior_rpip0.9/20200721-3-fixedprior_1.txt /project2/mstephens/causalTWAS/simulations/simulation_ashtest_20200721//20200721-3-44-mr.ash2s.lassoes-es 20200721-3-44.fixedprior1 run_config.R\n",
       "source activate twas;cd /project2/mstephens/causalTWAS/simulations/simulation_susietest_20200721/20200721-3-fixprior_rpip0.9;Rscript /project2/mstephens/causalTWAS/causal-TWAS/code//run_test_susie.R /project2/mstephens/causalTWAS/ukbiobank/ukb_chr17to22_s20000 /project2/mstephens/causalTWAS/simulations/simulation_ashtest_20200721//simu_20200721-3-44-cis-expr.Rd /project2/mstephens/causalTWAS/simulations/simulation_ashtest_20200721//simu_20200721-3-44-pheno.Rd /project2/mstephens/causalTWAS/simulations/simulation_susietest_20200721/20200721-3-fixprior_rpip0.9/20200721-3-fixedprior_2.txt /project2/mstephens/causalTWAS/simulations/simulation_ashtest_20200721//20200721-3-44-mr.ash2s.lassoes-es 20200721-3-44.fixedprior2 run_config.R\n",
       "source activate twas;cd /project2/mstephens/causalTWAS/simulations/simulation_susietest_20200721/20200721-3-fixprior_rpip0.9;Rscript /project2/mstephens/causalTWAS/causal-TWAS/code//run_test_susie.R /project2/mstephens/causalTWAS/ukbiobank/ukb_chr17to22_s20000 /project2/mstephens/causalTWAS/simulations/simulation_ashtest_20200721//simu_20200721-3-44-cis-expr.Rd /project2/mstephens/causalTWAS/simulations/simulation_ashtest_20200721//simu_20200721-3-44-pheno.Rd /project2/mstephens/causalTWAS/simulations/simulation_susietest_20200721/20200721-3-fixprior_rpip0.9/20200721-3-fixedprior_3.txt /project2/mstephens/causalTWAS/simulations/simulation_ashtest_20200721//20200721-3-44-mr.ash2s.lassoes-es 20200721-3-44.fixedprior3 run_config.R\n",
       "source activate twas;cd /project2/mstephens/causalTWAS/simulations/simulation_susietest_20200721/20200721-3-fixprior_rpip0.9;Rscript /project2/mstephens/causalTWAS/causal-TWAS/code//run_test_susie.R /project2/mstephens/causalTWAS/ukbiobank/ukb_chr17to22_s20000 /project2/mstephens/causalTWAS/simulations/simulation_ashtest_20200721//simu_20200721-3-45-cis-expr.Rd /project2/mstephens/causalTWAS/simulations/simulation_ashtest_20200721//simu_20200721-3-45-pheno.Rd /project2/mstephens/causalTWAS/simulations/simulation_susietest_20200721/20200721-3-fixprior_rpip0.9/20200721-3-fixedprior_1.txt /project2/mstephens/causalTWAS/simulations/simulation_ashtest_20200721//20200721-3-45-mr.ash2s.lassoes-es 20200721-3-45.fixedprior1 run_config.R\n",
       "source activate twas;cd /project2/mstephens/causalTWAS/simulations/simulation_susietest_20200721/20200721-3-fixprior_rpip0.9;Rscript /project2/mstephens/causalTWAS/causal-TWAS/code//run_test_susie.R /project2/mstephens/causalTWAS/ukbiobank/ukb_chr17to22_s20000 /project2/mstephens/causalTWAS/simulations/simulation_ashtest_20200721//simu_20200721-3-45-cis-expr.Rd /project2/mstephens/causalTWAS/simulations/simulation_ashtest_20200721//simu_20200721-3-45-pheno.Rd /project2/mstephens/causalTWAS/simulations/simulation_susietest_20200721/20200721-3-fixprior_rpip0.9/20200721-3-fixedprior_2.txt /project2/mstephens/causalTWAS/simulations/simulation_ashtest_20200721//20200721-3-45-mr.ash2s.lassoes-es 20200721-3-45.fixedprior2 run_config.R\n",
       "source activate twas;cd /project2/mstephens/causalTWAS/simulations/simulation_susietest_20200721/20200721-3-fixprior_rpip0.9;Rscript /project2/mstephens/causalTWAS/causal-TWAS/code//run_test_susie.R /project2/mstephens/causalTWAS/ukbiobank/ukb_chr17to22_s20000 /project2/mstephens/causalTWAS/simulations/simulation_ashtest_20200721//simu_20200721-3-45-cis-expr.Rd /project2/mstephens/causalTWAS/simulations/simulation_ashtest_20200721//simu_20200721-3-45-pheno.Rd /project2/mstephens/causalTWAS/simulations/simulation_susietest_20200721/20200721-3-fixprior_rpip0.9/20200721-3-fixedprior_3.txt /project2/mstephens/causalTWAS/simulations/simulation_ashtest_20200721//20200721-3-45-mr.ash2s.lassoes-es 20200721-3-45.fixedprior3 run_config.R\n",
       "source activate twas;cd /project2/mstephens/causalTWAS/simulations/simulation_susietest_20200721/20200721-3-fixprior_rpip0.9;Rscript /project2/mstephens/causalTWAS/causal-TWAS/code//run_test_susie.R /project2/mstephens/causalTWAS/ukbiobank/ukb_chr17to22_s20000 /project2/mstephens/causalTWAS/simulations/simulation_ashtest_20200721//simu_20200721-3-46-cis-expr.Rd /project2/mstephens/causalTWAS/simulations/simulation_ashtest_20200721//simu_20200721-3-46-pheno.Rd /project2/mstephens/causalTWAS/simulations/simulation_susietest_20200721/20200721-3-fixprior_rpip0.9/20200721-3-fixedprior_1.txt /project2/mstephens/causalTWAS/simulations/simulation_ashtest_20200721//20200721-3-46-mr.ash2s.lassoes-es 20200721-3-46.fixedprior1 run_config.R\n",
       "source activate twas;cd /project2/mstephens/causalTWAS/simulations/simulation_susietest_20200721/20200721-3-fixprior_rpip0.9;Rscript /project2/mstephens/causalTWAS/causal-TWAS/code//run_test_susie.R /project2/mstephens/causalTWAS/ukbiobank/ukb_chr17to22_s20000 /project2/mstephens/causalTWAS/simulations/simulation_ashtest_20200721//simu_20200721-3-46-cis-expr.Rd /project2/mstephens/causalTWAS/simulations/simulation_ashtest_20200721//simu_20200721-3-46-pheno.Rd /project2/mstephens/causalTWAS/simulations/simulation_susietest_20200721/20200721-3-fixprior_rpip0.9/20200721-3-fixedprior_2.txt /project2/mstephens/causalTWAS/simulations/simulation_ashtest_20200721//20200721-3-46-mr.ash2s.lassoes-es 20200721-3-46.fixedprior2 run_config.R\n",
       "source activate twas;cd /project2/mstephens/causalTWAS/simulations/simulation_susietest_20200721/20200721-3-fixprior_rpip0.9;Rscript /project2/mstephens/causalTWAS/causal-TWAS/code//run_test_susie.R /project2/mstephens/causalTWAS/ukbiobank/ukb_chr17to22_s20000 /project2/mstephens/causalTWAS/simulations/simulation_ashtest_20200721//simu_20200721-3-46-cis-expr.Rd /project2/mstephens/causalTWAS/simulations/simulation_ashtest_20200721//simu_20200721-3-46-pheno.Rd /project2/mstephens/causalTWAS/simulations/simulation_susietest_20200721/20200721-3-fixprior_rpip0.9/20200721-3-fixedprior_3.txt /project2/mstephens/causalTWAS/simulations/simulation_ashtest_20200721//20200721-3-46-mr.ash2s.lassoes-es 20200721-3-46.fixedprior3 run_config.R\n",
       "source activate twas;cd /project2/mstephens/causalTWAS/simulations/simulation_susietest_20200721/20200721-3-fixprior_rpip0.9;Rscript /project2/mstephens/causalTWAS/causal-TWAS/code//run_test_susie.R /project2/mstephens/causalTWAS/ukbiobank/ukb_chr17to22_s20000 /project2/mstephens/causalTWAS/simulations/simulation_ashtest_20200721//simu_20200721-3-47-cis-expr.Rd /project2/mstephens/causalTWAS/simulations/simulation_ashtest_20200721//simu_20200721-3-47-pheno.Rd /project2/mstephens/causalTWAS/simulations/simulation_susietest_20200721/20200721-3-fixprior_rpip0.9/20200721-3-fixedprior_1.txt /project2/mstephens/causalTWAS/simulations/simulation_ashtest_20200721//20200721-3-47-mr.ash2s.lassoes-es 20200721-3-47.fixedprior1 run_config.R\n",
       "source activate twas;cd /project2/mstephens/causalTWAS/simulations/simulation_susietest_20200721/20200721-3-fixprior_rpip0.9;Rscript /project2/mstephens/causalTWAS/causal-TWAS/code//run_test_susie.R /project2/mstephens/causalTWAS/ukbiobank/ukb_chr17to22_s20000 /project2/mstephens/causalTWAS/simulations/simulation_ashtest_20200721//simu_20200721-3-47-cis-expr.Rd /project2/mstephens/causalTWAS/simulations/simulation_ashtest_20200721//simu_20200721-3-47-pheno.Rd /project2/mstephens/causalTWAS/simulations/simulation_susietest_20200721/20200721-3-fixprior_rpip0.9/20200721-3-fixedprior_2.txt /project2/mstephens/causalTWAS/simulations/simulation_ashtest_20200721//20200721-3-47-mr.ash2s.lassoes-es 20200721-3-47.fixedprior2 run_config.R\n",
       "source activate twas;cd /project2/mstephens/causalTWAS/simulations/simulation_susietest_20200721/20200721-3-fixprior_rpip0.9;Rscript /project2/mstephens/causalTWAS/causal-TWAS/code//run_test_susie.R /project2/mstephens/causalTWAS/ukbiobank/ukb_chr17to22_s20000 /project2/mstephens/causalTWAS/simulations/simulation_ashtest_20200721//simu_20200721-3-47-cis-expr.Rd /project2/mstephens/causalTWAS/simulations/simulation_ashtest_20200721//simu_20200721-3-47-pheno.Rd /project2/mstephens/causalTWAS/simulations/simulation_susietest_20200721/20200721-3-fixprior_rpip0.9/20200721-3-fixedprior_3.txt /project2/mstephens/causalTWAS/simulations/simulation_ashtest_20200721//20200721-3-47-mr.ash2s.lassoes-es 20200721-3-47.fixedprior3 run_config.R\n",
       "source activate twas;cd /project2/mstephens/causalTWAS/simulations/simulation_susietest_20200721/20200721-3-fixprior_rpip0.9;Rscript /project2/mstephens/causalTWAS/causal-TWAS/code//run_test_susie.R /project2/mstephens/causalTWAS/ukbiobank/ukb_chr17to22_s20000 /project2/mstephens/causalTWAS/simulations/simulation_ashtest_20200721//simu_20200721-3-48-cis-expr.Rd /project2/mstephens/causalTWAS/simulations/simulation_ashtest_20200721//simu_20200721-3-48-pheno.Rd /project2/mstephens/causalTWAS/simulations/simulation_susietest_20200721/20200721-3-fixprior_rpip0.9/20200721-3-fixedprior_1.txt /project2/mstephens/causalTWAS/simulations/simulation_ashtest_20200721//20200721-3-48-mr.ash2s.lassoes-es 20200721-3-48.fixedprior1 run_config.R\n",
       "source activate twas;cd /project2/mstephens/causalTWAS/simulations/simulation_susietest_20200721/20200721-3-fixprior_rpip0.9;Rscript /project2/mstephens/causalTWAS/causal-TWAS/code//run_test_susie.R /project2/mstephens/causalTWAS/ukbiobank/ukb_chr17to22_s20000 /project2/mstephens/causalTWAS/simulations/simulation_ashtest_20200721//simu_20200721-3-48-cis-expr.Rd /project2/mstephens/causalTWAS/simulations/simulation_ashtest_20200721//simu_20200721-3-48-pheno.Rd /project2/mstephens/causalTWAS/simulations/simulation_susietest_20200721/20200721-3-fixprior_rpip0.9/20200721-3-fixedprior_2.txt /project2/mstephens/causalTWAS/simulations/simulation_ashtest_20200721//20200721-3-48-mr.ash2s.lassoes-es 20200721-3-48.fixedprior2 run_config.R\n",
       "source activate twas;cd /project2/mstephens/causalTWAS/simulations/simulation_susietest_20200721/20200721-3-fixprior_rpip0.9;Rscript /project2/mstephens/causalTWAS/causal-TWAS/code//run_test_susie.R /project2/mstephens/causalTWAS/ukbiobank/ukb_chr17to22_s20000 /project2/mstephens/causalTWAS/simulations/simulation_ashtest_20200721//simu_20200721-3-48-cis-expr.Rd /project2/mstephens/causalTWAS/simulations/simulation_ashtest_20200721//simu_20200721-3-48-pheno.Rd /project2/mstephens/causalTWAS/simulations/simulation_susietest_20200721/20200721-3-fixprior_rpip0.9/20200721-3-fixedprior_3.txt /project2/mstephens/causalTWAS/simulations/simulation_ashtest_20200721//20200721-3-48-mr.ash2s.lassoes-es 20200721-3-48.fixedprior3 run_config.R\n",
       "source activate twas;cd /project2/mstephens/causalTWAS/simulations/simulation_susietest_20200721/20200721-3-fixprior_rpip0.9;Rscript /project2/mstephens/causalTWAS/causal-TWAS/code//run_test_susie.R /project2/mstephens/causalTWAS/ukbiobank/ukb_chr17to22_s20000 /project2/mstephens/causalTWAS/simulations/simulation_ashtest_20200721//simu_20200721-3-49-cis-expr.Rd /project2/mstephens/causalTWAS/simulations/simulation_ashtest_20200721//simu_20200721-3-49-pheno.Rd /project2/mstephens/causalTWAS/simulations/simulation_susietest_20200721/20200721-3-fixprior_rpip0.9/20200721-3-fixedprior_1.txt /project2/mstephens/causalTWAS/simulations/simulation_ashtest_20200721//20200721-3-49-mr.ash2s.lassoes-es 20200721-3-49.fixedprior1 run_config.R\n",
       "source activate twas;cd /project2/mstephens/causalTWAS/simulations/simulation_susietest_20200721/20200721-3-fixprior_rpip0.9;Rscript /project2/mstephens/causalTWAS/causal-TWAS/code//run_test_susie.R /project2/mstephens/causalTWAS/ukbiobank/ukb_chr17to22_s20000 /project2/mstephens/causalTWAS/simulations/simulation_ashtest_20200721//simu_20200721-3-49-cis-expr.Rd /project2/mstephens/causalTWAS/simulations/simulation_ashtest_20200721//simu_20200721-3-49-pheno.Rd /project2/mstephens/causalTWAS/simulations/simulation_susietest_20200721/20200721-3-fixprior_rpip0.9/20200721-3-fixedprior_2.txt /project2/mstephens/causalTWAS/simulations/simulation_ashtest_20200721//20200721-3-49-mr.ash2s.lassoes-es 20200721-3-49.fixedprior2 run_config.R\n",
       "source activate twas;cd /project2/mstephens/causalTWAS/simulations/simulation_susietest_20200721/20200721-3-fixprior_rpip0.9;Rscript /project2/mstephens/causalTWAS/causal-TWAS/code//run_test_susie.R /project2/mstephens/causalTWAS/ukbiobank/ukb_chr17to22_s20000 /project2/mstephens/causalTWAS/simulations/simulation_ashtest_20200721//simu_20200721-3-49-cis-expr.Rd /project2/mstephens/causalTWAS/simulations/simulation_ashtest_20200721//simu_20200721-3-49-pheno.Rd /project2/mstephens/causalTWAS/simulations/simulation_susietest_20200721/20200721-3-fixprior_rpip0.9/20200721-3-fixedprior_3.txt /project2/mstephens/causalTWAS/simulations/simulation_ashtest_20200721//20200721-3-49-mr.ash2s.lassoes-es 20200721-3-49.fixedprior3 run_config.R\n",
       "source activate twas;cd /project2/mstephens/causalTWAS/simulations/simulation_susietest_20200721/20200721-3-fixprior_rpip0.9;Rscript /project2/mstephens/causalTWAS/causal-TWAS/code//run_test_susie.R /project2/mstephens/causalTWAS/ukbiobank/ukb_chr17to22_s20000 /project2/mstephens/causalTWAS/simulations/simulation_ashtest_20200721//simu_20200721-3-50-cis-expr.Rd /project2/mstephens/causalTWAS/simulations/simulation_ashtest_20200721//simu_20200721-3-50-pheno.Rd /project2/mstephens/causalTWAS/simulations/simulation_susietest_20200721/20200721-3-fixprior_rpip0.9/20200721-3-fixedprior_1.txt /project2/mstephens/causalTWAS/simulations/simulation_ashtest_20200721//20200721-3-50-mr.ash2s.lassoes-es 20200721-3-50.fixedprior1 run_config.R\n",
       "source activate twas;cd /project2/mstephens/causalTWAS/simulations/simulation_susietest_20200721/20200721-3-fixprior_rpip0.9;Rscript /project2/mstephens/causalTWAS/causal-TWAS/code//run_test_susie.R /project2/mstephens/causalTWAS/ukbiobank/ukb_chr17to22_s20000 /project2/mstephens/causalTWAS/simulations/simulation_ashtest_20200721//simu_20200721-3-50-cis-expr.Rd /project2/mstephens/causalTWAS/simulations/simulation_ashtest_20200721//simu_20200721-3-50-pheno.Rd /project2/mstephens/causalTWAS/simulations/simulation_susietest_20200721/20200721-3-fixprior_rpip0.9/20200721-3-fixedprior_2.txt /project2/mstephens/causalTWAS/simulations/simulation_ashtest_20200721//20200721-3-50-mr.ash2s.lassoes-es 20200721-3-50.fixedprior2 run_config.R\n",
       "source activate twas;cd /project2/mstephens/causalTWAS/simulations/simulation_susietest_20200721/20200721-3-fixprior_rpip0.9;Rscript /project2/mstephens/causalTWAS/causal-TWAS/code//run_test_susie.R /project2/mstephens/causalTWAS/ukbiobank/ukb_chr17to22_s20000 /project2/mstephens/causalTWAS/simulations/simulation_ashtest_20200721//simu_20200721-3-50-cis-expr.Rd /project2/mstephens/causalTWAS/simulations/simulation_ashtest_20200721//simu_20200721-3-50-pheno.Rd /project2/mstephens/causalTWAS/simulations/simulation_susietest_20200721/20200721-3-fixprior_rpip0.9/20200721-3-fixedprior_3.txt /project2/mstephens/causalTWAS/simulations/simulation_ashtest_20200721//20200721-3-50-mr.ash2s.lassoes-es 20200721-3-50.fixedprior3 run_config.R\n"
      ]
     },
     "metadata": {},
     "output_type": "display_data"
    }
   ],
   "source": [
    "more susie_run3-x-fixedp.sh"
   ]
  },
  {
   "cell_type": "code",
   "execution_count": null,
   "metadata": {},
   "outputs": [],
   "source": []
  }
 ],
 "metadata": {
  "kernelspec": {
   "display_name": "Python [default]",
   "language": "python",
   "name": "python3"
  },
  "language_info": {
   "codemirror_mode": {
    "name": "ipython",
    "version": 3
   },
   "file_extension": ".py",
   "mimetype": "text/x-python",
   "name": "python",
   "nbconvert_exporter": "python",
   "pygments_lexer": "ipython3",
   "version": "3.5.2"
  }
 },
 "nbformat": 4,
 "nbformat_minor": 2
}
