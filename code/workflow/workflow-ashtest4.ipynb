{
 "cells": [
  {
   "cell_type": "markdown",
   "metadata": {},
   "source": [
    "# Chr17-22, GTEx Adipose (subcutaneous) fusion weights"
   ]
  },
  {
   "cell_type": "code",
   "execution_count": 1,
   "metadata": {},
   "outputs": [],
   "source": [
    "g2dir = \"cd ~/causalTWAS/simulations/simulation_ashtest_20200721\""
   ]
  },
  {
   "cell_type": "markdown",
   "metadata": {},
   "source": [
    "* simulate different PVEs and run mr.ash2s."
   ]
  },
  {
   "cell_type": "code",
   "execution_count": 2,
   "metadata": {},
   "outputs": [],
   "source": [
    "# need 16G\n",
    "simu = \"Rscript /home/simingz/causalTWAS/causal-TWAS/code/run_simulate_data.R  /home/simingz/causalTWAS/ukbiobank/ukb_chr17:22_s20000 /home/simingz/causalTWAS/fusion_weights/Adipose_Subcutaneous param-{tag}.R simu_{tag}\""
   ]
  },
  {
   "cell_type": "markdown",
   "metadata": {},
   "source": [
    "* test mr.ash2s"
   ]
  },
  {
   "cell_type": "code",
   "execution_count": 3,
   "metadata": {},
   "outputs": [],
   "source": [
    "# need an exclusive core for FBM version. <1 hour for one mode.\n",
    "# source activate twas\n",
    "mrash2 = \"Rscript /home/simingz/causalTWAS/causal-TWAS/code/run_test_mr.ash2s.R  /home/simingz/causalTWAS/ukbiobank/ukb_chr17:22_s20000  ~/causalTWAS/simulations/simulation_ashtest_20200721/simu_{tag}-cis-expr.Rd ~/causalTWAS/simulations/simulation_ashtest_20200721/simu_{tag}-pheno.Rd {tag}\""
   ]
  },
  {
   "cell_type": "code",
   "execution_count": 15,
   "metadata": {},
   "outputs": [],
   "source": [
    "## GWAS for all (require 48G for snp GWAS, using 5 cores.)\n",
    "# source activate twas\n",
    "exprgwas = \"Rscript /home/simingz/causalTWAS/causal-TWAS/code/run_gwas_expr.R simu_{tag}-cis-expr.Rd simu_{tag}-pheno.Rd {tag}\"\n",
    "snpgwas = \"Rscript /home/simingz/causalTWAS/causal-TWAS/code/run_gwas_snp.R /home/simingz/causalTWAS/ukbiobank/ukb_chr17:22_s20000 simu_{tag}-pheno.Rd {tag}\""
   ]
  },
  {
   "cell_type": "code",
   "execution_count": 5,
   "metadata": {},
   "outputs": [],
   "source": [
    "# ld\n",
    "ld = \"Rscript /home/simingz/causalTWAS/causal-TWAS/code/run_ld.R /home/simingz/causalTWAS/ukbiobank/ukb_chr22_s20000 simu_{tag}-pheno.Rd {tag}\""
   ]
  },
  {
   "cell_type": "markdown",
   "metadata": {},
   "source": [
    "* prepare param "
   ]
  },
  {
   "cell_type": "code",
   "execution_count": 16,
   "metadata": {},
   "outputs": [
    {
     "name": "stdout",
     "output_type": "stream",
     "text": [
      "/project2/mstephens/causalTWAS/simulations/simulation_ashtest_20200721\n"
     ]
    }
   ],
   "source": [
    "cd ~/causalTWAS/simulations/simulation_ashtest_20200721"
   ]
  },
  {
   "cell_type": "code",
   "execution_count": 7,
   "metadata": {},
   "outputs": [],
   "source": [
    "template = \"param-20200721-1.R\"\n",
    "a = open(template).readlines()\n",
    "for i in range(1,11):\n",
    "    with open(\"param-20200721-1-\" + str(i) + \".R\", 'w' ) as newpar:\n",
    "        a[5] = 'SED <- {sed}\\n'.format(sed = str(950 + i))\n",
    "        newpar.writelines(a)"
   ]
  },
  {
   "cell_type": "markdown",
   "metadata": {},
   "source": [
    "* Generate command"
   ]
  },
  {
   "cell_type": "code",
   "execution_count": 25,
   "metadata": {},
   "outputs": [],
   "source": [
    "tags = ['20200721-1-' + str(i) for i in [2] + list(range(4,11))]"
   ]
  },
  {
   "cell_type": "code",
   "execution_count": 26,
   "metadata": {},
   "outputs": [
    {
     "data": {
      "text/plain": [
       "['20200721-1-2',\n",
       " '20200721-1-4',\n",
       " '20200721-1-5',\n",
       " '20200721-1-6',\n",
       " '20200721-1-7',\n",
       " '20200721-1-8',\n",
       " '20200721-1-9',\n",
       " '20200721-1-10']"
      ]
     },
     "execution_count": 26,
     "metadata": {},
     "output_type": "execute_result"
    }
   ],
   "source": [
    "tags"
   ]
  },
  {
   "cell_type": "code",
   "execution_count": 27,
   "metadata": {},
   "outputs": [],
   "source": [
    "with open('master_run1-x.sh', 'w') as outf:\n",
    "    for tag in tags:\n",
    "        outf.write(';'.join(['source activate twas', \n",
    "                   g2dir,\n",
    "                   #simu.format(tag=tag),\n",
    "                   #mrash2.format(tag=tag),\n",
    "                   exprgwas.format(tag=tag),\n",
    "                   snpgwas.format(tag=tag),\n",
    "                   #ld.format(tag=tag)\n",
    "                            ]) + '\\n')"
   ]
  },
  {
   "cell_type": "code",
   "execution_count": 28,
   "metadata": {},
   "outputs": [
    {
     "name": "stdout",
     "output_type": "stream",
     "text": [
      "source activate twas;cd ~/causalTWAS/simulations/simulation_ashtest_20200721;Rscript /home/simingz/causalTWAS/causal-TWAS/code/run_gwas_expr.R simu_20200721-1-2-cis-expr.Rd simu_20200721-1-2-pheno.Rd 20200721-1-2;Rscript /home/simingz/causalTWAS/causal-TWAS/code/run_gwas_snp.R /home/simingz/causalTWAS/ukbiobank/ukb_chr17:22_s20000 simu_20200721-1-2-pheno.Rd 20200721-1-2\n"
     ]
    }
   ],
   "source": [
    "!head -n 1  master_run1-x.sh"
   ]
  },
  {
   "cell_type": "markdown",
   "metadata": {},
   "source": [
    "## test SUSIE for fine mapping"
   ]
  },
  {
   "cell_type": "code",
   "execution_count": 29,
   "metadata": {},
   "outputs": [],
   "source": [
    "## multiple runs\n",
    "g2susiedir = \"cd ~/causalTWAS/simulations/simulation_susietest_20200721\"\n",
    "mrashres = \"~/causalTWAS/simulations/simulation_ashtest_20200721/{tag}-mr.ash2s.{tag2}\"\n",
    "susie = \"Rscript /home/simingz/causalTWAS/causal-TWAS/code/run_test_susie.R /home/simingz/causalTWAS/ukbiobank/ukb_chr17:22_s20000  ~/causalTWAS/simulations/simulation_ashtest_20200721/simu_{tag}-cis-expr.Rd ~/causalTWAS/simulations/simulation_ashtest_20200721/simu_{tag}-pheno.Rd {prior} {region} {tag}.{tag2} 3\""
   ]
  },
  {
   "cell_type": "code",
   "execution_count": 30,
   "metadata": {},
   "outputs": [
    {
     "name": "stdout",
     "output_type": "stream",
     "text": [
      "/project2/mstephens/causalTWAS/simulations/simulation_susietest_20200721\n"
     ]
    }
   ],
   "source": [
    "cd ~/causalTWAS/simulations/simulation_susietest_20200721"
   ]
  },
  {
   "cell_type": "code",
   "execution_count": 31,
   "metadata": {},
   "outputs": [],
   "source": [
    "tags = ['20200721-1-' + str(i) for i in [2] + list(range(4,11))]\n",
    "tag2s = ['zeroes-es', 'lassoes-se', 'lassoes-es', 'zerose-es']"
   ]
  },
  {
   "cell_type": "code",
   "execution_count": 32,
   "metadata": {},
   "outputs": [],
   "source": [
    "# 28G, 20min for one run\n",
    "with open('susie_run1-x.sh', 'w') as outf:\n",
    "    for tag in tags:\n",
    "        for tag2 in tag2s:\n",
    "            param = mrashres.format(tag = tag, tag2 = tag2) + \".param.txt\"\n",
    "            region = mrashres.format(tag = tag, tag2 = tag2)\n",
    "            outf.write(';'.join(['source activate twas', \n",
    "                             g2susiedir,\n",
    "                             susie.format(tag = tag, tag2 = tag2, prior = param, region = region),\n",
    "                             ]) + '\\n')"
   ]
  },
  {
   "cell_type": "code",
   "execution_count": null,
   "metadata": {},
   "outputs": [],
   "source": []
  }
 ],
 "metadata": {
  "kernelspec": {
   "display_name": "Python [default]",
   "language": "python",
   "name": "python3"
  },
  "language_info": {
   "codemirror_mode": {
    "name": "ipython",
    "version": 3
   },
   "file_extension": ".py",
   "mimetype": "text/x-python",
   "name": "python",
   "nbconvert_exporter": "python",
   "pygments_lexer": "ipython3",
   "version": "3.5.2"
  }
 },
 "nbformat": 4,
 "nbformat_minor": 2
}
