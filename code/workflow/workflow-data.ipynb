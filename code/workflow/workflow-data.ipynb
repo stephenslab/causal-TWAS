{
 "cells": [
  {
   "cell_type": "markdown",
   "metadata": {},
   "source": [
    "# Get weights from Fusion"
   ]
  },
  {
   "cell_type": "code",
   "execution_count": 1,
   "metadata": {},
   "outputs": [],
   "source": [
    "cd /project2/mstephens/causalTWAS/fusion_weights"
   ]
  },
  {
   "cell_type": "code",
   "execution_count": 1,
   "metadata": {},
   "outputs": [
    {
     "name": "stdout",
     "output_type": "stream",
     "text": [
      "--2019-10-29 16:14:53--  https://data.broadinstitute.org/alkesgroup/FUSION/WGT/YFS.BLOOD.RNAARR.tar.bz2\n",
      "Resolving data.broadinstitute.org (data.broadinstitute.org)... 69.173.92.29\n",
      "Connecting to data.broadinstitute.org (data.broadinstitute.org)|69.173.92.29|:443... connected.\n",
      "HTTP request sent, awaiting response... 200 OK\n",
      "Length: 69800449 (67M) [application/x-bzip2]\n",
      "Saving to: ‘YFS.BLOOD.RNAARR.tar.bz2’\n",
      "\n",
      "100%[======================================>] 69,800,449  3.46MB/s   in 14s    \n",
      "\n",
      "2019-10-29 16:15:08 (4.75 MB/s) - ‘YFS.BLOOD.RNAARR.tar.bz2’ saved [69800449/69800449]\n",
      "\n"
     ]
    }
   ],
   "source": [
    "wget https://data.broadinstitute.org/alkesgroup/FUSION/WGT/YFS.BLOOD.RNAARR.tar.bz2"
   ]
  },
  {
   "cell_type": "code",
   "execution_count": 3,
   "metadata": {},
   "outputs": [],
   "source": [
    "tar xjf YFS.BLOOD.RNAARR.tar.bz2"
   ]
  },
  {
   "cell_type": "code",
   "execution_count": 2,
   "metadata": {},
   "outputs": [
    {
     "name": "stdout",
     "output_type": "stream",
     "text": [
      "YFS.BLOOD.RNAARR       YFS.BLOOD.RNAARR.pos\t YFS.BLOOD.RNAARR.profile.err\n",
      "YFS.BLOOD.RNAARR.list  YFS.BLOOD.RNAARR.profile  YFS.BLOOD.RNAARR.tar.bz2\n"
     ]
    }
   ],
   "source": [
    "ls"
   ]
  },
  {
   "cell_type": "markdown",
   "metadata": {},
   "source": [
    "* download all GTEx weights (v7) from Fusion"
   ]
  },
  {
   "cell_type": "code",
   "execution_count": 3,
   "metadata": {},
   "outputs": [],
   "source": [
    "cd /project2/mstephens/causalTWAS/fusion_weights"
   ]
  },
  {
   "cell_type": "code",
   "execution_count": 4,
   "metadata": {},
   "outputs": [
    {
     "name": "stdout",
     "output_type": "stream",
     "text": [
      "--2020-05-10 21:25:22--  http://gusevlab.org/projects/fusion/weights/GTEX7.txt\n",
      "Resolving gusevlab.org (gusevlab.org)... 52.216.104.170\n",
      "Connecting to gusevlab.org (gusevlab.org)|52.216.104.170|:80... connected.\n",
      "HTTP request sent, awaiting response... 200 OK\n",
      "Length: 3827 (3.7K) [text/plain]\n",
      "Saving to: ‘GTEX7.txt’\n",
      "\n",
      "100%[======================================>] 3,827       --.-K/s   in 0s      \n",
      "\n",
      "2020-05-10 21:25:22 (215 MB/s) - ‘GTEX7.txt’ saved [3827/3827]\n",
      "\n"
     ]
    }
   ],
   "source": [
    "wget http://gusevlab.org/projects/fusion/weights/GTEX7.txt"
   ]
  },
  {
   "cell_type": "code",
   "execution_count": null,
   "metadata": {},
   "outputs": [],
   "source": [
    "wget -E -H -k -K -p -e robots=off -i ./GTEX7.txt"
   ]
  },
  {
   "cell_type": "markdown",
   "metadata": {},
   "source": [
    "## Create multiple copies with different names"
   ]
  },
  {
   "cell_type": "markdown",
   "metadata": {},
   "source": [
    "only keep chr17-22 genes, make 8 copies and assign names with tag B1-B8"
   ]
  },
  {
   "cell_type": "code",
   "execution_count": 4,
   "metadata": {},
   "outputs": [
    {
     "name": "stdout",
     "output_type": "stream",
     "text": [
      "mkdir: cannot create directory ‘Adipose_Subcutaneous_B’: File exists\n"
     ]
    }
   ],
   "source": [
    "cd /project2/mstephens/causalTWAS/fusion_weights\n",
    "mkdir Adipose_Subcutaneous_B\n",
    "sed 's\\Adipose_Subcutaneous\\Adipose_Subcutaneous_B\\g' Adipose_Subcutaneous.pos > Adipose_Subcutaneous_B.pos"
   ]
  },
  {
   "cell_type": "code",
   "execution_count": null,
   "metadata": {},
   "outputs": [],
   "source": [
    "# R code\n",
    "setwd(\"/home/simingz/causalTWAS/fusion_weights\")\n",
    "posf0 <- \"Adipose_Subcutaneous.pos\"\n",
    "posf = \"Adipose_Subcutaneous_B.pos\"\n",
    "pos0 = read.table(posf0, header = T, stringsAsFactors = F)\n",
    "pos <- read.table(posf, header = T, stringsAsFactors = F)\n",
    "\n",
    "pos0 <- pos0[pos0$CHR <=22 & pos0$CHR >=17,]\n",
    "pos <- pos[pos$CHR <=22 & pos$CHR >=17,]\n",
    "\n",
    "renamesnps <- function(row, tag) {\n",
    "  f0 <- row[1]\n",
    "  f <- row[2]\n",
    "  load(f0)\n",
    "  rownames(wgt.matrix) <- paste0(rownames(wgt.matrix), tag)\n",
    "  snps[,1] <- paste0(snps[,1], tag)\n",
    "  snps[,2] <- paste0(snps[,2], tag)\n",
    "  save(wgt.matrix, snps, cv.performance, hsq, hsq.pv, N.tot, file = f)\n",
    "}\n",
    "\n",
    "\n",
    "outdfall <- NULL\n",
    "for (i in 1:6) {\n",
    "  tag <- paste0(\"-B\", i)\n",
    "  outdf <- pos\n",
    "  outdf$WGT <- gsub(\".wgt\", paste0(tag, \".wgt\"), outdf$WGT)\n",
    "  outdf$ID <- paste0(outdf$ID, tag)\n",
    "  outdf$CHR <- paste0(outdf$CHR, tag)\n",
    "  rd <- cbind(pos0$WGT, outdf$WGT)\n",
    "  apply(rd, 1, renamesnps, tag = tag)\n",
    "  outdfall <- rbind(outdfall, outdf)\n",
    "}\n",
    "\n",
    "write.table(outdfall , file= posf, row.names=F, col.names=T, sep=\"\\t\", quote = F)"
   ]
  },
  {
   "cell_type": "markdown",
   "metadata": {},
   "source": [
    "# Fusion weights from Xiaotong"
   ]
  },
  {
   "cell_type": "code",
   "execution_count": 4,
   "metadata": {},
   "outputs": [],
   "source": [
    "cp /project2/xinhe/xsun/former_proj/methylation_train/WEIGHTS/*.* /project2/mstephens/causalTWAS/fusion_weights"
   ]
  },
  {
   "cell_type": "code",
   "execution_count": null,
   "metadata": {},
   "outputs": [],
   "source": [
    "cp /project2/xinhe/xsun/former_proj/train_weights_H3K27ac/WEIGHTS /project2/mstephens/causalTWAS/fusion_weights "
   ]
  },
  {
   "cell_type": "markdown",
   "metadata": {},
   "source": [
    "# Process WTCCC data"
   ]
  },
  {
   "cell_type": "markdown",
   "metadata": {},
   "source": [
    "WTCCC data obtained from Peter (`bd.RData`). We will prepare genotype file in BIMBAM format and relatedness matrix file."
   ]
  },
  {
   "cell_type": "code",
   "execution_count": 3,
   "metadata": {},
   "outputs": [],
   "source": [
    "# sinteractive --time=1-12:00:00 --partition=mstephens --mem=20G\n",
    "module load R/3.5.1"
   ]
  },
  {
   "cell_type": "code",
   "execution_count": 15,
   "metadata": {},
   "outputs": [],
   "source": [
    "cd /project2/mstephens/causalTWAS/causal-TWAS/code"
   ]
  },
  {
   "cell_type": "code",
   "execution_count": 33,
   "metadata": {},
   "outputs": [
    {
     "name": "stdout",
     "output_type": "stream",
     "text": [
      "\n"
     ]
    }
   ],
   "source": [
    "Rscript run_WTCCC_data_process.R"
   ]
  },
  {
   "cell_type": "code",
   "execution_count": 17,
   "metadata": {},
   "outputs": [
    {
     "name": "stdout",
     "output_type": "stream",
     "text": [
      "bd.geno.txt.gz\tbd.pheno.txt  bd.QC.RData  bd.RData\n"
     ]
    }
   ],
   "source": [
    "ls /project2/mstephens/causalTWAS/WTCCC"
   ]
  },
  {
   "cell_type": "markdown",
   "metadata": {},
   "source": [
    "# Gene annotation data"
   ]
  },
  {
   "cell_type": "code",
   "execution_count": 11,
   "metadata": {},
   "outputs": [],
   "source": [
    "mkdir /project2/mstephens/causalTWAS/annotation"
   ]
  },
  {
   "cell_type": "code",
   "execution_count": null,
   "metadata": {},
   "outputs": [],
   "source": [
    "cd /project2/mstephens/causalTWAS/annotation; wget http://hgdownload.soe.ucsc.edu/goldenPath/hg17/database/refGene.txt.gz"
   ]
  },
  {
   "cell_type": "code",
   "execution_count": 22,
   "metadata": {},
   "outputs": [],
   "source": [
    "gunzip refGene.txt.gz"
   ]
  },
  {
   "cell_type": "code",
   "execution_count": null,
   "metadata": {},
   "outputs": [],
   "source": [
    "Rscript /project2/mstephens/causalTWAS/causal-TWAS/code/gene_annotation.R refGene.txt 500000"
   ]
  },
  {
   "cell_type": "code",
   "execution_count": 24,
   "metadata": {},
   "outputs": [
    {
     "name": "stdout",
     "output_type": "stream",
     "text": [
      "refGene_processed_5e+05.txt  refGene.txt\n"
     ]
    }
   ],
   "source": [
    "ls"
   ]
  },
  {
   "cell_type": "markdown",
   "metadata": {},
   "source": [
    "# UKbiobank data"
   ]
  },
  {
   "cell_type": "markdown",
   "metadata": {},
   "source": [
    "## About CRI\n",
    "Intructions to use CRI: https://github.com/stephenslab/gardner\n",
    "\n",
    "* interactive job  \n",
    "`qsub -I -l walltime=05:00:00 -l nodes=1:ppn=12 -l mem=32gb`\n",
    "* submit a job  \n",
    "`qsub ~/script/run_serverjob_template.sh`"
   ]
  },
  {
   "cell_type": "markdown",
   "metadata": {},
   "source": [
    "## Data storage location\n",
    "on CRI.\n",
    "phenotype data: `/gpfs/data/xhe-lab/uk-biobank/`.  \n",
    "genotype data:  `/gpfs/data/pierce-lab/uk-biobank-genotypes`."
   ]
  },
  {
   "cell_type": "markdown",
   "metadata": {},
   "source": [
    "## Prepare genotype file for chromosome 22, 20000 samples."
   ]
  },
  {
   "cell_type": "markdown",
   "metadata": {},
   "source": [
    "plink filtering instructions: https://www.cog-genomics.org/plink/2.0/filter"
   ]
  },
  {
   "cell_type": "code",
   "execution_count": null,
   "metadata": {},
   "outputs": [],
   "source": [
    "# on CRI, the interactive node is very unstable and eventually killed due to memory isues\n",
    "# prepare kept samples, take 20,000\n",
    "cd /home/szhao1/uk-biobank/uk-biobank-genotypes; \n",
    "head -n 20002 ukb17346_imp_chr17_v3_s487378.sample | awk '{print $1\"\\t\"$2}' > /home/szhao1/causal-TWAS/data/ukbiobank_samples20000.txt\n",
    "# then manually remove the first two rows.\n",
    "cd /home/szhao1/causal-TWAS/data; qsub qsub_prep_ukbiobank_n20000_chr22_genotype.sh"
   ]
  },
  {
   "cell_type": "code",
   "execution_count": null,
   "metadata": {},
   "outputs": [],
   "source": [
    "# use sftp to download file to RCC (very fast)\n",
    "cd /home/simingz/causalTWAS/ukbiobank\n",
    "sftp szhao1@cri-syncmon.cri.uchicago.edu\n",
    "cd /gpfs/data/pierce-lab/uk-biobank-genotypes\n",
    "get ukb_imp_chr22_v3.bgen.*\n",
    "get head -n 20002 ukb17346_imp_chr17_v3_s487378.sample"
   ]
  },
  {
   "cell_type": "code",
   "execution_count": null,
   "metadata": {},
   "outputs": [],
   "source": [
    "head -n 20002 ukb17346_imp_chr17_v3_s487378.sample |  awk '{print $1\"\\t\"$2}'> ukb17346_imp_chr17_v3_s20000.sample\n",
    "# manually remove first two rows"
   ]
  },
  {
   "cell_type": "markdown",
   "metadata": {},
   "source": [
    "**Process .bgen file using plink.**  \n",
    "The original chr22 bgen file contains 1251k variants. After applied the maf (minor allele frequency) 5% cut off, 100k remains. then after applied missing rate 5% cut off (default is 10%), 80k remained."
   ]
  },
  {
   "cell_type": "markdown",
   "metadata": {},
   "source": [
    "Originall tried `--make-bed`, this resulted in missing genotype, so switched to `--make-pgen`."
   ]
  },
  {
   "cell_type": "markdown",
   "metadata": {},
   "source": [
    "> Some notes from Chirstopher Chang (author of plink)\n",
    "1. You generally want to use PLINK 2.0 instead of 1.9 when working with .bgen files.  PLINK 1.9 is unable to track any of the genotype probability information in the .bgen; it rounds numbers to the nearest integer and replaces those too far from an integer with missing calls.\n",
    "2. If you want to generate a .bgen file with only the variants you want, replace \"--out rs6857.bgen\" with \"--export bgen-1.1 --out rs6857\".  --out just specifies an output filename prefix; including \".bgen\" in the --out parameter does not tell PLINK 2.0 to export a .bgen file.\n",
    "3. This will still be a lossy process; PLINK 2.0 keeps track of dosages, but not genotype probabilities.  When sample x has P(AA) = 0.8, P(AC) = 0.2, and P(CC) = 0 and sample y has P(AA) = 0.85, P(AC) = 0.1, and P(CC) = 0.05, PLINK 2.0 sees both samples as dosage(A) = 1.8, dosage(C) = 0.2, and it will make both entries look like sample x when asked to export a .bgen.  Sometimes this is okay, but if you aren't sure, you should stick to qctool/bgenix for .bgen data management because of this information loss."
   ]
  },
  {
   "cell_type": "code",
   "execution_count": null,
   "metadata": {},
   "outputs": [],
   "source": [
    "# this step takes < 1 hour\n",
    "sbatch submit_parallel_run_ukb_chr22_s20000.sh.sh"
   ]
  },
  {
   "cell_type": "markdown",
   "metadata": {},
   "source": [
    "## Prepare genotype file for chromosome 1 & others, 20000 samples."
   ]
  },
  {
   "cell_type": "code",
   "execution_count": null,
   "metadata": {},
   "outputs": [],
   "source": [
    "# use sftp to upload to cri, take 1-2 hours on CRI\n",
    "# chr1 need more than 64G memory, applying for 180G memory can be queued for some time.\n",
    "cd /home/simingz/causalTWAS/ukbiobank/CRI_scripts\n",
    "sftp szhao1@cri-syncmon.cri.uchicago.edu\n",
    "cd /home/szhao1/causal-TWAS/data\n",
    "put *"
   ]
  },
  {
   "cell_type": "code",
   "execution_count": null,
   "metadata": {},
   "outputs": [],
   "source": [
    "qsub qsub_prep_ukbiobank_n20000_chr17_genotype.sh"
   ]
  },
  {
   "cell_type": "code",
   "execution_count": 1,
   "metadata": {},
   "outputs": [],
   "source": [
    "# download plink files from CRI\n",
    "sftp szhao1@cri-syncmon.cri.uchicago.edu\n",
    "cd /home/szhao1/causal-TWAS/data\n",
    "get ukb*"
   ]
  },
  {
   "cell_type": "code",
   "execution_count": 9,
   "metadata": {},
   "outputs": [
    {
     "name": "stdout",
     "output_type": "stream",
     "text": [
      "/project2/mstephens/causalTWAS/ukbiobank/CRI_scripts\n"
     ]
    }
   ],
   "source": [
    "cd /home/simingz/causalTWAS/ukbiobank/CRI_scripts"
   ]
  },
  {
   "cell_type": "code",
   "execution_count": 18,
   "metadata": {},
   "outputs": [],
   "source": [
    "cmd = \"cd /home/szhao1/uk-biobank/uk-biobank-genotypes; /home/szhao1/uk-biobank/uk-biobank-phenotypes/tools/plink2 --sample ukb17346_imp_chr17_v3_s487378.sample --keep /home/szhao1/causal-TWAS/data/ukbiobank_samples20000.txt --bgen ukb_imp_chr{chrom}_v3.bgen --chr {chrom} --threads 19 --make-pgen --out ~/causal-TWAS/data/ukb_chr{chrom}_s20000 --maf 0.05 --geno 0.05 --memory 30000\"\n",
    "qsubcmd = '''\n",
    "#!/bin/bash\n",
    "\n",
    "#PBS -N bgen2plink\n",
    "#PBS -S /bin/bash\n",
    "#PBS -l mem=64gb\n",
    "#PBS -l walltime=48:00:00\n",
    "#PBS -l nodes=1:ppn=20\n",
    "\n",
    "cd /home/szhao1/causal-TWAS/data; bash {cmdf}\n",
    "'''\n",
    "masterfile = \"s20000-chr2to16.sh\"\n",
    "mf = open(masterfile, 'w')\n",
    "for chrom in [str(i) for i in range(2,17)]:\n",
    "    cmdf = 'prep_ukbiobank_n20000_chr' + chrom + '_genotype.sh'\n",
    "    with open(cmdf, 'w') as f:\n",
    "        f.write(cmd.format(chrom=chrom))\n",
    "    qsubf = 'qsub_' + cmdf\n",
    "    with open(qsubf, 'w') as f2:\n",
    "        f2.write(qsubcmd.format(cmdf = cmdf))\n",
    "    mf.write('qsub ' + qsubf + '\\n')\n",
    "mf.close()"
   ]
  },
  {
   "cell_type": "markdown",
   "metadata": {},
   "source": [
    "## Prepare genotype file for chromosome 1 & others, 80000 samples."
   ]
  },
  {
   "cell_type": "code",
   "execution_count": null,
   "metadata": {},
   "outputs": [],
   "source": [
    "# on RCC, prepare files\n",
    "cd /home/simingz/causalTWAS/ukbiobank\n",
    "head -n 100002 ukb17346_imp_chr17_v3_s487378.sample | tail -n 80000 | awk '{print $1\"\\t\"$2}' > /home/simingz/causalTWAS/ukbiobank/ukbiobank_samples80000.txt"
   ]
  },
  {
   "cell_type": "code",
   "execution_count": 19,
   "metadata": {},
   "outputs": [],
   "source": [
    "cmd = \"cd /home/szhao1/uk-biobank/uk-biobank-genotypes; /home/szhao1/uk-biobank/uk-biobank-phenotypes/tools/plink2 --sample ukb17346_imp_chr17_v3_s487378.sample --keep /home/szhao1/causal-TWAS/data/ukbiobank_samples80000.txt --bgen ukb_imp_chr{chrom}_v3.bgen --chr {chrom} --threads 19 --make-pgen --out ~/causal-TWAS/data/ukb_chr{chrom}_s80000 --maf 0.05 --geno 0.05 --memory 30000\"\n",
    "qsubcmd = '''\n",
    "#!/bin/bash\n",
    "\n",
    "#PBS -N bgen2plink\n",
    "#PBS -S /bin/bash\n",
    "#PBS -l mem=64gb\n",
    "#PBS -l walltime=48:00:00\n",
    "#PBS -l nodes=1:ppn=20\n",
    "\n",
    "cd /home/szhao1/causal-TWAS/data; bash {cmdf}\n",
    "'''\n",
    "masterfile = \"s80000-chr2to16.sh\"\n",
    "mf = open(masterfile, 'w')\n",
    "for chrom in [str(i) for i in range(2,17)]:\n",
    "    cmdf = 'prep_ukbiobank_n80000_chr' + chrom + '_genotype.sh'\n",
    "    with open(cmdf, 'w') as f:\n",
    "        f.write(cmd.format(chrom=chrom))\n",
    "    qsubf = 'qsub_' + cmdf\n",
    "    with open(qsubf, 'w') as f2:\n",
    "        f2.write(qsubcmd.format(cmdf = cmdf))\n",
    "    mf.write('qsub ' + qsubf + '\\n')\n",
    "mf.close()"
   ]
  },
  {
   "cell_type": "code",
   "execution_count": null,
   "metadata": {},
   "outputs": [],
   "source": [
    "# use sftp to upload to cri, take 1-2 hours on CRI\n",
    "# applying for 180G memory can be queued for some time.\n",
    "cd /home/simingz/causalTWAS/ukbiobank/CRI_scripts\n",
    "sftp szhao1@cri-syncmon.cri.uchicago.edu\n",
    "cd /home/szhao1/causal-TWAS/data\n",
    "put *80000*"
   ]
  },
  {
   "cell_type": "code",
   "execution_count": null,
   "metadata": {},
   "outputs": [],
   "source": [
    "qsub qsub_prep_ukbiobank_n80000_chr17_genotype.sh"
   ]
  },
  {
   "cell_type": "code",
   "execution_count": null,
   "metadata": {},
   "outputs": [],
   "source": [
    "#or\n",
    "bash s80000-chr2to16.sh"
   ]
  },
  {
   "cell_type": "code",
   "execution_count": 1,
   "metadata": {},
   "outputs": [],
   "source": [
    "# download plink files from CRI\n",
    "sftp szhao1@cri-syncmon.cri.uchicago.edu\n",
    "cd /home/szhao1/causal-TWAS/data\n",
    "get ukb*d"
   ]
  },
  {
   "cell_type": "code",
   "execution_count": null,
   "metadata": {},
   "outputs": [],
   "source": []
  },
  {
   "cell_type": "markdown",
   "metadata": {},
   "source": [
    "## Prepare genotype file for chromosome 1 & others, 40000 samples."
   ]
  },
  {
   "cell_type": "code",
   "execution_count": null,
   "metadata": {},
   "outputs": [],
   "source": [
    "# on RCC, prepare files\n",
    "cd /home/simingz/causalTWAS/ukbiobank\n",
    "head -n 140002 ukb17346_imp_chr17_v3_s487378.sample | tail -n 40000 | awk '{print $1\"\\t\"$2}' > /home/simingz/causalTWAS/ukbiobank/ukbiobank_samples40000.txt"
   ]
  },
  {
   "cell_type": "code",
   "execution_count": 22,
   "metadata": {},
   "outputs": [],
   "source": [
    "cmd = \"cd /home/szhao1/uk-biobank/uk-biobank-genotypes; /home/szhao1/uk-biobank/uk-biobank-phenotypes/tools/plink2 --sample ukb17346_imp_chr17_v3_s487378.sample --keep /home/szhao1/causal-TWAS/data/ukbiobank_samples40000.txt --bgen ukb_imp_chr{chrom}_v3.bgen --chr {chrom} --threads 19 --make-pgen --out ~/causal-TWAS/data/ukb_chr{chrom}_s40000 --maf 0.05 --geno 0.05 --memory 30000\"\n",
    "qsubcmd = '''\n",
    "#!/bin/bash\n",
    "\n",
    "#PBS -N bgen2plink\n",
    "#PBS -S /bin/bash\n",
    "#PBS -l mem=64gb\n",
    "#PBS -l walltime=48:00:00\n",
    "#PBS -l nodes=1:ppn=20\n",
    "\n",
    "cd /home/szhao1/causal-TWAS/data; bash {cmdf}\n",
    "'''\n",
    "masterfile = \"s40000-chr1to22.sh\"\n",
    "mf = open(masterfile, 'w')\n",
    "for chrom in [str(i) for i in range(1,23)]:\n",
    "    cmdf = 'prep_ukbiobank_n40000_chr' + chrom + '_genotype.sh'\n",
    "    with open(cmdf, 'w') as f:\n",
    "        f.write(cmd.format(chrom=chrom))\n",
    "    qsubf = 'qsub_' + cmdf\n",
    "    with open(qsubf, 'w') as f2:\n",
    "        f2.write(qsubcmd.format(cmdf = cmdf))\n",
    "    mf.write('qsub ' + qsubf + '\\n')\n",
    "mf.close()"
   ]
  },
  {
   "cell_type": "code",
   "execution_count": null,
   "metadata": {},
   "outputs": [],
   "source": [
    "# use sftp to upload to cri, take 1-2 hours on CRI\n",
    "# applying for 180G memory can be queued for some time.\n",
    "cd /home/simingz/causalTWAS/ukbiobank/CRI_scripts\n",
    "sftp szhao1@cri-syncmon.cri.uchicago.edu\n",
    "cd /home/szhao1/causal-TWAS/data\n",
    "put *40000*\n",
    "put ../ukbiobank_samples40000.txt"
   ]
  },
  {
   "cell_type": "code",
   "execution_count": null,
   "metadata": {},
   "outputs": [],
   "source": [
    "bash s40000-chr1to22.sh"
   ]
  },
  {
   "cell_type": "code",
   "execution_count": 1,
   "metadata": {},
   "outputs": [],
   "source": [
    "# download plink files from CRI\n",
    "sftp szhao1@cri-syncmon.cri.uchicago.edu\n",
    "cd /home/szhao1/causal-TWAS/data\n",
    "get ukb*"
   ]
  },
  {
   "cell_type": "markdown",
   "metadata": {},
   "source": [
    "# GTEx data"
   ]
  },
  {
   "cell_type": "markdown",
   "metadata": {},
   "source": [
    "version 8: `/project2/compbio/GTEx_dbGaP/GTEx_Analysis_2017-06-05_v8/eqtl`"
   ]
  },
  {
   "cell_type": "markdown",
   "metadata": {},
   "source": [
    "version 7: need to download from here https://www.gtexportal.org/home/datasets."
   ]
  },
  {
   "cell_type": "markdown",
   "metadata": {},
   "source": [
    "## LOCUSZOOM"
   ]
  },
  {
   "cell_type": "markdown",
   "metadata": {},
   "source": [
    "contains LD and gene annotation data sources for visualization"
   ]
  },
  {
   "cell_type": "code",
   "execution_count": null,
   "metadata": {},
   "outputs": [],
   "source": [
    "cd /home/simingz/causalTWAS/locuszoom\n",
    "wget https://statgen.sph.umich.edu/locuszoom/download/locuszoom_1.4.tgz"
   ]
  }
 ],
 "metadata": {
  "kernelspec": {
   "display_name": "Python [conda env:miniconda3]",
   "language": "python",
   "name": "conda-env-miniconda3-py"
  },
  "language_info": {
   "codemirror_mode": {
    "name": "ipython",
    "version": 3
   },
   "file_extension": ".py",
   "mimetype": "text/x-python",
   "name": "python",
   "nbconvert_exporter": "python",
   "pygments_lexer": "ipython3",
   "version": "3.5.2"
  }
 },
 "nbformat": 4,
 "nbformat_minor": 2
}
