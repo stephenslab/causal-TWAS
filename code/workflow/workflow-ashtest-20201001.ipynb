{
 "cells": [
  {
   "cell_type": "markdown",
   "metadata": {},
   "source": [
    "# Chr1-22, s40.22, GTEx Adipose (subcutaneous) fusion weights"
   ]
  },
  {
   "cell_type": "markdown",
   "metadata": {},
   "source": [
    "This uses genotype chr1-22, filtered 40000 to 22k samples."
   ]
  },
  {
   "cell_type": "markdown",
   "metadata": {},
   "source": [
    "## Part1: simulation and mr.ash"
   ]
  },
  {
   "cell_type": "markdown",
   "metadata": {},
   "source": [
    "* set up"
   ]
  },
  {
   "cell_type": "code",
   "execution_count": 1,
   "metadata": {},
   "outputs": [],
   "source": [
    "wkdir = \"/project2/mstephens/causalTWAS/simulations/simulation_ashtest_20201001/\""
   ]
  },
  {
   "cell_type": "code",
   "execution_count": 2,
   "metadata": {},
   "outputs": [],
   "source": [
    "codedir = \"/project2/mstephens/causalTWAS/causal-TWAS/code/\""
   ]
  },
  {
   "cell_type": "code",
   "execution_count": 3,
   "metadata": {},
   "outputs": [],
   "source": [
    "geno = \"/project2/mstephens/causalTWAS/ukbiobank/ukb_chr1to22_s40.22_fn.txt\""
   ]
  },
  {
   "cell_type": "code",
   "execution_count": 4,
   "metadata": {},
   "outputs": [],
   "source": [
    "weight = \"/project2/mstephens/causalTWAS/fusion_weights/Adipose_Subcutaneous\""
   ]
  },
  {
   "cell_type": "code",
   "execution_count": 5,
   "metadata": {},
   "outputs": [],
   "source": [
    "maintag = '20201001-2'"
   ]
  },
  {
   "cell_type": "code",
   "execution_count": 6,
   "metadata": {},
   "outputs": [],
   "source": [
    "subtags =  [str(i) for i in range(1,6)]"
   ]
  },
  {
   "cell_type": "code",
   "execution_count": 7,
   "metadata": {},
   "outputs": [],
   "source": [
    "simu_expr_name = \"simu_s40.22_GTEXadipose\""
   ]
  },
  {
   "cell_type": "code",
   "execution_count": 8,
   "metadata": {},
   "outputs": [],
   "source": [
    "simu_expr = \"{simu_expr_name}-cis-expr.txt\".format(simu_expr_name = simu_expr_name)"
   ]
  },
  {
   "cell_type": "markdown",
   "metadata": {},
   "source": [
    "* prepare param "
   ]
  },
  {
   "cell_type": "code",
   "execution_count": 9,
   "metadata": {},
   "outputs": [
    {
     "name": "stdout",
     "output_type": "stream",
     "text": [
      "/project2/mstephens/causalTWAS/simulations/simulation_ashtest_20201001\n"
     ]
    }
   ],
   "source": [
    "cd {wkdir}"
   ]
  },
  {
   "cell_type": "code",
   "execution_count": 10,
   "metadata": {},
   "outputs": [],
   "source": [
    "template = \"{wkdir}/param-{maintag}.R\".format(wkdir = wkdir, maintag = maintag)"
   ]
  },
  {
   "cell_type": "code",
   "execution_count": 11,
   "metadata": {},
   "outputs": [],
   "source": [
    "a = open(template, 'r').readlines()"
   ]
  },
  {
   "cell_type": "code",
   "execution_count": 12,
   "metadata": {},
   "outputs": [],
   "source": [
    "for subtag in subtags:\n",
    "    with open(\"param-{maintag}-{subtag}.R\".format(maintag = maintag, subtag = subtag), 'w') as newpar:\n",
    "        a[5] = 'SED <- {sed}\\n'.format(sed = str(950 + int(subtag)))\n",
    "        newpar.writelines(a)"
   ]
  },
  {
   "cell_type": "markdown",
   "metadata": {},
   "source": [
    "* commands"
   ]
  },
  {
   "cell_type": "code",
   "execution_count": 13,
   "metadata": {},
   "outputs": [],
   "source": [
    "g2dir = \"cd {wkdir}\""
   ]
  },
  {
   "cell_type": "code",
   "execution_count": 14,
   "metadata": {},
   "outputs": [],
   "source": [
    "impu = \"Rscript {codedir}/run_impute_expr.R {geno} {weight} {simu_expr_name}\""
   ]
  },
  {
   "cell_type": "code",
   "execution_count": 15,
   "metadata": {},
   "outputs": [],
   "source": [
    "simu = \"Rscript {codedir}/run_simulate_pheno.R {geno} {simu_expr} param-{tag}.R simu_{tag}\""
   ]
  },
  {
   "cell_type": "code",
   "execution_count": 16,
   "metadata": {},
   "outputs": [],
   "source": [
    "simu_pheno = \"{wkdir}/simu_{tag}-pheno.Rd\""
   ]
  },
  {
   "cell_type": "code",
   "execution_count": 17,
   "metadata": {},
   "outputs": [],
   "source": [
    "exprgwas = \"Rscript {codedir}/run_gwas_expr.R {simu_expr} {simu_pheno} {tag}\""
   ]
  },
  {
   "cell_type": "code",
   "execution_count": 18,
   "metadata": {},
   "outputs": [],
   "source": [
    "snpgwas = \"Rscript {codedir}/run_gwas_snp.R {geno} {simu_pheno} {tag}\""
   ]
  },
  {
   "cell_type": "code",
   "execution_count": 19,
   "metadata": {},
   "outputs": [],
   "source": [
    "ld = \"Rscript {codedir}/run_ld.R {geno} {simu_expr} {simu_pheno} {tag}\""
   ]
  },
  {
   "cell_type": "markdown",
   "metadata": {},
   "source": [
    "* write master file"
   ]
  },
  {
   "cell_type": "code",
   "execution_count": 20,
   "metadata": {},
   "outputs": [],
   "source": [
    "tags = [maintag + '-' + subtag for subtag in subtags]"
   ]
  },
  {
   "cell_type": "code",
   "execution_count": 21,
   "metadata": {},
   "outputs": [],
   "source": [
    "masterimpufile = 'master_impu.sh'"
   ]
  },
  {
   "cell_type": "code",
   "execution_count": 22,
   "metadata": {},
   "outputs": [
    {
     "name": "stdout",
     "output_type": "stream",
     "text": [
      "/project2/mstephens/causalTWAS/simulations/simulation_ashtest_20201001\n"
     ]
    }
   ],
   "source": [
    "cd {wkdir}"
   ]
  },
  {
   "cell_type": "code",
   "execution_count": 23,
   "metadata": {},
   "outputs": [],
   "source": [
    "with open(masterimpufile, 'w') as outf:\n",
    "        outf.write(';'.join([\n",
    "              'source activate twas', \n",
    "              g2dir,\n",
    "              impu\n",
    "        ]).format(\n",
    "              simu_expr_name = simu_expr_name,\n",
    "              simu_expr = simu_expr,\n",
    "              simu_pheno = simu_pheno,\n",
    "              wkdir = wkdir,\n",
    "              codedir = codedir,\n",
    "              geno = geno,\n",
    "              weight = weight\n",
    "        ).format(\n",
    "              wkdir = wkdir,\n",
    "        ) + '\\n')"
   ]
  },
  {
   "cell_type": "code",
   "execution_count": 24,
   "metadata": {},
   "outputs": [
    {
     "name": "stdout",
     "output_type": "stream",
     "text": [
      "planning to run 1 jobs ...\n",
      "Type: sbatch submit_parallel_master_impu.sh.sh\n"
     ]
    }
   ],
   "source": [
    "!python /home/simingz/cancer_somatic/cancer_somatic/annotation/pMake_batchjobs_RCC.py {masterimpufile} --mem 20 --ntasks 1 --partition mstephens"
   ]
  },
  {
   "cell_type": "code",
   "execution_count": 25,
   "metadata": {},
   "outputs": [],
   "source": [
    "masterfile = 'master_run2.sh'"
   ]
  },
  {
   "cell_type": "code",
   "execution_count": 26,
   "metadata": {},
   "outputs": [],
   "source": [
    "with open(masterfile, 'w') as outf:\n",
    "    for tag in tags:\n",
    "        outf.write(';'.join([\n",
    "              'source activate twas', \n",
    "              g2dir,\n",
    "              simu,\n",
    "              exprgwas,\n",
    "              snpgwas,\n",
    "              #ld\n",
    "        ]).format(\n",
    "              simu_expr_name = simu_expr_name,\n",
    "              simu_expr = simu_expr,\n",
    "              simu_pheno = simu_pheno,\n",
    "              wkdir = wkdir,\n",
    "              codedir = codedir,\n",
    "              geno = geno,\n",
    "              weight = weight,\n",
    "              tag = tag\n",
    "        ).format(\n",
    "              wkdir = wkdir,\n",
    "              tag = tag\n",
    "        ) + '\\n')"
   ]
  },
  {
   "cell_type": "code",
   "execution_count": 27,
   "metadata": {},
   "outputs": [
    {
     "name": "stdout",
     "output_type": "stream",
     "text": [
      "planning to run 5 jobs ...\n",
      "Type: sbatch submit_parallel_master_run2.sh.sh\n"
     ]
    }
   ],
   "source": [
    "!python /home/simingz/cancer_somatic/cancer_somatic/annotation/pMake_batchjobs_RCC.py {masterfile} --mem 20 --ntasks 1 --partition mstephens"
   ]
  },
  {
   "cell_type": "markdown",
   "metadata": {},
   "source": []
  }
 ],
 "metadata": {
  "kernelspec": {
   "display_name": "Python [default]",
   "language": "python",
   "name": "python3"
  },
  "language_info": {
   "codemirror_mode": {
    "name": "ipython",
    "version": 3
   },
   "file_extension": ".py",
   "mimetype": "text/x-python",
   "name": "python",
   "nbconvert_exporter": "python",
   "pygments_lexer": "ipython3",
   "version": "3.5.2"
  }
 },
 "nbformat": 4,
 "nbformat_minor": 2
}
