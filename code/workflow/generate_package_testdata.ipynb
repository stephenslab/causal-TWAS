{
 "cells": [
  {
   "cell_type": "markdown",
   "metadata": {},
   "source": [
    "# Generate test data for package"
   ]
  },
  {
   "cell_type": "markdown",
   "metadata": {},
   "source": [
    "## generate pgen files"
   ]
  },
  {
   "cell_type": "code",
   "execution_count": null,
   "metadata": {},
   "outputs": [],
   "source": [
    "cd ~"
   ]
  },
  {
   "cell_type": "code",
   "execution_count": null,
   "metadata": {},
   "outputs": [],
   "source": [
    "#R, 500 variants for each chromosome\n",
    "for (i in 1:22){\n",
    "  system(paste0(\"head -n 500 /home/simingz/causalTWAS/ukbiobank/ukb_chr\", i, \"_s40.22_snp.txt > test_chr\", i, \"_snp.txt\"))"
   ]
  },
  {
   "cell_type": "code",
   "execution_count": null,
   "metadata": {},
   "outputs": [],
   "source": [
    "# 2000 samples\n",
    "head -n 2000 /home/simingz/causalTWAS/ukbiobank/ukbiobank_samples_s40.22.txt > test_samples.txt"
   ]
  },
  {
   "cell_type": "code",
   "execution_count": null,
   "metadata": {},
   "outputs": [],
   "source": [
    "cmd = \"cd /home/simingz/causalTWAS/ukbiobank/ukb_pgen_s40.22; plink2 --pfile ukb_chr{chrom}_s40.22_thinned --extract test_chr{chrom}_snp.txt --keep test_samples.txt --threads 5 --make-pgen --out test_chr{chrom}\"\n",
    "masterfile = \"test_data-chr1to22.sh\"\n",
    "mf = open(masterfile, 'w')\n",
    "for chrom in [str(i) for i in range(1,23)]:\n",
    "  mf.write(cmd.format(chrom=chrom) + '\\n')\n",
    "mf.close()"
   ]
  },
  {
   "cell_type": "code",
   "execution_count": null,
   "metadata": {},
   "outputs": [],
   "source": [
    "bash test_data-chr1to22.sh"
   ]
  },
  {
   "cell_type": "code",
   "execution_count": null,
   "metadata": {},
   "outputs": [],
   "source": []
  },
  {
   "cell_type": "code",
   "execution_count": 1,
   "metadata": {},
   "outputs": [],
   "source": [
    "#R, rename variant and sample\n",
    "for (i in 1:22){\n",
    "    df <- cbind(1:2000, 1:2000, sample(1:2, 2000, replace =T))\n",
    "    colnames(df) <- c(\"#FID\", \"IID\", \"SEX\")\n",
    "    write.table(df , file= paste0(\"example_chr\", i, \".psam\") , row.names=F, col.names=T, sep=\"\\t\", quote = F)\n",
    "}\n",
    "for (i in 1:22){\n",
    "    df <- data.table::fread(paste0(\"example_chr\", i, \".pvar\"), header =T)\n",
    "    df$POS <- 1:nrow(df)\n",
    "    df$ID <- paste0(\"rs\", 1:nrow(df) + i * 1000)\n",
    "    df$REF <- sapply(1:nrow(df), function(x) c(\"A\", \"T\")[sample(1:2,1)])\n",
    "    df$ALT <- sapply(1:nrow(df), function(x) c(\"C\", \"G\")[sample(1:2,1)])\n",
    "    write.table( df , file= paste0(\"example_chr\", i, \".pvar\") , row.names=F, col.names=T, sep=\"\\t\", quote = F)\n",
    "}"
   ]
  },
  {
   "cell_type": "markdown",
   "metadata": {},
   "source": [
    "## generate fusion weight files"
   ]
  },
  {
   "cell_type": "code",
   "execution_count": null,
   "metadata": {},
   "outputs": [],
   "source": [
    "# R, wgt.RDat file and .pos file\n",
    "# 20 genes, 1 gene in each of first 20 chromosomes\n",
    "# first a few snps are eqtls, selected to have nonzero lasso weights.\n",
    "wgtdir <- \"/project2/mstephens/causalTWAS/fusion_weights/Adipose_Subcutaneous\"\n",
    "posfile <- paste0(wgtdir, \".pos\")\n",
    "posdf <- data.table::fread(posfile)[1:20]\n",
    "\n",
    "for (i in 1:nrow(posdf)){\n",
    "    load(file.path(dirname(wgtdir), posdf$WGT[i]))\n",
    "    wgt.matrix <- wgt.matrix[abs(wgt.matrix[, \"lasso\"]) > 0, ]\n",
    "    snps <- data.table::fread(paste0(\"/home/simingz/ctwas/inst/extdata/example_genotype_files/example_chr\", i, \".pvar\"))[1:nrow(wgt.matrix),]\n",
    "    rownames(wgt.matrix) <- snps$ID\n",
    "    snps$CM <- 0\n",
    "    snps <- snps[, c(\"#CHROM\", \"ID\", \"CM\", \"POS\",\"ALT\" ,\"REF\")]\n",
    "    colnames(snps) <- paste0(\"V\", 1:6)\n",
    "    snps <- data.frame(snps)\n",
    "    N.tot <- 100\n",
    "    save(wgt.matrix, snps, cv.performance, hsq, hsq.pv, N.tot, file = paste0(\"/home/simingz/ctwas/inst/extdata/example_fusion_weights/Tissue/Tissue.gene\", i, \".wgt.RDat\"))\n",
    "}\n",
    "\n",
    "posdf$PANEL <- \"Tissue\"\n",
    "posdf$WGT <- paste0(\"Tissue/Tissue.gene\", 1:20, \".wgt.RDat\")\n",
    "posdf$ID <- paste0(\"gene\", 1:20)\n",
    "posdf$CHR <- 1:20\n",
    "posdf$P0 <- 1\n",
    "posdf$P1 <- 30\n",
    "posdf$N <- 100\n",
    "write.table(posdf , file= paste0(\"/home/simingz/ctwas/inst/extdata/example_fusion_weights/Tissue.pos\"), row.names=F, col.names=T, sep=\"\\t\", quote = F)"
   ]
  },
  {
   "cell_type": "markdown",
   "metadata": {},
   "source": [
    "## generate region files"
   ]
  },
  {
   "cell_type": "code",
   "execution_count": null,
   "metadata": {},
   "outputs": [],
   "source": [
    "# 1 regions for each chr\n",
    "regionlist <- list()\n",
    "for (i in 1:22){\n",
    "    regionlist[[i]] <- rbind(data.frame(\"chr\" = i, start = 0, stop = 5),\n",
    "                             data.frame(\"chr\" = i, start = seq(5, 455, 30), stop = seq(35,505,30)))\n",
    "                            \n",
    "}\n",
    "regions <- do.call(rbind, regionlist)\n",
    "write.table(regions , file= \"~/ctwas/inst/extdata/example_regions.bed\"  , row.names=F, col.names=T, sep=\"\\t\", quote = F)"
   ]
  },
  {
   "cell_type": "markdown",
   "metadata": {},
   "source": [
    "## generate LD R matrices"
   ]
  },
  {
   "cell_type": "code",
   "execution_count": null,
   "metadata": {},
   "outputs": [],
   "source": [
    "setwd(\"/home/simingz/ctwas/inst/extdata/example_ld_R/\")\n",
    "\n",
    "# specify LD reference\n",
    "ldref_files <- system.file(\"extdata/example_genotype_files\", paste0(\"example_chr\", 1:22, \".pgen\"),package = \"ctwas\")\n",
    "\n",
    "# specify LD regions\n",
    "ld_regions_custom = system.file(\"extdata\", \"example_regions.bed\", package = \"ctwas\")\n",
    "\n",
    "# specify output\n",
    "file_stem <- \"example_chr\"\n",
    "\n",
    "####################\n",
    "\n",
    "if (is.null(ld_regions_custom)) {\n",
    "  #ld_regions <- match.arg(ld_regions)\n",
    "  regionfile <- system.file(\"extdata\", \"ldetect\", paste0(ld_regions, \".bed\"), package = \"ctwas\")\n",
    "} else {\n",
    "  regionfile <- ld_regions_custom\n",
    "}\n",
    "reg <- read.table(regionfile, header = T, stringsAsFactors = F)\n",
    "if (is.character(reg$chr)) {\n",
    "  reg$chr <- readr::parse_number(reg$chr)\n",
    "}\n",
    "reg <- reg[order(reg$chr, reg$start), ]\n",
    "\n",
    "ld_pvarfs <- sapply(ldref_files, ctwas:::prep_pvar)\n",
    "\n",
    "for (b in 1:length(ld_pvarfs)) {\n",
    "  print(paste0(\"chromosome \", b))\n",
    "  ld_pvarf <- ld_pvarfs[b]\n",
    "  snpinfo <- ctwas:::read_pvar(ld_pvarf)\n",
    "  if (unique(snpinfo$chrom) != b) {\n",
    "    stop(\"Input genotype file not split by chromosome or not in correct order\")\n",
    "  }\n",
    "  regions <- reg[reg$chr == b, ]\n",
    "  ld_pgen <- ctwas:::prep_pgen(pgenf = ldref_files[b], ld_pvarfs[b])\n",
    "  Rinfo <- NULL\n",
    "  for (rn in 1:nrow(regions)) {\n",
    "    print(rn)\n",
    "    p0 <- regions[rn, \"start\"]\n",
    "    p1 <- regions[rn, \"stop\"]\n",
    "    sidx <- which(snpinfo$chrom == b & snpinfo$pos >= p0 & snpinfo$pos < p1)\n",
    "    sid <- snpinfo[sidx, \"id\"]\n",
    "    X.g <- ctwas:::read_pgen(ld_pgen, variantidx = sidx)\n",
    "    R_snp <- Rfast::cora(X.g)\n",
    "    R_snp_anno <- snpinfo[sidx, ]\n",
    "    saveRDS(R_snp, file=paste0(file_stem, b, \".R_snp.\", p0, \"_\", p1, \".RDS\"), version = 2)\n",
    "    write.table(R_snp_anno, file= paste0(file_stem, b, \".R_snp.\", p0, \"_\", p1, \".Rvar\"),\n",
    "                row.names=F, col.names=T, sep=\"\\t\", quote = F)\n",
    "    Rinfo <- rbind(Rinfo,  c(b, rn,  p0, p1, system.file(\"extdata/example_ld_R\", paste0(file_stem, b, \".R_snp.\", p0, \"_\", p1, \".RDS\"), package =\"ctwas\")))\n",
    "  }\n",
    "  colnames(Rinfo) <- c(\"chrom\", \"region_name\", \"start\", \"stop\", \"RDS_file\")\n",
    "  write.table(Rinfo, file= paste0(file_stem, b, \"_ld_R_info.txt\"), row.names=F, col.names=T, sep=\"\\t\", quote = F)\n",
    "}"
   ]
  },
  {
   "cell_type": "markdown",
   "metadata": {},
   "source": [
    "# example predict.db"
   ]
  },
  {
   "cell_type": "code",
   "execution_count": null,
   "metadata": {},
   "outputs": [],
   "source": [
    "setwd(\"/home/simingz/ctwas/inst/extdata/example_fusion_weights/Tissue\")\n",
    "\n",
    "setwd(\"/home/simingz/causalTWAS/fusion_weights/Adipose_Subcutaneous\")\n",
    "suppressPackageStartupMessages(library(RSQLite))\n",
    "suppressPackageStartupMessages(library(tidyverse))\n",
    "suppressPackageStartupMessages(library(data.table))\n",
    "\n",
    "make_df <- function(file) {\n",
    "  load(file)  \n",
    "   weights <- data.frame(wgt.matrix) \n",
    "  snps <- data.frame(snps) \n",
    "  weights$rsid <- rownames(weights)\n",
    "  weights$gene <- strsplit(file, split = \"\\\\.\" )[[1]][2]\n",
    "  weights$chromosome <- snps[match(weights$rsid, snps$V2),]$V1 \n",
    "  weights$position <- snps[match(weights$rsid, snps$V2),]$V4\n",
    "  weights$ref_allele <- snps[match(weights$rsid, snps$V2),]$V6\n",
    "  weights$eff_allele <- snps[match(weights$rsid, snps$V2),]$V5\n",
    "  weights %>% filter(lasso != 0) %>% select(gene, rsid, chromosome, position, ref_allele, eff_allele, lasso)\n",
    "  \n",
    "}\n",
    "\n",
    "files <- list.files(pattern = \"\\\\.RDat\")\n",
    "\n",
    "pre_weights = glue::glue(\"pre_weights.txt\")\n",
    "write.table(make_df(files[1]), pre_weights, sep = \"\\t\", quote = FALSE, row.names = FALSE)\n",
    "for(i in 2:length(files)) {\n",
    "  write.table(make_df(files[i]), pre_weights, append = TRUE, sep = \"\\t\", quote = FALSE, col.names = FALSE, row.names = FALSE)\n",
    "}\n",
    "\n",
    "# Add varIDs\n",
    "\n",
    "weights <- fread(\"pre_weights.txt\")\n",
    "weights$varID <- paste(paste(\"chr\", weights$chromosome, sep = \"\"), weights$position, weights$ref_allele, weights$eff_allele, \"b37\", sep = \"_\")\n",
    "weights <- weights %>% select(gene, rsid, varID, ref_allele, eff_allele, lasso) %>% rename(weight = lasso)\n",
    "\n",
    "\n",
    "# Make Extra Table\n",
    "\n",
    "extra <- weights %>% group_by(gene) %>% summarise(n.snps.in.model = n())\n",
    "extra$genename <- NA\n",
    "extra$pred.perf.R2 <- NA\n",
    "extra$pred.perf.pval <- NA\n",
    "extra$pred.perf.qval <- NA\n",
    "extra <- extra[c(1, 3, 2, 4, 5, 6)]\n",
    "\n",
    "# Write to SQLite Database\n",
    "\n",
    "# model_db = \"/home/simingz/ctwas/inst/extdata/example_tissue.db\"\n",
    "model_db = \"/home/simingz/causalTWAS/fusion_weights/Adipose_Subcutaneous.db\"\n",
    "conn <- dbConnect(RSQLite::SQLite(), model_db)\n",
    "dbWriteTable(conn, \"weights\", weights)\n",
    "dbWriteTable(conn, \"extra\", extra)\n",
    "\n",
    "dbListTables(conn)\n",
    "dbGetQuery(conn, 'SELECT * FROM weights') %>% head\n",
    "dbGetQuery(conn, 'SELECT * FROM extra') %>% head\n",
    "\n",
    "dbDisconnect(conn)\n",
    "\n",
    "# need to remove pre-weights.txt"
   ]
  }
 ],
 "metadata": {
  "kernelspec": {
   "display_name": "Python [default]",
   "language": "python",
   "name": "python3"
  },
  "language_info": {
   "codemirror_mode": {
    "name": "ipython",
    "version": 3
   },
   "file_extension": ".py",
   "mimetype": "text/x-python",
   "name": "python",
   "nbconvert_exporter": "python",
   "pygments_lexer": "ipython3",
   "version": "3.5.2"
  }
 },
 "nbformat": 4,
 "nbformat_minor": 2
}
