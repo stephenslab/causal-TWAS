{
 "cells": [
  {
   "cell_type": "markdown",
   "metadata": {},
   "source": [
    "# Generate test data for package"
   ]
  },
  {
   "cell_type": "markdown",
   "metadata": {},
   "source": [
    "## generate pgen files"
   ]
  },
  {
   "cell_type": "code",
   "execution_count": null,
   "metadata": {},
   "outputs": [],
   "source": [
    "cd ~"
   ]
  },
  {
   "cell_type": "code",
   "execution_count": null,
   "metadata": {},
   "outputs": [],
   "source": [
    "#R, 500 variants for each chromosome\n",
    "for (i in 1:22){\n",
    "  system(paste0(\"head -n 500 /home/simingz/causalTWAS/ukbiobank/ukb_chr\", i, \"_s40.22_snp.txt > test_chr\", i, \"_snp.txt\"))"
   ]
  },
  {
   "cell_type": "code",
   "execution_count": null,
   "metadata": {},
   "outputs": [],
   "source": [
    "# 2000 samples\n",
    "head -n 2000 /home/simingz/causalTWAS/ukbiobank/ukbiobank_samples_s40.22.txt > test_samples.txt"
   ]
  },
  {
   "cell_type": "code",
   "execution_count": null,
   "metadata": {},
   "outputs": [],
   "source": [
    "cmd = \"cd /home/simingz/causalTWAS/ukbiobank/ukb_pgen_s40.22; plink2 --pfile ukb_chr{chrom}_s40.22_thinned --extract test_chr{chrom}_snp.txt --keep test_samples.txt --threads 5 --make-pgen --out test_chr{chrom}\"\n",
    "masterfile = \"test_data-chr1to22.sh\"\n",
    "mf = open(masterfile, 'w')\n",
    "for chrom in [str(i) for i in range(1,23)]:\n",
    "  mf.write(cmd.format(chrom=chrom) + '\\n')\n",
    "mf.close()"
   ]
  },
  {
   "cell_type": "code",
   "execution_count": null,
   "metadata": {},
   "outputs": [],
   "source": [
    "bash test_data-chr1to22.sh"
   ]
  },
  {
   "cell_type": "code",
   "execution_count": 1,
   "metadata": {},
   "outputs": [],
   "source": [
    "#R, rename variant and sample\n",
    "for (i in 1:22){\n",
    "    df <- cbind(1:2000, 1:2000, sample(1:2, 2000, replace =T))\n",
    "    colnames(df) <- c(\"#FID\", \"IID\", \"SEX\")\n",
    "    write.table(df , file= paste0(\"test_chr\", i, \".psam\") , row.names=F, col.names=T, sep=\"\\t\", quote = F)\n",
    "}\n",
    "for (i in 1:22){\n",
    "    df <- data.table::fread(paste0(\"test_chr\", i, \".pvar\"), header =T)\n",
    "    df$POS <- 1:nrow(df)\n",
    "    df$ID <- paste0(\"rs\", 1:nrow(df) + i * 1000)\n",
    "    df[, c(\"REF\", \"ALT\")] <- as.data.frame(t(sapply(1:nrow(df), function(x) c(\"A\", \"C\", \"T\", \"G\")[sample(1:4,2, replace = T)])))\n",
    "    write.table( df , file= paste0(\"test_chr\", i, \".pvar\") , row.names=F, col.names=T, sep=\"\\t\", quote = F)\n",
    "}"
   ]
  },
  {
   "cell_type": "markdown",
   "metadata": {},
   "source": [
    "## generate fusion weight files"
   ]
  },
  {
   "cell_type": "code",
   "execution_count": null,
   "metadata": {},
   "outputs": [],
   "source": [
    "# R, wgt.RDat file and .pos file\n",
    "# 20 genes, 1 gene in each of first 20 chromosomes\n",
    "# first a few snps are eqtls, selected to have nonzero lasso weights.\n",
    "wgtdir <- \"/project2/mstephens/causalTWAS/fusion_weights/Adipose_Subcutaneous\"\n",
    "posfile <- paste0(wgtdir, \".pos\")\n",
    "posdf <- data.table::fread(posfile)[1:20]\n",
    "\n",
    "for (i in 1:nrow(posdf)){\n",
    "    load(file.path(dirname(wgtdir), posdf$WGT[i]))\n",
    "    wgt.matrix <- wgt.matrix[abs(wgt.matrix[, \"lasso\"]) > 0, ]\n",
    "    snps <- data.table::fread(paste0(\"/home/simingz/ctwas/inst/extdata/example_genotype_files/example_chr\", i, \".pvar\"))[1:nrow(wgt.matrix),]\n",
    "    rownames(wgt.matrix) <- snps$ID\n",
    "    snps$CM <- 0\n",
    "    snps <- snps[, c(\"#CHROM\", \"ID\", \"CM\", \"POS\",\"ALT\" ,\"REF\")]\n",
    "    colnames(snps) <- paste0(\"V\", 1:6)\n",
    "    snps <- data.frame(snps)\n",
    "    N.tot <- 100\n",
    "    save(wgt.matrix, snps, cv.performance, hsq, hsq.pv, N.tot, file = paste0(\"/home/simingz/ctwas/inst/extdata/example_fusion_weights/Tissue/Tissue.gene\", i, \".wgt.RDat\"))\n",
    "}\n",
    "\n",
    "posdf$PANEL <- \"Tissue\"\n",
    "posdf$WGT <- paste0(\"Tissue/Tissue.gene\", 1:20, \".wgt.RDat\")\n",
    "posdf$ID <- paste0(\"gene\", 1:20)\n",
    "posdf$CHR <- 1:20\n",
    "posdf$P0 <- 1\n",
    "posdf$P1 <- 30\n",
    "posdf$N <- 100\n",
    "write.table(posdf , file= \"Tissue.pos\" , row.names=F, col.names=T, sep=\"\\t\", quote = F)"
   ]
  },
  {
   "cell_type": "markdown",
   "metadata": {},
   "source": [
    "## generate region files"
   ]
  },
  {
   "cell_type": "code",
   "execution_count": null,
   "metadata": {},
   "outputs": [],
   "source": [
    "# 1 regions for each chr\n",
    "regionlist <- list()\n",
    "for (i in 1:22){\n",
    "    regionlist[[i]] <- rbind(data.frame(\"chr\" = i, start = 0, stop = 5),\n",
    "                             data.frame(\"chr\" = i, start = seq(5, 455, 30), stop = seq(35,505,30)))\n",
    "                            \n",
    "}\n",
    "regions <- do.call(rbind, regionlist)\n",
    "write.table(regions , file= \"~/ctwas/inst/extdata/example_regions.bed\"  , row.names=F, col.names=T, sep=\"\\t\", quote = F)"
   ]
  }
 ],
 "metadata": {
  "kernelspec": {
   "display_name": "Python [default]",
   "language": "python",
   "name": "python3"
  },
  "language_info": {
   "codemirror_mode": {
    "name": "ipython",
    "version": 3
   },
   "file_extension": ".py",
   "mimetype": "text/x-python",
   "name": "python",
   "nbconvert_exporter": "python",
   "pygments_lexer": "ipython3",
   "version": "3.5.2"
  }
 },
 "nbformat": 4,
 "nbformat_minor": 2
}
