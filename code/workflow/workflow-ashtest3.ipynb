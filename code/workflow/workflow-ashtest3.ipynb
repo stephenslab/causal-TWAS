{
 "cells": [
  {
   "cell_type": "markdown",
   "metadata": {},
   "source": [
    "# Chr22, GTEx Adipose (subcutaneous) fusion weights"
   ]
  },
  {
   "cell_type": "code",
   "execution_count": 12,
   "metadata": {},
   "outputs": [],
   "source": [
    "g2dir = \"cd ~/causalTWAS/simulations/simulation_ashtest_20200616\" "
   ]
  },
  {
   "cell_type": "markdown",
   "metadata": {},
   "source": [
    "* simulate different PVEs and run mr.ash2s."
   ]
  },
  {
   "cell_type": "code",
   "execution_count": 13,
   "metadata": {},
   "outputs": [],
   "source": [
    "# need 64G\n",
    "simu = \"Rscript /home/simingz/causalTWAS/causal-TWAS/code/run_simulate_data.R  /home/simingz/causalTWAS/ukbiobank/ukb_chr22_s20000 /home/simingz/causalTWAS/fusion_weights/Adipose_Subcutaneous param-{tag}.R simu_{tag}\""
   ]
  },
  {
   "cell_type": "markdown",
   "metadata": {},
   "source": [
    "* test mr.ash2s"
   ]
  },
  {
   "cell_type": "code",
   "execution_count": 14,
   "metadata": {},
   "outputs": [],
   "source": [
    "# need 64G for starting from gene, need more for starting from snps. 50 iterations takes ~ 3 hours\n",
    "# source activate twas\n",
    "mrash2 = \"Rscript /home/simingz/causalTWAS/causal-TWAS/code/run_test_mr.ash2s.R  /home/simingz/causalTWAS/ukbiobank/ukb_chr22_s20000  ~/causalTWAS/simulations/simulation_ashtest_20200616/simu_{tag}-cis-expr.Rd ~/causalTWAS/simulations/simulation_ashtest_20200616/simu_{tag}-pheno.Rd {tag}\""
   ]
  },
  {
   "cell_type": "code",
   "execution_count": 15,
   "metadata": {},
   "outputs": [],
   "source": [
    "## GWAS for all (require 48G for snp GWAS, using 5 cores.)\n",
    "# source activate twas\n",
    "exprgwas = \"Rscript /home/simingz/causalTWAS/causal-TWAS/code/run_gwas_expr.R simu_{tag}-cis-expr.Rd simu_{tag}-pheno.Rd {tag}\"\n",
    "snpgwas = \"Rscript /home/simingz/causalTWAS/causal-TWAS/code/run_gwas_snp.R /home/simingz/causalTWAS/ukbiobank/ukb_chr22_s20000.Rd simu_{tag}-pheno.Rd {tag}\""
   ]
  },
  {
   "cell_type": "code",
   "execution_count": 16,
   "metadata": {},
   "outputs": [],
   "source": [
    "# ld\n",
    "ld = \"Rscript /home/simingz/causalTWAS/causal-TWAS/code/run_ld.R /home/simingz/causalTWAS/ukbiobank/ukb_chr22_s20000 simu_{tag}-cis-expr.Rd simu_{tag}-pheno.Rd {tag}\""
   ]
  },
  {
   "cell_type": "code",
   "execution_count": 17,
   "metadata": {},
   "outputs": [
    {
     "name": "stdout",
     "output_type": "stream",
     "text": [
      "/project2/mstephens/causalTWAS/simulations/simulation_ashtest_20200616\n"
     ]
    }
   ],
   "source": [
    "cd ~/causalTWAS/simulations/simulation_ashtest_20200616"
   ]
  },
  {
   "cell_type": "markdown",
   "metadata": {},
   "source": [
    "* prepare param "
   ]
  },
  {
   "cell_type": "code",
   "execution_count": 18,
   "metadata": {},
   "outputs": [],
   "source": [
    "template = \"param-20200616-8.R\"\n",
    "a = open(template).readlines()\n",
    "for i in range(1,10):\n",
    "    with open(\"param-20200616-8-\" + str(i) + \".R\", 'w' ) as newpar:\n",
    "        a[5] = 'SED <- {sed}\\n'.format(sed = str(950 + i))\n",
    "        newpar.writelines(a)"
   ]
  },
  {
   "cell_type": "markdown",
   "metadata": {},
   "source": [
    "* Generate command"
   ]
  },
  {
   "cell_type": "code",
   "execution_count": 19,
   "metadata": {},
   "outputs": [],
   "source": [
    "tags = ['20200616-8-' + str(i) for i in range(1,10)]"
   ]
  },
  {
   "cell_type": "code",
   "execution_count": 20,
   "metadata": {},
   "outputs": [],
   "source": [
    "with open('master_run8-x.sh', 'w') as outf: \n",
    "    for tag in tags:\n",
    "        outf.write(';'.join(['source activate twas', \n",
    "                   g2dir,\n",
    "                   #simu.format(tag=tag),\n",
    "                   #mrash2.format(tag=tag),\n",
    "                   #exprgwas.format(tag=tag),\n",
    "                   #snpgwas.format(tag=tag),\n",
    "                   ld.format(tag=tag)\n",
    "                            ]) + '\\n')"
   ]
  },
  {
   "cell_type": "code",
   "execution_count": 21,
   "metadata": {},
   "outputs": [
    {
     "name": "stdout",
     "output_type": "stream",
     "text": [
      "source activate twas;cd ~/causalTWAS/simulations/simulation_ashtest_20200616;Rscript /home/simingz/causalTWAS/causal-TWAS/code/run_ld.R /home/simingz/causalTWAS/ukbiobank/ukb_chr22_s20000 simu_20200616-8-1-cis-expr.Rd simu_20200616-8-1-pheno.Rd 20200616-8-1\n"
     ]
    }
   ],
   "source": [
    "!head -n 1  master_run8-x.sh"
   ]
  },
  {
   "cell_type": "markdown",
   "metadata": {},
   "source": [
    "## test SUSIE for fine mapping"
   ]
  },
  {
   "cell_type": "code",
   "execution_count": 11,
   "metadata": {},
   "outputs": [],
   "source": [
    "## takes 0.5 hours for 132 genes. \n",
    "g2susiedir = \"cd ~/causalTWAS/simulations/simulation_susietest_20200616\"\n",
    "mrashres = \"~/causalTWAS/simulations/simulation_ashtest_20200616/{tag}-mr.ash2s.{tag2}\"\n",
    "susie = \"Rscript /home/simingz/causalTWAS/causal-TWAS/code/run_test_susie.R /home/simingz/causalTWAS/ukbiobank/ukb_chr22_s20000  ~/causalTWAS/simulations/simulation_ashtest_20200616/simu_{tag}-cis-expr.Rd ~/causalTWAS/simulations/simulation_ashtest_20200616/simu_{tag}-pheno.Rd {prior} {region} {tag}.{tag2}\""
   ]
  },
  {
   "cell_type": "code",
   "execution_count": 12,
   "metadata": {},
   "outputs": [
    {
     "name": "stdout",
     "output_type": "stream",
     "text": [
      "/project2/mstephens/causalTWAS/simulations/simulation_susietest_20200616\n"
     ]
    }
   ],
   "source": [
    "cd ~/causalTWAS/simulations/simulation_susietest_20200616"
   ]
  },
  {
   "cell_type": "code",
   "execution_count": 13,
   "metadata": {},
   "outputs": [],
   "source": [
    "tags = ['20200616-5', '20200616-6']\n",
    "tag2s = ['expr-res']\n",
    "with open('susie_run.sh', 'w') as outf:\n",
    "    for tag in tags:\n",
    "        for tag2 in tag2s:\n",
    "            param = mrashres.format(tag = tag, tag2 = tag2) + \".param.txt\"\n",
    "            region = mrashres.format(tag = tag, tag2 = tag2) + \".expr.txt\"\n",
    "            outf.write(';'.join(['source activate twas', \n",
    "                             g2susiedir,\n",
    "                             susie.format(tag = tag, tag2 = tag2, prior = param, region = region),\n",
    "                             ]) + '\\n')"
   ]
  },
  {
   "cell_type": "code",
   "execution_count": 14,
   "metadata": {},
   "outputs": [
    {
     "data": {
      "text/plain": [
       "source activate twas;cd ~/causalTWAS/simulations/simulation_susietest_20200616;Rscript /home/simingz/causalTWAS/causal-TWAS/code/run_test_susie.R /home/simingz/causalTWAS/ukbiobank/ukb_chr22_s20000  ~/causalTWAS/simulations/simulation_ashtest_20200616/simu_20200616-5-cis-expr.Rd ~/causalTWAS/simulations/simulation_ashtest_20200616/simu_20200616-5-pheno.Rd ~/causalTWAS/simulations/simulation_ashtest_20200616/20200616-5-mr.ash2s.expr-res.param.txt ~/causalTWAS/simulations/simulation_ashtest_20200616/20200616-5-mr.ash2s.expr-res.expr.txt 20200616-5.expr-res\n",
       "source activate twas;cd ~/causalTWAS/simulations/simulation_susietest_20200616;Rscript /home/simingz/causalTWAS/causal-TWAS/code/run_test_susie.R /home/simingz/causalTWAS/ukbiobank/ukb_chr22_s20000  ~/causalTWAS/simulations/simulation_ashtest_20200616/simu_20200616-6-cis-expr.Rd ~/causalTWAS/simulations/simulation_ashtest_20200616/simu_20200616-6-pheno.Rd ~/causalTWAS/simulations/simulation_ashtest_20200616/20200616-6-mr.ash2s.expr-res.param.txt ~/causalTWAS/simulations/simulation_ashtest_20200616/20200616-6-mr.ash2s.expr-res.expr.txt 20200616-6.expr-res\n"
      ]
     },
     "metadata": {},
     "output_type": "display_data"
    }
   ],
   "source": [
    "more susie_run.sh"
   ]
  },
  {
   "cell_type": "code",
   "execution_count": 15,
   "metadata": {},
   "outputs": [],
   "source": [
    "## multiple runs\n",
    "g2susiedir = \"cd ~/causalTWAS/simulations/simulation_susietest_20200616\"\n",
    "mrashres = \"~/causalTWAS/simulations/simulation_ashtest_20200616/{tag}-mr.ash2s.{tag2}\"\n",
    "susie = \"Rscript /home/simingz/causalTWAS/causal-TWAS/code/run_test_susie.R /home/simingz/causalTWAS/ukbiobank/ukb_chr22_s20000  ~/causalTWAS/simulations/simulation_ashtest_20200616/simu_{tag}-cis-expr.Rd ~/causalTWAS/simulations/simulation_ashtest_20200616/simu_{tag}-pheno.Rd {prior} {region} {tag}.{tag2} 3\""
   ]
  },
  {
   "cell_type": "code",
   "execution_count": 16,
   "metadata": {},
   "outputs": [
    {
     "name": "stdout",
     "output_type": "stream",
     "text": [
      "/project2/mstephens/causalTWAS/simulations/simulation_susietest_20200616\n"
     ]
    }
   ],
   "source": [
    "cd ~/causalTWAS/simulations/simulation_susietest_20200616"
   ]
  },
  {
   "cell_type": "code",
   "execution_count": 17,
   "metadata": {},
   "outputs": [],
   "source": [
    "tags = ['20200616-8-{i}'.format(i=i) for i in range(1, 101)] \n",
    "# tag2s = ['expr-snp', 'lassoes-se', 'lassoexpr-snp', 'lassoSNPes-es', 'snp-expr']\n",
    "tag2s = ['zeroes-es', 'lassoes-se', 'lassoes-es', 'zerose-es']"
   ]
  },
  {
   "cell_type": "code",
   "execution_count": 18,
   "metadata": {},
   "outputs": [],
   "source": [
    "# 28G, 20min for one run\n",
    "with open('susie_run8-x.sh', 'w') as outf:\n",
    "    for tag in tags:\n",
    "        for tag2 in tag2s:\n",
    "            param = mrashres.format(tag = tag, tag2 = tag2) + \".param.txt\"\n",
    "            region = mrashres.format(tag = tag, tag2 = tag2)\n",
    "            outf.write(';'.join(['source activate twas', \n",
    "                             g2susiedir,\n",
    "                             susie.format(tag = tag, tag2 = tag2, prior = param, region = region),\n",
    "                             ]) + '\\n')"
   ]
  },
  {
   "cell_type": "code",
   "execution_count": 19,
   "metadata": {},
   "outputs": [
    {
     "name": "stdout",
     "output_type": "stream",
     "text": [
      "planning to run 400 jobs ...\n",
      "Type: sbatch submit_parallel_susie_run8-x.sh.sh\n"
     ]
    }
   ],
   "source": [
    "!python /home/simingz/cancer_somatic/cancer_somatic/annotation/pMake_batchjobs_RCC.py susie_run8-x.sh --mem 28 --ntasks 1 --partition broadwl"
   ]
  },
  {
   "cell_type": "code",
   "execution_count": null,
   "metadata": {},
   "outputs": [],
   "source": []
  }
 ],
 "metadata": {
  "kernelspec": {
   "display_name": "Python [default]",
   "language": "python",
   "name": "python3"
  },
  "language_info": {
   "codemirror_mode": {
    "name": "ipython",
    "version": 3
   },
   "file_extension": ".py",
   "mimetype": "text/x-python",
   "name": "python",
   "nbconvert_exporter": "python",
   "pygments_lexer": "ipython3",
   "version": "3.5.2"
  }
 },
 "nbformat": 4,
 "nbformat_minor": 2
}
