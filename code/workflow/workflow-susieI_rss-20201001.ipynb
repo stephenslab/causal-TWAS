{
 "cells": [
  {
   "cell_type": "markdown",
   "metadata": {},
   "source": [
    "# Test susieI\n",
    "\n",
    "Use simulations from `simulation_ashtest_20201001`: This uses genotype chr1-22, s40.22."
   ]
  },
  {
   "cell_type": "markdown",
   "metadata": {},
   "source": [
    "* set up"
   ]
  },
  {
   "cell_type": "code",
   "execution_count": 1,
   "metadata": {},
   "outputs": [],
   "source": [
    "wkdir = \"/project2/mstephens/causalTWAS/simulations/simulation_susieI_rss_20201001/\""
   ]
  },
  {
   "cell_type": "code",
   "execution_count": 2,
   "metadata": {},
   "outputs": [],
   "source": [
    "simudir = \"/project2/mstephens/causalTWAS/simulations/simulation_ashtest_20201001/\""
   ]
  },
  {
   "cell_type": "code",
   "execution_count": 3,
   "metadata": {},
   "outputs": [],
   "source": [
    "codedir = \"/project2/mstephens/causalTWAS/causal-TWAS/code/\""
   ]
  },
  {
   "cell_type": "code",
   "execution_count": 4,
   "metadata": {},
   "outputs": [],
   "source": [
    "weight = \"/project2/mstephens/causalTWAS/fusion_weights/Adipose_Subcutaneous\""
   ]
  },
  {
   "cell_type": "code",
   "execution_count": 5,
   "metadata": {},
   "outputs": [],
   "source": [
    "ldgeno = \"/project2/mstephens/causalTWAS/ukbiobank/ukb_chr1to22_s40.22_fn.txt\""
   ]
  },
  {
   "cell_type": "code",
   "execution_count": 6,
   "metadata": {},
   "outputs": [],
   "source": [
    "geno = \"/project2/mstephens/causalTWAS/ukbiobank/ukb_chr1to22_s40.22_fn.txt\""
   ]
  },
  {
   "cell_type": "code",
   "execution_count": 7,
   "metadata": {},
   "outputs": [],
   "source": [
    "index = [str(i) + '-' + str(j) for i in [1,2] for j in range(1,6)]"
   ]
  },
  {
   "cell_type": "code",
   "execution_count": 8,
   "metadata": {},
   "outputs": [],
   "source": [
    "tag_fmt = '20201001-{index}'"
   ]
  },
  {
   "cell_type": "code",
   "execution_count": 9,
   "metadata": {},
   "outputs": [],
   "source": [
    "simutag_fmt = '20201001-{index}'"
   ]
  },
  {
   "cell_type": "code",
   "execution_count": 10,
   "metadata": {},
   "outputs": [],
   "source": [
    "impu_expr_z_name = \"{tag}_ukbs40.22_GTEXadipose\""
   ]
  },
  {
   "cell_type": "code",
   "execution_count": 11,
   "metadata": {},
   "outputs": [],
   "source": [
    "impu_expr_z = \"{wkdir}/{impu_expr_z_name}-expr-z.txt\""
   ]
  },
  {
   "cell_type": "code",
   "execution_count": 12,
   "metadata": {},
   "outputs": [],
   "source": [
    "sumstats = \"{simudir}/{simutag}.snpgwas.txt.gz\""
   ]
  },
  {
   "cell_type": "code",
   "execution_count": 13,
   "metadata": {},
   "outputs": [],
   "source": [
    "simu_pheno = \"{simudir}/simu_{simutag}-pheno.Rd\""
   ]
  },
  {
   "cell_type": "code",
   "execution_count": 14,
   "metadata": {},
   "outputs": [],
   "source": [
    "filterfile = \"NA\""
   ]
  },
  {
   "cell_type": "code",
   "execution_count": 15,
   "metadata": {},
   "outputs": [],
   "source": [
    "configtag = [1]"
   ]
  },
  {
   "cell_type": "markdown",
   "metadata": {},
   "source": [
    "* commands"
   ]
  },
  {
   "cell_type": "code",
   "execution_count": 16,
   "metadata": {},
   "outputs": [],
   "source": [
    "g2dir = \"cd {wkdir}\""
   ]
  },
  {
   "cell_type": "code",
   "execution_count": 17,
   "metadata": {},
   "outputs": [],
   "source": [
    "impu_z = \"Rscript {codedir}/run_impute_expr_z.R {ldgeno} {weight} {sumstats} {impu_expr_z_name}\""
   ]
  },
  {
   "cell_type": "code",
   "execution_count": 18,
   "metadata": {},
   "outputs": [],
   "source": [
    "susieIrss = \"Rscript {codedir}/run_test_susieI_rss.R {ldgeno} {impu_expr_z} {sumstats} {simu_pheno} {geno} {filterfile} {tag}.config{configtag} susieI_rss_config{configtag}.R\""
   ]
  },
  {
   "cell_type": "markdown",
   "metadata": {},
   "source": [
    "* write master file"
   ]
  },
  {
   "cell_type": "code",
   "execution_count": 19,
   "metadata": {},
   "outputs": [],
   "source": [
    "masterfile = 'master_run.sh'"
   ]
  },
  {
   "cell_type": "code",
   "execution_count": 20,
   "metadata": {},
   "outputs": [
    {
     "name": "stdout",
     "output_type": "stream",
     "text": [
      "/project2/mstephens/causalTWAS/simulations/simulation_susieI_rss_20201001\n"
     ]
    }
   ],
   "source": [
    "cd {wkdir}"
   ]
  },
  {
   "cell_type": "code",
   "execution_count": 21,
   "metadata": {},
   "outputs": [],
   "source": [
    "with open(masterfile, 'w') as outf:\n",
    "    for idx in index:\n",
    "        for cf in configtag: \n",
    "            tag = tag_fmt.format(index = idx)\n",
    "            simutag = simutag_fmt.format(index = idx)\n",
    "            outf.write(';'.join([\n",
    "                  'source activate twas', \n",
    "                  g2dir,\n",
    "                  #impu_z,\n",
    "                  susieIrss\n",
    "            ]).format(\n",
    "                  sumstats = sumstats,\n",
    "                  weight = weight,\n",
    "                  impu_expr_z = impu_expr_z,\n",
    "                  impu_expr_z_name = impu_expr_z_name,\n",
    "                  simu_pheno = simu_pheno,\n",
    "                  filterfile = filterfile,\n",
    "                  wkdir = wkdir,\n",
    "                  codedir = codedir, \n",
    "                  ldgeno = ldgeno,\n",
    "                  geno = geno,\n",
    "                  tag = tag,\n",
    "                  configtag = cf\n",
    "            ).format(\n",
    "                  simudir = simudir,\n",
    "                  simutag = simutag,\n",
    "                  impu_expr_z_name = impu_expr_z_name,\n",
    "                  wkdir = wkdir,\n",
    "                  tag = tag\n",
    "            ).format(tag = tag) + '\\n')"
   ]
  },
  {
   "cell_type": "code",
   "execution_count": 22,
   "metadata": {},
   "outputs": [
    {
     "name": "stdout",
     "output_type": "stream",
     "text": [
      "planning to run 10 jobs ...\n",
      "Type: sbatch submit_parallel_master_run.sh.sh\n"
     ]
    }
   ],
   "source": [
    "!python /home/simingz/cancer_somatic/cancer_somatic/annotation/pMake_batchjobs_RCC.py {masterfile} --mem 56 --ntasks 15 --partition broadwl"
   ]
  },
  {
   "cell_type": "code",
   "execution_count": null,
   "metadata": {},
   "outputs": [],
   "source": []
  }
 ],
 "metadata": {
  "kernelspec": {
   "display_name": "Python [default]",
   "language": "python",
   "name": "python3"
  },
  "language_info": {
   "codemirror_mode": {
    "name": "ipython",
    "version": 3
   },
   "file_extension": ".py",
   "mimetype": "text/x-python",
   "name": "python",
   "nbconvert_exporter": "python",
   "pygments_lexer": "ipython3",
   "version": "3.5.2"
  }
 },
 "nbformat": 4,
 "nbformat_minor": 2
}
