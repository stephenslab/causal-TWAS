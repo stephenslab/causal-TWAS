{
 "cells": [
  {
   "cell_type": "markdown",
   "metadata": {},
   "source": [
    "# Test susieI\n",
    "\n",
    "Use simulations from `simulation_ashtest_20201001`: This uses genotype chr1-22, s40.22."
   ]
  },
  {
   "cell_type": "markdown",
   "metadata": {},
   "source": [
    "* set up"
   ]
  },
  {
   "cell_type": "code",
   "execution_count": 1,
   "metadata": {},
   "outputs": [],
   "source": [
    "wkdir = \"/project2/mstephens/causalTWAS/simulations/simulation_susieI_20201001/\""
   ]
  },
  {
   "cell_type": "code",
   "execution_count": 2,
   "metadata": {},
   "outputs": [],
   "source": [
    "simudir = \"/project2/mstephens/causalTWAS/simulations/simulation_ashtest_20201001/\""
   ]
  },
  {
   "cell_type": "code",
   "execution_count": 3,
   "metadata": {},
   "outputs": [],
   "source": [
    "codedir = \"/project2/mstephens/causalTWAS/causal-TWAS/code/\""
   ]
  },
  {
   "cell_type": "code",
   "execution_count": 4,
   "metadata": {},
   "outputs": [],
   "source": [
    "geno =\"/project2/mstephens/causalTWAS/ukbiobank/ukb_chr1to22_s40.22_fn.txt\""
   ]
  },
  {
   "cell_type": "code",
   "execution_count": 5,
   "metadata": {},
   "outputs": [],
   "source": [
    "simu_expr = \"/project2/mstephens/causalTWAS/simulations/simulation_ashtest_20201001/simu_s40000_GTEXadipose-cis-expr.txt\""
   ]
  },
  {
   "cell_type": "code",
   "execution_count": 6,
   "metadata": {},
   "outputs": [],
   "source": [
    "index = [str(i) + '-' + str(j) for i in [1] for j in range(1,6)]"
   ]
  },
  {
   "cell_type": "code",
   "execution_count": 7,
   "metadata": {},
   "outputs": [],
   "source": [
    "tag_fmt = '20201001-{index}'"
   ]
  },
  {
   "cell_type": "code",
   "execution_count": 8,
   "metadata": {},
   "outputs": [],
   "source": [
    "simutag_fmt = '20201001-{index}'"
   ]
  },
  {
   "cell_type": "code",
   "execution_count": 9,
   "metadata": {},
   "outputs": [],
   "source": [
    "mrashtag_fmt = '20201001-{index}'"
   ]
  },
  {
   "cell_type": "code",
   "execution_count": 10,
   "metadata": {},
   "outputs": [],
   "source": [
    "configtag = [11,12,13]"
   ]
  },
  {
   "cell_type": "code",
   "execution_count": 11,
   "metadata": {},
   "outputs": [],
   "source": [
    "mrashres = \"/home/simingz/causalTWAS/simulations/simulation_ashtest_20201001/{mrashtag}\"\n",
    "# mrashres = \"/home/simingz/causalTWAS/simulations/simulation_ashtest_20200721/{mrashtag}-mr.ash\"\n",
    "# mrashres = \"/home/simingz/causalTWAS/simulations/simulation_ashtest_20200721/{mrashtag}-mr.ash2s.lassoes-es\"\n",
    "# mrashres = \"/home/simingz/causalTWAS/simulations/shared_files/20200721-1-1-mr.ash2s.lassoes-es\""
   ]
  },
  {
   "cell_type": "markdown",
   "metadata": {},
   "source": [
    "* commands"
   ]
  },
  {
   "cell_type": "code",
   "execution_count": 12,
   "metadata": {},
   "outputs": [],
   "source": [
    "g2dir = \"cd {wkdir}\""
   ]
  },
  {
   "cell_type": "code",
   "execution_count": 13,
   "metadata": {},
   "outputs": [],
   "source": [
    "simu_pheno = \"{simudir}/simu_{simutag}-pheno.Rd\""
   ]
  },
  {
   "cell_type": "code",
   "execution_count": 14,
   "metadata": {},
   "outputs": [],
   "source": [
    "susieI = \"Rscript {codedir}/run_test_susieI.R {geno} {simu_expr} {simu_pheno} {mrashres} {tag}.config{configtag} susieI_config{configtag}.R\""
   ]
  },
  {
   "cell_type": "markdown",
   "metadata": {},
   "source": [
    "* write master file"
   ]
  },
  {
   "cell_type": "code",
   "execution_count": 15,
   "metadata": {},
   "outputs": [],
   "source": [
    "masterfile = 'master_run_iter1.sh'"
   ]
  },
  {
   "cell_type": "code",
   "execution_count": 16,
   "metadata": {},
   "outputs": [
    {
     "name": "stdout",
     "output_type": "stream",
     "text": [
      "/project2/mstephens/causalTWAS/simulations/simulation_susieI_20201001\n"
     ]
    }
   ],
   "source": [
    "cd {wkdir}"
   ]
  },
  {
   "cell_type": "code",
   "execution_count": 17,
   "metadata": {},
   "outputs": [],
   "source": [
    "with open(masterfile, 'w') as outf:\n",
    "    for idx in index:\n",
    "        for cf in configtag: \n",
    "            tag = tag_fmt.format(index = idx)\n",
    "            simutag = simutag_fmt.format(index = idx)\n",
    "            mrashtag = mrashtag_fmt.format(index = idx)\n",
    "            outf.write(';'.join([\n",
    "                  'source activate twas', \n",
    "                  g2dir,\n",
    "                  susieI\n",
    "            ]).format(\n",
    "                  simu_expr = simu_expr,\n",
    "                  simu_pheno = simu_pheno,\n",
    "                  mrashres = mrashres,\n",
    "                  wkdir = wkdir,\n",
    "                  codedir = codedir,              \n",
    "                  geno = geno,\n",
    "                  tag = tag,\n",
    "                  configtag = cf\n",
    "            ).format(\n",
    "                  simudir = simudir,\n",
    "                  simutag = simutag,\n",
    "                  wkdir = wkdir,\n",
    "                  mrashtag = mrashtag,\n",
    "                  tag = tag\n",
    "            ) + '\\n')"
   ]
  },
  {
   "cell_type": "code",
   "execution_count": 18,
   "metadata": {},
   "outputs": [
    {
     "name": "stdout",
     "output_type": "stream",
     "text": [
      "planning to run 15 jobs ...\n",
      "Type: sbatch submit_parallel_master_run_iter1.sh.sh\n"
     ]
    }
   ],
   "source": [
    "!python /home/simingz/cancer_somatic/cancer_somatic/annotation/pMake_batchjobs_RCC.py {masterfile} --mem 56 --ntasks 15 --partition broadwl"
   ]
  },
  {
   "cell_type": "code",
   "execution_count": null,
   "metadata": {},
   "outputs": [],
   "source": []
  }
 ],
 "metadata": {
  "kernelspec": {
   "display_name": "Python [default]",
   "language": "python",
   "name": "python3"
  },
  "language_info": {
   "codemirror_mode": {
    "name": "ipython",
    "version": 3
   },
   "file_extension": ".py",
   "mimetype": "text/x-python",
   "name": "python",
   "nbconvert_exporter": "python",
   "pygments_lexer": "ipython3",
   "version": "3.5.2"
  }
 },
 "nbformat": 4,
 "nbformat_minor": 2
}
