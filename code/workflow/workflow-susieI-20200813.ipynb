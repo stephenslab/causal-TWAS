{
 "cells": [
  {
   "cell_type": "markdown",
   "metadata": {},
   "source": [
    "# Test susieI workflow\n",
    "\n",
    "Use simulations from `simulation_ashtest_20200721`: Chr17-22, GTEx Adipose (subcutaneous) fusion weights, n=20k"
   ]
  },
  {
   "cell_type": "markdown",
   "metadata": {},
   "source": [
    "* set up"
   ]
  },
  {
   "cell_type": "code",
   "execution_count": 1,
   "metadata": {},
   "outputs": [],
   "source": [
    "wkdir = \"/project2/mstephens/causalTWAS/simulations/simulation_susieI_20200813/\""
   ]
  },
  {
   "cell_type": "code",
   "execution_count": 2,
   "metadata": {},
   "outputs": [],
   "source": [
    "simudir = \"/project2/mstephens/causalTWAS/simulations/simulation_ashtest_20200721/\""
   ]
  },
  {
   "cell_type": "code",
   "execution_count": 3,
   "metadata": {},
   "outputs": [],
   "source": [
    "codedir = \"/project2/mstephens/causalTWAS/causal-TWAS/code/\""
   ]
  },
  {
   "cell_type": "code",
   "execution_count": 4,
   "metadata": {},
   "outputs": [],
   "source": [
    "geno = \"/project2/mstephens/causalTWAS/ukbiobank/ukb_chr17to22_s20000\""
   ]
  },
  {
   "cell_type": "code",
   "execution_count": 5,
   "metadata": {},
   "outputs": [],
   "source": [
    "weight = \"/project2/mstephens/causalTWAS/fusion_weights/Adipose_Subcutaneous\""
   ]
  },
  {
   "cell_type": "code",
   "execution_count": 6,
   "metadata": {},
   "outputs": [],
   "source": [
    "index = [str(i) + '-' + str(j) for i in [1,2,3,4] for j in range(1,6)]"
   ]
  },
  {
   "cell_type": "code",
   "execution_count": 7,
   "metadata": {},
   "outputs": [],
   "source": [
    "tag_fmt = '20200813-{index}'"
   ]
  },
  {
   "cell_type": "code",
   "execution_count": 8,
   "metadata": {},
   "outputs": [],
   "source": [
    "simutag_fmt = '20200721-{index}'"
   ]
  },
  {
   "cell_type": "code",
   "execution_count": 9,
   "metadata": {},
   "outputs": [],
   "source": [
    "mrashtag_fmt = '20200721-{index}'"
   ]
  },
  {
   "cell_type": "code",
   "execution_count": 10,
   "metadata": {},
   "outputs": [],
   "source": [
    "configtag = [6, 7, 8]"
   ]
  },
  {
   "cell_type": "code",
   "execution_count": 11,
   "metadata": {},
   "outputs": [],
   "source": [
    "# mrashres = \"{wkdir}/{tag}-mr.ash\"\n",
    "mrashres = \"/home/simingz/causalTWAS/simulations/simulation_ashtest_20200721/{mrashtag}-mr.ash2s.lassoes-es\"\n",
    "# mrashres = \"/home/simingz/causalTWAS/simulations/shared_files/20200721-1-1-mr.ash2s.lassoes-es\""
   ]
  },
  {
   "cell_type": "markdown",
   "metadata": {},
   "source": [
    "* commands"
   ]
  },
  {
   "cell_type": "code",
   "execution_count": 12,
   "metadata": {},
   "outputs": [],
   "source": [
    "g2dir = \"cd {wkdir}\""
   ]
  },
  {
   "cell_type": "code",
   "execution_count": 13,
   "metadata": {},
   "outputs": [],
   "source": [
    "simu_expr = \"{simudir}/simu_{simutag}-cis-expr.Rd\""
   ]
  },
  {
   "cell_type": "code",
   "execution_count": 14,
   "metadata": {},
   "outputs": [],
   "source": [
    "simu_pheno = \"{simudir}/simu_{simutag}-pheno.Rd\""
   ]
  },
  {
   "cell_type": "code",
   "execution_count": 15,
   "metadata": {},
   "outputs": [],
   "source": [
    "# mrash = \"Rscript {codedir}/run_test_mr.ash_gene.R {simu_expr} {simu_pheno} {tag}\""
   ]
  },
  {
   "cell_type": "code",
   "execution_count": 16,
   "metadata": {},
   "outputs": [],
   "source": [
    "susieI = \"Rscript {codedir}/run_test_susieI.R {geno} {simu_expr} {simu_pheno} {mrashres} {tag}.config{configtag} susieI_config{configtag}.R\""
   ]
  },
  {
   "cell_type": "markdown",
   "metadata": {},
   "source": [
    "* write master file"
   ]
  },
  {
   "cell_type": "code",
   "execution_count": 17,
   "metadata": {},
   "outputs": [],
   "source": [
    "masterfile = 'master_run.sh'"
   ]
  },
  {
   "cell_type": "code",
   "execution_count": 18,
   "metadata": {},
   "outputs": [
    {
     "name": "stdout",
     "output_type": "stream",
     "text": [
      "/project2/mstephens/causalTWAS/simulations/simulation_susieI_20200813\n"
     ]
    }
   ],
   "source": [
    "cd {wkdir}"
   ]
  },
  {
   "cell_type": "code",
   "execution_count": 19,
   "metadata": {},
   "outputs": [],
   "source": [
    "with open(masterfile, 'w') as outf:\n",
    "    for idx in index:\n",
    "        for cf in configtag: \n",
    "            tag = tag_fmt.format(index = idx)\n",
    "            simutag = simutag_fmt.format(index = idx)\n",
    "            mrashtag = mrashtag_fmt.format(index = idx)\n",
    "            outf.write(';'.join([\n",
    "                  'source activate twas', \n",
    "                  g2dir,\n",
    "                  #mrash,\n",
    "                  susieI\n",
    "            ]).format(\n",
    "                  simu_expr = simu_expr,\n",
    "                  simu_pheno = simu_pheno,\n",
    "                  mrashres = mrashres,\n",
    "                  wkdir = wkdir,\n",
    "                  codedir = codedir,              \n",
    "                  geno = geno,\n",
    "                  tag = tag,\n",
    "                  configtag = cf\n",
    "            ).format(\n",
    "                  simudir = simudir,\n",
    "                  simutag = simutag,\n",
    "                  wkdir = wkdir,\n",
    "                  mrashtag = mrashtag,\n",
    "                  tag = tag\n",
    "            ) + '\\n')"
   ]
  },
  {
   "cell_type": "code",
   "execution_count": 20,
   "metadata": {},
   "outputs": [
    {
     "name": "stdout",
     "output_type": "stream",
     "text": [
      "planning to run 60 jobs ...\n",
      "Type: sbatch submit_parallel_master_run.sh.sh\n"
     ]
    }
   ],
   "source": [
    "!python /home/simingz/cancer_somatic/cancer_somatic/annotation/pMake_batchjobs_RCC.py {masterfile} --mem 40 --partition broadwl"
   ]
  },
  {
   "cell_type": "code",
   "execution_count": 22,
   "metadata": {},
   "outputs": [
    {
     "data": {
      "text/plain": [
       "source activate twas;cd /project2/mstephens/causalTWAS/simulations/simulation_susieI_20200813/;Rscript /project2/mstephens/causalTWAS/causal-TWAS/code//run_test_susieI.R /project2/mstephens/causalTWAS/ukbiobank/ukb_chr17to22_s20000 /project2/mstephens/causalTWAS/simulations/simulation_ashtest_20200721//simu_20200721-1-1-cis-expr.Rd /project2/mstephens/causalTWAS/simulations/simulation_ashtest_20200721//simu_20200721-1-1-pheno.Rd /home/simingz/causalTWAS/simulations/simulation_ashtest_20200721/20200721-1-1-mr.ash2s.lassoes-es 20200813-1-1.config6 susieI_config6.R\n",
       "source activate twas;cd /project2/mstephens/causalTWAS/simulations/simulation_susieI_20200813/;Rscript /project2/mstephens/causalTWAS/causal-TWAS/code//run_test_susieI.R /project2/mstephens/causalTWAS/ukbiobank/ukb_chr17to22_s20000 /project2/mstephens/causalTWAS/simulations/simulation_ashtest_20200721//simu_20200721-1-1-cis-expr.Rd /project2/mstephens/causalTWAS/simulations/simulation_ashtest_20200721//simu_20200721-1-1-pheno.Rd /home/simingz/causalTWAS/simulations/simulation_ashtest_20200721/20200721-1-1-mr.ash2s.lassoes-es 20200813-1-1.config7 susieI_config7.R\n",
       "source activate twas;cd /project2/mstephens/causalTWAS/simulations/simulation_susieI_20200813/;Rscript /project2/mstephens/causalTWAS/causal-TWAS/code//run_test_susieI.R /project2/mstephens/causalTWAS/ukbiobank/ukb_chr17to22_s20000 /project2/mstephens/causalTWAS/simulations/simulation_ashtest_20200721//simu_20200721-1-1-cis-expr.Rd /project2/mstephens/causalTWAS/simulations/simulation_ashtest_20200721//simu_20200721-1-1-pheno.Rd /home/simingz/causalTWAS/simulations/simulation_ashtest_20200721/20200721-1-1-mr.ash2s.lassoes-es 20200813-1-1.config8 susieI_config8.R\n",
       "source activate twas;cd /project2/mstephens/causalTWAS/simulations/simulation_susieI_20200813/;Rscript /project2/mstephens/causalTWAS/causal-TWAS/code//run_test_susieI.R /project2/mstephens/causalTWAS/ukbiobank/ukb_chr17to22_s20000 /project2/mstephens/causalTWAS/simulations/simulation_ashtest_20200721//simu_20200721-1-2-cis-expr.Rd /project2/mstephens/causalTWAS/simulations/simulation_ashtest_20200721//simu_20200721-1-2-pheno.Rd /home/simingz/causalTWAS/simulations/simulation_ashtest_20200721/20200721-1-2-mr.ash2s.lassoes-es 20200813-1-2.config6 susieI_config6.R\n",
       "source activate twas;cd /project2/mstephens/causalTWAS/simulations/simulation_susieI_20200813/;Rscript /project2/mstephens/causalTWAS/causal-TWAS/code//run_test_susieI.R /project2/mstephens/causalTWAS/ukbiobank/ukb_chr17to22_s20000 /project2/mstephens/causalTWAS/simulations/simulation_ashtest_20200721//simu_20200721-1-2-cis-expr.Rd /project2/mstephens/causalTWAS/simulations/simulation_ashtest_20200721//simu_20200721-1-2-pheno.Rd /home/simingz/causalTWAS/simulations/simulation_ashtest_20200721/20200721-1-2-mr.ash2s.lassoes-es 20200813-1-2.config7 susieI_config7.R\n",
       "source activate twas;cd /project2/mstephens/causalTWAS/simulations/simulation_susieI_20200813/;Rscript /project2/mstephens/causalTWAS/causal-TWAS/code//run_test_susieI.R /project2/mstephens/causalTWAS/ukbiobank/ukb_chr17to22_s20000 /project2/mstephens/causalTWAS/simulations/simulation_ashtest_20200721//simu_20200721-1-2-cis-expr.Rd /project2/mstephens/causalTWAS/simulations/simulation_ashtest_20200721//simu_20200721-1-2-pheno.Rd /home/simingz/causalTWAS/simulations/simulation_ashtest_20200721/20200721-1-2-mr.ash2s.lassoes-es 20200813-1-2.config8 susieI_config8.R\n",
       "source activate twas;cd /project2/mstephens/causalTWAS/simulations/simulation_susieI_20200813/;Rscript /project2/mstephens/causalTWAS/causal-TWAS/code//run_test_susieI.R /project2/mstephens/causalTWAS/ukbiobank/ukb_chr17to22_s20000 /project2/mstephens/causalTWAS/simulations/simulation_ashtest_20200721//simu_20200721-1-3-cis-expr.Rd /project2/mstephens/causalTWAS/simulations/simulation_ashtest_20200721//simu_20200721-1-3-pheno.Rd /home/simingz/causalTWAS/simulations/simulation_ashtest_20200721/20200721-1-3-mr.ash2s.lassoes-es 20200813-1-3.config6 susieI_config6.R\n",
       "source activate twas;cd /project2/mstephens/causalTWAS/simulations/simulation_susieI_20200813/;Rscript /project2/mstephens/causalTWAS/causal-TWAS/code//run_test_susieI.R /project2/mstephens/causalTWAS/ukbiobank/ukb_chr17to22_s20000 /project2/mstephens/causalTWAS/simulations/simulation_ashtest_20200721//simu_20200721-1-3-cis-expr.Rd /project2/mstephens/causalTWAS/simulations/simulation_ashtest_20200721//simu_20200721-1-3-pheno.Rd /home/simingz/causalTWAS/simulations/simulation_ashtest_20200721/20200721-1-3-mr.ash2s.lassoes-es 20200813-1-3.config7 susieI_config7.R\n",
       "source activate twas;cd /project2/mstephens/causalTWAS/simulations/simulation_susieI_20200813/;Rscript /project2/mstephens/causalTWAS/causal-TWAS/code//run_test_susieI.R /project2/mstephens/causalTWAS/ukbiobank/ukb_chr17to22_s20000 /project2/mstephens/causalTWAS/simulations/simulation_ashtest_20200721//simu_20200721-1-3-cis-expr.Rd /project2/mstephens/causalTWAS/simulations/simulation_ashtest_20200721//simu_20200721-1-3-pheno.Rd /home/simingz/causalTWAS/simulations/simulation_ashtest_20200721/20200721-1-3-mr.ash2s.lassoes-es 20200813-1-3.config8 susieI_config8.R\n",
       "source activate twas;cd /project2/mstephens/causalTWAS/simulations/simulation_susieI_20200813/;Rscript /project2/mstephens/causalTWAS/causal-TWAS/code//run_test_susieI.R /project2/mstephens/causalTWAS/ukbiobank/ukb_chr17to22_s20000 /project2/mstephens/causalTWAS/simulations/simulation_ashtest_20200721//simu_20200721-1-4-cis-expr.Rd /project2/mstephens/causalTWAS/simulations/simulation_ashtest_20200721//simu_20200721-1-4-pheno.Rd /home/simingz/causalTWAS/simulations/simulation_ashtest_20200721/20200721-1-4-mr.ash2s.lassoes-es 20200813-1-4.config6 susieI_config6.R\n",
       "source activate twas;cd /project2/mstephens/causalTWAS/simulations/simulation_susieI_20200813/;Rscript /project2/mstephens/causalTWAS/causal-TWAS/code//run_test_susieI.R /project2/mstephens/causalTWAS/ukbiobank/ukb_chr17to22_s20000 /project2/mstephens/causalTWAS/simulations/simulation_ashtest_20200721//simu_20200721-1-4-cis-expr.Rd /project2/mstephens/causalTWAS/simulations/simulation_ashtest_20200721//simu_20200721-1-4-pheno.Rd /home/simingz/causalTWAS/simulations/simulation_ashtest_20200721/20200721-1-4-mr.ash2s.lassoes-es 20200813-1-4.config7 susieI_config7.R\n",
       "source activate twas;cd /project2/mstephens/causalTWAS/simulations/simulation_susieI_20200813/;Rscript /project2/mstephens/causalTWAS/causal-TWAS/code//run_test_susieI.R /project2/mstephens/causalTWAS/ukbiobank/ukb_chr17to22_s20000 /project2/mstephens/causalTWAS/simulations/simulation_ashtest_20200721//simu_20200721-1-4-cis-expr.Rd /project2/mstephens/causalTWAS/simulations/simulation_ashtest_20200721//simu_20200721-1-4-pheno.Rd /home/simingz/causalTWAS/simulations/simulation_ashtest_20200721/20200721-1-4-mr.ash2s.lassoes-es 20200813-1-4.config8 susieI_config8.R\n",
       "source activate twas;cd /project2/mstephens/causalTWAS/simulations/simulation_susieI_20200813/;Rscript /project2/mstephens/causalTWAS/causal-TWAS/code//run_test_susieI.R /project2/mstephens/causalTWAS/ukbiobank/ukb_chr17to22_s20000 /project2/mstephens/causalTWAS/simulations/simulation_ashtest_20200721//simu_20200721-1-5-cis-expr.Rd /project2/mstephens/causalTWAS/simulations/simulation_ashtest_20200721//simu_20200721-1-5-pheno.Rd /home/simingz/causalTWAS/simulations/simulation_ashtest_20200721/20200721-1-5-mr.ash2s.lassoes-es 20200813-1-5.config6 susieI_config6.R\n",
       "source activate twas;cd /project2/mstephens/causalTWAS/simulations/simulation_susieI_20200813/;Rscript /project2/mstephens/causalTWAS/causal-TWAS/code//run_test_susieI.R /project2/mstephens/causalTWAS/ukbiobank/ukb_chr17to22_s20000 /project2/mstephens/causalTWAS/simulations/simulation_ashtest_20200721//simu_20200721-1-5-cis-expr.Rd /project2/mstephens/causalTWAS/simulations/simulation_ashtest_20200721//simu_20200721-1-5-pheno.Rd /home/simingz/causalTWAS/simulations/simulation_ashtest_20200721/20200721-1-5-mr.ash2s.lassoes-es 20200813-1-5.config7 susieI_config7.R\n",
       "source activate twas;cd /project2/mstephens/causalTWAS/simulations/simulation_susieI_20200813/;Rscript /project2/mstephens/causalTWAS/causal-TWAS/code//run_test_susieI.R /project2/mstephens/causalTWAS/ukbiobank/ukb_chr17to22_s20000 /project2/mstephens/causalTWAS/simulations/simulation_ashtest_20200721//simu_20200721-1-5-cis-expr.Rd /project2/mstephens/causalTWAS/simulations/simulation_ashtest_20200721//simu_20200721-1-5-pheno.Rd /home/simingz/causalTWAS/simulations/simulation_ashtest_20200721/20200721-1-5-mr.ash2s.lassoes-es 20200813-1-5.config8 susieI_config8.R\n",
       "source activate twas;cd /project2/mstephens/causalTWAS/simulations/simulation_susieI_20200813/;Rscript /project2/mstephens/causalTWAS/causal-TWAS/code//run_test_susieI.R /project2/mstephens/causalTWAS/ukbiobank/ukb_chr17to22_s20000 /project2/mstephens/causalTWAS/simulations/simulation_ashtest_20200721//simu_20200721-2-1-cis-expr.Rd /project2/mstephens/causalTWAS/simulations/simulation_ashtest_20200721//simu_20200721-2-1-pheno.Rd /home/simingz/causalTWAS/simulations/simulation_ashtest_20200721/20200721-2-1-mr.ash2s.lassoes-es 20200813-2-1.config6 susieI_config6.R\n",
       "source activate twas;cd /project2/mstephens/causalTWAS/simulations/simulation_susieI_20200813/;Rscript /project2/mstephens/causalTWAS/causal-TWAS/code//run_test_susieI.R /project2/mstephens/causalTWAS/ukbiobank/ukb_chr17to22_s20000 /project2/mstephens/causalTWAS/simulations/simulation_ashtest_20200721//simu_20200721-2-1-cis-expr.Rd /project2/mstephens/causalTWAS/simulations/simulation_ashtest_20200721//simu_20200721-2-1-pheno.Rd /home/simingz/causalTWAS/simulations/simulation_ashtest_20200721/20200721-2-1-mr.ash2s.lassoes-es 20200813-2-1.config7 susieI_config7.R\n",
       "source activate twas;cd /project2/mstephens/causalTWAS/simulations/simulation_susieI_20200813/;Rscript /project2/mstephens/causalTWAS/causal-TWAS/code//run_test_susieI.R /project2/mstephens/causalTWAS/ukbiobank/ukb_chr17to22_s20000 /project2/mstephens/causalTWAS/simulations/simulation_ashtest_20200721//simu_20200721-2-1-cis-expr.Rd /project2/mstephens/causalTWAS/simulations/simulation_ashtest_20200721//simu_20200721-2-1-pheno.Rd /home/simingz/causalTWAS/simulations/simulation_ashtest_20200721/20200721-2-1-mr.ash2s.lassoes-es 20200813-2-1.config8 susieI_config8.R\n",
       "source activate twas;cd /project2/mstephens/causalTWAS/simulations/simulation_susieI_20200813/;Rscript /project2/mstephens/causalTWAS/causal-TWAS/code//run_test_susieI.R /project2/mstephens/causalTWAS/ukbiobank/ukb_chr17to22_s20000 /project2/mstephens/causalTWAS/simulations/simulation_ashtest_20200721//simu_20200721-2-2-cis-expr.Rd /project2/mstephens/causalTWAS/simulations/simulation_ashtest_20200721//simu_20200721-2-2-pheno.Rd /home/simingz/causalTWAS/simulations/simulation_ashtest_20200721/20200721-2-2-mr.ash2s.lassoes-es 20200813-2-2.config6 susieI_config6.R\n",
       "source activate twas;cd /project2/mstephens/causalTWAS/simulations/simulation_susieI_20200813/;Rscript /project2/mstephens/causalTWAS/causal-TWAS/code//run_test_susieI.R /project2/mstephens/causalTWAS/ukbiobank/ukb_chr17to22_s20000 /project2/mstephens/causalTWAS/simulations/simulation_ashtest_20200721//simu_20200721-2-2-cis-expr.Rd /project2/mstephens/causalTWAS/simulations/simulation_ashtest_20200721//simu_20200721-2-2-pheno.Rd /home/simingz/causalTWAS/simulations/simulation_ashtest_20200721/20200721-2-2-mr.ash2s.lassoes-es 20200813-2-2.config7 susieI_config7.R\n",
       "source activate twas;cd /project2/mstephens/causalTWAS/simulations/simulation_susieI_20200813/;Rscript /project2/mstephens/causalTWAS/causal-TWAS/code//run_test_susieI.R /project2/mstephens/causalTWAS/ukbiobank/ukb_chr17to22_s20000 /project2/mstephens/causalTWAS/simulations/simulation_ashtest_20200721//simu_20200721-2-2-cis-expr.Rd /project2/mstephens/causalTWAS/simulations/simulation_ashtest_20200721//simu_20200721-2-2-pheno.Rd /home/simingz/causalTWAS/simulations/simulation_ashtest_20200721/20200721-2-2-mr.ash2s.lassoes-es 20200813-2-2.config8 susieI_config8.R\n",
       "source activate twas;cd /project2/mstephens/causalTWAS/simulations/simulation_susieI_20200813/;Rscript /project2/mstephens/causalTWAS/causal-TWAS/code//run_test_susieI.R /project2/mstephens/causalTWAS/ukbiobank/ukb_chr17to22_s20000 /project2/mstephens/causalTWAS/simulations/simulation_ashtest_20200721//simu_20200721-2-3-cis-expr.Rd /project2/mstephens/causalTWAS/simulations/simulation_ashtest_20200721//simu_20200721-2-3-pheno.Rd /home/simingz/causalTWAS/simulations/simulation_ashtest_20200721/20200721-2-3-mr.ash2s.lassoes-es 20200813-2-3.config6 susieI_config6.R\n",
       "source activate twas;cd /project2/mstephens/causalTWAS/simulations/simulation_susieI_20200813/;Rscript /project2/mstephens/causalTWAS/causal-TWAS/code//run_test_susieI.R /project2/mstephens/causalTWAS/ukbiobank/ukb_chr17to22_s20000 /project2/mstephens/causalTWAS/simulations/simulation_ashtest_20200721//simu_20200721-2-3-cis-expr.Rd /project2/mstephens/causalTWAS/simulations/simulation_ashtest_20200721//simu_20200721-2-3-pheno.Rd /home/simingz/causalTWAS/simulations/simulation_ashtest_20200721/20200721-2-3-mr.ash2s.lassoes-es 20200813-2-3.config7 susieI_config7.R\n",
       "source activate twas;cd /project2/mstephens/causalTWAS/simulations/simulation_susieI_20200813/;Rscript /project2/mstephens/causalTWAS/causal-TWAS/code//run_test_susieI.R /project2/mstephens/causalTWAS/ukbiobank/ukb_chr17to22_s20000 /project2/mstephens/causalTWAS/simulations/simulation_ashtest_20200721//simu_20200721-2-3-cis-expr.Rd /project2/mstephens/causalTWAS/simulations/simulation_ashtest_20200721//simu_20200721-2-3-pheno.Rd /home/simingz/causalTWAS/simulations/simulation_ashtest_20200721/20200721-2-3-mr.ash2s.lassoes-es 20200813-2-3.config8 susieI_config8.R\n",
       "source activate twas;cd /project2/mstephens/causalTWAS/simulations/simulation_susieI_20200813/;Rscript /project2/mstephens/causalTWAS/causal-TWAS/code//run_test_susieI.R /project2/mstephens/causalTWAS/ukbiobank/ukb_chr17to22_s20000 /project2/mstephens/causalTWAS/simulations/simulation_ashtest_20200721//simu_20200721-2-4-cis-expr.Rd /project2/mstephens/causalTWAS/simulations/simulation_ashtest_20200721//simu_20200721-2-4-pheno.Rd /home/simingz/causalTWAS/simulations/simulation_ashtest_20200721/20200721-2-4-mr.ash2s.lassoes-es 20200813-2-4.config6 susieI_config6.R\n",
       "source activate twas;cd /project2/mstephens/causalTWAS/simulations/simulation_susieI_20200813/;Rscript /project2/mstephens/causalTWAS/causal-TWAS/code//run_test_susieI.R /project2/mstephens/causalTWAS/ukbiobank/ukb_chr17to22_s20000 /project2/mstephens/causalTWAS/simulations/simulation_ashtest_20200721//simu_20200721-2-4-cis-expr.Rd /project2/mstephens/causalTWAS/simulations/simulation_ashtest_20200721//simu_20200721-2-4-pheno.Rd /home/simingz/causalTWAS/simulations/simulation_ashtest_20200721/20200721-2-4-mr.ash2s.lassoes-es 20200813-2-4.config7 susieI_config7.R\n",
       "source activate twas;cd /project2/mstephens/causalTWAS/simulations/simulation_susieI_20200813/;Rscript /project2/mstephens/causalTWAS/causal-TWAS/code//run_test_susieI.R /project2/mstephens/causalTWAS/ukbiobank/ukb_chr17to22_s20000 /project2/mstephens/causalTWAS/simulations/simulation_ashtest_20200721//simu_20200721-2-4-cis-expr.Rd /project2/mstephens/causalTWAS/simulations/simulation_ashtest_20200721//simu_20200721-2-4-pheno.Rd /home/simingz/causalTWAS/simulations/simulation_ashtest_20200721/20200721-2-4-mr.ash2s.lassoes-es 20200813-2-4.config8 susieI_config8.R\n",
       "source activate twas;cd /project2/mstephens/causalTWAS/simulations/simulation_susieI_20200813/;Rscript /project2/mstephens/causalTWAS/causal-TWAS/code//run_test_susieI.R /project2/mstephens/causalTWAS/ukbiobank/ukb_chr17to22_s20000 /project2/mstephens/causalTWAS/simulations/simulation_ashtest_20200721//simu_20200721-2-5-cis-expr.Rd /project2/mstephens/causalTWAS/simulations/simulation_ashtest_20200721//simu_20200721-2-5-pheno.Rd /home/simingz/causalTWAS/simulations/simulation_ashtest_20200721/20200721-2-5-mr.ash2s.lassoes-es 20200813-2-5.config6 susieI_config6.R\n",
       "source activate twas;cd /project2/mstephens/causalTWAS/simulations/simulation_susieI_20200813/;Rscript /project2/mstephens/causalTWAS/causal-TWAS/code//run_test_susieI.R /project2/mstephens/causalTWAS/ukbiobank/ukb_chr17to22_s20000 /project2/mstephens/causalTWAS/simulations/simulation_ashtest_20200721//simu_20200721-2-5-cis-expr.Rd /project2/mstephens/causalTWAS/simulations/simulation_ashtest_20200721//simu_20200721-2-5-pheno.Rd /home/simingz/causalTWAS/simulations/simulation_ashtest_20200721/20200721-2-5-mr.ash2s.lassoes-es 20200813-2-5.config7 susieI_config7.R\n",
       "source activate twas;cd /project2/mstephens/causalTWAS/simulations/simulation_susieI_20200813/;Rscript /project2/mstephens/causalTWAS/causal-TWAS/code//run_test_susieI.R /project2/mstephens/causalTWAS/ukbiobank/ukb_chr17to22_s20000 /project2/mstephens/causalTWAS/simulations/simulation_ashtest_20200721//simu_20200721-2-5-cis-expr.Rd /project2/mstephens/causalTWAS/simulations/simulation_ashtest_20200721//simu_20200721-2-5-pheno.Rd /home/simingz/causalTWAS/simulations/simulation_ashtest_20200721/20200721-2-5-mr.ash2s.lassoes-es 20200813-2-5.config8 susieI_config8.R\n",
       "source activate twas;cd /project2/mstephens/causalTWAS/simulations/simulation_susieI_20200813/;Rscript /project2/mstephens/causalTWAS/causal-TWAS/code//run_test_susieI.R /project2/mstephens/causalTWAS/ukbiobank/ukb_chr17to22_s20000 /project2/mstephens/causalTWAS/simulations/simulation_ashtest_20200721//simu_20200721-3-1-cis-expr.Rd /project2/mstephens/causalTWAS/simulations/simulation_ashtest_20200721//simu_20200721-3-1-pheno.Rd /home/simingz/causalTWAS/simulations/simulation_ashtest_20200721/20200721-3-1-mr.ash2s.lassoes-es 20200813-3-1.config6 susieI_config6.R\n",
       "source activate twas;cd /project2/mstephens/causalTWAS/simulations/simulation_susieI_20200813/;Rscript /project2/mstephens/causalTWAS/causal-TWAS/code//run_test_susieI.R /project2/mstephens/causalTWAS/ukbiobank/ukb_chr17to22_s20000 /project2/mstephens/causalTWAS/simulations/simulation_ashtest_20200721//simu_20200721-3-1-cis-expr.Rd /project2/mstephens/causalTWAS/simulations/simulation_ashtest_20200721//simu_20200721-3-1-pheno.Rd /home/simingz/causalTWAS/simulations/simulation_ashtest_20200721/20200721-3-1-mr.ash2s.lassoes-es 20200813-3-1.config7 susieI_config7.R\n",
       "source activate twas;cd /project2/mstephens/causalTWAS/simulations/simulation_susieI_20200813/;Rscript /project2/mstephens/causalTWAS/causal-TWAS/code//run_test_susieI.R /project2/mstephens/causalTWAS/ukbiobank/ukb_chr17to22_s20000 /project2/mstephens/causalTWAS/simulations/simulation_ashtest_20200721//simu_20200721-3-1-cis-expr.Rd /project2/mstephens/causalTWAS/simulations/simulation_ashtest_20200721//simu_20200721-3-1-pheno.Rd /home/simingz/causalTWAS/simulations/simulation_ashtest_20200721/20200721-3-1-mr.ash2s.lassoes-es 20200813-3-1.config8 susieI_config8.R\n",
       "source activate twas;cd /project2/mstephens/causalTWAS/simulations/simulation_susieI_20200813/;Rscript /project2/mstephens/causalTWAS/causal-TWAS/code//run_test_susieI.R /project2/mstephens/causalTWAS/ukbiobank/ukb_chr17to22_s20000 /project2/mstephens/causalTWAS/simulations/simulation_ashtest_20200721//simu_20200721-3-2-cis-expr.Rd /project2/mstephens/causalTWAS/simulations/simulation_ashtest_20200721//simu_20200721-3-2-pheno.Rd /home/simingz/causalTWAS/simulations/simulation_ashtest_20200721/20200721-3-2-mr.ash2s.lassoes-es 20200813-3-2.config6 susieI_config6.R\n",
       "source activate twas;cd /project2/mstephens/causalTWAS/simulations/simulation_susieI_20200813/;Rscript /project2/mstephens/causalTWAS/causal-TWAS/code//run_test_susieI.R /project2/mstephens/causalTWAS/ukbiobank/ukb_chr17to22_s20000 /project2/mstephens/causalTWAS/simulations/simulation_ashtest_20200721//simu_20200721-3-2-cis-expr.Rd /project2/mstephens/causalTWAS/simulations/simulation_ashtest_20200721//simu_20200721-3-2-pheno.Rd /home/simingz/causalTWAS/simulations/simulation_ashtest_20200721/20200721-3-2-mr.ash2s.lassoes-es 20200813-3-2.config7 susieI_config7.R\n",
       "source activate twas;cd /project2/mstephens/causalTWAS/simulations/simulation_susieI_20200813/;Rscript /project2/mstephens/causalTWAS/causal-TWAS/code//run_test_susieI.R /project2/mstephens/causalTWAS/ukbiobank/ukb_chr17to22_s20000 /project2/mstephens/causalTWAS/simulations/simulation_ashtest_20200721//simu_20200721-3-2-cis-expr.Rd /project2/mstephens/causalTWAS/simulations/simulation_ashtest_20200721//simu_20200721-3-2-pheno.Rd /home/simingz/causalTWAS/simulations/simulation_ashtest_20200721/20200721-3-2-mr.ash2s.lassoes-es 20200813-3-2.config8 susieI_config8.R\n",
       "source activate twas;cd /project2/mstephens/causalTWAS/simulations/simulation_susieI_20200813/;Rscript /project2/mstephens/causalTWAS/causal-TWAS/code//run_test_susieI.R /project2/mstephens/causalTWAS/ukbiobank/ukb_chr17to22_s20000 /project2/mstephens/causalTWAS/simulations/simulation_ashtest_20200721//simu_20200721-3-3-cis-expr.Rd /project2/mstephens/causalTWAS/simulations/simulation_ashtest_20200721//simu_20200721-3-3-pheno.Rd /home/simingz/causalTWAS/simulations/simulation_ashtest_20200721/20200721-3-3-mr.ash2s.lassoes-es 20200813-3-3.config6 susieI_config6.R\n",
       "source activate twas;cd /project2/mstephens/causalTWAS/simulations/simulation_susieI_20200813/;Rscript /project2/mstephens/causalTWAS/causal-TWAS/code//run_test_susieI.R /project2/mstephens/causalTWAS/ukbiobank/ukb_chr17to22_s20000 /project2/mstephens/causalTWAS/simulations/simulation_ashtest_20200721//simu_20200721-3-3-cis-expr.Rd /project2/mstephens/causalTWAS/simulations/simulation_ashtest_20200721//simu_20200721-3-3-pheno.Rd /home/simingz/causalTWAS/simulations/simulation_ashtest_20200721/20200721-3-3-mr.ash2s.lassoes-es 20200813-3-3.config7 susieI_config7.R\n",
       "source activate twas;cd /project2/mstephens/causalTWAS/simulations/simulation_susieI_20200813/;Rscript /project2/mstephens/causalTWAS/causal-TWAS/code//run_test_susieI.R /project2/mstephens/causalTWAS/ukbiobank/ukb_chr17to22_s20000 /project2/mstephens/causalTWAS/simulations/simulation_ashtest_20200721//simu_20200721-3-3-cis-expr.Rd /project2/mstephens/causalTWAS/simulations/simulation_ashtest_20200721//simu_20200721-3-3-pheno.Rd /home/simingz/causalTWAS/simulations/simulation_ashtest_20200721/20200721-3-3-mr.ash2s.lassoes-es 20200813-3-3.config8 susieI_config8.R\n",
       "source activate twas;cd /project2/mstephens/causalTWAS/simulations/simulation_susieI_20200813/;Rscript /project2/mstephens/causalTWAS/causal-TWAS/code//run_test_susieI.R /project2/mstephens/causalTWAS/ukbiobank/ukb_chr17to22_s20000 /project2/mstephens/causalTWAS/simulations/simulation_ashtest_20200721//simu_20200721-3-4-cis-expr.Rd /project2/mstephens/causalTWAS/simulations/simulation_ashtest_20200721//simu_20200721-3-4-pheno.Rd /home/simingz/causalTWAS/simulations/simulation_ashtest_20200721/20200721-3-4-mr.ash2s.lassoes-es 20200813-3-4.config6 susieI_config6.R\n",
       "source activate twas;cd /project2/mstephens/causalTWAS/simulations/simulation_susieI_20200813/;Rscript /project2/mstephens/causalTWAS/causal-TWAS/code//run_test_susieI.R /project2/mstephens/causalTWAS/ukbiobank/ukb_chr17to22_s20000 /project2/mstephens/causalTWAS/simulations/simulation_ashtest_20200721//simu_20200721-3-4-cis-expr.Rd /project2/mstephens/causalTWAS/simulations/simulation_ashtest_20200721//simu_20200721-3-4-pheno.Rd /home/simingz/causalTWAS/simulations/simulation_ashtest_20200721/20200721-3-4-mr.ash2s.lassoes-es 20200813-3-4.config7 susieI_config7.R\n",
       "source activate twas;cd /project2/mstephens/causalTWAS/simulations/simulation_susieI_20200813/;Rscript /project2/mstephens/causalTWAS/causal-TWAS/code//run_test_susieI.R /project2/mstephens/causalTWAS/ukbiobank/ukb_chr17to22_s20000 /project2/mstephens/causalTWAS/simulations/simulation_ashtest_20200721//simu_20200721-3-4-cis-expr.Rd /project2/mstephens/causalTWAS/simulations/simulation_ashtest_20200721//simu_20200721-3-4-pheno.Rd /home/simingz/causalTWAS/simulations/simulation_ashtest_20200721/20200721-3-4-mr.ash2s.lassoes-es 20200813-3-4.config8 susieI_config8.R\n",
       "source activate twas;cd /project2/mstephens/causalTWAS/simulations/simulation_susieI_20200813/;Rscript /project2/mstephens/causalTWAS/causal-TWAS/code//run_test_susieI.R /project2/mstephens/causalTWAS/ukbiobank/ukb_chr17to22_s20000 /project2/mstephens/causalTWAS/simulations/simulation_ashtest_20200721//simu_20200721-3-5-cis-expr.Rd /project2/mstephens/causalTWAS/simulations/simulation_ashtest_20200721//simu_20200721-3-5-pheno.Rd /home/simingz/causalTWAS/simulations/simulation_ashtest_20200721/20200721-3-5-mr.ash2s.lassoes-es 20200813-3-5.config6 susieI_config6.R\n",
       "source activate twas;cd /project2/mstephens/causalTWAS/simulations/simulation_susieI_20200813/;Rscript /project2/mstephens/causalTWAS/causal-TWAS/code//run_test_susieI.R /project2/mstephens/causalTWAS/ukbiobank/ukb_chr17to22_s20000 /project2/mstephens/causalTWAS/simulations/simulation_ashtest_20200721//simu_20200721-3-5-cis-expr.Rd /project2/mstephens/causalTWAS/simulations/simulation_ashtest_20200721//simu_20200721-3-5-pheno.Rd /home/simingz/causalTWAS/simulations/simulation_ashtest_20200721/20200721-3-5-mr.ash2s.lassoes-es 20200813-3-5.config7 susieI_config7.R\n",
       "source activate twas;cd /project2/mstephens/causalTWAS/simulations/simulation_susieI_20200813/;Rscript /project2/mstephens/causalTWAS/causal-TWAS/code//run_test_susieI.R /project2/mstephens/causalTWAS/ukbiobank/ukb_chr17to22_s20000 /project2/mstephens/causalTWAS/simulations/simulation_ashtest_20200721//simu_20200721-3-5-cis-expr.Rd /project2/mstephens/causalTWAS/simulations/simulation_ashtest_20200721//simu_20200721-3-5-pheno.Rd /home/simingz/causalTWAS/simulations/simulation_ashtest_20200721/20200721-3-5-mr.ash2s.lassoes-es 20200813-3-5.config8 susieI_config8.R\n",
       "source activate twas;cd /project2/mstephens/causalTWAS/simulations/simulation_susieI_20200813/;Rscript /project2/mstephens/causalTWAS/causal-TWAS/code//run_test_susieI.R /project2/mstephens/causalTWAS/ukbiobank/ukb_chr17to22_s20000 /project2/mstephens/causalTWAS/simulations/simulation_ashtest_20200721//simu_20200721-4-1-cis-expr.Rd /project2/mstephens/causalTWAS/simulations/simulation_ashtest_20200721//simu_20200721-4-1-pheno.Rd /home/simingz/causalTWAS/simulations/simulation_ashtest_20200721/20200721-4-1-mr.ash2s.lassoes-es 20200813-4-1.config6 susieI_config6.R\n",
       "source activate twas;cd /project2/mstephens/causalTWAS/simulations/simulation_susieI_20200813/;Rscript /project2/mstephens/causalTWAS/causal-TWAS/code//run_test_susieI.R /project2/mstephens/causalTWAS/ukbiobank/ukb_chr17to22_s20000 /project2/mstephens/causalTWAS/simulations/simulation_ashtest_20200721//simu_20200721-4-1-cis-expr.Rd /project2/mstephens/causalTWAS/simulations/simulation_ashtest_20200721//simu_20200721-4-1-pheno.Rd /home/simingz/causalTWAS/simulations/simulation_ashtest_20200721/20200721-4-1-mr.ash2s.lassoes-es 20200813-4-1.config7 susieI_config7.R\n",
       "source activate twas;cd /project2/mstephens/causalTWAS/simulations/simulation_susieI_20200813/;Rscript /project2/mstephens/causalTWAS/causal-TWAS/code//run_test_susieI.R /project2/mstephens/causalTWAS/ukbiobank/ukb_chr17to22_s20000 /project2/mstephens/causalTWAS/simulations/simulation_ashtest_20200721//simu_20200721-4-1-cis-expr.Rd /project2/mstephens/causalTWAS/simulations/simulation_ashtest_20200721//simu_20200721-4-1-pheno.Rd /home/simingz/causalTWAS/simulations/simulation_ashtest_20200721/20200721-4-1-mr.ash2s.lassoes-es 20200813-4-1.config8 susieI_config8.R\n",
       "source activate twas;cd /project2/mstephens/causalTWAS/simulations/simulation_susieI_20200813/;Rscript /project2/mstephens/causalTWAS/causal-TWAS/code//run_test_susieI.R /project2/mstephens/causalTWAS/ukbiobank/ukb_chr17to22_s20000 /project2/mstephens/causalTWAS/simulations/simulation_ashtest_20200721//simu_20200721-4-2-cis-expr.Rd /project2/mstephens/causalTWAS/simulations/simulation_ashtest_20200721//simu_20200721-4-2-pheno.Rd /home/simingz/causalTWAS/simulations/simulation_ashtest_20200721/20200721-4-2-mr.ash2s.lassoes-es 20200813-4-2.config6 susieI_config6.R\n",
       "source activate twas;cd /project2/mstephens/causalTWAS/simulations/simulation_susieI_20200813/;Rscript /project2/mstephens/causalTWAS/causal-TWAS/code//run_test_susieI.R /project2/mstephens/causalTWAS/ukbiobank/ukb_chr17to22_s20000 /project2/mstephens/causalTWAS/simulations/simulation_ashtest_20200721//simu_20200721-4-2-cis-expr.Rd /project2/mstephens/causalTWAS/simulations/simulation_ashtest_20200721//simu_20200721-4-2-pheno.Rd /home/simingz/causalTWAS/simulations/simulation_ashtest_20200721/20200721-4-2-mr.ash2s.lassoes-es 20200813-4-2.config7 susieI_config7.R\n",
       "source activate twas;cd /project2/mstephens/causalTWAS/simulations/simulation_susieI_20200813/;Rscript /project2/mstephens/causalTWAS/causal-TWAS/code//run_test_susieI.R /project2/mstephens/causalTWAS/ukbiobank/ukb_chr17to22_s20000 /project2/mstephens/causalTWAS/simulations/simulation_ashtest_20200721//simu_20200721-4-2-cis-expr.Rd /project2/mstephens/causalTWAS/simulations/simulation_ashtest_20200721//simu_20200721-4-2-pheno.Rd /home/simingz/causalTWAS/simulations/simulation_ashtest_20200721/20200721-4-2-mr.ash2s.lassoes-es 20200813-4-2.config8 susieI_config8.R\n",
       "source activate twas;cd /project2/mstephens/causalTWAS/simulations/simulation_susieI_20200813/;Rscript /project2/mstephens/causalTWAS/causal-TWAS/code//run_test_susieI.R /project2/mstephens/causalTWAS/ukbiobank/ukb_chr17to22_s20000 /project2/mstephens/causalTWAS/simulations/simulation_ashtest_20200721//simu_20200721-4-3-cis-expr.Rd /project2/mstephens/causalTWAS/simulations/simulation_ashtest_20200721//simu_20200721-4-3-pheno.Rd /home/simingz/causalTWAS/simulations/simulation_ashtest_20200721/20200721-4-3-mr.ash2s.lassoes-es 20200813-4-3.config6 susieI_config6.R\n",
       "source activate twas;cd /project2/mstephens/causalTWAS/simulations/simulation_susieI_20200813/;Rscript /project2/mstephens/causalTWAS/causal-TWAS/code//run_test_susieI.R /project2/mstephens/causalTWAS/ukbiobank/ukb_chr17to22_s20000 /project2/mstephens/causalTWAS/simulations/simulation_ashtest_20200721//simu_20200721-4-3-cis-expr.Rd /project2/mstephens/causalTWAS/simulations/simulation_ashtest_20200721//simu_20200721-4-3-pheno.Rd /home/simingz/causalTWAS/simulations/simulation_ashtest_20200721/20200721-4-3-mr.ash2s.lassoes-es 20200813-4-3.config7 susieI_config7.R\n",
       "source activate twas;cd /project2/mstephens/causalTWAS/simulations/simulation_susieI_20200813/;Rscript /project2/mstephens/causalTWAS/causal-TWAS/code//run_test_susieI.R /project2/mstephens/causalTWAS/ukbiobank/ukb_chr17to22_s20000 /project2/mstephens/causalTWAS/simulations/simulation_ashtest_20200721//simu_20200721-4-3-cis-expr.Rd /project2/mstephens/causalTWAS/simulations/simulation_ashtest_20200721//simu_20200721-4-3-pheno.Rd /home/simingz/causalTWAS/simulations/simulation_ashtest_20200721/20200721-4-3-mr.ash2s.lassoes-es 20200813-4-3.config8 susieI_config8.R\n",
       "source activate twas;cd /project2/mstephens/causalTWAS/simulations/simulation_susieI_20200813/;Rscript /project2/mstephens/causalTWAS/causal-TWAS/code//run_test_susieI.R /project2/mstephens/causalTWAS/ukbiobank/ukb_chr17to22_s20000 /project2/mstephens/causalTWAS/simulations/simulation_ashtest_20200721//simu_20200721-4-4-cis-expr.Rd /project2/mstephens/causalTWAS/simulations/simulation_ashtest_20200721//simu_20200721-4-4-pheno.Rd /home/simingz/causalTWAS/simulations/simulation_ashtest_20200721/20200721-4-4-mr.ash2s.lassoes-es 20200813-4-4.config6 susieI_config6.R\n",
       "source activate twas;cd /project2/mstephens/causalTWAS/simulations/simulation_susieI_20200813/;Rscript /project2/mstephens/causalTWAS/causal-TWAS/code//run_test_susieI.R /project2/mstephens/causalTWAS/ukbiobank/ukb_chr17to22_s20000 /project2/mstephens/causalTWAS/simulations/simulation_ashtest_20200721//simu_20200721-4-4-cis-expr.Rd /project2/mstephens/causalTWAS/simulations/simulation_ashtest_20200721//simu_20200721-4-4-pheno.Rd /home/simingz/causalTWAS/simulations/simulation_ashtest_20200721/20200721-4-4-mr.ash2s.lassoes-es 20200813-4-4.config7 susieI_config7.R\n",
       "source activate twas;cd /project2/mstephens/causalTWAS/simulations/simulation_susieI_20200813/;Rscript /project2/mstephens/causalTWAS/causal-TWAS/code//run_test_susieI.R /project2/mstephens/causalTWAS/ukbiobank/ukb_chr17to22_s20000 /project2/mstephens/causalTWAS/simulations/simulation_ashtest_20200721//simu_20200721-4-4-cis-expr.Rd /project2/mstephens/causalTWAS/simulations/simulation_ashtest_20200721//simu_20200721-4-4-pheno.Rd /home/simingz/causalTWAS/simulations/simulation_ashtest_20200721/20200721-4-4-mr.ash2s.lassoes-es 20200813-4-4.config8 susieI_config8.R\n",
       "source activate twas;cd /project2/mstephens/causalTWAS/simulations/simulation_susieI_20200813/;Rscript /project2/mstephens/causalTWAS/causal-TWAS/code//run_test_susieI.R /project2/mstephens/causalTWAS/ukbiobank/ukb_chr17to22_s20000 /project2/mstephens/causalTWAS/simulations/simulation_ashtest_20200721//simu_20200721-4-5-cis-expr.Rd /project2/mstephens/causalTWAS/simulations/simulation_ashtest_20200721//simu_20200721-4-5-pheno.Rd /home/simingz/causalTWAS/simulations/simulation_ashtest_20200721/20200721-4-5-mr.ash2s.lassoes-es 20200813-4-5.config6 susieI_config6.R\n",
       "source activate twas;cd /project2/mstephens/causalTWAS/simulations/simulation_susieI_20200813/;Rscript /project2/mstephens/causalTWAS/causal-TWAS/code//run_test_susieI.R /project2/mstephens/causalTWAS/ukbiobank/ukb_chr17to22_s20000 /project2/mstephens/causalTWAS/simulations/simulation_ashtest_20200721//simu_20200721-4-5-cis-expr.Rd /project2/mstephens/causalTWAS/simulations/simulation_ashtest_20200721//simu_20200721-4-5-pheno.Rd /home/simingz/causalTWAS/simulations/simulation_ashtest_20200721/20200721-4-5-mr.ash2s.lassoes-es 20200813-4-5.config7 susieI_config7.R\n",
       "source activate twas;cd /project2/mstephens/causalTWAS/simulations/simulation_susieI_20200813/;Rscript /project2/mstephens/causalTWAS/causal-TWAS/code//run_test_susieI.R /project2/mstephens/causalTWAS/ukbiobank/ukb_chr17to22_s20000 /project2/mstephens/causalTWAS/simulations/simulation_ashtest_20200721//simu_20200721-4-5-cis-expr.Rd /project2/mstephens/causalTWAS/simulations/simulation_ashtest_20200721//simu_20200721-4-5-pheno.Rd /home/simingz/causalTWAS/simulations/simulation_ashtest_20200721/20200721-4-5-mr.ash2s.lassoes-es 20200813-4-5.config8 susieI_config8.R\n"
      ]
     },
     "metadata": {},
     "output_type": "display_data"
    }
   ],
   "source": [
    "more master_run.sh"
   ]
  },
  {
   "cell_type": "code",
   "execution_count": null,
   "metadata": {},
   "outputs": [],
   "source": []
  }
 ],
 "metadata": {
  "kernelspec": {
   "display_name": "Python [default]",
   "language": "python",
   "name": "python3"
  },
  "language_info": {
   "codemirror_mode": {
    "name": "ipython",
    "version": 3
   },
   "file_extension": ".py",
   "mimetype": "text/x-python",
   "name": "python",
   "nbconvert_exporter": "python",
   "pygments_lexer": "ipython3",
   "version": "3.5.2"
  }
 },
 "nbformat": 4,
 "nbformat_minor": 2
}
