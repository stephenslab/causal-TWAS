{
 "cells": [
  {
   "cell_type": "markdown",
   "metadata": {},
   "source": [
    "# Chr22, YFS fusion weights"
   ]
  },
  {
   "cell_type": "markdown",
   "metadata": {},
   "source": [
    "# test mr.ash"
   ]
  },
  {
   "cell_type": "markdown",
   "metadata": {},
   "source": [
    "simulate different PVEs and run mr.ash."
   ]
  },
  {
   "cell_type": "code",
   "execution_count": 2,
   "metadata": {},
   "outputs": [],
   "source": [
    "cd ~/causalTWAS/simulations/simulation_ashtest_20200429"
   ]
  },
  {
   "cell_type": "code",
   "execution_count": 7,
   "metadata": {},
   "outputs": [],
   "source": [
    "## need 48G\n",
    "source activate twas\n",
    "Rscript /home/simingz/causalTWAS/causal-TWAS/code/run_test_mr.ash.R  /home/simingz/causalTWAS/ukbiobank/ukb_chr22_s20000 param-20200429-1.R mr.ash_20200429-1\n",
    "Rscript /home/simingz/causalTWAS/causal-TWAS/code/run_test_mr.ash.R  /home/simingz/causalTWAS/ukbiobank/ukb_chr22_s20000 param-20200429-2.R mr.ash_20200429-2 \n",
    "Rscript /home/simingz/causalTWAS/causal-TWAS/code/run_test_mr.ash.R  /home/simingz/causalTWAS/ukbiobank/ukb_chr22_s20000 param-20200429-3.R mr.ash_20200429-3 \n",
    "Rscript /home/simingz/causalTWAS/causal-TWAS/code/run_test_mr.ash.R  /home/simingz/causalTWAS/ukbiobank/ukb_chr22_s20000 param-20200429-4.R mr.ash_20200429-4 "
   ]
  },
  {
   "cell_type": "markdown",
   "metadata": {},
   "source": [
    "## test a simplified version of VEB.boost: mr.ash2"
   ]
  },
  {
   "cell_type": "code",
   "execution_count": null,
   "metadata": {},
   "outputs": [],
   "source": [
    "cd  ~/causalTWAS/simulations/simulation_ashtest_20200503"
   ]
  },
  {
   "cell_type": "code",
   "execution_count": null,
   "metadata": {},
   "outputs": [],
   "source": [
    "## need 96G, may require less\n",
    "source activate twas\n",
    "Rscript /home/simingz/causalTWAS/causal-TWAS/code/run_test_mr.ash2.R  /home/simingz/causalTWAS/ukbiobank/ukb_chr22_s20000 /home/simingz/causalTWAS/fusion_weights/YFS.BLOOD.RNAARR param-20200503-1.R mr.ash2_20200503-1\n",
    "Rscript /home/simingz/causalTWAS/causal-TWAS/code/run_test_mr.ash2.R  /home/simingz/causalTWAS/ukbiobank/ukb_chr22_s20000 /home/simingz/causalTWAS/fusion_weights/YFS.BLOOD.RNAARR param-20200503-2.R mr.ash2_20200503-2\n",
    "Rscript /home/simingz/causalTWAS/causal-TWAS/code/run_test_mr.ash2.R  /home/simingz/causalTWAS/ukbiobank/ukb_chr22_s20000 /home/simingz/causalTWAS/fusion_weights/YFS.BLOOD.RNAARR param-20200503-3.R mr.ash2_20200503-3\n",
    "Rscript /home/simingz/causalTWAS/causal-TWAS/code/run_test_mr.ash2.R  /home/simingz/causalTWAS/ukbiobank/ukb_chr22_s20000 /home/simingz/causalTWAS/fusion_weights/YFS.BLOOD.RNAARR param-20200503-4.R mr.ash2_20200503-4"
   ]
  },
  {
   "cell_type": "markdown",
   "metadata": {},
   "source": [
    "locuszoom (v1.4 downloaded from https://genome.sph.umich.edu/wiki/LocusZoom_Standalone)"
   ]
  },
  {
   "cell_type": "code",
   "execution_count": null,
   "metadata": {},
   "outputs": [],
   "source": [
    "## specific region visualization\n",
    "## step 1 GWAS for all (require 48G for snp GWAS, using 5 cores.)\n",
    "source activate twas\n",
    "Rscript /home/simingz/causalTWAS/causal-TWAS/code/run_gwas_expr.R mr.ash2_20200503-1-cis-expr.Rd mr.ash2_20200503-1-pheno.Rd mr.ash2_20200503-1\n",
    "Rscript /home/simingz/causalTWAS/causal-TWAS/code/run_gwas_snp.R /home/simingz/causalTWAS/ukbiobank/ukb_chr22_s20000.Rd mr.ash2_20200503-1-pheno.Rd mr.ash2_20200503-1\n",
    "## step 2 plot specific regions\n",
    "source activate plotread\n",
    "module load plink\n",
    "locuszoom --epacts mr.ash2_20200503-1.exprgwas.txt.gz --flank 500kb --refgene RAC2 --pop EUR --build hg19 --source 1000G_Nov2014 --prefix expr\n",
    "locuszoom --epacts mr.ash2_20200503-1.snpgwas.txt.gz --flank 500kb --refgene RAC2 --pop EUR --build hg19 --source 1000G_Nov2014 --prefix snp --bed-tracks mr.ash2_20200503-1.causal-snpexpr.bed"
   ]
  },
  {
   "cell_type": "markdown",
   "metadata": {},
   "source": [
    "## test a simplified version of VEB.boost: mr.ash2s"
   ]
  },
  {
   "cell_type": "code",
   "execution_count": 1,
   "metadata": {},
   "outputs": [],
   "source": [
    "cd  ~/causalTWAS/simulations/simulation_ashtest_20200527 "
   ]
  },
  {
   "cell_type": "code",
   "execution_count": null,
   "metadata": {},
   "outputs": [],
   "source": [
    "## need 64G for starting from gene, need more for starting from snps. 50 iterations takes ~ 3 hours\n",
    "source activate twas\n",
    "Rscript /home/simingz/causalTWAS/causal-TWAS/code/run_test_mr.ash2s.R  /home/simingz/causalTWAS/ukbiobank/ukb_chr22_s20000  ~/causalTWAS/simulations/simulation_ashtest_20200503/mr.ash2_20200503-1-cis-expr.Rd ~/causalTWAS/simulations/simulation_ashtest_20200503/mr.ash2_20200503-1-pheno.Rd 20200527-1\n",
    "Rscript /home/simingz/causalTWAS/causal-TWAS/code/run_test_mr.ash2s.R  /home/simingz/causalTWAS/ukbiobank/ukb_chr22_s20000  ~/causalTWAS/simulations/simulation_ashtest_20200503/mr.ash2_20200503-2-cis-expr.Rd ~/causalTWAS/simulations/simulation_ashtest_20200503/mr.ash2_20200503-2-pheno.Rd 20200527-2\n",
    "Rscript /home/simingz/causalTWAS/causal-TWAS/code/run_test_mr.ash2s.R  /home/simingz/causalTWAS/ukbiobank/ukb_chr22_s20000  ~/causalTWAS/simulations/simulation_ashtest_20200503/mr.ash2_20200503-3-cis-expr.Rd ~/causalTWAS/simulations/simulation_ashtest_20200503/mr.ash2_20200503-3-pheno.Rd 20200527-3\n",
    "Rscript /home/simingz/causalTWAS/causal-TWAS/code/run_test_mr.ash2s.R  /home/simingz/causalTWAS/ukbiobank/ukb_chr22_s20000  ~/causalTWAS/simulations/simulation_ashtest_20200503/mr.ash2_20200503-4-cis-expr.Rd ~/causalTWAS/simulations/simulation_ashtest_20200503/mr.ash2_20200503-4-pheno.Rd 20200527-4"
   ]
  },
  {
   "cell_type": "code",
   "execution_count": null,
   "metadata": {},
   "outputs": [],
   "source": [
    "## specific region visualization\n",
    "## same as 20200503-1"
   ]
  },
  {
   "cell_type": "markdown",
   "metadata": {},
   "source": [
    "## test SUSIE for fine mapping"
   ]
  },
  {
   "cell_type": "code",
   "execution_count": 1,
   "metadata": {},
   "outputs": [],
   "source": [
    "cd  simulation_susietest_20200604 "
   ]
  },
  {
   "cell_type": "code",
   "execution_count": null,
   "metadata": {},
   "outputs": [],
   "source": [
    "## need 64G, may require less, takes 0.5 hours for 132 genes.\n",
    "source activate twas\n",
    "Rscript /home/simingz/causalTWAS/causal-TWAS/code/run_test_susie.R /home/simingz/causalTWAS/ukbiobank/ukb_chr22_s20000  ~/causalTWAS/simulations/simulation_ashtest_20200503/mr.ash2_20200503-1-cis-expr.Rd ~/causalTWAS/simulations/simulation_ashtest_20200503/mr.ash2_20200503-1-pheno.Rd prior-1.R gene-flank500kb.txt 20200604-1\n",
    "Rscript /home/simingz/causalTWAS/causal-TWAS/code/run_test_susie.R /home/simingz/causalTWAS/ukbiobank/ukb_chr22_s20000  ~/causalTWAS/simulations/simulation_ashtest_20200503/mr.ash2_20200503-3-cis-expr.Rd ~/causalTWAS/simulations/simulation_ashtest_20200503/mr.ash2_20200503-3-pheno.Rd prior-3.R gene-flank500kb.txt 20200604-3"
   ]
  },
  {
   "cell_type": "code",
   "execution_count": null,
   "metadata": {},
   "outputs": [],
   "source": []
  }
 ],
 "metadata": {
  "kernelspec": {
   "display_name": "Bash",
   "language": "bash",
   "name": "bash"
  },
  "language_info": {
   "codemirror_mode": "shell",
   "file_extension": ".sh",
   "mimetype": "text/x-sh",
   "name": "bash"
  }
 },
 "nbformat": 4,
 "nbformat_minor": 2
}
