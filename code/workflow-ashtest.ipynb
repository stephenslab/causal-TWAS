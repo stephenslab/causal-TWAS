{
 "cells": [
  {
   "cell_type": "code",
   "execution_count": 2,
   "metadata": {},
   "outputs": [
    {
     "name": "stdout",
     "output_type": "stream",
     "text": [
      "/project2/mstephens/causalTWAS/simulations\n"
     ]
    }
   ],
   "source": [
    "cd ~/causalTWAS/simulations/"
   ]
  },
  {
   "cell_type": "code",
   "execution_count": 4,
   "metadata": {},
   "outputs": [],
   "source": [
    "mkdir simulation_ashtest_20200429; cd \"$_\""
   ]
  },
  {
   "cell_type": "code",
   "execution_count": 7,
   "metadata": {},
   "outputs": [],
   "source": [
    "## need 48G\n",
    "module load R/3.5.1\n",
    "Rscript /home/simingz/causalTWAS/causal-TWAS/code/run_test_mr.ash.R  /home/simingz/causalTWAS/ukbiobank/ukb_chr22_s20000 param.R test_mr.ash_20200429 "
   ]
  }
 ],
 "metadata": {
  "kernelspec": {
   "display_name": "Bash",
   "language": "bash",
   "name": "bash"
  },
  "language_info": {
   "codemirror_mode": "shell",
   "file_extension": ".sh",
   "mimetype": "text/x-sh",
   "name": "bash"
  }
 },
 "nbformat": 4,
 "nbformat_minor": 2
}
