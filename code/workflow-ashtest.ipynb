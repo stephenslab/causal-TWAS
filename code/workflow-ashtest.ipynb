{
 "cells": [
  {
   "cell_type": "markdown",
   "metadata": {},
   "source": [
    "# test mr.ash"
   ]
  },
  {
   "cell_type": "markdown",
   "metadata": {},
   "source": [
    "simulate different PVEs and run mr.ash."
   ]
  },
  {
   "cell_type": "code",
   "execution_count": 2,
   "metadata": {},
   "outputs": [],
   "source": [
    "cd ~/causalTWAS/simulations/simulation_ashtest_20200429"
   ]
  },
  {
   "cell_type": "code",
   "execution_count": 7,
   "metadata": {},
   "outputs": [],
   "source": [
    "## need 48G\n",
    "source activate twas\n",
    "Rscript /home/simingz/causalTWAS/causal-TWAS/code/run_test_mr.ash.R  /home/simingz/causalTWAS/ukbiobank/ukb_chr22_s20000 param-20200429-1.R mr.ash_20200429-1\n",
    "Rscript /home/simingz/causalTWAS/causal-TWAS/code/run_test_mr.ash.R  /home/simingz/causalTWAS/ukbiobank/ukb_chr22_s20000 param-20200429-2.R mr.ash_20200429-2 \n",
    "Rscript /home/simingz/causalTWAS/causal-TWAS/code/run_test_mr.ash.R  /home/simingz/causalTWAS/ukbiobank/ukb_chr22_s20000 param-20200429-3.R mr.ash_20200429-3 \n",
    "Rscript /home/simingz/causalTWAS/causal-TWAS/code/run_test_mr.ash.R  /home/simingz/causalTWAS/ukbiobank/ukb_chr22_s20000 param-20200429-4.R mr.ash_20200429-4 "
   ]
  },
  {
   "cell_type": "markdown",
   "metadata": {},
   "source": [
    "## test a simplified version of VEB.boost: mr.ash2"
   ]
  },
  {
   "cell_type": "code",
   "execution_count": null,
   "metadata": {},
   "outputs": [],
   "source": [
    "cd  ~/causalTWAS/simulations/simulation_ashtest_20200503"
   ]
  },
  {
   "cell_type": "code",
   "execution_count": null,
   "metadata": {},
   "outputs": [],
   "source": [
    "## need 96G, may require less\n",
    "source activate twas\n",
    "Rscript /home/simingz/causalTWAS/causal-TWAS/code/run_test_veb-boost.R  /home/simingz/causalTWAS/ukbiobank/ukb_chr22_s20000 /home/simingz/causalTWAS/fusion_weights/YFS.BLOOD.RNAARR param-20200503-1.R mr.ash2_20200503-1\n",
    "Rscript /home/simingz/causalTWAS/causal-TWAS/code/run_test_veb-boost.R  /home/simingz/causalTWAS/ukbiobank/ukb_chr22_s20000 /home/simingz/causalTWAS/fusion_weights/YFS.BLOOD.RNAARR param-20200503-2.R mr.ash2_20200503-2\n",
    "Rscript /home/simingz/causalTWAS/causal-TWAS/code/run_test_veb-boost.R  /home/simingz/causalTWAS/ukbiobank/ukb_chr22_s20000 /home/simingz/causalTWAS/fusion_weights/YFS.BLOOD.RNAARR param-20200503-3.R mr.ash2_20200503-3\n",
    "Rscript /home/simingz/causalTWAS/causal-TWAS/code/run_test_veb-boost.R  /home/simingz/causalTWAS/ukbiobank/ukb_chr22_s20000 /home/simingz/causalTWAS/fusion_weights/YFS.BLOOD.RNAARR param-20200503-4.R mr.ash2_20200503-4"
   ]
  }
 ],
 "metadata": {
  "kernelspec": {
   "display_name": "Bash",
   "language": "bash",
   "name": "bash"
  },
  "language_info": {
   "codemirror_mode": "shell",
   "file_extension": ".sh",
   "mimetype": "text/x-sh",
   "name": "bash"
  }
 },
 "nbformat": 4,
 "nbformat_minor": 2
}
