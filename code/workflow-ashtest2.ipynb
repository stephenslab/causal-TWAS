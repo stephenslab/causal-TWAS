{
 "cells": [
  {
   "cell_type": "markdown",
   "metadata": {},
   "source": [
    "# Chr22, H3K27 fusion weights"
   ]
  },
  {
   "cell_type": "markdown",
   "metadata": {},
   "source": [
    "## simulate different PVEs and run mr.ash2s."
   ]
  },
  {
   "cell_type": "code",
   "execution_count": 2,
   "metadata": {},
   "outputs": [],
   "source": [
    "cd ~/causalTWAS/simulations/simulation_ashtest_20200615"
   ]
  },
  {
   "cell_type": "code",
   "execution_count": null,
   "metadata": {},
   "outputs": [],
   "source": [
    "Rscript /home/simingz/causalTWAS/causal-TWAS/code/run_simulate_data.R  /home/simingz/causalTWAS/ukbiobank/ukb_chr22_s20000 /home/simingz/causalTWAS/fusion_weights/H3K27ac_peak param-20200615-1.R simu_20200615-1\n",
    "Rscript /home/simingz/causalTWAS/causal-TWAS/code/run_simulate_data.R  /home/simingz/causalTWAS/ukbiobank/ukb_chr22_s20000 /home/simingz/causalTWAS/fusion_weights/H3K27ac_peak param-20200615-2.R simu_20200615-2\n",
    "Rscript /home/simingz/causalTWAS/causal-TWAS/code/run_simulate_data.R  /home/simingz/causalTWAS/ukbiobank/ukb_chr22_s20000 /home/simingz/causalTWAS/fusion_weights/H3K27ac_peak param-20200615-3.R simu_20200615-3\n",
    "Rscript /home/simingz/causalTWAS/causal-TWAS/code/run_simulate_data.R  /home/simingz/causalTWAS/ukbiobank/ukb_chr22_s20000 /home/simingz/causalTWAS/fusion_weights/H3K27ac_peak param-20200615-4.R simu_20200615-4"
   ]
  },
  {
   "cell_type": "markdown",
   "metadata": {},
   "source": [
    "## test mr.ash2s"
   ]
  },
  {
   "cell_type": "code",
   "execution_count": 1,
   "metadata": {},
   "outputs": [],
   "source": [
    "cd  ~/causalTWAS/simulations/simulation_ashtest_20200615"
   ]
  },
  {
   "cell_type": "markdown",
   "metadata": {},
   "source": [
    "locuszoom (v1.4 downloaded from https://genome.sph.umich.edu/wiki/LocusZoom_Standalone)"
   ]
  },
  {
   "cell_type": "code",
   "execution_count": null,
   "metadata": {},
   "outputs": [],
   "source": [
    "## need 64G for starting from gene, need more for starting from snps. 50 iterations takes ~ 3 hours\n",
    "source activate twas\n",
    "Rscript /home/simingz/causalTWAS/causal-TWAS/code/run_test_mr.ash2s.R  /home/simingz/causalTWAS/ukbiobank/ukb_chr22_s20000  ~/causalTWAS/simulations/simulation_ashtest_20200615/simu20200615-1-cis-expr.Rd ~/causalTWAS/simulations/simulation_ashtest_20200615/simu20200615-1-pheno.Rd 20200615-1\n",
    "Rscript /home/simingz/causalTWAS/causal-TWAS/code/run_test_mr.ash2s.R  /home/simingz/causalTWAS/ukbiobank/ukb_chr22_s20000  ~/causalTWAS/simulations/simulation_ashtest_20200615/simu20200615-2-cis-expr.Rd ~/causalTWAS/simulations/simulation_ashtest_20200615/simu20200615-2-pheno.Rd 20200615-2\n",
    "Rscript /home/simingz/causalTWAS/causal-TWAS/code/run_test_mr.ash2s.R  /home/simingz/causalTWAS/ukbiobank/ukb_chr22_s20000  ~/causalTWAS/simulations/simulation_ashtest_20200615/simu20200615-3-cis-expr.Rd ~/causalTWAS/simulations/simulation_ashtest_20200615/simu20200615-3-pheno.Rd 20200615-3\n",
    "Rscript /home/simingz/causalTWAS/causal-TWAS/code/run_test_mr.ash2s.R  /home/simingz/causalTWAS/ukbiobank/ukb_chr22_s20000  ~/causalTWAS/simulations/simulation_ashtest_20200615/simu20200615-4-cis-expr.Rd ~/causalTWAS/simulations/simulation_ashtest_20200615/simu20200615-4-pheno.Rd 20200615-4"
   ]
  },
  {
   "cell_type": "code",
   "execution_count": null,
   "metadata": {},
   "outputs": [],
   "source": [
    "## GWAS for all (require 48G for snp GWAS, using 5 cores.)\n",
    "source activate twas\n",
    "Rscript /home/simingz/causalTWAS/causal-TWAS/code/run_gwas_expr.R simu_20200615-1-cis-expr.Rd simu_20200615-1-pheno.Rd 20200615-1\n",
    "Rscript /home/simingz/causalTWAS/causal-TWAS/code/run_gwas_snp.R /home/simingz/causalTWAS/ukbiobank/ukb_chr22_s20000.Rd simu_20200615-1-pheno.Rd 20200615-1\n",
    "\n",
    "Rscript /home/simingz/causalTWAS/causal-TWAS/code/run_gwas_expr.R simu_20200615-1-cis-expr.Rd simu_20200615-2-pheno.Rd 20200615-2\n",
    "Rscript /home/simingz/causalTWAS/causal-TWAS/code/run_gwas_snp.R /home/simingz/causalTWAS/ukbiobank/ukb_chr22_s20000.Rd simu_20200615-2-pheno.Rd 20200615-2\n",
    "\n",
    "Rscript /home/simingz/causalTWAS/causal-TWAS/code/run_gwas_expr.R simu_20200615-1-cis-expr.Rd simu_20200615-3-pheno.Rd 20200615-3\n",
    "Rscript /home/simingz/causalTWAS/causal-TWAS/code/run_gwas_snp.R /home/simingz/causalTWAS/ukbiobank/ukb_chr22_s20000.Rd simu_20200615-3-pheno.Rd 20200615-3\n",
    "\n",
    "Rscript /home/simingz/causalTWAS/causal-TWAS/code/run_gwas_expr.R simu_20200615-1-cis-expr.Rd simu_20200615-4-pheno.Rd 20200615-4\n",
    "Rscript /home/simingz/causalTWAS/causal-TWAS/code/run_gwas_snp.R /home/simingz/causalTWAS/ukbiobank/ukb_chr22_s20000.Rd simu_20200615-4-pheno.Rd 20200615-4"
   ]
  },
  {
   "cell_type": "markdown",
   "metadata": {},
   "source": [
    "## test SUSIE for fine mapping"
   ]
  },
  {
   "cell_type": "code",
   "execution_count": 1,
   "metadata": {},
   "outputs": [],
   "source": [
    "cd  simulation_susietest_20200604"
   ]
  },
  {
   "cell_type": "code",
   "execution_count": null,
   "metadata": {},
   "outputs": [],
   "source": [
    "## need 64G, may require less, takes 0.5 hours for 132 genes.\n",
    "source activate twas\n",
    "Rscript /home/simingz/causalTWAS/causal-TWAS/code/run_test_susie.R /home/simingz/causalTWAS/ukbiobank/ukb_chr22_s20000  ~/causalTWAS/simulations/simulation_ashtest_20200503/mr.ash2_20200503-1-cis-expr.Rd ~/causalTWAS/simulations/simulation_ashtest_20200503/mr.ash2_20200503-1-pheno.Rd prior-1.R gene-flank500kb.txt 20200604-1\n",
    "Rscript /home/simingz/causalTWAS/causal-TWAS/code/run_test_susie.R /home/simingz/causalTWAS/ukbiobank/ukb_chr22_s20000  ~/causalTWAS/simulations/simulation_ashtest_20200503/mr.ash2_20200503-3-cis-expr.Rd ~/causalTWAS/simulations/simulation_ashtest_20200503/mr.ash2_20200503-3-pheno.Rd prior-3.R gene-flank500kb.txt 20200604-3"
   ]
  },
  {
   "cell_type": "code",
   "execution_count": null,
   "metadata": {},
   "outputs": [],
   "source": []
  }
 ],
 "metadata": {
  "kernelspec": {
   "display_name": "Bash",
   "language": "bash",
   "name": "bash"
  },
  "language_info": {
   "codemirror_mode": "shell",
   "file_extension": ".sh",
   "mimetype": "text/x-sh",
   "name": "bash"
  }
 },
 "nbformat": 4,
 "nbformat_minor": 2
}
