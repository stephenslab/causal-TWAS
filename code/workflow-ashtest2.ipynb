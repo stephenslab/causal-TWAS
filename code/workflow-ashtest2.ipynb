{
 "cells": [
  {
   "cell_type": "markdown",
   "metadata": {},
   "source": [
    "# Chr22, H3K27 fusion weights"
   ]
  },
  {
   "cell_type": "markdown",
   "metadata": {},
   "source": [
    "## simulate different PVEs and run mr.ash2s."
   ]
  },
  {
   "cell_type": "code",
   "execution_count": 2,
   "metadata": {},
   "outputs": [],
   "source": [
    "cd ~/causalTWAS/simulations/simulation_ashtest_20200615"
   ]
  },
  {
   "cell_type": "code",
   "execution_count": null,
   "metadata": {},
   "outputs": [],
   "source": [
    "Rscript /home/simingz/causalTWAS/causal-TWAS/code/run_simulate_data.R  /home/simingz/causalTWAS/ukbiobank/ukb_chr22_s20000 /home/simingz/causalTWAS/fusion_weights/H3K27ac_peak param-20200615-1.R simu_20200615-1\n",
    "Rscript /home/simingz/causalTWAS/causal-TWAS/code/run_simulate_data.R  /home/simingz/causalTWAS/ukbiobank/ukb_chr22_s20000 /home/simingz/causalTWAS/fusion_weights/H3K27ac_peak param-20200615-2.R simu_20200615-2\n",
    "Rscript /home/simingz/causalTWAS/causal-TWAS/code/run_simulate_data.R  /home/simingz/causalTWAS/ukbiobank/ukb_chr22_s20000 /home/simingz/causalTWAS/fusion_weights/H3K27ac_peak param-20200615-3.R simu_20200615-3\n",
    "Rscript /home/simingz/causalTWAS/causal-TWAS/code/run_simulate_data.R  /home/simingz/causalTWAS/ukbiobank/ukb_chr22_s20000 /home/simingz/causalTWAS/fusion_weights/H3K27ac_peak param-20200615-4.R simu_20200615-4"
   ]
  },
  {
   "cell_type": "markdown",
   "metadata": {},
   "source": [
    "## test mr.ash2s"
   ]
  },
  {
   "cell_type": "code",
   "execution_count": 1,
   "metadata": {},
   "outputs": [],
   "source": [
    "cd  ~/causalTWAS/simulations/simulation_ashtest_20200615"
   ]
  },
  {
   "cell_type": "markdown",
   "metadata": {},
   "source": [
    "locuszoom (v1.4 downloaded from https://genome.sph.umich.edu/wiki/LocusZoom_Standalone)"
   ]
  },
  {
   "cell_type": "code",
   "execution_count": null,
   "metadata": {},
   "outputs": [],
   "source": [
    "## need 64G for starting from gene, need more for starting from snps. 50 iterations takes ~ 3 hours\n",
    "source activate twas\n",
    "Rscript /home/simingz/causalTWAS/causal-TWAS/code/run_test_mr.ash2s.R  /home/simingz/causalTWAS/ukbiobank/ukb_chr22_s20000  ~/causalTWAS/simulations/simulation_ashtest_20200615/simu20200615-1-cis-expr.Rd ~/causalTWAS/simulations/simulation_ashtest_20200615/simu20200615-1-pheno.Rd 20200615-1\n",
    "Rscript /home/simingz/causalTWAS/causal-TWAS/code/run_test_mr.ash2s.R  /home/simingz/causalTWAS/ukbiobank/ukb_chr22_s20000  ~/causalTWAS/simulations/simulation_ashtest_20200615/simu20200615-2-cis-expr.Rd ~/causalTWAS/simulations/simulation_ashtest_20200615/simu20200615-2-pheno.Rd 20200615-2\n",
    "Rscript /home/simingz/causalTWAS/causal-TWAS/code/run_test_mr.ash2s.R  /home/simingz/causalTWAS/ukbiobank/ukb_chr22_s20000  ~/causalTWAS/simulations/simulation_ashtest_20200615/simu20200615-3-cis-expr.Rd ~/causalTWAS/simulations/simulation_ashtest_20200615/simu20200615-3-pheno.Rd 20200615-3\n",
    "Rscript /home/simingz/causalTWAS/causal-TWAS/code/run_test_mr.ash2s.R  /home/simingz/causalTWAS/ukbiobank/ukb_chr22_s20000  ~/causalTWAS/simulations/simulation_ashtest_20200615/simu20200615-4-cis-expr.Rd ~/causalTWAS/simulations/simulation_ashtest_20200615/simu20200615-4-pheno.Rd 20200615-4"
   ]
  },
  {
   "cell_type": "code",
   "execution_count": null,
   "metadata": {},
   "outputs": [],
   "source": [
    "## GWAS for all (require 48G for snp GWAS, using 5 cores.)\n",
    "source activate twas\n",
    "Rscript /home/simingz/causalTWAS/causal-TWAS/code/run_gwas_expr.R simu_20200615-1-cis-expr.Rd simu_20200615-1-pheno.Rd 20200615-1\n",
    "Rscript /home/simingz/causalTWAS/causal-TWAS/code/run_gwas_snp.R /home/simingz/causalTWAS/ukbiobank/ukb_chr22_s20000.Rd simu_20200615-1-pheno.Rd 20200615-1\n",
    "\n",
    "Rscript /home/simingz/causalTWAS/causal-TWAS/code/run_gwas_expr.R simu_20200615-1-cis-expr.Rd simu_20200615-2-pheno.Rd 20200615-2\n",
    "Rscript /home/simingz/causalTWAS/causal-TWAS/code/run_gwas_snp.R /home/simingz/causalTWAS/ukbiobank/ukb_chr22_s20000.Rd simu_20200615-2-pheno.Rd 20200615-2\n",
    "\n",
    "Rscript /home/simingz/causalTWAS/causal-TWAS/code/run_gwas_expr.R simu_20200615-1-cis-expr.Rd simu_20200615-3-pheno.Rd 20200615-3\n",
    "Rscript /home/simingz/causalTWAS/causal-TWAS/code/run_gwas_snp.R /home/simingz/causalTWAS/ukbiobank/ukb_chr22_s20000.Rd simu_20200615-3-pheno.Rd 20200615-3\n",
    "\n",
    "Rscript /home/simingz/causalTWAS/causal-TWAS/code/run_gwas_expr.R simu_20200615-1-cis-expr.Rd simu_20200615-4-pheno.Rd 20200615-4\n",
    "Rscript /home/simingz/causalTWAS/causal-TWAS/code/run_gwas_snp.R /home/simingz/causalTWAS/ukbiobank/ukb_chr22_s20000.Rd simu_20200615-4-pheno.Rd 20200615-4"
   ]
  },
  {
   "cell_type": "markdown",
   "metadata": {},
   "source": [
    "## test SUSIE for fine mapping"
   ]
  },
  {
   "cell_type": "code",
   "execution_count": 10,
   "metadata": {},
   "outputs": [],
   "source": [
    "## need 64G, may require less, takes 0.5 hours for 132 genes.\n",
    "# source activate twas\n",
    "susie = \"Rscript /home/simingz/causalTWAS/causal-TWAS/code/run_test_susie.R /home/simingz/causalTWAS/ukbiobank/ukb_chr22_s20000  ~/causalTWAS/simulations/simulation_ashtest_20200615/simu_{tag}-cis-expr.Rd ~/causalTWAS/simulations/simulation_ashtest_2020615/simu_{tag}-pheno.Rd prior-{tag}.R gene-flank500kb-{tag}.txt {tag}\""
   ]
  },
  {
   "cell_type": "markdown",
   "metadata": {},
   "source": [
    "## generate command"
   ]
  },
  {
   "cell_type": "code",
   "execution_count": 11,
   "metadata": {},
   "outputs": [
    {
     "name": "stdout",
     "output_type": "stream",
     "text": [
      "/project2/mstephens/causalTWAS/simulations/simulation_susietest_20200615\n"
     ]
    }
   ],
   "source": [
    "cd  /project2/mstephens/causalTWAS/simulations/simulation_susietest_20200615"
   ]
  },
  {
   "cell_type": "code",
   "execution_count": 12,
   "metadata": {},
   "outputs": [],
   "source": [
    "tags = ['20200615-1', '20200615-2', '20200615-3', '20200615-4']\n",
    "with open('susie_run.sh', 'w') as outf:\n",
    "    for tag in tags:\n",
    "        outf.write(susie.format(tag=tag) + '\\n')"
   ]
  },
  {
   "cell_type": "code",
   "execution_count": 13,
   "metadata": {},
   "outputs": [],
   "source": [
    "mrashdir = \"/project2/mstephens/causalTWAS/simulations/simulation_ashtest_20200615/\"\n",
    "flank =500000\n",
    "import csv\n",
    "for tag in tags:\n",
    "    with open(mrashdir + '{tag}-mr.ash2s.expr-res.expr.txt'.format(tag = tag), 'r') as infile,\\\n",
    "         open('gene-flank500kb-{tag}.txt'.format(tag = tag), 'w') as outfile:\n",
    "              csvreader = csv.reader(infile, delimiter = \"\\t\")\n",
    "              csvwriter = csv.writer(outfile, delimiter = \"\\t\")\n",
    "              next(csvreader)\n",
    "              for row in csvreader:\n",
    "                  if row[3] == '1' or float(row[7]) > 0.5:\n",
    "                      csvwriter.writerow([row[0], str(int(row[1]) -flank), \n",
    "                                          str(int(row[1]) + flank), row[4]])"
   ]
  },
  {
   "cell_type": "code",
   "execution_count": null,
   "metadata": {},
   "outputs": [],
   "source": []
  }
 ],
 "metadata": {
  "kernelspec": {
   "display_name": "Python [default]",
   "language": "python",
   "name": "python3"
  },
  "language_info": {
   "codemirror_mode": {
    "name": "ipython",
    "version": 3
   },
   "file_extension": ".py",
   "mimetype": "text/x-python",
   "name": "python",
   "nbconvert_exporter": "python",
   "pygments_lexer": "ipython3",
   "version": "3.5.2"
  }
 },
 "nbformat": 4,
 "nbformat_minor": 2
}
